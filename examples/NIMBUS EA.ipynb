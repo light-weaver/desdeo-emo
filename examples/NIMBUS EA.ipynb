{
 "cells": [
  {
   "cell_type": "code",
   "execution_count": 4,
   "metadata": {},
   "outputs": [
    {
     "name": "stderr",
     "output_type": "stream",
     "text": [
      "2020-02-19 15:01:56,735 - matplotlib.pyplot - DEBUG - Loaded backend nbAgg version unknown.\n"
     ]
    }
   ],
   "source": [
    "%matplotlib notebook"
   ]
  },
  {
   "cell_type": "code",
   "execution_count": 2,
   "metadata": {},
   "outputs": [],
   "source": [
    "import numpy as np\n",
    "import pandas as pd\n",
    "\n",
    "from desdeo_problem.testproblems.TestProblems import test_problem_builder\n",
    "\n",
    "from desdeo_emo.EAs.NIMBUS_RVEA import NIMBUS_RVEA\n",
    "import plotly.express as ex\n",
    "from pygmo import fast_non_dominated_sorting as nds"
   ]
  },
  {
   "cell_type": "code",
   "execution_count": 5,
   "metadata": {},
   "outputs": [],
   "source": [
    "import matplotlib.pyplot as plt"
   ]
  },
  {
   "cell_type": "code",
   "execution_count": 6,
   "metadata": {},
   "outputs": [],
   "source": [
    "problem = test_problem_builder(name=\"ZDT1\")"
   ]
  },
  {
   "cell_type": "code",
   "execution_count": 7,
   "metadata": {},
   "outputs": [],
   "source": [
    "problem.ideal = np.asarray([0, 0])\n",
    "problem.nadir = np.asarray([1, 1])"
   ]
  },
  {
   "cell_type": "code",
   "execution_count": 8,
   "metadata": {},
   "outputs": [],
   "source": [
    "evolver = NIMBUS_RVEA(problem, n_gen_per_iter=200)"
   ]
  },
  {
   "cell_type": "code",
   "execution_count": 24,
   "metadata": {},
   "outputs": [],
   "source": [
    "plot, pref = evolver.requests()"
   ]
  },
  {
   "cell_type": "code",
   "execution_count": 37,
   "metadata": {},
   "outputs": [],
   "source": [
    "response = np.asarray([[0.9,0.1]])\n",
    "pref.response = pd.DataFrame(response, columns=pref.content['dimensions_data'].columns)"
   ]
  },
  {
   "cell_type": "code",
   "execution_count": 38,
   "metadata": {},
   "outputs": [],
   "source": [
    "plot, pref = evolver.iterate(pref)"
   ]
  },
  {
   "cell_type": "code",
   "execution_count": 39,
   "metadata": {},
   "outputs": [
    {
     "data": {
      "application/javascript": [
       "/* Put everything inside the global mpl namespace */\n",
       "window.mpl = {};\n",
       "\n",
       "\n",
       "mpl.get_websocket_type = function() {\n",
       "    if (typeof(WebSocket) !== 'undefined') {\n",
       "        return WebSocket;\n",
       "    } else if (typeof(MozWebSocket) !== 'undefined') {\n",
       "        return MozWebSocket;\n",
       "    } else {\n",
       "        alert('Your browser does not have WebSocket support. ' +\n",
       "              'Please try Chrome, Safari or Firefox ≥ 6. ' +\n",
       "              'Firefox 4 and 5 are also supported but you ' +\n",
       "              'have to enable WebSockets in about:config.');\n",
       "    };\n",
       "}\n",
       "\n",
       "mpl.figure = function(figure_id, websocket, ondownload, parent_element) {\n",
       "    this.id = figure_id;\n",
       "\n",
       "    this.ws = websocket;\n",
       "\n",
       "    this.supports_binary = (this.ws.binaryType != undefined);\n",
       "\n",
       "    if (!this.supports_binary) {\n",
       "        var warnings = document.getElementById(\"mpl-warnings\");\n",
       "        if (warnings) {\n",
       "            warnings.style.display = 'block';\n",
       "            warnings.textContent = (\n",
       "                \"This browser does not support binary websocket messages. \" +\n",
       "                    \"Performance may be slow.\");\n",
       "        }\n",
       "    }\n",
       "\n",
       "    this.imageObj = new Image();\n",
       "\n",
       "    this.context = undefined;\n",
       "    this.message = undefined;\n",
       "    this.canvas = undefined;\n",
       "    this.rubberband_canvas = undefined;\n",
       "    this.rubberband_context = undefined;\n",
       "    this.format_dropdown = undefined;\n",
       "\n",
       "    this.image_mode = 'full';\n",
       "\n",
       "    this.root = $('<div/>');\n",
       "    this._root_extra_style(this.root)\n",
       "    this.root.attr('style', 'display: inline-block');\n",
       "\n",
       "    $(parent_element).append(this.root);\n",
       "\n",
       "    this._init_header(this);\n",
       "    this._init_canvas(this);\n",
       "    this._init_toolbar(this);\n",
       "\n",
       "    var fig = this;\n",
       "\n",
       "    this.waiting = false;\n",
       "\n",
       "    this.ws.onopen =  function () {\n",
       "            fig.send_message(\"supports_binary\", {value: fig.supports_binary});\n",
       "            fig.send_message(\"send_image_mode\", {});\n",
       "            if (mpl.ratio != 1) {\n",
       "                fig.send_message(\"set_dpi_ratio\", {'dpi_ratio': mpl.ratio});\n",
       "            }\n",
       "            fig.send_message(\"refresh\", {});\n",
       "        }\n",
       "\n",
       "    this.imageObj.onload = function() {\n",
       "            if (fig.image_mode == 'full') {\n",
       "                // Full images could contain transparency (where diff images\n",
       "                // almost always do), so we need to clear the canvas so that\n",
       "                // there is no ghosting.\n",
       "                fig.context.clearRect(0, 0, fig.canvas.width, fig.canvas.height);\n",
       "            }\n",
       "            fig.context.drawImage(fig.imageObj, 0, 0);\n",
       "        };\n",
       "\n",
       "    this.imageObj.onunload = function() {\n",
       "        fig.ws.close();\n",
       "    }\n",
       "\n",
       "    this.ws.onmessage = this._make_on_message_function(this);\n",
       "\n",
       "    this.ondownload = ondownload;\n",
       "}\n",
       "\n",
       "mpl.figure.prototype._init_header = function() {\n",
       "    var titlebar = $(\n",
       "        '<div class=\"ui-dialog-titlebar ui-widget-header ui-corner-all ' +\n",
       "        'ui-helper-clearfix\"/>');\n",
       "    var titletext = $(\n",
       "        '<div class=\"ui-dialog-title\" style=\"width: 100%; ' +\n",
       "        'text-align: center; padding: 3px;\"/>');\n",
       "    titlebar.append(titletext)\n",
       "    this.root.append(titlebar);\n",
       "    this.header = titletext[0];\n",
       "}\n",
       "\n",
       "\n",
       "\n",
       "mpl.figure.prototype._canvas_extra_style = function(canvas_div) {\n",
       "\n",
       "}\n",
       "\n",
       "\n",
       "mpl.figure.prototype._root_extra_style = function(canvas_div) {\n",
       "\n",
       "}\n",
       "\n",
       "mpl.figure.prototype._init_canvas = function() {\n",
       "    var fig = this;\n",
       "\n",
       "    var canvas_div = $('<div/>');\n",
       "\n",
       "    canvas_div.attr('style', 'position: relative; clear: both; outline: 0');\n",
       "\n",
       "    function canvas_keyboard_event(event) {\n",
       "        return fig.key_event(event, event['data']);\n",
       "    }\n",
       "\n",
       "    canvas_div.keydown('key_press', canvas_keyboard_event);\n",
       "    canvas_div.keyup('key_release', canvas_keyboard_event);\n",
       "    this.canvas_div = canvas_div\n",
       "    this._canvas_extra_style(canvas_div)\n",
       "    this.root.append(canvas_div);\n",
       "\n",
       "    var canvas = $('<canvas/>');\n",
       "    canvas.addClass('mpl-canvas');\n",
       "    canvas.attr('style', \"left: 0; top: 0; z-index: 0; outline: 0\")\n",
       "\n",
       "    this.canvas = canvas[0];\n",
       "    this.context = canvas[0].getContext(\"2d\");\n",
       "\n",
       "    var backingStore = this.context.backingStorePixelRatio ||\n",
       "\tthis.context.webkitBackingStorePixelRatio ||\n",
       "\tthis.context.mozBackingStorePixelRatio ||\n",
       "\tthis.context.msBackingStorePixelRatio ||\n",
       "\tthis.context.oBackingStorePixelRatio ||\n",
       "\tthis.context.backingStorePixelRatio || 1;\n",
       "\n",
       "    mpl.ratio = (window.devicePixelRatio || 1) / backingStore;\n",
       "\n",
       "    var rubberband = $('<canvas/>');\n",
       "    rubberband.attr('style', \"position: absolute; left: 0; top: 0; z-index: 1;\")\n",
       "\n",
       "    var pass_mouse_events = true;\n",
       "\n",
       "    canvas_div.resizable({\n",
       "        start: function(event, ui) {\n",
       "            pass_mouse_events = false;\n",
       "        },\n",
       "        resize: function(event, ui) {\n",
       "            fig.request_resize(ui.size.width, ui.size.height);\n",
       "        },\n",
       "        stop: function(event, ui) {\n",
       "            pass_mouse_events = true;\n",
       "            fig.request_resize(ui.size.width, ui.size.height);\n",
       "        },\n",
       "    });\n",
       "\n",
       "    function mouse_event_fn(event) {\n",
       "        if (pass_mouse_events)\n",
       "            return fig.mouse_event(event, event['data']);\n",
       "    }\n",
       "\n",
       "    rubberband.mousedown('button_press', mouse_event_fn);\n",
       "    rubberband.mouseup('button_release', mouse_event_fn);\n",
       "    // Throttle sequential mouse events to 1 every 20ms.\n",
       "    rubberband.mousemove('motion_notify', mouse_event_fn);\n",
       "\n",
       "    rubberband.mouseenter('figure_enter', mouse_event_fn);\n",
       "    rubberband.mouseleave('figure_leave', mouse_event_fn);\n",
       "\n",
       "    canvas_div.on(\"wheel\", function (event) {\n",
       "        event = event.originalEvent;\n",
       "        event['data'] = 'scroll'\n",
       "        if (event.deltaY < 0) {\n",
       "            event.step = 1;\n",
       "        } else {\n",
       "            event.step = -1;\n",
       "        }\n",
       "        mouse_event_fn(event);\n",
       "    });\n",
       "\n",
       "    canvas_div.append(canvas);\n",
       "    canvas_div.append(rubberband);\n",
       "\n",
       "    this.rubberband = rubberband;\n",
       "    this.rubberband_canvas = rubberband[0];\n",
       "    this.rubberband_context = rubberband[0].getContext(\"2d\");\n",
       "    this.rubberband_context.strokeStyle = \"#000000\";\n",
       "\n",
       "    this._resize_canvas = function(width, height) {\n",
       "        // Keep the size of the canvas, canvas container, and rubber band\n",
       "        // canvas in synch.\n",
       "        canvas_div.css('width', width)\n",
       "        canvas_div.css('height', height)\n",
       "\n",
       "        canvas.attr('width', width * mpl.ratio);\n",
       "        canvas.attr('height', height * mpl.ratio);\n",
       "        canvas.attr('style', 'width: ' + width + 'px; height: ' + height + 'px;');\n",
       "\n",
       "        rubberband.attr('width', width);\n",
       "        rubberband.attr('height', height);\n",
       "    }\n",
       "\n",
       "    // Set the figure to an initial 600x600px, this will subsequently be updated\n",
       "    // upon first draw.\n",
       "    this._resize_canvas(600, 600);\n",
       "\n",
       "    // Disable right mouse context menu.\n",
       "    $(this.rubberband_canvas).bind(\"contextmenu\",function(e){\n",
       "        return false;\n",
       "    });\n",
       "\n",
       "    function set_focus () {\n",
       "        canvas.focus();\n",
       "        canvas_div.focus();\n",
       "    }\n",
       "\n",
       "    window.setTimeout(set_focus, 100);\n",
       "}\n",
       "\n",
       "mpl.figure.prototype._init_toolbar = function() {\n",
       "    var fig = this;\n",
       "\n",
       "    var nav_element = $('<div/>');\n",
       "    nav_element.attr('style', 'width: 100%');\n",
       "    this.root.append(nav_element);\n",
       "\n",
       "    // Define a callback function for later on.\n",
       "    function toolbar_event(event) {\n",
       "        return fig.toolbar_button_onclick(event['data']);\n",
       "    }\n",
       "    function toolbar_mouse_event(event) {\n",
       "        return fig.toolbar_button_onmouseover(event['data']);\n",
       "    }\n",
       "\n",
       "    for(var toolbar_ind in mpl.toolbar_items) {\n",
       "        var name = mpl.toolbar_items[toolbar_ind][0];\n",
       "        var tooltip = mpl.toolbar_items[toolbar_ind][1];\n",
       "        var image = mpl.toolbar_items[toolbar_ind][2];\n",
       "        var method_name = mpl.toolbar_items[toolbar_ind][3];\n",
       "\n",
       "        if (!name) {\n",
       "            // put a spacer in here.\n",
       "            continue;\n",
       "        }\n",
       "        var button = $('<button/>');\n",
       "        button.addClass('ui-button ui-widget ui-state-default ui-corner-all ' +\n",
       "                        'ui-button-icon-only');\n",
       "        button.attr('role', 'button');\n",
       "        button.attr('aria-disabled', 'false');\n",
       "        button.click(method_name, toolbar_event);\n",
       "        button.mouseover(tooltip, toolbar_mouse_event);\n",
       "\n",
       "        var icon_img = $('<span/>');\n",
       "        icon_img.addClass('ui-button-icon-primary ui-icon');\n",
       "        icon_img.addClass(image);\n",
       "        icon_img.addClass('ui-corner-all');\n",
       "\n",
       "        var tooltip_span = $('<span/>');\n",
       "        tooltip_span.addClass('ui-button-text');\n",
       "        tooltip_span.html(tooltip);\n",
       "\n",
       "        button.append(icon_img);\n",
       "        button.append(tooltip_span);\n",
       "\n",
       "        nav_element.append(button);\n",
       "    }\n",
       "\n",
       "    var fmt_picker_span = $('<span/>');\n",
       "\n",
       "    var fmt_picker = $('<select/>');\n",
       "    fmt_picker.addClass('mpl-toolbar-option ui-widget ui-widget-content');\n",
       "    fmt_picker_span.append(fmt_picker);\n",
       "    nav_element.append(fmt_picker_span);\n",
       "    this.format_dropdown = fmt_picker[0];\n",
       "\n",
       "    for (var ind in mpl.extensions) {\n",
       "        var fmt = mpl.extensions[ind];\n",
       "        var option = $(\n",
       "            '<option/>', {selected: fmt === mpl.default_extension}).html(fmt);\n",
       "        fmt_picker.append(option);\n",
       "    }\n",
       "\n",
       "    // Add hover states to the ui-buttons\n",
       "    $( \".ui-button\" ).hover(\n",
       "        function() { $(this).addClass(\"ui-state-hover\");},\n",
       "        function() { $(this).removeClass(\"ui-state-hover\");}\n",
       "    );\n",
       "\n",
       "    var status_bar = $('<span class=\"mpl-message\"/>');\n",
       "    nav_element.append(status_bar);\n",
       "    this.message = status_bar[0];\n",
       "}\n",
       "\n",
       "mpl.figure.prototype.request_resize = function(x_pixels, y_pixels) {\n",
       "    // Request matplotlib to resize the figure. Matplotlib will then trigger a resize in the client,\n",
       "    // which will in turn request a refresh of the image.\n",
       "    this.send_message('resize', {'width': x_pixels, 'height': y_pixels});\n",
       "}\n",
       "\n",
       "mpl.figure.prototype.send_message = function(type, properties) {\n",
       "    properties['type'] = type;\n",
       "    properties['figure_id'] = this.id;\n",
       "    this.ws.send(JSON.stringify(properties));\n",
       "}\n",
       "\n",
       "mpl.figure.prototype.send_draw_message = function() {\n",
       "    if (!this.waiting) {\n",
       "        this.waiting = true;\n",
       "        this.ws.send(JSON.stringify({type: \"draw\", figure_id: this.id}));\n",
       "    }\n",
       "}\n",
       "\n",
       "\n",
       "mpl.figure.prototype.handle_save = function(fig, msg) {\n",
       "    var format_dropdown = fig.format_dropdown;\n",
       "    var format = format_dropdown.options[format_dropdown.selectedIndex].value;\n",
       "    fig.ondownload(fig, format);\n",
       "}\n",
       "\n",
       "\n",
       "mpl.figure.prototype.handle_resize = function(fig, msg) {\n",
       "    var size = msg['size'];\n",
       "    if (size[0] != fig.canvas.width || size[1] != fig.canvas.height) {\n",
       "        fig._resize_canvas(size[0], size[1]);\n",
       "        fig.send_message(\"refresh\", {});\n",
       "    };\n",
       "}\n",
       "\n",
       "mpl.figure.prototype.handle_rubberband = function(fig, msg) {\n",
       "    var x0 = msg['x0'] / mpl.ratio;\n",
       "    var y0 = (fig.canvas.height - msg['y0']) / mpl.ratio;\n",
       "    var x1 = msg['x1'] / mpl.ratio;\n",
       "    var y1 = (fig.canvas.height - msg['y1']) / mpl.ratio;\n",
       "    x0 = Math.floor(x0) + 0.5;\n",
       "    y0 = Math.floor(y0) + 0.5;\n",
       "    x1 = Math.floor(x1) + 0.5;\n",
       "    y1 = Math.floor(y1) + 0.5;\n",
       "    var min_x = Math.min(x0, x1);\n",
       "    var min_y = Math.min(y0, y1);\n",
       "    var width = Math.abs(x1 - x0);\n",
       "    var height = Math.abs(y1 - y0);\n",
       "\n",
       "    fig.rubberband_context.clearRect(\n",
       "        0, 0, fig.canvas.width / mpl.ratio, fig.canvas.height / mpl.ratio);\n",
       "\n",
       "    fig.rubberband_context.strokeRect(min_x, min_y, width, height);\n",
       "}\n",
       "\n",
       "mpl.figure.prototype.handle_figure_label = function(fig, msg) {\n",
       "    // Updates the figure title.\n",
       "    fig.header.textContent = msg['label'];\n",
       "}\n",
       "\n",
       "mpl.figure.prototype.handle_cursor = function(fig, msg) {\n",
       "    var cursor = msg['cursor'];\n",
       "    switch(cursor)\n",
       "    {\n",
       "    case 0:\n",
       "        cursor = 'pointer';\n",
       "        break;\n",
       "    case 1:\n",
       "        cursor = 'default';\n",
       "        break;\n",
       "    case 2:\n",
       "        cursor = 'crosshair';\n",
       "        break;\n",
       "    case 3:\n",
       "        cursor = 'move';\n",
       "        break;\n",
       "    }\n",
       "    fig.rubberband_canvas.style.cursor = cursor;\n",
       "}\n",
       "\n",
       "mpl.figure.prototype.handle_message = function(fig, msg) {\n",
       "    fig.message.textContent = msg['message'];\n",
       "}\n",
       "\n",
       "mpl.figure.prototype.handle_draw = function(fig, msg) {\n",
       "    // Request the server to send over a new figure.\n",
       "    fig.send_draw_message();\n",
       "}\n",
       "\n",
       "mpl.figure.prototype.handle_image_mode = function(fig, msg) {\n",
       "    fig.image_mode = msg['mode'];\n",
       "}\n",
       "\n",
       "mpl.figure.prototype.updated_canvas_event = function() {\n",
       "    // Called whenever the canvas gets updated.\n",
       "    this.send_message(\"ack\", {});\n",
       "}\n",
       "\n",
       "// A function to construct a web socket function for onmessage handling.\n",
       "// Called in the figure constructor.\n",
       "mpl.figure.prototype._make_on_message_function = function(fig) {\n",
       "    return function socket_on_message(evt) {\n",
       "        if (evt.data instanceof Blob) {\n",
       "            /* FIXME: We get \"Resource interpreted as Image but\n",
       "             * transferred with MIME type text/plain:\" errors on\n",
       "             * Chrome.  But how to set the MIME type?  It doesn't seem\n",
       "             * to be part of the websocket stream */\n",
       "            evt.data.type = \"image/png\";\n",
       "\n",
       "            /* Free the memory for the previous frames */\n",
       "            if (fig.imageObj.src) {\n",
       "                (window.URL || window.webkitURL).revokeObjectURL(\n",
       "                    fig.imageObj.src);\n",
       "            }\n",
       "\n",
       "            fig.imageObj.src = (window.URL || window.webkitURL).createObjectURL(\n",
       "                evt.data);\n",
       "            fig.updated_canvas_event();\n",
       "            fig.waiting = false;\n",
       "            return;\n",
       "        }\n",
       "        else if (typeof evt.data === 'string' && evt.data.slice(0, 21) == \"data:image/png;base64\") {\n",
       "            fig.imageObj.src = evt.data;\n",
       "            fig.updated_canvas_event();\n",
       "            fig.waiting = false;\n",
       "            return;\n",
       "        }\n",
       "\n",
       "        var msg = JSON.parse(evt.data);\n",
       "        var msg_type = msg['type'];\n",
       "\n",
       "        // Call the  \"handle_{type}\" callback, which takes\n",
       "        // the figure and JSON message as its only arguments.\n",
       "        try {\n",
       "            var callback = fig[\"handle_\" + msg_type];\n",
       "        } catch (e) {\n",
       "            console.log(\"No handler for the '\" + msg_type + \"' message type: \", msg);\n",
       "            return;\n",
       "        }\n",
       "\n",
       "        if (callback) {\n",
       "            try {\n",
       "                // console.log(\"Handling '\" + msg_type + \"' message: \", msg);\n",
       "                callback(fig, msg);\n",
       "            } catch (e) {\n",
       "                console.log(\"Exception inside the 'handler_\" + msg_type + \"' callback:\", e, e.stack, msg);\n",
       "            }\n",
       "        }\n",
       "    };\n",
       "}\n",
       "\n",
       "// from http://stackoverflow.com/questions/1114465/getting-mouse-location-in-canvas\n",
       "mpl.findpos = function(e) {\n",
       "    //this section is from http://www.quirksmode.org/js/events_properties.html\n",
       "    var targ;\n",
       "    if (!e)\n",
       "        e = window.event;\n",
       "    if (e.target)\n",
       "        targ = e.target;\n",
       "    else if (e.srcElement)\n",
       "        targ = e.srcElement;\n",
       "    if (targ.nodeType == 3) // defeat Safari bug\n",
       "        targ = targ.parentNode;\n",
       "\n",
       "    // jQuery normalizes the pageX and pageY\n",
       "    // pageX,Y are the mouse positions relative to the document\n",
       "    // offset() returns the position of the element relative to the document\n",
       "    var x = e.pageX - $(targ).offset().left;\n",
       "    var y = e.pageY - $(targ).offset().top;\n",
       "\n",
       "    return {\"x\": x, \"y\": y};\n",
       "};\n",
       "\n",
       "/*\n",
       " * return a copy of an object with only non-object keys\n",
       " * we need this to avoid circular references\n",
       " * http://stackoverflow.com/a/24161582/3208463\n",
       " */\n",
       "function simpleKeys (original) {\n",
       "  return Object.keys(original).reduce(function (obj, key) {\n",
       "    if (typeof original[key] !== 'object')\n",
       "        obj[key] = original[key]\n",
       "    return obj;\n",
       "  }, {});\n",
       "}\n",
       "\n",
       "mpl.figure.prototype.mouse_event = function(event, name) {\n",
       "    var canvas_pos = mpl.findpos(event)\n",
       "\n",
       "    if (name === 'button_press')\n",
       "    {\n",
       "        this.canvas.focus();\n",
       "        this.canvas_div.focus();\n",
       "    }\n",
       "\n",
       "    var x = canvas_pos.x * mpl.ratio;\n",
       "    var y = canvas_pos.y * mpl.ratio;\n",
       "\n",
       "    this.send_message(name, {x: x, y: y, button: event.button,\n",
       "                             step: event.step,\n",
       "                             guiEvent: simpleKeys(event)});\n",
       "\n",
       "    /* This prevents the web browser from automatically changing to\n",
       "     * the text insertion cursor when the button is pressed.  We want\n",
       "     * to control all of the cursor setting manually through the\n",
       "     * 'cursor' event from matplotlib */\n",
       "    event.preventDefault();\n",
       "    return false;\n",
       "}\n",
       "\n",
       "mpl.figure.prototype._key_event_extra = function(event, name) {\n",
       "    // Handle any extra behaviour associated with a key event\n",
       "}\n",
       "\n",
       "mpl.figure.prototype.key_event = function(event, name) {\n",
       "\n",
       "    // Prevent repeat events\n",
       "    if (name == 'key_press')\n",
       "    {\n",
       "        if (event.which === this._key)\n",
       "            return;\n",
       "        else\n",
       "            this._key = event.which;\n",
       "    }\n",
       "    if (name == 'key_release')\n",
       "        this._key = null;\n",
       "\n",
       "    var value = '';\n",
       "    if (event.ctrlKey && event.which != 17)\n",
       "        value += \"ctrl+\";\n",
       "    if (event.altKey && event.which != 18)\n",
       "        value += \"alt+\";\n",
       "    if (event.shiftKey && event.which != 16)\n",
       "        value += \"shift+\";\n",
       "\n",
       "    value += 'k';\n",
       "    value += event.which.toString();\n",
       "\n",
       "    this._key_event_extra(event, name);\n",
       "\n",
       "    this.send_message(name, {key: value,\n",
       "                             guiEvent: simpleKeys(event)});\n",
       "    return false;\n",
       "}\n",
       "\n",
       "mpl.figure.prototype.toolbar_button_onclick = function(name) {\n",
       "    if (name == 'download') {\n",
       "        this.handle_save(this, null);\n",
       "    } else {\n",
       "        this.send_message(\"toolbar_button\", {name: name});\n",
       "    }\n",
       "};\n",
       "\n",
       "mpl.figure.prototype.toolbar_button_onmouseover = function(tooltip) {\n",
       "    this.message.textContent = tooltip;\n",
       "};\n",
       "mpl.toolbar_items = [[\"Home\", \"Reset original view\", \"fa fa-home icon-home\", \"home\"], [\"Back\", \"Back to previous view\", \"fa fa-arrow-left icon-arrow-left\", \"back\"], [\"Forward\", \"Forward to next view\", \"fa fa-arrow-right icon-arrow-right\", \"forward\"], [\"\", \"\", \"\", \"\"], [\"Pan\", \"Pan axes with left mouse, zoom with right\", \"fa fa-arrows icon-move\", \"pan\"], [\"Zoom\", \"Zoom to rectangle\", \"fa fa-square-o icon-check-empty\", \"zoom\"], [\"\", \"\", \"\", \"\"], [\"Download\", \"Download plot\", \"fa fa-floppy-o icon-save\", \"download\"]];\n",
       "\n",
       "mpl.extensions = [\"eps\", \"pdf\", \"png\", \"ps\", \"raw\", \"svg\"];\n",
       "\n",
       "mpl.default_extension = \"png\";var comm_websocket_adapter = function(comm) {\n",
       "    // Create a \"websocket\"-like object which calls the given IPython comm\n",
       "    // object with the appropriate methods. Currently this is a non binary\n",
       "    // socket, so there is still some room for performance tuning.\n",
       "    var ws = {};\n",
       "\n",
       "    ws.close = function() {\n",
       "        comm.close()\n",
       "    };\n",
       "    ws.send = function(m) {\n",
       "        //console.log('sending', m);\n",
       "        comm.send(m);\n",
       "    };\n",
       "    // Register the callback with on_msg.\n",
       "    comm.on_msg(function(msg) {\n",
       "        //console.log('receiving', msg['content']['data'], msg);\n",
       "        // Pass the mpl event to the overridden (by mpl) onmessage function.\n",
       "        ws.onmessage(msg['content']['data'])\n",
       "    });\n",
       "    return ws;\n",
       "}\n",
       "\n",
       "mpl.mpl_figure_comm = function(comm, msg) {\n",
       "    // This is the function which gets called when the mpl process\n",
       "    // starts-up an IPython Comm through the \"matplotlib\" channel.\n",
       "\n",
       "    var id = msg.content.data.id;\n",
       "    // Get hold of the div created by the display call when the Comm\n",
       "    // socket was opened in Python.\n",
       "    var element = $(\"#\" + id);\n",
       "    var ws_proxy = comm_websocket_adapter(comm)\n",
       "\n",
       "    function ondownload(figure, format) {\n",
       "        window.open(figure.imageObj.src);\n",
       "    }\n",
       "\n",
       "    var fig = new mpl.figure(id, ws_proxy,\n",
       "                           ondownload,\n",
       "                           element.get(0));\n",
       "\n",
       "    // Call onopen now - mpl needs it, as it is assuming we've passed it a real\n",
       "    // web socket which is closed, not our websocket->open comm proxy.\n",
       "    ws_proxy.onopen();\n",
       "\n",
       "    fig.parent_element = element.get(0);\n",
       "    fig.cell_info = mpl.find_output_cell(\"<div id='\" + id + \"'></div>\");\n",
       "    if (!fig.cell_info) {\n",
       "        console.error(\"Failed to find cell for figure\", id, fig);\n",
       "        return;\n",
       "    }\n",
       "\n",
       "    var output_index = fig.cell_info[2]\n",
       "    var cell = fig.cell_info[0];\n",
       "\n",
       "};\n",
       "\n",
       "mpl.figure.prototype.handle_close = function(fig, msg) {\n",
       "    var width = fig.canvas.width/mpl.ratio\n",
       "    fig.root.unbind('remove')\n",
       "\n",
       "    // Update the output cell to use the data from the current canvas.\n",
       "    fig.push_to_output();\n",
       "    var dataURL = fig.canvas.toDataURL();\n",
       "    // Re-enable the keyboard manager in IPython - without this line, in FF,\n",
       "    // the notebook keyboard shortcuts fail.\n",
       "    IPython.keyboard_manager.enable()\n",
       "    $(fig.parent_element).html('<img src=\"' + dataURL + '\" width=\"' + width + '\">');\n",
       "    fig.close_ws(fig, msg);\n",
       "}\n",
       "\n",
       "mpl.figure.prototype.close_ws = function(fig, msg){\n",
       "    fig.send_message('closing', msg);\n",
       "    // fig.ws.close()\n",
       "}\n",
       "\n",
       "mpl.figure.prototype.push_to_output = function(remove_interactive) {\n",
       "    // Turn the data on the canvas into data in the output cell.\n",
       "    var width = this.canvas.width/mpl.ratio\n",
       "    var dataURL = this.canvas.toDataURL();\n",
       "    this.cell_info[1]['text/html'] = '<img src=\"' + dataURL + '\" width=\"' + width + '\">';\n",
       "}\n",
       "\n",
       "mpl.figure.prototype.updated_canvas_event = function() {\n",
       "    // Tell IPython that the notebook contents must change.\n",
       "    IPython.notebook.set_dirty(true);\n",
       "    this.send_message(\"ack\", {});\n",
       "    var fig = this;\n",
       "    // Wait a second, then push the new image to the DOM so\n",
       "    // that it is saved nicely (might be nice to debounce this).\n",
       "    setTimeout(function () { fig.push_to_output() }, 1000);\n",
       "}\n",
       "\n",
       "mpl.figure.prototype._init_toolbar = function() {\n",
       "    var fig = this;\n",
       "\n",
       "    var nav_element = $('<div/>');\n",
       "    nav_element.attr('style', 'width: 100%');\n",
       "    this.root.append(nav_element);\n",
       "\n",
       "    // Define a callback function for later on.\n",
       "    function toolbar_event(event) {\n",
       "        return fig.toolbar_button_onclick(event['data']);\n",
       "    }\n",
       "    function toolbar_mouse_event(event) {\n",
       "        return fig.toolbar_button_onmouseover(event['data']);\n",
       "    }\n",
       "\n",
       "    for(var toolbar_ind in mpl.toolbar_items){\n",
       "        var name = mpl.toolbar_items[toolbar_ind][0];\n",
       "        var tooltip = mpl.toolbar_items[toolbar_ind][1];\n",
       "        var image = mpl.toolbar_items[toolbar_ind][2];\n",
       "        var method_name = mpl.toolbar_items[toolbar_ind][3];\n",
       "\n",
       "        if (!name) { continue; };\n",
       "\n",
       "        var button = $('<button class=\"btn btn-default\" href=\"#\" title=\"' + name + '\"><i class=\"fa ' + image + ' fa-lg\"></i></button>');\n",
       "        button.click(method_name, toolbar_event);\n",
       "        button.mouseover(tooltip, toolbar_mouse_event);\n",
       "        nav_element.append(button);\n",
       "    }\n",
       "\n",
       "    // Add the status bar.\n",
       "    var status_bar = $('<span class=\"mpl-message\" style=\"text-align:right; float: right;\"/>');\n",
       "    nav_element.append(status_bar);\n",
       "    this.message = status_bar[0];\n",
       "\n",
       "    // Add the close button to the window.\n",
       "    var buttongrp = $('<div class=\"btn-group inline pull-right\"></div>');\n",
       "    var button = $('<button class=\"btn btn-mini btn-primary\" href=\"#\" title=\"Stop Interaction\"><i class=\"fa fa-power-off icon-remove icon-large\"></i></button>');\n",
       "    button.click(function (evt) { fig.handle_close(fig, {}); } );\n",
       "    button.mouseover('Stop Interaction', toolbar_mouse_event);\n",
       "    buttongrp.append(button);\n",
       "    var titlebar = this.root.find($('.ui-dialog-titlebar'));\n",
       "    titlebar.prepend(buttongrp);\n",
       "}\n",
       "\n",
       "mpl.figure.prototype._root_extra_style = function(el){\n",
       "    var fig = this\n",
       "    el.on(\"remove\", function(){\n",
       "\tfig.close_ws(fig, {});\n",
       "    });\n",
       "}\n",
       "\n",
       "mpl.figure.prototype._canvas_extra_style = function(el){\n",
       "    // this is important to make the div 'focusable\n",
       "    el.attr('tabindex', 0)\n",
       "    // reach out to IPython and tell the keyboard manager to turn it's self\n",
       "    // off when our div gets focus\n",
       "\n",
       "    // location in version 3\n",
       "    if (IPython.notebook.keyboard_manager) {\n",
       "        IPython.notebook.keyboard_manager.register_events(el);\n",
       "    }\n",
       "    else {\n",
       "        // location in version 2\n",
       "        IPython.keyboard_manager.register_events(el);\n",
       "    }\n",
       "\n",
       "}\n",
       "\n",
       "mpl.figure.prototype._key_event_extra = function(event, name) {\n",
       "    var manager = IPython.notebook.keyboard_manager;\n",
       "    if (!manager)\n",
       "        manager = IPython.keyboard_manager;\n",
       "\n",
       "    // Check for shift+enter\n",
       "    if (event.shiftKey && event.which == 13) {\n",
       "        this.canvas_div.blur();\n",
       "        // select the cell after this one\n",
       "        var index = IPython.notebook.find_cell_index(this.cell_info[0]);\n",
       "        IPython.notebook.select(index + 1);\n",
       "    }\n",
       "}\n",
       "\n",
       "mpl.figure.prototype.handle_save = function(fig, msg) {\n",
       "    fig.ondownload(fig, null);\n",
       "}\n",
       "\n",
       "\n",
       "mpl.find_output_cell = function(html_output) {\n",
       "    // Return the cell and output element which can be found *uniquely* in the notebook.\n",
       "    // Note - this is a bit hacky, but it is done because the \"notebook_saving.Notebook\"\n",
       "    // IPython event is triggered only after the cells have been serialised, which for\n",
       "    // our purposes (turning an active figure into a static one), is too late.\n",
       "    var cells = IPython.notebook.get_cells();\n",
       "    var ncells = cells.length;\n",
       "    for (var i=0; i<ncells; i++) {\n",
       "        var cell = cells[i];\n",
       "        if (cell.cell_type === 'code'){\n",
       "            for (var j=0; j<cell.output_area.outputs.length; j++) {\n",
       "                var data = cell.output_area.outputs[j];\n",
       "                if (data.data) {\n",
       "                    // IPython >= 3 moved mimebundle to data attribute of output\n",
       "                    data = data.data;\n",
       "                }\n",
       "                if (data['text/html'] == html_output) {\n",
       "                    return [cell, data, j];\n",
       "                }\n",
       "            }\n",
       "        }\n",
       "    }\n",
       "}\n",
       "\n",
       "// Register the function which deals with the matplotlib target/channel.\n",
       "// The kernel may be null if the page has been refreshed.\n",
       "if (IPython.notebook.kernel != null) {\n",
       "    IPython.notebook.kernel.comm_manager.register_target('matplotlib', mpl.mpl_figure_comm);\n",
       "}\n"
      ],
      "text/plain": [
       "<IPython.core.display.Javascript object>"
      ]
     },
     "metadata": {},
     "output_type": "display_data"
    },
    {
     "data": {
      "text/html": [
       "<img src=\"data:image/png;base64,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\" width=\"640\">"
      ],
      "text/plain": [
       "<IPython.core.display.HTML object>"
      ]
     },
     "metadata": {},
     "output_type": "display_data"
    }
   ],
   "source": [
    "scaled_data = np.asarray([scalar(evolver.population.fitness, response) for scalar in evolver.scalarization_methods]).T\n",
    "non_dom_ids = nds(scaled_data)[0][0]\n",
    "\n",
    "\n",
    "nimbus = plt.scatter(\n",
    "    x=evolver.population.objectives[non_dom_ids, 0],\n",
    "    y=evolver.population.objectives[non_dom_ids, 1],\n",
    "    label='NIMBUS-RVEA'\n",
    ")\n",
    "\"\"\"nimbus = plt.scatter(\n",
    "    x=evolver.population.objectives[:, 0],\n",
    "    y=evolver.population.objectives[:, 1],\n",
    "    label='NIMBUS-RVEA'\n",
    ")\"\"\"\n",
    "refp = plt.scatter(x=response[:,0], y=response[:,1], c='r', label='Reference Point')\n",
    "stom = plt.arrow(x=response[0,0], y=response[0,1], dx=response[0,0]*10, dy=response[0,1]*10, color='g', label='STOM')\n",
    "asf = plt.arrow(x=response[0,0], y=response[0,1], dx=10, dy=10,color='black',label=\"ASF\")\n",
    "aug = plt.arrow(x=response[0,0], y=response[0,1], dx=1-response[0,0], dy=1-response[0,1],color='red',label=\"AUG\")\n",
    "# Completing the other side\n",
    "plt.arrow(x=response[0,0], y=response[0,1], dx=-response[0,0]*10, dy=-response[0,1]*10, color='g')\n",
    "plt.arrow(x=response[0,0], y=response[0,1], dx=-10, dy=-10, color='black')\n",
    "plt.arrow(x=response[0,0], y=response[0,1], dx=-1+response[0,0], dy=-1+response[0,1],color='red')\n",
    "pareto = plt.plot(zdt1_pareto[:,0], zdt1_pareto[:,1],'-.')\n",
    "plt.xlim([0,1])\n",
    "plt.ylim([0,1])\n",
    "plt.title(\"ZDT1 problem with NIMBUS inspired EA\")\n",
    "plt.legend([nimbus, refp, stom, asf], [\"NIMBUS-RVEA\",\"Reference Point\",\"STOM\", \"ASF\", \"AUG\"])\n",
    "plt.gca().set_aspect('equal', adjustable='box')"
   ]
  },
  {
   "cell_type": "code",
   "execution_count": 73,
   "metadata": {},
   "outputs": [],
   "source": [
    "scaled_data = np.asarray([scalar(evolver.population.fitness, pref.response.values) for scalar in evolver.scalarization_methods]).T"
   ]
  },
  {
   "cell_type": "code",
   "execution_count": 13,
   "metadata": {},
   "outputs": [],
   "source": [
    "zdt1_pareto = np.asarray([[0.0000000333,0.9998173820],\n",
    "[0.0036524605,0.9395644103],\n",
    "[0.0109353082,0.8954279758],\n",
    "[0.0201661797,0.8579923253],\n",
    "[0.0307984775,0.8245050499],\n",
    "[0.0425521730,0.7937182195],\n",
    "[0.0552536936,0.7649389578],\n",
    "[0.0687834600,0.7377339899],\n",
    "[0.0830533346,0.7118102455],\n",
    "[0.0979952414,0.6869580836],\n",
    "[0.1135547782,0.6630211013],\n",
    "[0.1296872770,0.6398788023],\n",
    "[0.1463553419,0.6174358329],\n",
    "[0.1635270897,0.5956151713],\n",
    "[0.1811749649,0.5743534743],\n",
    "[0.1992748910,0.5535978371],\n",
    "[0.2178056136,0.5333035102],\n",
    "[0.2367481746,0.5134322508],\n",
    "[0.2560856025,0.4939509881],\n",
    "[0.2758025276,0.4748309533],\n",
    "[0.2958850236,0.4560468554],\n",
    "[0.3163203619,0.4375763502],\n",
    "[0.3370968359,0.4193995902],\n",
    "[0.3582036897,0.4014987972],\n",
    "[0.3796309819,0.3838579856],\n",
    "[0.4013694644,0.3664627364],\n",
    "[0.4234104957,0.3492999957],\n",
    "[0.4457460837,0.3323578176],\n",
    "[0.4683687091,0.3156253153],\n",
    "[0.4912712857,0.2990925270],\n",
    "[0.5144471844,0.2827502636],\n",
    "[0.5378901526,0.2665900514],\n",
    "[0.5615942516,0.2506040755],\n",
    "[0.5855539020,0.2347850615],\n",
    "[0.6097637681,0.2191262791],\n",
    "[0.6342188315,0.2036214270],\n",
    "[0.6589142602,0.1882646612],\n",
    "[0.6838455122,0.1730504779],\n",
    "[0.7090082355,0.1579737323],\n",
    "[0.7343982546,0.1430296070],\n",
    "[0.7600116005,0.1282135580],\n",
    "[0.7858444564,0.1135213164],\n",
    "[0.8118931476,0.0989488651],\n",
    "[0.8381541846,0.0844923897],\n",
    "[0.8646242088,0.0701482867],\n",
    "[0.8912999852,0.0559131474],\n",
    "[0.9181784008,0.0417837401],\n",
    "[0.9452564510,0.0277570000],\n",
    "[0.9725312450,0.0138300121],\n",
    "[1.0000000000,0.0000000000],])"
   ]
  },
  {
   "cell_type": "code",
   "execution_count": 13,
   "metadata": {},
   "outputs": [],
   "source": [
    "# 3 Objectives"
   ]
  },
  {
   "cell_type": "code",
   "execution_count": 40,
   "metadata": {},
   "outputs": [],
   "source": [
    "import plotly.graph_objects as go"
   ]
  },
  {
   "cell_type": "code",
   "execution_count": 81,
   "metadata": {},
   "outputs": [],
   "source": [
    "problem = test_problem_builder(name=\"DTLZ1\", n_of_objectives=3, n_of_variables=5)"
   ]
  },
  {
   "cell_type": "code",
   "execution_count": 82,
   "metadata": {},
   "outputs": [],
   "source": [
    "problem.ideal = np.asarray([0, 0, 0])\n",
    "problem.nadir = np.asarray([0.5, 0.5, 0.5])"
   ]
  },
  {
   "cell_type": "code",
   "execution_count": 126,
   "metadata": {},
   "outputs": [],
   "source": [
    "evolver = NIMBUS_RVEA(problem, n_gen_per_iter=200)"
   ]
  },
  {
   "cell_type": "code",
   "execution_count": 127,
   "metadata": {},
   "outputs": [],
   "source": [
    "plot, pref = evolver.requests()"
   ]
  },
  {
   "cell_type": "code",
   "execution_count": 128,
   "metadata": {},
   "outputs": [
    {
     "data": {
      "text/plain": [
       "{'dimensions_data':            f1   f2   f3\n",
       " minimize    1    1    1\n",
       " ideal       0    0    0\n",
       " nadir     0.5  0.5  0.5,\n",
       " 'message': 'Provide a reference point worse than to the ideal point and better than the nadir point.\\nIdeal point: \\nf1    0\\nf2    0\\nf3    0\\nName: ideal, dtype: object\\nNadir point: \\nf1    0.5\\nf2    0.5\\nf3    0.5\\nName: nadir, dtype: object\\nThe reference point will be used to create scalarization functions in the preferred region.\\n',\n",
       " 'validator': <function desdeo_tools.interaction.validators.validate_ref_point_with_ideal_and_nadir(dimensions_data: pandas.core.frame.DataFrame, reference_point: pandas.core.frame.DataFrame)>}"
      ]
     },
     "execution_count": 128,
     "metadata": {},
     "output_type": "execute_result"
    }
   ],
   "source": [
    "pref.content"
   ]
  },
  {
   "cell_type": "code",
   "execution_count": 144,
   "metadata": {},
   "outputs": [],
   "source": [
    "response = np.asarray([[0.4,0.2, 0.4]])\n",
    "pref.response = pd.DataFrame(response, columns=pref.content['dimensions_data'].columns)"
   ]
  },
  {
   "cell_type": "code",
   "execution_count": 145,
   "metadata": {},
   "outputs": [],
   "source": [
    "plot, pref = evolver.iterate(pref)"
   ]
  },
  {
   "cell_type": "code",
   "execution_count": 159,
   "metadata": {},
   "outputs": [
    {
     "data": {
      "application/vnd.plotly.v1+json": {
       "config": {
        "plotlyServerURL": "https://plot.ly"
       },
       "data": [
        {
         "marker": {
          "opacity": 0.8,
          "size": 4
         },
         "mode": "markers",
         "name": "NIMBUS-RVEA",
         "type": "scatter3d",
         "x": [
          0.24036461338978976,
          0.35006856960412186,
          0.23277075487652957,
          0.202061356720484,
          0.18820719397990865,
          0.2443346158032399,
          0.26452696883672033,
          0.25521092958310293,
          0.23986856437061616,
          0.23090919389100462,
          0.21848995028370852,
          0.2595468864202657,
          0.25155386330089996,
          0.1870013946332304,
          0.24930001272366845,
          0.28474762803502296,
          0.2352603326271882,
          0.2444377960631089,
          0.22706867074756226,
          0.2441061005044342,
          0.2519982912285599,
          0.18784664844540427,
          0.37477738707728064,
          0.20493578286363337,
          0.2463480917209488,
          0.21612741202070077,
          0.23796171344961176,
          0.23019210858261102,
          0.23691518453544627,
          0.18357992716790414,
          0.24906022040083609,
          0.3012732609059648,
          0.1627853424080124,
          0.3008973246711959,
          0.22269213142276947,
          0.2219109421785008,
          0.2271592453081843,
          0.26015405986222384,
          0.2219720054444151
         ],
         "y": [
          0.020806437407183458,
          0.015600874416991395,
          0.03543087928149222,
          0.08002721212922587,
          0.04712235330091028,
          0.018110812092203114,
          8.29891925576156e-05,
          0.005084823277758355,
          0.028106964292677106,
          0.07555575103344367,
          0.027293241179716217,
          0.01276838491276226,
          0.016417102865507672,
          0.02313713711926713,
          0.11225026184292547,
          0.07589216110838097,
          0.02982250928112397,
          0.012059909510210232,
          0.02781558921804613,
          0.008625708911529778,
          0,
          0.06066065558233551,
          0.00028201682485644617,
          0.09113370090589559,
          0.03952187004486062,
          0.06977618254951058,
          0.047526622874393826,
          0.04041394065615656,
          0.05956049663380889,
          0.1125547726203922,
          0.0029793985865713205,
          0.013238834077212006,
          0.041855302177941305,
          0,
          0.05569676592167338,
          0.0077882252292136534,
          0.0472837480808552,
          0.0442065506036393,
          0.039198349246682924
         ],
         "z": [
          0.23965045000450017,
          0.13518227976825029,
          0.23284097992262676,
          0.2518880383568996,
          0.27842337658729666,
          0.2385639813868724,
          0.23631214882257484,
          0.24063193295785776,
          0.2329762552620027,
          0.19450568882585964,
          0.25519921114834637,
          0.2286849266925523,
          0.2330322760765175,
          0.29086979855106704,
          0.13945004386946794,
          0.14050608904981662,
          0.23585779218803476,
          0.24446449388505728,
          0.24608411404812391,
          0.2482425589405238,
          0.2489346793573608,
          0.2524828990676015,
          0.12595658584075478,
          0.2049457918094349,
          0.21515071736800248,
          0.2150693137634405,
          0.21547312009913747,
          0.23032425430008102,
          0.20452620337074212,
          0.2049222725628137,
          0.24889118665566606,
          0.18642158437798237,
          0.29633434267868103,
          0.20000016904879095,
          0.22257824437049312,
          0.2712999265065523,
          0.2264473752720933,
          0.19659843911395525,
          0.23998736753423316
         ]
        },
        {
         "marker": {
          "opacity": 0.8,
          "size": 2
         },
         "name": "True Front",
         "type": "scatter3d",
         "x": [
          0.5,
          0,
          0,
          0.5
         ],
         "y": [
          0,
          0.5,
          0,
          0
         ],
         "z": [
          0,
          0,
          0.5,
          0
         ]
        },
        {
         "marker": {
          "opacity": 0.8,
          "size": 4
         },
         "name": "Nadir Point",
         "type": "scatter3d",
         "x": [
          0.5
         ],
         "y": [
          0.5
         ],
         "z": [
          0.5
         ]
        },
        {
         "marker": {
          "opacity": 0.8,
          "size": 4
         },
         "name": "Reference Point",
         "type": "scatter3d",
         "x": [
          0.4
         ],
         "y": [
          0.2
         ],
         "z": [
          0.4
         ]
        },
        {
         "line": {
          "width": 10
         },
         "marker": {
          "opacity": 0.8,
          "size": 2
         },
         "name": "STOM",
         "type": "scatter3d",
         "x": [
          0,
          0.4
         ],
         "y": [
          0,
          0.2
         ],
         "z": [
          0,
          0.4
         ]
        },
        {
         "line": {
          "width": 10
         },
         "marker": {
          "opacity": 0.8,
          "size": 2
         },
         "name": "ASF",
         "type": "scatter3d",
         "x": [
          -0.6,
          1.4
         ],
         "y": [
          -0.8,
          1.2
         ],
         "z": [
          -0.6,
          1.4
         ]
        },
        {
         "line": {
          "width": 10
         },
         "marker": {
          "opacity": 0.8,
          "size": 2
         },
         "name": "AUG",
         "type": "scatter3d",
         "x": [
          -0.5,
          0.4,
          0.5
         ],
         "y": [
          -2.5,
          0.2,
          0.5
         ],
         "z": [
          -0.5,
          0.4,
          0.5
         ]
        },
        {
         "marker": {
          "opacity": 0.8,
          "size": 4
         },
         "name": "Ideal Point",
         "type": "scatter3d",
         "x": [
          0
         ],
         "y": [
          0
         ],
         "z": [
          0
         ]
        }
       ],
       "layout": {
        "margin": {
         "b": 0,
         "l": 0,
         "r": 0,
         "t": 0
        },
        "scene": {
         "aspectratio": {
          "x": 1,
          "y": 1,
          "z": 1
         },
         "xaxis": {
          "range": [
           0,
           0.6
          ]
         },
         "yaxis": {
          "range": [
           0,
           0.6
          ]
         },
         "zaxis": {
          "range": [
           0,
           0.6
          ]
         }
        },
        "template": {
         "data": {
          "bar": [
           {
            "error_x": {
             "color": "#2a3f5f"
            },
            "error_y": {
             "color": "#2a3f5f"
            },
            "marker": {
             "line": {
              "color": "#E5ECF6",
              "width": 0.5
             }
            },
            "type": "bar"
           }
          ],
          "barpolar": [
           {
            "marker": {
             "line": {
              "color": "#E5ECF6",
              "width": 0.5
             }
            },
            "type": "barpolar"
           }
          ],
          "carpet": [
           {
            "aaxis": {
             "endlinecolor": "#2a3f5f",
             "gridcolor": "white",
             "linecolor": "white",
             "minorgridcolor": "white",
             "startlinecolor": "#2a3f5f"
            },
            "baxis": {
             "endlinecolor": "#2a3f5f",
             "gridcolor": "white",
             "linecolor": "white",
             "minorgridcolor": "white",
             "startlinecolor": "#2a3f5f"
            },
            "type": "carpet"
           }
          ],
          "choropleth": [
           {
            "colorbar": {
             "outlinewidth": 0,
             "ticks": ""
            },
            "type": "choropleth"
           }
          ],
          "contour": [
           {
            "colorbar": {
             "outlinewidth": 0,
             "ticks": ""
            },
            "colorscale": [
             [
              0,
              "#0d0887"
             ],
             [
              0.1111111111111111,
              "#46039f"
             ],
             [
              0.2222222222222222,
              "#7201a8"
             ],
             [
              0.3333333333333333,
              "#9c179e"
             ],
             [
              0.4444444444444444,
              "#bd3786"
             ],
             [
              0.5555555555555556,
              "#d8576b"
             ],
             [
              0.6666666666666666,
              "#ed7953"
             ],
             [
              0.7777777777777778,
              "#fb9f3a"
             ],
             [
              0.8888888888888888,
              "#fdca26"
             ],
             [
              1,
              "#f0f921"
             ]
            ],
            "type": "contour"
           }
          ],
          "contourcarpet": [
           {
            "colorbar": {
             "outlinewidth": 0,
             "ticks": ""
            },
            "type": "contourcarpet"
           }
          ],
          "heatmap": [
           {
            "colorbar": {
             "outlinewidth": 0,
             "ticks": ""
            },
            "colorscale": [
             [
              0,
              "#0d0887"
             ],
             [
              0.1111111111111111,
              "#46039f"
             ],
             [
              0.2222222222222222,
              "#7201a8"
             ],
             [
              0.3333333333333333,
              "#9c179e"
             ],
             [
              0.4444444444444444,
              "#bd3786"
             ],
             [
              0.5555555555555556,
              "#d8576b"
             ],
             [
              0.6666666666666666,
              "#ed7953"
             ],
             [
              0.7777777777777778,
              "#fb9f3a"
             ],
             [
              0.8888888888888888,
              "#fdca26"
             ],
             [
              1,
              "#f0f921"
             ]
            ],
            "type": "heatmap"
           }
          ],
          "heatmapgl": [
           {
            "colorbar": {
             "outlinewidth": 0,
             "ticks": ""
            },
            "colorscale": [
             [
              0,
              "#0d0887"
             ],
             [
              0.1111111111111111,
              "#46039f"
             ],
             [
              0.2222222222222222,
              "#7201a8"
             ],
             [
              0.3333333333333333,
              "#9c179e"
             ],
             [
              0.4444444444444444,
              "#bd3786"
             ],
             [
              0.5555555555555556,
              "#d8576b"
             ],
             [
              0.6666666666666666,
              "#ed7953"
             ],
             [
              0.7777777777777778,
              "#fb9f3a"
             ],
             [
              0.8888888888888888,
              "#fdca26"
             ],
             [
              1,
              "#f0f921"
             ]
            ],
            "type": "heatmapgl"
           }
          ],
          "histogram": [
           {
            "marker": {
             "colorbar": {
              "outlinewidth": 0,
              "ticks": ""
             }
            },
            "type": "histogram"
           }
          ],
          "histogram2d": [
           {
            "colorbar": {
             "outlinewidth": 0,
             "ticks": ""
            },
            "colorscale": [
             [
              0,
              "#0d0887"
             ],
             [
              0.1111111111111111,
              "#46039f"
             ],
             [
              0.2222222222222222,
              "#7201a8"
             ],
             [
              0.3333333333333333,
              "#9c179e"
             ],
             [
              0.4444444444444444,
              "#bd3786"
             ],
             [
              0.5555555555555556,
              "#d8576b"
             ],
             [
              0.6666666666666666,
              "#ed7953"
             ],
             [
              0.7777777777777778,
              "#fb9f3a"
             ],
             [
              0.8888888888888888,
              "#fdca26"
             ],
             [
              1,
              "#f0f921"
             ]
            ],
            "type": "histogram2d"
           }
          ],
          "histogram2dcontour": [
           {
            "colorbar": {
             "outlinewidth": 0,
             "ticks": ""
            },
            "colorscale": [
             [
              0,
              "#0d0887"
             ],
             [
              0.1111111111111111,
              "#46039f"
             ],
             [
              0.2222222222222222,
              "#7201a8"
             ],
             [
              0.3333333333333333,
              "#9c179e"
             ],
             [
              0.4444444444444444,
              "#bd3786"
             ],
             [
              0.5555555555555556,
              "#d8576b"
             ],
             [
              0.6666666666666666,
              "#ed7953"
             ],
             [
              0.7777777777777778,
              "#fb9f3a"
             ],
             [
              0.8888888888888888,
              "#fdca26"
             ],
             [
              1,
              "#f0f921"
             ]
            ],
            "type": "histogram2dcontour"
           }
          ],
          "mesh3d": [
           {
            "colorbar": {
             "outlinewidth": 0,
             "ticks": ""
            },
            "type": "mesh3d"
           }
          ],
          "parcoords": [
           {
            "line": {
             "colorbar": {
              "outlinewidth": 0,
              "ticks": ""
             }
            },
            "type": "parcoords"
           }
          ],
          "pie": [
           {
            "automargin": true,
            "type": "pie"
           }
          ],
          "scatter": [
           {
            "marker": {
             "colorbar": {
              "outlinewidth": 0,
              "ticks": ""
             }
            },
            "type": "scatter"
           }
          ],
          "scatter3d": [
           {
            "line": {
             "colorbar": {
              "outlinewidth": 0,
              "ticks": ""
             }
            },
            "marker": {
             "colorbar": {
              "outlinewidth": 0,
              "ticks": ""
             }
            },
            "type": "scatter3d"
           }
          ],
          "scattercarpet": [
           {
            "marker": {
             "colorbar": {
              "outlinewidth": 0,
              "ticks": ""
             }
            },
            "type": "scattercarpet"
           }
          ],
          "scattergeo": [
           {
            "marker": {
             "colorbar": {
              "outlinewidth": 0,
              "ticks": ""
             }
            },
            "type": "scattergeo"
           }
          ],
          "scattergl": [
           {
            "marker": {
             "colorbar": {
              "outlinewidth": 0,
              "ticks": ""
             }
            },
            "type": "scattergl"
           }
          ],
          "scattermapbox": [
           {
            "marker": {
             "colorbar": {
              "outlinewidth": 0,
              "ticks": ""
             }
            },
            "type": "scattermapbox"
           }
          ],
          "scatterpolar": [
           {
            "marker": {
             "colorbar": {
              "outlinewidth": 0,
              "ticks": ""
             }
            },
            "type": "scatterpolar"
           }
          ],
          "scatterpolargl": [
           {
            "marker": {
             "colorbar": {
              "outlinewidth": 0,
              "ticks": ""
             }
            },
            "type": "scatterpolargl"
           }
          ],
          "scatterternary": [
           {
            "marker": {
             "colorbar": {
              "outlinewidth": 0,
              "ticks": ""
             }
            },
            "type": "scatterternary"
           }
          ],
          "surface": [
           {
            "colorbar": {
             "outlinewidth": 0,
             "ticks": ""
            },
            "colorscale": [
             [
              0,
              "#0d0887"
             ],
             [
              0.1111111111111111,
              "#46039f"
             ],
             [
              0.2222222222222222,
              "#7201a8"
             ],
             [
              0.3333333333333333,
              "#9c179e"
             ],
             [
              0.4444444444444444,
              "#bd3786"
             ],
             [
              0.5555555555555556,
              "#d8576b"
             ],
             [
              0.6666666666666666,
              "#ed7953"
             ],
             [
              0.7777777777777778,
              "#fb9f3a"
             ],
             [
              0.8888888888888888,
              "#fdca26"
             ],
             [
              1,
              "#f0f921"
             ]
            ],
            "type": "surface"
           }
          ],
          "table": [
           {
            "cells": {
             "fill": {
              "color": "#EBF0F8"
             },
             "line": {
              "color": "white"
             }
            },
            "header": {
             "fill": {
              "color": "#C8D4E3"
             },
             "line": {
              "color": "white"
             }
            },
            "type": "table"
           }
          ]
         },
         "layout": {
          "annotationdefaults": {
           "arrowcolor": "#2a3f5f",
           "arrowhead": 0,
           "arrowwidth": 1
          },
          "coloraxis": {
           "colorbar": {
            "outlinewidth": 0,
            "ticks": ""
           }
          },
          "colorscale": {
           "diverging": [
            [
             0,
             "#8e0152"
            ],
            [
             0.1,
             "#c51b7d"
            ],
            [
             0.2,
             "#de77ae"
            ],
            [
             0.3,
             "#f1b6da"
            ],
            [
             0.4,
             "#fde0ef"
            ],
            [
             0.5,
             "#f7f7f7"
            ],
            [
             0.6,
             "#e6f5d0"
            ],
            [
             0.7,
             "#b8e186"
            ],
            [
             0.8,
             "#7fbc41"
            ],
            [
             0.9,
             "#4d9221"
            ],
            [
             1,
             "#276419"
            ]
           ],
           "sequential": [
            [
             0,
             "#0d0887"
            ],
            [
             0.1111111111111111,
             "#46039f"
            ],
            [
             0.2222222222222222,
             "#7201a8"
            ],
            [
             0.3333333333333333,
             "#9c179e"
            ],
            [
             0.4444444444444444,
             "#bd3786"
            ],
            [
             0.5555555555555556,
             "#d8576b"
            ],
            [
             0.6666666666666666,
             "#ed7953"
            ],
            [
             0.7777777777777778,
             "#fb9f3a"
            ],
            [
             0.8888888888888888,
             "#fdca26"
            ],
            [
             1,
             "#f0f921"
            ]
           ],
           "sequentialminus": [
            [
             0,
             "#0d0887"
            ],
            [
             0.1111111111111111,
             "#46039f"
            ],
            [
             0.2222222222222222,
             "#7201a8"
            ],
            [
             0.3333333333333333,
             "#9c179e"
            ],
            [
             0.4444444444444444,
             "#bd3786"
            ],
            [
             0.5555555555555556,
             "#d8576b"
            ],
            [
             0.6666666666666666,
             "#ed7953"
            ],
            [
             0.7777777777777778,
             "#fb9f3a"
            ],
            [
             0.8888888888888888,
             "#fdca26"
            ],
            [
             1,
             "#f0f921"
            ]
           ]
          },
          "colorway": [
           "#636efa",
           "#EF553B",
           "#00cc96",
           "#ab63fa",
           "#FFA15A",
           "#19d3f3",
           "#FF6692",
           "#B6E880",
           "#FF97FF",
           "#FECB52"
          ],
          "font": {
           "color": "#2a3f5f"
          },
          "geo": {
           "bgcolor": "white",
           "lakecolor": "white",
           "landcolor": "#E5ECF6",
           "showlakes": true,
           "showland": true,
           "subunitcolor": "white"
          },
          "hoverlabel": {
           "align": "left"
          },
          "hovermode": "closest",
          "mapbox": {
           "style": "light"
          },
          "paper_bgcolor": "white",
          "plot_bgcolor": "#E5ECF6",
          "polar": {
           "angularaxis": {
            "gridcolor": "white",
            "linecolor": "white",
            "ticks": ""
           },
           "bgcolor": "#E5ECF6",
           "radialaxis": {
            "gridcolor": "white",
            "linecolor": "white",
            "ticks": ""
           }
          },
          "scene": {
           "xaxis": {
            "backgroundcolor": "#E5ECF6",
            "gridcolor": "white",
            "gridwidth": 2,
            "linecolor": "white",
            "showbackground": true,
            "ticks": "",
            "zerolinecolor": "white"
           },
           "yaxis": {
            "backgroundcolor": "#E5ECF6",
            "gridcolor": "white",
            "gridwidth": 2,
            "linecolor": "white",
            "showbackground": true,
            "ticks": "",
            "zerolinecolor": "white"
           },
           "zaxis": {
            "backgroundcolor": "#E5ECF6",
            "gridcolor": "white",
            "gridwidth": 2,
            "linecolor": "white",
            "showbackground": true,
            "ticks": "",
            "zerolinecolor": "white"
           }
          },
          "shapedefaults": {
           "line": {
            "color": "#2a3f5f"
           }
          },
          "ternary": {
           "aaxis": {
            "gridcolor": "white",
            "linecolor": "white",
            "ticks": ""
           },
           "baxis": {
            "gridcolor": "white",
            "linecolor": "white",
            "ticks": ""
           },
           "bgcolor": "#E5ECF6",
           "caxis": {
            "gridcolor": "white",
            "linecolor": "white",
            "ticks": ""
           }
          },
          "title": {
           "x": 0.05
          },
          "xaxis": {
           "automargin": true,
           "gridcolor": "white",
           "linecolor": "white",
           "ticks": "",
           "title": {
            "standoff": 15
           },
           "zerolinecolor": "white",
           "zerolinewidth": 2
          },
          "yaxis": {
           "automargin": true,
           "gridcolor": "white",
           "linecolor": "white",
           "ticks": "",
           "title": {
            "standoff": 15
           },
           "zerolinecolor": "white",
           "zerolinewidth": 2
          }
         }
        }
       }
      },
      "text/html": [
       "<div>\n",
       "        \n",
       "        \n",
       "            <div id=\"84c7cb34-5eb9-44ef-973c-040c75e9b6df\" class=\"plotly-graph-div\" style=\"height:525px; width:100%;\"></div>\n",
       "            <script type=\"text/javascript\">\n",
       "                require([\"plotly\"], function(Plotly) {\n",
       "                    window.PLOTLYENV=window.PLOTLYENV || {};\n",
       "                    \n",
       "                if (document.getElementById(\"84c7cb34-5eb9-44ef-973c-040c75e9b6df\")) {\n",
       "                    Plotly.newPlot(\n",
       "                        '84c7cb34-5eb9-44ef-973c-040c75e9b6df',\n",
       "                        [{\"marker\": {\"opacity\": 0.8, \"size\": 4}, \"mode\": \"markers\", \"name\": \"NIMBUS-RVEA\", \"type\": \"scatter3d\", \"x\": [0.24036461338978976, 0.35006856960412186, 0.23277075487652957, 0.202061356720484, 0.18820719397990865, 0.2443346158032399, 0.26452696883672033, 0.25521092958310293, 0.23986856437061616, 0.23090919389100462, 0.21848995028370852, 0.2595468864202657, 0.25155386330089996, 0.1870013946332304, 0.24930001272366845, 0.28474762803502296, 0.2352603326271882, 0.2444377960631089, 0.22706867074756226, 0.2441061005044342, 0.2519982912285599, 0.18784664844540427, 0.37477738707728064, 0.20493578286363337, 0.2463480917209488, 0.21612741202070077, 0.23796171344961176, 0.23019210858261102, 0.23691518453544627, 0.18357992716790414, 0.24906022040083609, 0.3012732609059648, 0.1627853424080124, 0.3008973246711959, 0.22269213142276947, 0.2219109421785008, 0.2271592453081843, 0.26015405986222384, 0.2219720054444151], \"y\": [0.020806437407183458, 0.015600874416991395, 0.03543087928149222, 0.08002721212922587, 0.04712235330091028, 0.018110812092203114, 8.29891925576156e-05, 0.005084823277758355, 0.028106964292677106, 0.07555575103344367, 0.027293241179716217, 0.01276838491276226, 0.016417102865507672, 0.02313713711926713, 0.11225026184292547, 0.07589216110838097, 0.02982250928112397, 0.012059909510210232, 0.02781558921804613, 0.008625708911529778, 0.0, 0.06066065558233551, 0.00028201682485644617, 0.09113370090589559, 0.03952187004486062, 0.06977618254951058, 0.047526622874393826, 0.04041394065615656, 0.05956049663380889, 0.1125547726203922, 0.0029793985865713205, 0.013238834077212006, 0.041855302177941305, 0.0, 0.05569676592167338, 0.0077882252292136534, 0.0472837480808552, 0.0442065506036393, 0.039198349246682924], \"z\": [0.23965045000450017, 0.13518227976825029, 0.23284097992262676, 0.2518880383568996, 0.27842337658729666, 0.2385639813868724, 0.23631214882257484, 0.24063193295785776, 0.2329762552620027, 0.19450568882585964, 0.25519921114834637, 0.2286849266925523, 0.2330322760765175, 0.29086979855106704, 0.13945004386946794, 0.14050608904981662, 0.23585779218803476, 0.24446449388505728, 0.24608411404812391, 0.2482425589405238, 0.2489346793573608, 0.2524828990676015, 0.12595658584075478, 0.2049457918094349, 0.21515071736800248, 0.2150693137634405, 0.21547312009913747, 0.23032425430008102, 0.20452620337074212, 0.2049222725628137, 0.24889118665566606, 0.18642158437798237, 0.29633434267868103, 0.20000016904879095, 0.22257824437049312, 0.2712999265065523, 0.2264473752720933, 0.19659843911395525, 0.23998736753423316]}, {\"marker\": {\"opacity\": 0.8, \"size\": 2}, \"name\": \"True Front\", \"type\": \"scatter3d\", \"x\": [0.5, 0, 0, 0.5], \"y\": [0, 0.5, 0, 0], \"z\": [0, 0, 0.5, 0]}, {\"marker\": {\"opacity\": 0.8, \"size\": 4}, \"name\": \"Nadir Point\", \"type\": \"scatter3d\", \"x\": [0.5], \"y\": [0.5], \"z\": [0.5]}, {\"marker\": {\"opacity\": 0.8, \"size\": 4}, \"name\": \"Reference Point\", \"type\": \"scatter3d\", \"x\": [0.4], \"y\": [0.2], \"z\": [0.4]}, {\"line\": {\"width\": 10}, \"marker\": {\"opacity\": 0.8, \"size\": 2}, \"name\": \"STOM\", \"type\": \"scatter3d\", \"x\": [0, 0.4], \"y\": [0, 0.2], \"z\": [0, 0.4]}, {\"line\": {\"width\": 10}, \"marker\": {\"opacity\": 0.8, \"size\": 2}, \"name\": \"ASF\", \"type\": \"scatter3d\", \"x\": [-0.6, 1.4], \"y\": [-0.8, 1.2], \"z\": [-0.6, 1.4]}, {\"line\": {\"width\": 10}, \"marker\": {\"opacity\": 0.8, \"size\": 2}, \"name\": \"AUG\", \"type\": \"scatter3d\", \"x\": [-0.5, 0.4, 0.5], \"y\": [-2.5, 0.2, 0.5], \"z\": [-0.5, 0.4, 0.5]}, {\"marker\": {\"opacity\": 0.8, \"size\": 4}, \"name\": \"Ideal Point\", \"type\": \"scatter3d\", \"x\": [0], \"y\": [0], \"z\": [0]}],\n",
       "                        {\"margin\": {\"b\": 0, \"l\": 0, \"r\": 0, \"t\": 0}, \"scene\": {\"aspectratio\": {\"x\": 1, \"y\": 1, \"z\": 1}, \"xaxis\": {\"range\": [0, 0.6]}, \"yaxis\": {\"range\": [0, 0.6]}, \"zaxis\": {\"range\": [0, 0.6]}}, \"template\": {\"data\": {\"bar\": [{\"error_x\": {\"color\": \"#2a3f5f\"}, \"error_y\": {\"color\": \"#2a3f5f\"}, \"marker\": {\"line\": {\"color\": \"#E5ECF6\", \"width\": 0.5}}, \"type\": \"bar\"}], \"barpolar\": [{\"marker\": {\"line\": {\"color\": \"#E5ECF6\", \"width\": 0.5}}, \"type\": \"barpolar\"}], \"carpet\": [{\"aaxis\": {\"endlinecolor\": \"#2a3f5f\", \"gridcolor\": \"white\", \"linecolor\": \"white\", \"minorgridcolor\": \"white\", \"startlinecolor\": \"#2a3f5f\"}, \"baxis\": {\"endlinecolor\": \"#2a3f5f\", \"gridcolor\": \"white\", \"linecolor\": \"white\", \"minorgridcolor\": \"white\", \"startlinecolor\": \"#2a3f5f\"}, \"type\": \"carpet\"}], \"choropleth\": [{\"colorbar\": {\"outlinewidth\": 0, \"ticks\": \"\"}, \"type\": \"choropleth\"}], \"contour\": [{\"colorbar\": {\"outlinewidth\": 0, \"ticks\": \"\"}, \"colorscale\": [[0.0, \"#0d0887\"], [0.1111111111111111, \"#46039f\"], [0.2222222222222222, \"#7201a8\"], [0.3333333333333333, \"#9c179e\"], [0.4444444444444444, \"#bd3786\"], [0.5555555555555556, \"#d8576b\"], [0.6666666666666666, \"#ed7953\"], [0.7777777777777778, \"#fb9f3a\"], [0.8888888888888888, \"#fdca26\"], [1.0, \"#f0f921\"]], \"type\": \"contour\"}], \"contourcarpet\": [{\"colorbar\": {\"outlinewidth\": 0, \"ticks\": \"\"}, \"type\": \"contourcarpet\"}], \"heatmap\": [{\"colorbar\": {\"outlinewidth\": 0, \"ticks\": \"\"}, \"colorscale\": [[0.0, \"#0d0887\"], [0.1111111111111111, \"#46039f\"], [0.2222222222222222, \"#7201a8\"], [0.3333333333333333, \"#9c179e\"], [0.4444444444444444, \"#bd3786\"], [0.5555555555555556, \"#d8576b\"], [0.6666666666666666, \"#ed7953\"], [0.7777777777777778, \"#fb9f3a\"], [0.8888888888888888, \"#fdca26\"], [1.0, \"#f0f921\"]], \"type\": \"heatmap\"}], \"heatmapgl\": [{\"colorbar\": {\"outlinewidth\": 0, \"ticks\": \"\"}, \"colorscale\": [[0.0, \"#0d0887\"], [0.1111111111111111, \"#46039f\"], [0.2222222222222222, \"#7201a8\"], [0.3333333333333333, \"#9c179e\"], [0.4444444444444444, \"#bd3786\"], [0.5555555555555556, \"#d8576b\"], [0.6666666666666666, \"#ed7953\"], [0.7777777777777778, \"#fb9f3a\"], [0.8888888888888888, \"#fdca26\"], [1.0, \"#f0f921\"]], \"type\": \"heatmapgl\"}], \"histogram\": [{\"marker\": {\"colorbar\": {\"outlinewidth\": 0, \"ticks\": \"\"}}, \"type\": \"histogram\"}], \"histogram2d\": [{\"colorbar\": {\"outlinewidth\": 0, \"ticks\": \"\"}, \"colorscale\": [[0.0, \"#0d0887\"], [0.1111111111111111, \"#46039f\"], [0.2222222222222222, \"#7201a8\"], [0.3333333333333333, \"#9c179e\"], [0.4444444444444444, \"#bd3786\"], [0.5555555555555556, \"#d8576b\"], [0.6666666666666666, \"#ed7953\"], [0.7777777777777778, \"#fb9f3a\"], [0.8888888888888888, \"#fdca26\"], [1.0, \"#f0f921\"]], \"type\": \"histogram2d\"}], \"histogram2dcontour\": [{\"colorbar\": {\"outlinewidth\": 0, \"ticks\": \"\"}, \"colorscale\": [[0.0, \"#0d0887\"], [0.1111111111111111, \"#46039f\"], [0.2222222222222222, \"#7201a8\"], [0.3333333333333333, \"#9c179e\"], [0.4444444444444444, \"#bd3786\"], [0.5555555555555556, \"#d8576b\"], [0.6666666666666666, \"#ed7953\"], [0.7777777777777778, \"#fb9f3a\"], [0.8888888888888888, \"#fdca26\"], [1.0, \"#f0f921\"]], \"type\": \"histogram2dcontour\"}], \"mesh3d\": [{\"colorbar\": {\"outlinewidth\": 0, \"ticks\": \"\"}, \"type\": \"mesh3d\"}], \"parcoords\": [{\"line\": {\"colorbar\": {\"outlinewidth\": 0, \"ticks\": \"\"}}, \"type\": \"parcoords\"}], \"pie\": [{\"automargin\": true, \"type\": \"pie\"}], \"scatter\": [{\"marker\": {\"colorbar\": {\"outlinewidth\": 0, \"ticks\": \"\"}}, \"type\": \"scatter\"}], \"scatter3d\": [{\"line\": {\"colorbar\": {\"outlinewidth\": 0, \"ticks\": \"\"}}, \"marker\": {\"colorbar\": {\"outlinewidth\": 0, \"ticks\": \"\"}}, \"type\": \"scatter3d\"}], \"scattercarpet\": [{\"marker\": {\"colorbar\": {\"outlinewidth\": 0, \"ticks\": \"\"}}, \"type\": \"scattercarpet\"}], \"scattergeo\": [{\"marker\": {\"colorbar\": {\"outlinewidth\": 0, \"ticks\": \"\"}}, \"type\": \"scattergeo\"}], \"scattergl\": [{\"marker\": {\"colorbar\": {\"outlinewidth\": 0, \"ticks\": \"\"}}, \"type\": \"scattergl\"}], \"scattermapbox\": [{\"marker\": {\"colorbar\": {\"outlinewidth\": 0, \"ticks\": \"\"}}, \"type\": \"scattermapbox\"}], \"scatterpolar\": [{\"marker\": {\"colorbar\": {\"outlinewidth\": 0, \"ticks\": \"\"}}, \"type\": \"scatterpolar\"}], \"scatterpolargl\": [{\"marker\": {\"colorbar\": {\"outlinewidth\": 0, \"ticks\": \"\"}}, \"type\": \"scatterpolargl\"}], \"scatterternary\": [{\"marker\": {\"colorbar\": {\"outlinewidth\": 0, \"ticks\": \"\"}}, \"type\": \"scatterternary\"}], \"surface\": [{\"colorbar\": {\"outlinewidth\": 0, \"ticks\": \"\"}, \"colorscale\": [[0.0, \"#0d0887\"], [0.1111111111111111, \"#46039f\"], [0.2222222222222222, \"#7201a8\"], [0.3333333333333333, \"#9c179e\"], [0.4444444444444444, \"#bd3786\"], [0.5555555555555556, \"#d8576b\"], [0.6666666666666666, \"#ed7953\"], [0.7777777777777778, \"#fb9f3a\"], [0.8888888888888888, \"#fdca26\"], [1.0, \"#f0f921\"]], \"type\": \"surface\"}], \"table\": [{\"cells\": {\"fill\": {\"color\": \"#EBF0F8\"}, \"line\": {\"color\": \"white\"}}, \"header\": {\"fill\": {\"color\": \"#C8D4E3\"}, \"line\": {\"color\": \"white\"}}, \"type\": \"table\"}]}, \"layout\": {\"annotationdefaults\": {\"arrowcolor\": \"#2a3f5f\", \"arrowhead\": 0, \"arrowwidth\": 1}, \"coloraxis\": {\"colorbar\": {\"outlinewidth\": 0, \"ticks\": \"\"}}, \"colorscale\": {\"diverging\": [[0, \"#8e0152\"], [0.1, \"#c51b7d\"], [0.2, \"#de77ae\"], [0.3, \"#f1b6da\"], [0.4, \"#fde0ef\"], [0.5, \"#f7f7f7\"], [0.6, \"#e6f5d0\"], [0.7, \"#b8e186\"], [0.8, \"#7fbc41\"], [0.9, \"#4d9221\"], [1, \"#276419\"]], \"sequential\": [[0.0, \"#0d0887\"], [0.1111111111111111, \"#46039f\"], [0.2222222222222222, \"#7201a8\"], [0.3333333333333333, \"#9c179e\"], [0.4444444444444444, \"#bd3786\"], [0.5555555555555556, \"#d8576b\"], [0.6666666666666666, \"#ed7953\"], [0.7777777777777778, \"#fb9f3a\"], [0.8888888888888888, \"#fdca26\"], [1.0, \"#f0f921\"]], \"sequentialminus\": [[0.0, \"#0d0887\"], [0.1111111111111111, \"#46039f\"], [0.2222222222222222, \"#7201a8\"], [0.3333333333333333, \"#9c179e\"], [0.4444444444444444, \"#bd3786\"], [0.5555555555555556, \"#d8576b\"], [0.6666666666666666, \"#ed7953\"], [0.7777777777777778, \"#fb9f3a\"], [0.8888888888888888, \"#fdca26\"], [1.0, \"#f0f921\"]]}, \"colorway\": [\"#636efa\", \"#EF553B\", \"#00cc96\", \"#ab63fa\", \"#FFA15A\", \"#19d3f3\", \"#FF6692\", \"#B6E880\", \"#FF97FF\", \"#FECB52\"], \"font\": {\"color\": \"#2a3f5f\"}, \"geo\": {\"bgcolor\": \"white\", \"lakecolor\": \"white\", \"landcolor\": \"#E5ECF6\", \"showlakes\": true, \"showland\": true, \"subunitcolor\": \"white\"}, \"hoverlabel\": {\"align\": \"left\"}, \"hovermode\": \"closest\", \"mapbox\": {\"style\": \"light\"}, \"paper_bgcolor\": \"white\", \"plot_bgcolor\": \"#E5ECF6\", \"polar\": {\"angularaxis\": {\"gridcolor\": \"white\", \"linecolor\": \"white\", \"ticks\": \"\"}, \"bgcolor\": \"#E5ECF6\", \"radialaxis\": {\"gridcolor\": \"white\", \"linecolor\": \"white\", \"ticks\": \"\"}}, \"scene\": {\"xaxis\": {\"backgroundcolor\": \"#E5ECF6\", \"gridcolor\": \"white\", \"gridwidth\": 2, \"linecolor\": \"white\", \"showbackground\": true, \"ticks\": \"\", \"zerolinecolor\": \"white\"}, \"yaxis\": {\"backgroundcolor\": \"#E5ECF6\", \"gridcolor\": \"white\", \"gridwidth\": 2, \"linecolor\": \"white\", \"showbackground\": true, \"ticks\": \"\", \"zerolinecolor\": \"white\"}, \"zaxis\": {\"backgroundcolor\": \"#E5ECF6\", \"gridcolor\": \"white\", \"gridwidth\": 2, \"linecolor\": \"white\", \"showbackground\": true, \"ticks\": \"\", \"zerolinecolor\": \"white\"}}, \"shapedefaults\": {\"line\": {\"color\": \"#2a3f5f\"}}, \"ternary\": {\"aaxis\": {\"gridcolor\": \"white\", \"linecolor\": \"white\", \"ticks\": \"\"}, \"baxis\": {\"gridcolor\": \"white\", \"linecolor\": \"white\", \"ticks\": \"\"}, \"bgcolor\": \"#E5ECF6\", \"caxis\": {\"gridcolor\": \"white\", \"linecolor\": \"white\", \"ticks\": \"\"}}, \"title\": {\"x\": 0.05}, \"xaxis\": {\"automargin\": true, \"gridcolor\": \"white\", \"linecolor\": \"white\", \"ticks\": \"\", \"title\": {\"standoff\": 15}, \"zerolinecolor\": \"white\", \"zerolinewidth\": 2}, \"yaxis\": {\"automargin\": true, \"gridcolor\": \"white\", \"linecolor\": \"white\", \"ticks\": \"\", \"title\": {\"standoff\": 15}, \"zerolinecolor\": \"white\", \"zerolinewidth\": 2}}}},\n",
       "                        {\"responsive\": true}\n",
       "                    ).then(function(){\n",
       "                            \n",
       "var gd = document.getElementById('84c7cb34-5eb9-44ef-973c-040c75e9b6df');\n",
       "var x = new MutationObserver(function (mutations, observer) {{\n",
       "        var display = window.getComputedStyle(gd).display;\n",
       "        if (!display || display === 'none') {{\n",
       "            console.log([gd, 'removed!']);\n",
       "            Plotly.purge(gd);\n",
       "            observer.disconnect();\n",
       "        }}\n",
       "}});\n",
       "\n",
       "// Listen for the removal of the full notebook cells\n",
       "var notebookContainer = gd.closest('#notebook-container');\n",
       "if (notebookContainer) {{\n",
       "    x.observe(notebookContainer, {childList: true});\n",
       "}}\n",
       "\n",
       "// Listen for the clearing of the current output cell\n",
       "var outputEl = gd.closest('.output');\n",
       "if (outputEl) {{\n",
       "    x.observe(outputEl, {childList: true});\n",
       "}}\n",
       "\n",
       "                        })\n",
       "                };\n",
       "                });\n",
       "            </script>\n",
       "        </div>"
      ]
     },
     "metadata": {},
     "output_type": "display_data"
    }
   ],
   "source": [
    "fig = plot3d(plot, response)\n",
    "fig"
   ]
  },
  {
   "cell_type": "code",
   "execution_count": 156,
   "metadata": {},
   "outputs": [],
   "source": [
    "def plot3d(plot_file, response):\n",
    "    # NIMBUSEA\n",
    "    obj = plot.content['data'].values\n",
    "    non_dom_id = nds(obj)[0][0]\n",
    "    fig = go.Figure(\n",
    "        go.Scatter3d(\n",
    "            x=obj[non_dom_id, 0],\n",
    "            y=obj[non_dom_id, 1],\n",
    "            z=obj[non_dom_id, 2],\n",
    "            name=\"NIMBUS-RVEA\",\n",
    "            mode='markers',\n",
    "            marker=dict(\n",
    "            size=4,\n",
    "            opacity=0.8\n",
    "        )\n",
    "        )\n",
    "    )\n",
    "\n",
    "    #True Front\n",
    "    fig.add_trace(\n",
    "        go.Scatter3d(\n",
    "            x=[0.5, 0, 0, 0.5],\n",
    "            y=[0, 0.5, 0, 0],\n",
    "            z=[0, 0, 0.5, 0],\n",
    "            name=\"True Front\",\n",
    "            marker=dict(\n",
    "            size=2,\n",
    "            opacity=0.8\n",
    "        )\n",
    "        )\n",
    "    )\n",
    "\n",
    "    #Nadir Point\n",
    "    fig.add_trace(\n",
    "        go.Scatter3d(\n",
    "            x=[0.5],\n",
    "            y=[0.5],\n",
    "            z=[0.5],\n",
    "            name=\"Nadir Point\",\n",
    "            marker=dict(\n",
    "            size=4,\n",
    "            opacity=0.8\n",
    "        )\n",
    "        )\n",
    "    )\n",
    "\n",
    "\n",
    "\n",
    "    # Reference Point\n",
    "\n",
    "    fig.add_trace(\n",
    "        go.Scatter3d(\n",
    "            x=[response[0,0]],\n",
    "            y=[response[0,1]],\n",
    "            z=[response[0,2]],\n",
    "            name=\"Reference Point\",\n",
    "            marker=dict(\n",
    "            size=4,\n",
    "            opacity=0.8\n",
    "        )\n",
    "        )\n",
    "    )\n",
    "\n",
    "    # STOM\n",
    "\n",
    "    fig.add_trace(\n",
    "        go.Scatter3d(\n",
    "            x=[0, response[0,0]],\n",
    "            y=[0, response[0,1]],\n",
    "            z=[0, response[0,2]],\n",
    "            name=\"STOM\",\n",
    "            marker=dict(\n",
    "            size=2,\n",
    "            opacity=0.8\n",
    "        ),\n",
    "            line=dict(width=10)\n",
    "        )\n",
    "    )\n",
    "\n",
    "    #ASF\n",
    "\n",
    "    fig.add_trace(\n",
    "        go.Scatter3d(\n",
    "            x=[response[0,0]-1, response[0,0]+1],\n",
    "            y=[response[0,1]-1, response[0,1]+1],\n",
    "            z=[response[0,2]-1, response[0,2]+1],\n",
    "            name=\"ASF\",\n",
    "            marker=dict(\n",
    "            size=2,\n",
    "            opacity=0.8\n",
    "        ),\n",
    "            line=dict(width=10)\n",
    "        )\n",
    "    )\n",
    "    #AUG\n",
    "\n",
    "    fig.add_trace(\n",
    "        go.Scatter3d(\n",
    "            x=[10*response[0,0] - 9*0.5,response[0,0], 0.5],\n",
    "            y=[10*response[0,1] - 9*0.5,response[0,1], 0.5],\n",
    "            z=[10*response[0,2] - 9*0.5,response[0,2], 0.5],\n",
    "            name=\"AUG\",\n",
    "            marker=dict(\n",
    "            size=2,\n",
    "            opacity=0.8\n",
    "        ),\n",
    "            line=dict(width=10)\n",
    "        )\n",
    "    )\n",
    "\n",
    "    # Ideal Point\n",
    "    fig.add_trace(\n",
    "        go.Scatter3d(\n",
    "            x=[0],\n",
    "            y=[0],\n",
    "            z=[0],\n",
    "            name=\"Ideal Point\",\n",
    "            marker=dict(\n",
    "            size=4,\n",
    "            opacity=0.8\n",
    "        )\n",
    "        )\n",
    "    )\n",
    "\n",
    "    fig.update_layout(\n",
    "        scene = dict(\n",
    "            xaxis = dict(range=[0,0.6],),\n",
    "            yaxis = dict(range=[0,0.6],),\n",
    "            zaxis = dict(range=[0,0.6],),\n",
    "            aspectratio=dict(x=1,y=1,z=1))\n",
    "                     )\n",
    "    fig.update_layout(margin=dict(l=0, r=0, b=0, t=0))\n",
    "    return fig\n",
    "    "
   ]
  },
  {
   "cell_type": "code",
   "execution_count": null,
   "metadata": {},
   "outputs": [],
   "source": [
    "prob_dtlz2 = test_problem_builder(name=\"DTLZ2\", n_of_objectives=3, n_of_variables=5)\n",
    "problem.ideal = np.asarray([0, 0, 0])\n",
    "problem.nadir = np.asarray([1, 1, 1])"
   ]
  },
  {
   "cell_type": "code",
   "execution_count": 161,
   "metadata": {},
   "outputs": [],
   "source": [
    "from plotly.offline import plot"
   ]
  },
  {
   "cell_type": "code",
   "execution_count": 162,
   "metadata": {},
   "outputs": [
    {
     "name": "stderr",
     "output_type": "stream",
     "text": [
      "/home/bssainix/.virtualenvs/desdeo_emo/lib/python3.7/site-packages/plotly/offline/offline.py:563: UserWarning:\n",
      "\n",
      "Your filename `DTLZ1` didn't end with .html. Adding .html to the end of your file.\n",
      "\n"
     ]
    },
    {
     "data": {
      "text/plain": [
       "'DTLZ1.html'"
      ]
     },
     "execution_count": 162,
     "metadata": {},
     "output_type": "execute_result"
    }
   ],
   "source": [
    "plot(fig, filename=\"DTLZ1\")"
   ]
  },
  {
   "cell_type": "code",
   "execution_count": null,
   "metadata": {},
   "outputs": [],
   "source": []
  }
 ],
 "metadata": {
  "kernelspec": {
   "display_name": "desdeo_emo",
   "language": "python",
   "name": "desdeo_emo"
  },
  "language_info": {
   "codemirror_mode": {
    "name": "ipython",
    "version": 3
   },
   "file_extension": ".py",
   "mimetype": "text/x-python",
   "name": "python",
   "nbconvert_exporter": "python",
   "pygments_lexer": "ipython3",
   "version": "3.7.1"
  }
 },
 "nbformat": 4,
 "nbformat_minor": 2
}
