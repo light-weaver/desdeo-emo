{
 "cells": [
  {
   "cell_type": "code",
   "execution_count": 1,
   "metadata": {},
   "outputs": [],
   "source": [
    "import sys, os\n",
    "sys.path.insert(0, os.path.dirname(os.path.abspath('../desdeo_emo')))\n",
    "%matplotlib notebook"
   ]
  },
  {
   "cell_type": "code",
   "execution_count": 2,
   "metadata": {},
   "outputs": [],
   "source": [
    "import numpy as np\n",
    "import pandas as pd\n",
    "\n",
    "from desdeo_problem.testproblems.TestProblems import test_problem_builder\n",
    "dev\n",
    "from desdeo_emo.EAs.NIMBUS_RVEA import NIMBUS_RVEA"
   ]
  },
  {
   "cell_type": "code",
   "execution_count": 3,
   "metadata": {},
   "outputs": [],
   "source": [
    "import matplotlib.pyplot as plt"
   ]
  },
  {
   "cell_type": "code",
   "execution_count": 4,
   "metadata": {},
   "outputs": [],
   "source": [
    "problem = test_problem_builder(name=\"ZDT1\")"
   ]
  },
  {
   "cell_type": "code",
   "execution_count": 5,
   "metadata": {},
   "outputs": [],
   "source": [
    "problem.ideal = np.asarray([0, 0])\n",
    "problem.nadir = np.asarray([1, 1])"
   ]
  },
  {
   "cell_type": "code",
   "execution_count": 6,
   "metadata": {},
   "outputs": [],
   "source": [
    "evolver = NIMBUS_RVEA(problem, n_gen_per_iter=700)"
   ]
  },
  {
   "cell_type": "code",
   "execution_count": 7,
   "metadata": {},
   "outputs": [],
   "source": [
    "plot, pref = evolver.requests()"
   ]
  },
  {
   "cell_type": "code",
   "execution_count": 8,
   "metadata": {},
   "outputs": [],
   "source": [
    "response = np.asarray([[0.1,0.9]])\n",
    "pref.response = pd.DataFrame(response, columns=pref.content['dimensions_data'].columns)"
   ]
  },
  {
   "cell_type": "code",
   "execution_count": 9,
   "metadata": {},
   "outputs": [],
   "source": [
    "plot, pref = evolver.iterate(pref)"
   ]
  },
  {
   "cell_type": "code",
   "execution_count": 12,
   "metadata": {},
   "outputs": [
    {
     "data": {
      "application/javascript": [
       "/* Put everything inside the global mpl namespace */\n",
       "window.mpl = {};\n",
       "\n",
       "\n",
       "mpl.get_websocket_type = function() {\n",
       "    if (typeof(WebSocket) !== 'undefined') {\n",
       "        return WebSocket;\n",
       "    } else if (typeof(MozWebSocket) !== 'undefined') {\n",
       "        return MozWebSocket;\n",
       "    } else {\n",
       "        alert('Your browser does not have WebSocket support. ' +\n",
       "              'Please try Chrome, Safari or Firefox ≥ 6. ' +\n",
       "              'Firefox 4 and 5 are also supported but you ' +\n",
       "              'have to enable WebSockets in about:config.');\n",
       "    };\n",
       "}\n",
       "\n",
       "mpl.figure = function(figure_id, websocket, ondownload, parent_element) {\n",
       "    this.id = figure_id;\n",
       "\n",
       "    this.ws = websocket;\n",
       "\n",
       "    this.supports_binary = (this.ws.binaryType != undefined);\n",
       "\n",
       "    if (!this.supports_binary) {\n",
       "        var warnings = document.getElementById(\"mpl-warnings\");\n",
       "        if (warnings) {\n",
       "            warnings.style.display = 'block';\n",
       "            warnings.textContent = (\n",
       "                \"This browser does not support binary websocket messages. \" +\n",
       "                    \"Performance may be slow.\");\n",
       "        }\n",
       "    }\n",
       "\n",
       "    this.imageObj = new Image();\n",
       "\n",
       "    this.context = undefined;\n",
       "    this.message = undefined;\n",
       "    this.canvas = undefined;\n",
       "    this.rubberband_canvas = undefined;\n",
       "    this.rubberband_context = undefined;\n",
       "    this.format_dropdown = undefined;\n",
       "\n",
       "    this.image_mode = 'full';\n",
       "\n",
       "    this.root = $('<div/>');\n",
       "    this._root_extra_style(this.root)\n",
       "    this.root.attr('style', 'display: inline-block');\n",
       "\n",
       "    $(parent_element).append(this.root);\n",
       "\n",
       "    this._init_header(this);\n",
       "    this._init_canvas(this);\n",
       "    this._init_toolbar(this);\n",
       "\n",
       "    var fig = this;\n",
       "\n",
       "    this.waiting = false;\n",
       "\n",
       "    this.ws.onopen =  function () {\n",
       "            fig.send_message(\"supports_binary\", {value: fig.supports_binary});\n",
       "            fig.send_message(\"send_image_mode\", {});\n",
       "            if (mpl.ratio != 1) {\n",
       "                fig.send_message(\"set_dpi_ratio\", {'dpi_ratio': mpl.ratio});\n",
       "            }\n",
       "            fig.send_message(\"refresh\", {});\n",
       "        }\n",
       "\n",
       "    this.imageObj.onload = function() {\n",
       "            if (fig.image_mode == 'full') {\n",
       "                // Full images could contain transparency (where diff images\n",
       "                // almost always do), so we need to clear the canvas so that\n",
       "                // there is no ghosting.\n",
       "                fig.context.clearRect(0, 0, fig.canvas.width, fig.canvas.height);\n",
       "            }\n",
       "            fig.context.drawImage(fig.imageObj, 0, 0);\n",
       "        };\n",
       "\n",
       "    this.imageObj.onunload = function() {\n",
       "        fig.ws.close();\n",
       "    }\n",
       "\n",
       "    this.ws.onmessage = this._make_on_message_function(this);\n",
       "\n",
       "    this.ondownload = ondownload;\n",
       "}\n",
       "\n",
       "mpl.figure.prototype._init_header = function() {\n",
       "    var titlebar = $(\n",
       "        '<div class=\"ui-dialog-titlebar ui-widget-header ui-corner-all ' +\n",
       "        'ui-helper-clearfix\"/>');\n",
       "    var titletext = $(\n",
       "        '<div class=\"ui-dialog-title\" style=\"width: 100%; ' +\n",
       "        'text-align: center; padding: 3px;\"/>');\n",
       "    titlebar.append(titletext)\n",
       "    this.root.append(titlebar);\n",
       "    this.header = titletext[0];\n",
       "}\n",
       "\n",
       "\n",
       "\n",
       "mpl.figure.prototype._canvas_extra_style = function(canvas_div) {\n",
       "\n",
       "}\n",
       "\n",
       "\n",
       "mpl.figure.prototype._root_extra_style = function(canvas_div) {\n",
       "\n",
       "}\n",
       "\n",
       "mpl.figure.prototype._init_canvas = function() {\n",
       "    var fig = this;\n",
       "\n",
       "    var canvas_div = $('<div/>');\n",
       "\n",
       "    canvas_div.attr('style', 'position: relative; clear: both; outline: 0');\n",
       "\n",
       "    function canvas_keyboard_event(event) {\n",
       "        return fig.key_event(event, event['data']);\n",
       "    }\n",
       "\n",
       "    canvas_div.keydown('key_press', canvas_keyboard_event);\n",
       "    canvas_div.keyup('key_release', canvas_keyboard_event);\n",
       "    this.canvas_div = canvas_div\n",
       "    this._canvas_extra_style(canvas_div)\n",
       "    this.root.append(canvas_div);\n",
       "\n",
       "    var canvas = $('<canvas/>');\n",
       "    canvas.addClass('mpl-canvas');\n",
       "    canvas.attr('style', \"left: 0; top: 0; z-index: 0; outline: 0\")\n",
       "\n",
       "    this.canvas = canvas[0];\n",
       "    this.context = canvas[0].getContext(\"2d\");\n",
       "\n",
       "    var backingStore = this.context.backingStorePixelRatio ||\n",
       "\tthis.context.webkitBackingStorePixelRatio ||\n",
       "\tthis.context.mozBackingStorePixelRatio ||\n",
       "\tthis.context.msBackingStorePixelRatio ||\n",
       "\tthis.context.oBackingStorePixelRatio ||\n",
       "\tthis.context.backingStorePixelRatio || 1;\n",
       "\n",
       "    mpl.ratio = (window.devicePixelRatio || 1) / backingStore;\n",
       "\n",
       "    var rubberband = $('<canvas/>');\n",
       "    rubberband.attr('style', \"position: absolute; left: 0; top: 0; z-index: 1;\")\n",
       "\n",
       "    var pass_mouse_events = true;\n",
       "\n",
       "    canvas_div.resizable({\n",
       "        start: function(event, ui) {\n",
       "            pass_mouse_events = false;\n",
       "        },\n",
       "        resize: function(event, ui) {\n",
       "            fig.request_resize(ui.size.width, ui.size.height);\n",
       "        },\n",
       "        stop: function(event, ui) {\n",
       "            pass_mouse_events = true;\n",
       "            fig.request_resize(ui.size.width, ui.size.height);\n",
       "        },\n",
       "    });\n",
       "\n",
       "    function mouse_event_fn(event) {\n",
       "        if (pass_mouse_events)\n",
       "            return fig.mouse_event(event, event['data']);\n",
       "    }\n",
       "\n",
       "    rubberband.mousedown('button_press', mouse_event_fn);\n",
       "    rubberband.mouseup('button_release', mouse_event_fn);\n",
       "    // Throttle sequential mouse events to 1 every 20ms.\n",
       "    rubberband.mousemove('motion_notify', mouse_event_fn);\n",
       "\n",
       "    rubberband.mouseenter('figure_enter', mouse_event_fn);\n",
       "    rubberband.mouseleave('figure_leave', mouse_event_fn);\n",
       "\n",
       "    canvas_div.on(\"wheel\", function (event) {\n",
       "        event = event.originalEvent;\n",
       "        event['data'] = 'scroll'\n",
       "        if (event.deltaY < 0) {\n",
       "            event.step = 1;\n",
       "        } else {\n",
       "            event.step = -1;\n",
       "        }\n",
       "        mouse_event_fn(event);\n",
       "    });\n",
       "\n",
       "    canvas_div.append(canvas);\n",
       "    canvas_div.append(rubberband);\n",
       "\n",
       "    this.rubberband = rubberband;\n",
       "    this.rubberband_canvas = rubberband[0];\n",
       "    this.rubberband_context = rubberband[0].getContext(\"2d\");\n",
       "    this.rubberband_context.strokeStyle = \"#000000\";\n",
       "\n",
       "    this._resize_canvas = function(width, height) {\n",
       "        // Keep the size of the canvas, canvas container, and rubber band\n",
       "        // canvas in synch.\n",
       "        canvas_div.css('width', width)\n",
       "        canvas_div.css('height', height)\n",
       "\n",
       "        canvas.attr('width', width * mpl.ratio);\n",
       "        canvas.attr('height', height * mpl.ratio);\n",
       "        canvas.attr('style', 'width: ' + width + 'px; height: ' + height + 'px;');\n",
       "\n",
       "        rubberband.attr('width', width);\n",
       "        rubberband.attr('height', height);\n",
       "    }\n",
       "\n",
       "    // Set the figure to an initial 600x600px, this will subsequently be updated\n",
       "    // upon first draw.\n",
       "    this._resize_canvas(600, 600);\n",
       "\n",
       "    // Disable right mouse context menu.\n",
       "    $(this.rubberband_canvas).bind(\"contextmenu\",function(e){\n",
       "        return false;\n",
       "    });\n",
       "\n",
       "    function set_focus () {\n",
       "        canvas.focus();\n",
       "        canvas_div.focus();\n",
       "    }\n",
       "\n",
       "    window.setTimeout(set_focus, 100);\n",
       "}\n",
       "\n",
       "mpl.figure.prototype._init_toolbar = function() {\n",
       "    var fig = this;\n",
       "\n",
       "    var nav_element = $('<div/>');\n",
       "    nav_element.attr('style', 'width: 100%');\n",
       "    this.root.append(nav_element);\n",
       "\n",
       "    // Define a callback function for later on.\n",
       "    function toolbar_event(event) {\n",
       "        return fig.toolbar_button_onclick(event['data']);\n",
       "    }\n",
       "    function toolbar_mouse_event(event) {\n",
       "        return fig.toolbar_button_onmouseover(event['data']);\n",
       "    }\n",
       "\n",
       "    for(var toolbar_ind in mpl.toolbar_items) {\n",
       "        var name = mpl.toolbar_items[toolbar_ind][0];\n",
       "        var tooltip = mpl.toolbar_items[toolbar_ind][1];\n",
       "        var image = mpl.toolbar_items[toolbar_ind][2];\n",
       "        var method_name = mpl.toolbar_items[toolbar_ind][3];\n",
       "\n",
       "        if (!name) {\n",
       "            // put a spacer in here.\n",
       "            continue;\n",
       "        }\n",
       "        var button = $('<button/>');\n",
       "        button.addClass('ui-button ui-widget ui-state-default ui-corner-all ' +\n",
       "                        'ui-button-icon-only');\n",
       "        button.attr('role', 'button');\n",
       "        button.attr('aria-disabled', 'false');\n",
       "        button.click(method_name, toolbar_event);\n",
       "        button.mouseover(tooltip, toolbar_mouse_event);\n",
       "\n",
       "        var icon_img = $('<span/>');\n",
       "        icon_img.addClass('ui-button-icon-primary ui-icon');\n",
       "        icon_img.addClass(image);\n",
       "        icon_img.addClass('ui-corner-all');\n",
       "\n",
       "        var tooltip_span = $('<span/>');\n",
       "        tooltip_span.addClass('ui-button-text');\n",
       "        tooltip_span.html(tooltip);\n",
       "\n",
       "        button.append(icon_img);\n",
       "        button.append(tooltip_span);\n",
       "\n",
       "        nav_element.append(button);\n",
       "    }\n",
       "\n",
       "    var fmt_picker_span = $('<span/>');\n",
       "\n",
       "    var fmt_picker = $('<select/>');\n",
       "    fmt_picker.addClass('mpl-toolbar-option ui-widget ui-widget-content');\n",
       "    fmt_picker_span.append(fmt_picker);\n",
       "    nav_element.append(fmt_picker_span);\n",
       "    this.format_dropdown = fmt_picker[0];\n",
       "\n",
       "    for (var ind in mpl.extensions) {\n",
       "        var fmt = mpl.extensions[ind];\n",
       "        var option = $(\n",
       "            '<option/>', {selected: fmt === mpl.default_extension}).html(fmt);\n",
       "        fmt_picker.append(option);\n",
       "    }\n",
       "\n",
       "    // Add hover states to the ui-buttons\n",
       "    $( \".ui-button\" ).hover(\n",
       "        function() { $(this).addClass(\"ui-state-hover\");},\n",
       "        function() { $(this).removeClass(\"ui-state-hover\");}\n",
       "    );\n",
       "\n",
       "    var status_bar = $('<span class=\"mpl-message\"/>');\n",
       "    nav_element.append(status_bar);\n",
       "    this.message = status_bar[0];\n",
       "}\n",
       "\n",
       "mpl.figure.prototype.request_resize = function(x_pixels, y_pixels) {\n",
       "    // Request matplotlib to resize the figure. Matplotlib will then trigger a resize in the client,\n",
       "    // which will in turn request a refresh of the image.\n",
       "    this.send_message('resize', {'width': x_pixels, 'height': y_pixels});\n",
       "}\n",
       "\n",
       "mpl.figure.prototype.send_message = function(type, properties) {\n",
       "    properties['type'] = type;\n",
       "    properties['figure_id'] = this.id;\n",
       "    this.ws.send(JSON.stringify(properties));\n",
       "}\n",
       "\n",
       "mpl.figure.prototype.send_draw_message = function() {\n",
       "    if (!this.waiting) {\n",
       "        this.waiting = true;\n",
       "        this.ws.send(JSON.stringify({type: \"draw\", figure_id: this.id}));\n",
       "    }\n",
       "}\n",
       "\n",
       "\n",
       "mpl.figure.prototype.handle_save = function(fig, msg) {\n",
       "    var format_dropdown = fig.format_dropdown;\n",
       "    var format = format_dropdown.options[format_dropdown.selectedIndex].value;\n",
       "    fig.ondownload(fig, format);\n",
       "}\n",
       "\n",
       "\n",
       "mpl.figure.prototype.handle_resize = function(fig, msg) {\n",
       "    var size = msg['size'];\n",
       "    if (size[0] != fig.canvas.width || size[1] != fig.canvas.height) {\n",
       "        fig._resize_canvas(size[0], size[1]);\n",
       "        fig.send_message(\"refresh\", {});\n",
       "    };\n",
       "}\n",
       "\n",
       "mpl.figure.prototype.handle_rubberband = function(fig, msg) {\n",
       "    var x0 = msg['x0'] / mpl.ratio;\n",
       "    var y0 = (fig.canvas.height - msg['y0']) / mpl.ratio;\n",
       "    var x1 = msg['x1'] / mpl.ratio;\n",
       "    var y1 = (fig.canvas.height - msg['y1']) / mpl.ratio;\n",
       "    x0 = Math.floor(x0) + 0.5;\n",
       "    y0 = Math.floor(y0) + 0.5;\n",
       "    x1 = Math.floor(x1) + 0.5;\n",
       "    y1 = Math.floor(y1) + 0.5;\n",
       "    var min_x = Math.min(x0, x1);\n",
       "    var min_y = Math.min(y0, y1);\n",
       "    var width = Math.abs(x1 - x0);\n",
       "    var height = Math.abs(y1 - y0);\n",
       "\n",
       "    fig.rubberband_context.clearRect(\n",
       "        0, 0, fig.canvas.width / mpl.ratio, fig.canvas.height / mpl.ratio);\n",
       "\n",
       "    fig.rubberband_context.strokeRect(min_x, min_y, width, height);\n",
       "}\n",
       "\n",
       "mpl.figure.prototype.handle_figure_label = function(fig, msg) {\n",
       "    // Updates the figure title.\n",
       "    fig.header.textContent = msg['label'];\n",
       "}\n",
       "\n",
       "mpl.figure.prototype.handle_cursor = function(fig, msg) {\n",
       "    var cursor = msg['cursor'];\n",
       "    switch(cursor)\n",
       "    {\n",
       "    case 0:\n",
       "        cursor = 'pointer';\n",
       "        break;\n",
       "    case 1:\n",
       "        cursor = 'default';\n",
       "        break;\n",
       "    case 2:\n",
       "        cursor = 'crosshair';\n",
       "        break;\n",
       "    case 3:\n",
       "        cursor = 'move';\n",
       "        break;\n",
       "    }\n",
       "    fig.rubberband_canvas.style.cursor = cursor;\n",
       "}\n",
       "\n",
       "mpl.figure.prototype.handle_message = function(fig, msg) {\n",
       "    fig.message.textContent = msg['message'];\n",
       "}\n",
       "\n",
       "mpl.figure.prototype.handle_draw = function(fig, msg) {\n",
       "    // Request the server to send over a new figure.\n",
       "    fig.send_draw_message();\n",
       "}\n",
       "\n",
       "mpl.figure.prototype.handle_image_mode = function(fig, msg) {\n",
       "    fig.image_mode = msg['mode'];\n",
       "}\n",
       "\n",
       "mpl.figure.prototype.updated_canvas_event = function() {\n",
       "    // Called whenever the canvas gets updated.\n",
       "    this.send_message(\"ack\", {});\n",
       "}\n",
       "\n",
       "// A function to construct a web socket function for onmessage handling.\n",
       "// Called in the figure constructor.\n",
       "mpl.figure.prototype._make_on_message_function = function(fig) {\n",
       "    return function socket_on_message(evt) {\n",
       "        if (evt.data instanceof Blob) {\n",
       "            /* FIXME: We get \"Resource interpreted as Image but\n",
       "             * transferred with MIME type text/plain:\" errors on\n",
       "             * Chrome.  But how to set the MIME type?  It doesn't seem\n",
       "             * to be part of the websocket stream */\n",
       "            evt.data.type = \"image/png\";\n",
       "\n",
       "            /* Free the memory for the previous frames */\n",
       "            if (fig.imageObj.src) {\n",
       "                (window.URL || window.webkitURL).revokeObjectURL(\n",
       "                    fig.imageObj.src);\n",
       "            }\n",
       "\n",
       "            fig.imageObj.src = (window.URL || window.webkitURL).createObjectURL(\n",
       "                evt.data);\n",
       "            fig.updated_canvas_event();\n",
       "            fig.waiting = false;\n",
       "            return;\n",
       "        }\n",
       "        else if (typeof evt.data === 'string' && evt.data.slice(0, 21) == \"data:image/png;base64\") {\n",
       "            fig.imageObj.src = evt.data;\n",
       "            fig.updated_canvas_event();\n",
       "            fig.waiting = false;\n",
       "            return;\n",
       "        }\n",
       "\n",
       "        var msg = JSON.parse(evt.data);\n",
       "        var msg_type = msg['type'];\n",
       "\n",
       "        // Call the  \"handle_{type}\" callback, which takes\n",
       "        // the figure and JSON message as its only arguments.\n",
       "        try {\n",
       "            var callback = fig[\"handle_\" + msg_type];\n",
       "        } catch (e) {\n",
       "            console.log(\"No handler for the '\" + msg_type + \"' message type: \", msg);\n",
       "            return;\n",
       "        }\n",
       "\n",
       "        if (callback) {\n",
       "            try {\n",
       "                // console.log(\"Handling '\" + msg_type + \"' message: \", msg);\n",
       "                callback(fig, msg);\n",
       "            } catch (e) {\n",
       "                console.log(\"Exception inside the 'handler_\" + msg_type + \"' callback:\", e, e.stack, msg);\n",
       "            }\n",
       "        }\n",
       "    };\n",
       "}\n",
       "\n",
       "// from http://stackoverflow.com/questions/1114465/getting-mouse-location-in-canvas\n",
       "mpl.findpos = function(e) {\n",
       "    //this section is from http://www.quirksmode.org/js/events_properties.html\n",
       "    var targ;\n",
       "    if (!e)\n",
       "        e = window.event;\n",
       "    if (e.target)\n",
       "        targ = e.target;\n",
       "    else if (e.srcElement)\n",
       "        targ = e.srcElement;\n",
       "    if (targ.nodeType == 3) // defeat Safari bug\n",
       "        targ = targ.parentNode;\n",
       "\n",
       "    // jQuery normalizes the pageX and pageY\n",
       "    // pageX,Y are the mouse positions relative to the document\n",
       "    // offset() returns the position of the element relative to the document\n",
       "    var x = e.pageX - $(targ).offset().left;\n",
       "    var y = e.pageY - $(targ).offset().top;\n",
       "\n",
       "    return {\"x\": x, \"y\": y};\n",
       "};\n",
       "\n",
       "/*\n",
       " * return a copy of an object with only non-object keys\n",
       " * we need this to avoid circular references\n",
       " * http://stackoverflow.com/a/24161582/3208463\n",
       " */\n",
       "function simpleKeys (original) {\n",
       "  return Object.keys(original).reduce(function (obj, key) {\n",
       "    if (typeof original[key] !== 'object')\n",
       "        obj[key] = original[key]\n",
       "    return obj;\n",
       "  }, {});\n",
       "}\n",
       "\n",
       "mpl.figure.prototype.mouse_event = function(event, name) {\n",
       "    var canvas_pos = mpl.findpos(event)\n",
       "\n",
       "    if (name === 'button_press')\n",
       "    {\n",
       "        this.canvas.focus();\n",
       "        this.canvas_div.focus();\n",
       "    }\n",
       "\n",
       "    var x = canvas_pos.x * mpl.ratio;\n",
       "    var y = canvas_pos.y * mpl.ratio;\n",
       "\n",
       "    this.send_message(name, {x: x, y: y, button: event.button,\n",
       "                             step: event.step,\n",
       "                             guiEvent: simpleKeys(event)});\n",
       "\n",
       "    /* This prevents the web browser from automatically changing to\n",
       "     * the text insertion cursor when the button is pressed.  We want\n",
       "     * to control all of the cursor setting manually through the\n",
       "     * 'cursor' event from matplotlib */\n",
       "    event.preventDefault();\n",
       "    return false;\n",
       "}\n",
       "\n",
       "mpl.figure.prototype._key_event_extra = function(event, name) {\n",
       "    // Handle any extra behaviour associated with a key event\n",
       "}\n",
       "\n",
       "mpl.figure.prototype.key_event = function(event, name) {\n",
       "\n",
       "    // Prevent repeat events\n",
       "    if (name == 'key_press')\n",
       "    {\n",
       "        if (event.which === this._key)\n",
       "            return;\n",
       "        else\n",
       "            this._key = event.which;\n",
       "    }\n",
       "    if (name == 'key_release')\n",
       "        this._key = null;\n",
       "\n",
       "    var value = '';\n",
       "    if (event.ctrlKey && event.which != 17)\n",
       "        value += \"ctrl+\";\n",
       "    if (event.altKey && event.which != 18)\n",
       "        value += \"alt+\";\n",
       "    if (event.shiftKey && event.which != 16)\n",
       "        value += \"shift+\";\n",
       "\n",
       "    value += 'k';\n",
       "    value += event.which.toString();\n",
       "\n",
       "    this._key_event_extra(event, name);\n",
       "\n",
       "    this.send_message(name, {key: value,\n",
       "                             guiEvent: simpleKeys(event)});\n",
       "    return false;\n",
       "}\n",
       "\n",
       "mpl.figure.prototype.toolbar_button_onclick = function(name) {\n",
       "    if (name == 'download') {\n",
       "        this.handle_save(this, null);\n",
       "    } else {\n",
       "        this.send_message(\"toolbar_button\", {name: name});\n",
       "    }\n",
       "};\n",
       "\n",
       "mpl.figure.prototype.toolbar_button_onmouseover = function(tooltip) {\n",
       "    this.message.textContent = tooltip;\n",
       "};\n",
       "mpl.toolbar_items = [[\"Home\", \"Reset original view\", \"fa fa-home icon-home\", \"home\"], [\"Back\", \"Back to previous view\", \"fa fa-arrow-left icon-arrow-left\", \"back\"], [\"Forward\", \"Forward to next view\", \"fa fa-arrow-right icon-arrow-right\", \"forward\"], [\"\", \"\", \"\", \"\"], [\"Pan\", \"Pan axes with left mouse, zoom with right\", \"fa fa-arrows icon-move\", \"pan\"], [\"Zoom\", \"Zoom to rectangle\", \"fa fa-square-o icon-check-empty\", \"zoom\"], [\"\", \"\", \"\", \"\"], [\"Download\", \"Download plot\", \"fa fa-floppy-o icon-save\", \"download\"]];\n",
       "\n",
       "mpl.extensions = [\"eps\", \"pdf\", \"png\", \"ps\", \"raw\", \"svg\"];\n",
       "\n",
       "mpl.default_extension = \"png\";var comm_websocket_adapter = function(comm) {\n",
       "    // Create a \"websocket\"-like object which calls the given IPython comm\n",
       "    // object with the appropriate methods. Currently this is a non binary\n",
       "    // socket, so there is still some room for performance tuning.\n",
       "    var ws = {};\n",
       "\n",
       "    ws.close = function() {\n",
       "        comm.close()\n",
       "    };\n",
       "    ws.send = function(m) {\n",
       "        //console.log('sending', m);\n",
       "        comm.send(m);\n",
       "    };\n",
       "    // Register the callback with on_msg.\n",
       "    comm.on_msg(function(msg) {\n",
       "        //console.log('receiving', msg['content']['data'], msg);\n",
       "        // Pass the mpl event to the overridden (by mpl) onmessage function.\n",
       "        ws.onmessage(msg['content']['data'])\n",
       "    });\n",
       "    return ws;\n",
       "}\n",
       "\n",
       "mpl.mpl_figure_comm = function(comm, msg) {\n",
       "    // This is the function which gets called when the mpl process\n",
       "    // starts-up an IPython Comm through the \"matplotlib\" channel.\n",
       "\n",
       "    var id = msg.content.data.id;\n",
       "    // Get hold of the div created by the display call when the Comm\n",
       "    // socket was opened in Python.\n",
       "    var element = $(\"#\" + id);\n",
       "    var ws_proxy = comm_websocket_adapter(comm)\n",
       "\n",
       "    function ondownload(figure, format) {\n",
       "        window.open(figure.imageObj.src);\n",
       "    }\n",
       "\n",
       "    var fig = new mpl.figure(id, ws_proxy,\n",
       "                           ondownload,\n",
       "                           element.get(0));\n",
       "\n",
       "    // Call onopen now - mpl needs it, as it is assuming we've passed it a real\n",
       "    // web socket which is closed, not our websocket->open comm proxy.\n",
       "    ws_proxy.onopen();\n",
       "\n",
       "    fig.parent_element = element.get(0);\n",
       "    fig.cell_info = mpl.find_output_cell(\"<div id='\" + id + \"'></div>\");\n",
       "    if (!fig.cell_info) {\n",
       "        console.error(\"Failed to find cell for figure\", id, fig);\n",
       "        return;\n",
       "    }\n",
       "\n",
       "    var output_index = fig.cell_info[2]\n",
       "    var cell = fig.cell_info[0];\n",
       "\n",
       "};\n",
       "\n",
       "mpl.figure.prototype.handle_close = function(fig, msg) {\n",
       "    var width = fig.canvas.width/mpl.ratio\n",
       "    fig.root.unbind('remove')\n",
       "\n",
       "    // Update the output cell to use the data from the current canvas.\n",
       "    fig.push_to_output();\n",
       "    var dataURL = fig.canvas.toDataURL();\n",
       "    // Re-enable the keyboard manager in IPython - without this line, in FF,\n",
       "    // the notebook keyboard shortcuts fail.\n",
       "    IPython.keyboard_manager.enable()\n",
       "    $(fig.parent_element).html('<img src=\"' + dataURL + '\" width=\"' + width + '\">');\n",
       "    fig.close_ws(fig, msg);\n",
       "}\n",
       "\n",
       "mpl.figure.prototype.close_ws = function(fig, msg){\n",
       "    fig.send_message('closing', msg);\n",
       "    // fig.ws.close()\n",
       "}\n",
       "\n",
       "mpl.figure.prototype.push_to_output = function(remove_interactive) {\n",
       "    // Turn the data on the canvas into data in the output cell.\n",
       "    var width = this.canvas.width/mpl.ratio\n",
       "    var dataURL = this.canvas.toDataURL();\n",
       "    this.cell_info[1]['text/html'] = '<img src=\"' + dataURL + '\" width=\"' + width + '\">';\n",
       "}\n",
       "\n",
       "mpl.figure.prototype.updated_canvas_event = function() {\n",
       "    // Tell IPython that the notebook contents must change.\n",
       "    IPython.notebook.set_dirty(true);\n",
       "    this.send_message(\"ack\", {});\n",
       "    var fig = this;\n",
       "    // Wait a second, then push the new image to the DOM so\n",
       "    // that it is saved nicely (might be nice to debounce this).\n",
       "    setTimeout(function () { fig.push_to_output() }, 1000);\n",
       "}\n",
       "\n",
       "mpl.figure.prototype._init_toolbar = function() {\n",
       "    var fig = this;\n",
       "\n",
       "    var nav_element = $('<div/>');\n",
       "    nav_element.attr('style', 'width: 100%');\n",
       "    this.root.append(nav_element);\n",
       "\n",
       "    // Define a callback function for later on.\n",
       "    function toolbar_event(event) {\n",
       "        return fig.toolbar_button_onclick(event['data']);\n",
       "    }\n",
       "    function toolbar_mouse_event(event) {\n",
       "        return fig.toolbar_button_onmouseover(event['data']);\n",
       "    }\n",
       "\n",
       "    for(var toolbar_ind in mpl.toolbar_items){\n",
       "        var name = mpl.toolbar_items[toolbar_ind][0];\n",
       "        var tooltip = mpl.toolbar_items[toolbar_ind][1];\n",
       "        var image = mpl.toolbar_items[toolbar_ind][2];\n",
       "        var method_name = mpl.toolbar_items[toolbar_ind][3];\n",
       "\n",
       "        if (!name) { continue; };\n",
       "\n",
       "        var button = $('<button class=\"btn btn-default\" href=\"#\" title=\"' + name + '\"><i class=\"fa ' + image + ' fa-lg\"></i></button>');\n",
       "        button.click(method_name, toolbar_event);\n",
       "        button.mouseover(tooltip, toolbar_mouse_event);\n",
       "        nav_element.append(button);\n",
       "    }\n",
       "\n",
       "    // Add the status bar.\n",
       "    var status_bar = $('<span class=\"mpl-message\" style=\"text-align:right; float: right;\"/>');\n",
       "    nav_element.append(status_bar);\n",
       "    this.message = status_bar[0];\n",
       "\n",
       "    // Add the close button to the window.\n",
       "    var buttongrp = $('<div class=\"btn-group inline pull-right\"></div>');\n",
       "    var button = $('<button class=\"btn btn-mini btn-primary\" href=\"#\" title=\"Stop Interaction\"><i class=\"fa fa-power-off icon-remove icon-large\"></i></button>');\n",
       "    button.click(function (evt) { fig.handle_close(fig, {}); } );\n",
       "    button.mouseover('Stop Interaction', toolbar_mouse_event);\n",
       "    buttongrp.append(button);\n",
       "    var titlebar = this.root.find($('.ui-dialog-titlebar'));\n",
       "    titlebar.prepend(buttongrp);\n",
       "}\n",
       "\n",
       "mpl.figure.prototype._root_extra_style = function(el){\n",
       "    var fig = this\n",
       "    el.on(\"remove\", function(){\n",
       "\tfig.close_ws(fig, {});\n",
       "    });\n",
       "}\n",
       "\n",
       "mpl.figure.prototype._canvas_extra_style = function(el){\n",
       "    // this is important to make the div 'focusable\n",
       "    el.attr('tabindex', 0)\n",
       "    // reach out to IPython and tell the keyboard manager to turn it's self\n",
       "    // off when our div gets focus\n",
       "\n",
       "    // location in version 3\n",
       "    if (IPython.notebook.keyboard_manager) {\n",
       "        IPython.notebook.keyboard_manager.register_events(el);\n",
       "    }\n",
       "    else {\n",
       "        // location in version 2\n",
       "        IPython.keyboard_manager.register_events(el);\n",
       "    }\n",
       "\n",
       "}\n",
       "\n",
       "mpl.figure.prototype._key_event_extra = function(event, name) {\n",
       "    var manager = IPython.notebook.keyboard_manager;\n",
       "    if (!manager)\n",
       "        manager = IPython.keyboard_manager;\n",
       "\n",
       "    // Check for shift+enter\n",
       "    if (event.shiftKey && event.which == 13) {\n",
       "        this.canvas_div.blur();\n",
       "        event.shiftKey = false;\n",
       "        // Send a \"J\" for go to next cell\n",
       "        event.which = 74;\n",
       "        event.keyCode = 74;\n",
       "        manager.command_mode();\n",
       "        manager.handle_keydown(event);\n",
       "    }\n",
       "}\n",
       "\n",
       "mpl.figure.prototype.handle_save = function(fig, msg) {\n",
       "    fig.ondownload(fig, null);\n",
       "}\n",
       "\n",
       "\n",
       "mpl.find_output_cell = function(html_output) {\n",
       "    // Return the cell and output element which can be found *uniquely* in the notebook.\n",
       "    // Note - this is a bit hacky, but it is done because the \"notebook_saving.Notebook\"\n",
       "    // IPython event is triggered only after the cells have been serialised, which for\n",
       "    // our purposes (turning an active figure into a static one), is too late.\n",
       "    var cells = IPython.notebook.get_cells();\n",
       "    var ncells = cells.length;\n",
       "    for (var i=0; i<ncells; i++) {\n",
       "        var cell = cells[i];\n",
       "        if (cell.cell_type === 'code'){\n",
       "            for (var j=0; j<cell.output_area.outputs.length; j++) {\n",
       "                var data = cell.output_area.outputs[j];\n",
       "                if (data.data) {\n",
       "                    // IPython >= 3 moved mimebundle to data attribute of output\n",
       "                    data = data.data;\n",
       "                }\n",
       "                if (data['text/html'] == html_output) {\n",
       "                    return [cell, data, j];\n",
       "                }\n",
       "            }\n",
       "        }\n",
       "    }\n",
       "}\n",
       "\n",
       "// Register the function which deals with the matplotlib target/channel.\n",
       "// The kernel may be null if the page has been refreshed.\n",
       "if (IPython.notebook.kernel != null) {\n",
       "    IPython.notebook.kernel.comm_manager.register_target('matplotlib', mpl.mpl_figure_comm);\n",
       "}\n"
      ],
      "text/plain": [
       "<IPython.core.display.Javascript object>"
      ]
     },
     "metadata": {},
     "output_type": "display_data"
    },
    {
     "data": {
      "text/html": [
       "<img src=\"data:image/png;base64,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\" width=\"639.4\">"
      ],
      "text/plain": [
       "<IPython.core.display.HTML object>"
      ]
     },
     "metadata": {},
     "output_type": "display_data"
    }
   ],
   "source": [
    "nimbus = plt.scatter(x=evolver.population.objectives[:, 0], y=evolver.population.objectives[:, 1], label='NIMBUS-RVEA')\n",
    "refp = plt.scatter(x=response[:,0], y=response[:,1], c='r', label='Reference Point')\n",
    "stom = plt.arrow(x=response[0,0], y=response[0,1], dx=response[0,0]*10, dy=response[0,1]*10, color='g', label='STOM')\n",
    "asf = plt.arrow(x=response[0,0], y=response[0,1], dx=10, dy=10,color='black',label=\"ASF\")\n",
    "plt.arrow(x=response[0,0], y=response[0,1], dx=-response[0,0]*10, dy=-response[0,1]*10, color='g')\n",
    "plt.arrow(x=response[0,0], y=response[0,1], dx=-10, dy=-10, color='black')\n",
    "pareto = plt.plot(zdt1_pareto[:,0], zdt1_pareto[:,1],'-.')\n",
    "plt.xlim([0,1])\n",
    "plt.ylim([0,1])\n",
    "plt.title(\"ZDT1 problem with NIMBUS inspired EA\")\n",
    "plt.legend([nimbus, refp, stom, asf], [\"NIMBUS-RVEA\",\"Reference Point\",\"STOM\", \"ASF\"])\n",
    "plt.gca().set_aspect('equal', adjustable='box')"
   ]
  },
  {
   "cell_type": "code",
   "execution_count": 56,
   "metadata": {},
   "outputs": [],
   "source": [
    "scaled_data = np.asarray([scalar(evolver.population.fitness, pref.response.values) for scalar in evolver.scalarization_methods]).T"
   ]
  },
  {
   "cell_type": "raw",
   "metadata": {},
   "source": [
    " \tobjectprovided in the other answers, the keyword \"zorder\" allows one to decide the order in which different objprint(response)"
   ]
  },
  {
   "cell_type": "code",
   "execution_count": 57,
   "metadata": {},
   "outputs": [
    {
     "data": {
      "application/javascript": [
       "/* Put everything inside the global mpl namespace */\n",
       "window.mpl = {};\n",
       "\n",
       "\n",
       "mpl.get_websocket_type = function() {\n",
       "    if (typeof(WebSocket) !== 'undefined') {\n",
       "        return WebSocket;\n",
       "    } else if (typeof(MozWebSocket) !== 'undefined') {\n",
       "        return MozWebSocket;\n",
       "    } else {\n",
       "        alert('Your browser does not have WebSocket support. ' +\n",
       "              'Please try Chrome, Safari or Firefox ≥ 6. ' +\n",
       "              'Firefox 4 and 5 are also supported but you ' +\n",
       "              'have to enable WebSockets in about:config.');\n",
       "    };\n",
       "}\n",
       "\n",
       "mpl.figure = function(figure_id, websocket, ondownload, parent_element) {\n",
       "    this.id = figure_id;\n",
       "\n",
       "    this.ws = websocket;\n",
       "\n",
       "    this.supports_binary = (this.ws.binaryType != undefined);\n",
       "\n",
       "    if (!this.supports_binary) {\n",
       "        var warnings = document.getElementById(\"mpl-warnings\");\n",
       "        if (warnings) {\n",
       "            warnings.style.display = 'block';\n",
       "            warnings.textContent = (\n",
       "                \"This browser does not support binary websocket messages. \" +\n",
       "                    \"Performance may be slow.\");\n",
       "        }\n",
       "    }\n",
       "\n",
       "    this.imageObj = new Image();\n",
       "\n",
       "    this.context = undefined;\n",
       "    this.message = undefined;\n",
       "    this.canvas = undefined;\n",
       "    this.rubberband_canvas = undefined;\n",
       "    this.rubberband_context = undefined;\n",
       "    this.format_dropdown = undefined;\n",
       "\n",
       "    this.image_mode = 'full';\n",
       "\n",
       "    this.root = $('<div/>');\n",
       "    this._root_extra_style(this.root)\n",
       "    this.root.attr('style', 'display: inline-block');\n",
       "\n",
       "    $(parent_element).append(this.root);\n",
       "\n",
       "    this._init_header(this);\n",
       "    this._init_canvas(this);\n",
       "    this._init_toolbar(this);\n",
       "\n",
       "    var fig = this;\n",
       "\n",
       "    this.waiting = false;\n",
       "\n",
       "    this.ws.onopen =  function () {\n",
       "            fig.send_message(\"supports_binary\", {value: fig.supports_binary});\n",
       "            fig.send_message(\"send_image_mode\", {});\n",
       "            if (mpl.ratio != 1) {\n",
       "                fig.send_message(\"set_dpi_ratio\", {'dpi_ratio': mpl.ratio});\n",
       "            }\n",
       "            fig.send_message(\"refresh\", {});\n",
       "        }\n",
       "\n",
       "    this.imageObj.onload = function() {\n",
       "            if (fig.image_mode == 'full') {\n",
       "                // Full images could contain transparency (where diff images\n",
       "                // almost always do), so we need to clear the canvas so that\n",
       "                // there is no ghosting.\n",
       "                fig.context.clearRect(0, 0, fig.canvas.width, fig.canvas.height);\n",
       "            }\n",
       "            fig.context.drawImage(fig.imageObj, 0, 0);\n",
       "        };\n",
       "\n",
       "    this.imageObj.onunload = function() {\n",
       "        fig.ws.close();\n",
       "    }\n",
       "\n",
       "    this.ws.onmessage = this._make_on_message_function(this);\n",
       "\n",
       "    this.ondownload = ondownload;\n",
       "}\n",
       "\n",
       "mpl.figure.prototype._init_header = function() {\n",
       "    var titlebar = $(\n",
       "        '<div class=\"ui-dialog-titlebar ui-widget-header ui-corner-all ' +\n",
       "        'ui-helper-clearfix\"/>');\n",
       "    var titletext = $(\n",
       "        '<div class=\"ui-dialog-title\" style=\"width: 100%; ' +\n",
       "        'text-align: center; padding: 3px;\"/>');\n",
       "    titlebar.append(titletext)\n",
       "    this.root.append(titlebar);\n",
       "    this.header = titletext[0];\n",
       "}\n",
       "\n",
       "\n",
       "\n",
       "mpl.figure.prototype._canvas_extra_style = function(canvas_div) {\n",
       "\n",
       "}\n",
       "\n",
       "\n",
       "mpl.figure.prototype._root_extra_style = function(canvas_div) {\n",
       "\n",
       "}\n",
       "\n",
       "mpl.figure.prototype._init_canvas = function() {\n",
       "    var fig = this;\n",
       "\n",
       "    var canvas_div = $('<div/>');\n",
       "\n",
       "    canvas_div.attr('style', 'position: relative; clear: both; outline: 0');\n",
       "\n",
       "    function canvas_keyboard_event(event) {\n",
       "        return fig.key_event(event, event['data']);\n",
       "    }\n",
       "\n",
       "    canvas_div.keydown('key_press', canvas_keyboard_event);\n",
       "    canvas_div.keyup('key_release', canvas_keyboard_event);\n",
       "    this.canvas_div = canvas_div\n",
       "    this._canvas_extra_style(canvas_div)\n",
       "    this.root.append(canvas_div);\n",
       "\n",
       "    var canvas = $('<canvas/>');\n",
       "    canvas.addClass('mpl-canvas');\n",
       "    canvas.attr('style', \"left: 0; top: 0; z-index: 0; outline: 0\")\n",
       "\n",
       "    this.canvas = canvas[0];\n",
       "    this.context = canvas[0].getContext(\"2d\");\n",
       "\n",
       "    var backingStore = this.context.backingStorePixelRatio ||\n",
       "\tthis.context.webkitBackingStorePixelRatio ||\n",
       "\tthis.context.mozBackingStorePixelRatio ||\n",
       "\tthis.context.msBackingStorePixelRatio ||\n",
       "\tthis.context.oBackingStorePixelRatio ||\n",
       "\tthis.context.backingStorePixelRatio || 1;\n",
       "\n",
       "    mpl.ratio = (window.devicePixelRatio || 1) / backingStore;\n",
       "\n",
       "    var rubberband = $('<canvas/>');\n",
       "    rubberband.attr('style', \"position: absolute; left: 0; top: 0; z-index: 1;\")\n",
       "\n",
       "    var pass_mouse_events = true;\n",
       "\n",
       "    canvas_div.resizable({\n",
       "        start: function(event, ui) {\n",
       "            pass_mouse_events = false;\n",
       "        },\n",
       "        resize: function(event, ui) {\n",
       "            fig.request_resize(ui.size.width, ui.size.height);\n",
       "        },\n",
       "        stop: function(event, ui) {\n",
       "            pass_mouse_events = true;\n",
       "            fig.request_resize(ui.size.width, ui.size.height);\n",
       "        },\n",
       "    });\n",
       "\n",
       "    function mouse_event_fn(event) {\n",
       "        if (pass_mouse_events)\n",
       "            return fig.mouse_event(event, event['data']);\n",
       "    }\n",
       "\n",
       "    rubberband.mousedown('button_press', mouse_event_fn);\n",
       "    rubberband.mouseup('button_release', mouse_event_fn);\n",
       "    // Throttle sequential mouse events to 1 every 20ms.\n",
       "    rubberband.mousemove('motion_notify', mouse_event_fn);\n",
       "\n",
       "    rubberband.mouseenter('figure_enter', mouse_event_fn);\n",
       "    rubberband.mouseleave('figure_leave', mouse_event_fn);\n",
       "\n",
       "    canvas_div.on(\"wheel\", function (event) {\n",
       "        event = event.originalEvent;\n",
       "        event['data'] = 'scroll'\n",
       "        if (event.deltaY < 0) {\n",
       "            event.step = 1;\n",
       "        } else {\n",
       "            event.step = -1;\n",
       "        }\n",
       "        mouse_event_fn(event);\n",
       "    });\n",
       "\n",
       "    canvas_div.append(canvas);\n",
       "    canvas_div.append(rubberband);\n",
       "\n",
       "    this.rubberband = rubberband;\n",
       "    this.rubberband_canvas = rubberband[0];\n",
       "    this.rubberband_context = rubberband[0].getContext(\"2d\");\n",
       "    this.rubberband_context.strokeStyle = \"#000000\";\n",
       "\n",
       "    this._resize_canvas = function(width, height) {\n",
       "        // Keep the size of the canvas, canvas container, and rubber band\n",
       "        // canvas in synch.\n",
       "        canvas_div.css('width', width)\n",
       "        canvas_div.css('height', height)\n",
       "\n",
       "        canvas.attr('width', width * mpl.ratio);\n",
       "        canvas.attr('height', height * mpl.ratio);\n",
       "        canvas.attr('style', 'width: ' + width + 'px; height: ' + height + 'px;');\n",
       "\n",
       "        rubberband.attr('width', width);\n",
       "        rubberband.attr('height', height);\n",
       "    }\n",
       "\n",
       "    // Set the figure to an initial 600x600px, this will subsequently be updated\n",
       "    // upon first draw.\n",
       "    this._resize_canvas(600, 600);\n",
       "\n",
       "    // Disable right mouse context menu.\n",
       "    $(this.rubberband_canvas).bind(\"contextmenu\",function(e){\n",
       "        return false;\n",
       "    });\n",
       "\n",
       "    function set_focus () {\n",
       "        canvas.focus();\n",
       "        canvas_div.focus();\n",
       "    }\n",
       "\n",
       "    window.setTimeout(set_focus, 100);\n",
       "}\n",
       "\n",
       "mpl.figure.prototype._init_toolbar = function() {\n",
       "    var fig = this;\n",
       "\n",
       "    var nav_element = $('<div/>');\n",
       "    nav_element.attr('style', 'width: 100%');\n",
       "    this.root.append(nav_element);\n",
       "\n",
       "    // Define a callback function for later on.\n",
       "    function toolbar_event(event) {\n",
       "        return fig.toolbar_button_onclick(event['data']);\n",
       "    }\n",
       "    function toolbar_mouse_event(event) {\n",
       "        return fig.toolbar_button_onmouseover(event['data']);\n",
       "    }\n",
       "\n",
       "    for(var toolbar_ind in mpl.toolbar_items) {\n",
       "        var name = mpl.toolbar_items[toolbar_ind][0];\n",
       "        var tooltip = mpl.toolbar_items[toolbar_ind][1];\n",
       "        var image = mpl.toolbar_items[toolbar_ind][2];\n",
       "        var method_name = mpl.toolbar_items[toolbar_ind][3];\n",
       "\n",
       "        if (!name) {\n",
       "            // put a spacer in here.\n",
       "            continue;\n",
       "        }\n",
       "        var button = $('<button/>');\n",
       "        button.addClass('ui-button ui-widget ui-state-default ui-corner-all ' +\n",
       "                        'ui-button-icon-only');\n",
       "        button.attr('role', 'button');\n",
       "        button.attr('aria-disabled', 'false');\n",
       "        button.click(method_name, toolbar_event);\n",
       "        button.mouseover(tooltip, toolbar_mouse_event);\n",
       "\n",
       "        var icon_img = $('<span/>');\n",
       "        icon_img.addClass('ui-button-icon-primary ui-icon');\n",
       "        icon_img.addClass(image);\n",
       "        icon_img.addClass('ui-corner-all');\n",
       "\n",
       "        var tooltip_span = $('<span/>');\n",
       "        tooltip_span.addClass('ui-button-text');\n",
       "        tooltip_span.html(tooltip);\n",
       "\n",
       "        button.append(icon_img);\n",
       "        button.append(tooltip_span);\n",
       "\n",
       "        nav_element.append(button);\n",
       "    }\n",
       "\n",
       "    var fmt_picker_span = $('<span/>');\n",
       "\n",
       "    var fmt_picker = $('<select/>');\n",
       "    fmt_picker.addClass('mpl-toolbar-option ui-widget ui-widget-content');\n",
       "    fmt_picker_span.append(fmt_picker);\n",
       "    nav_element.append(fmt_picker_span);\n",
       "    this.format_dropdown = fmt_picker[0];\n",
       "\n",
       "    for (var ind in mpl.extensions) {\n",
       "        var fmt = mpl.extensions[ind];\n",
       "        var option = $(\n",
       "            '<option/>', {selected: fmt === mpl.default_extension}).html(fmt);\n",
       "        fmt_picker.append(option);\n",
       "    }\n",
       "\n",
       "    // Add hover states to the ui-buttons\n",
       "    $( \".ui-button\" ).hover(\n",
       "        function() { $(this).addClass(\"ui-state-hover\");},\n",
       "        function() { $(this).removeClass(\"ui-state-hover\");}\n",
       "    );\n",
       "\n",
       "    var status_bar = $('<span class=\"mpl-message\"/>');\n",
       "    nav_element.append(status_bar);\n",
       "    this.message = status_bar[0];\n",
       "}\n",
       "\n",
       "mpl.figure.prototype.request_resize = function(x_pixels, y_pixels) {\n",
       "    // Request matplotlib to resize the figure. Matplotlib will then trigger a resize in the client,\n",
       "    // which will in turn request a refresh of the image.\n",
       "    this.send_message('resize', {'width': x_pixels, 'height': y_pixels});\n",
       "}\n",
       "\n",
       "mpl.figure.prototype.send_message = function(type, properties) {\n",
       "    properties['type'] = type;\n",
       "    properties['figure_id'] = this.id;\n",
       "    this.ws.send(JSON.stringify(properties));\n",
       "}\n",
       "\n",
       "mpl.figure.prototype.send_draw_message = function() {\n",
       "    if (!this.waiting) {\n",
       "        this.waiting = true;\n",
       "        this.ws.send(JSON.stringify({type: \"draw\", figure_id: this.id}));\n",
       "    }\n",
       "}\n",
       "\n",
       "\n",
       "mpl.figure.prototype.handle_save = function(fig, msg) {\n",
       "    var format_dropdown = fig.format_dropdown;\n",
       "    var format = format_dropdown.options[format_dropdown.selectedIndex].value;\n",
       "    fig.ondownload(fig, format);\n",
       "}\n",
       "\n",
       "\n",
       "mpl.figure.prototype.handle_resize = function(fig, msg) {\n",
       "    var size = msg['size'];\n",
       "    if (size[0] != fig.canvas.width || size[1] != fig.canvas.height) {\n",
       "        fig._resize_canvas(size[0], size[1]);\n",
       "        fig.send_message(\"refresh\", {});\n",
       "    };\n",
       "}\n",
       "\n",
       "mpl.figure.prototype.handle_rubberband = function(fig, msg) {\n",
       "    var x0 = msg['x0'] / mpl.ratio;\n",
       "    var y0 = (fig.canvas.height - msg['y0']) / mpl.ratio;\n",
       "    var x1 = msg['x1'] / mpl.ratio;\n",
       "    var y1 = (fig.canvas.height - msg['y1']) / mpl.ratio;\n",
       "    x0 = Math.floor(x0) + 0.5;\n",
       "    y0 = Math.floor(y0) + 0.5;\n",
       "    x1 = Math.floor(x1) + 0.5;\n",
       "    y1 = Math.floor(y1) + 0.5;\n",
       "    var min_x = Math.min(x0, x1);\n",
       "    var min_y = Math.min(y0, y1);\n",
       "    var width = Math.abs(x1 - x0);\n",
       "    var height = Math.abs(y1 - y0);\n",
       "\n",
       "    fig.rubberband_context.clearRect(\n",
       "        0, 0, fig.canvas.width / mpl.ratio, fig.canvas.height / mpl.ratio);\n",
       "\n",
       "    fig.rubberband_context.strokeRect(min_x, min_y, width, height);\n",
       "}\n",
       "\n",
       "mpl.figure.prototype.handle_figure_label = function(fig, msg) {\n",
       "    // Updates the figure title.\n",
       "    fig.header.textContent = msg['label'];\n",
       "}\n",
       "\n",
       "mpl.figure.prototype.handle_cursor = function(fig, msg) {\n",
       "    var cursor = msg['cursor'];\n",
       "    switch(cursor)\n",
       "    {\n",
       "    case 0:\n",
       "        cursor = 'pointer';\n",
       "        break;\n",
       "    case 1:\n",
       "        cursor = 'default';\n",
       "        break;\n",
       "    case 2:\n",
       "        cursor = 'crosshair';\n",
       "        break;\n",
       "    case 3:\n",
       "        cursor = 'move';\n",
       "        break;\n",
       "    }\n",
       "    fig.rubberband_canvas.style.cursor = cursor;\n",
       "}\n",
       "\n",
       "mpl.figure.prototype.handle_message = function(fig, msg) {\n",
       "    fig.message.textContent = msg['message'];\n",
       "}\n",
       "\n",
       "mpl.figure.prototype.handle_draw = function(fig, msg) {\n",
       "    // Request the server to send over a new figure.\n",
       "    fig.send_draw_message();\n",
       "}\n",
       "\n",
       "mpl.figure.prototype.handle_image_mode = function(fig, msg) {\n",
       "    fig.image_mode = msg['mode'];\n",
       "}\n",
       "\n",
       "mpl.figure.prototype.updated_canvas_event = function() {\n",
       "    // Called whenever the canvas gets updated.\n",
       "    this.send_message(\"ack\", {});\n",
       "}\n",
       "\n",
       "// A function to construct a web socket function for onmessage handling.\n",
       "// Called in the figure constructor.\n",
       "mpl.figure.prototype._make_on_message_function = function(fig) {\n",
       "    return function socket_on_message(evt) {\n",
       "        if (evt.data instanceof Blob) {\n",
       "            /* FIXME: We get \"Resource interpreted as Image but\n",
       "             * transferred with MIME type text/plain:\" errors on\n",
       "             * Chrome.  But how to set the MIME type?  It doesn't seem\n",
       "             * to be part of the websocket stream */\n",
       "            evt.data.type = \"image/png\";\n",
       "\n",
       "            /* Free the memory for the previous frames */\n",
       "            if (fig.imageObj.src) {\n",
       "                (window.URL || window.webkitURL).revokeObjectURL(\n",
       "                    fig.imageObj.src);\n",
       "            }\n",
       "\n",
       "            fig.imageObj.src = (window.URL || window.webkitURL).createObjectURL(\n",
       "                evt.data);\n",
       "            fig.updated_canvas_event();\n",
       "            fig.waiting = false;\n",
       "            return;\n",
       "        }\n",
       "        else if (typeof evt.data === 'string' && evt.data.slice(0, 21) == \"data:image/png;base64\") {\n",
       "            fig.imageObj.src = evt.data;\n",
       "            fig.updated_canvas_event();\n",
       "            fig.waiting = false;\n",
       "            return;\n",
       "        }\n",
       "\n",
       "        var msg = JSON.parse(evt.data);\n",
       "        var msg_type = msg['type'];\n",
       "\n",
       "        // Call the  \"handle_{type}\" callback, which takes\n",
       "        // the figure and JSON message as its only arguments.\n",
       "        try {\n",
       "            var callback = fig[\"handle_\" + msg_type];\n",
       "        } catch (e) {\n",
       "            console.log(\"No handler for the '\" + msg_type + \"' message type: \", msg);\n",
       "            return;\n",
       "        }\n",
       "\n",
       "        if (callback) {\n",
       "            try {\n",
       "                // console.log(\"Handling '\" + msg_type + \"' message: \", msg);\n",
       "                callback(fig, msg);\n",
       "            } catch (e) {\n",
       "                console.log(\"Exception inside the 'handler_\" + msg_type + \"' callback:\", e, e.stack, msg);\n",
       "            }\n",
       "        }\n",
       "    };\n",
       "}\n",
       "\n",
       "// from http://stackoverflow.com/questions/1114465/getting-mouse-location-in-canvas\n",
       "mpl.findpos = function(e) {\n",
       "    //this section is from http://www.quirksmode.org/js/events_properties.html\n",
       "    var targ;\n",
       "    if (!e)\n",
       "        e = window.event;\n",
       "    if (e.target)\n",
       "        targ = e.target;\n",
       "    else if (e.srcElement)\n",
       "        targ = e.srcElement;\n",
       "    if (targ.nodeType == 3) // defeat Safari bug\n",
       "        targ = targ.parentNode;\n",
       "\n",
       "    // jQuery normalizes the pageX and pageY\n",
       "    // pageX,Y are the mouse positions relative to the document\n",
       "    // offset() returns the position of the element relative to the document\n",
       "    var x = e.pageX - $(targ).offset().left;\n",
       "    var y = e.pageY - $(targ).offset().top;\n",
       "\n",
       "    return {\"x\": x, \"y\": y};\n",
       "};\n",
       "\n",
       "/*\n",
       " * return a copy of an object with only non-object keys\n",
       " * we need this to avoid circular references\n",
       " * http://stackoverflow.com/a/24161582/3208463\n",
       " */\n",
       "function simpleKeys (original) {\n",
       "  return Object.keys(original).reduce(function (obj, key) {\n",
       "    if (typeof original[key] !== 'object')\n",
       "        obj[key] = original[key]\n",
       "    return obj;\n",
       "  }, {});\n",
       "}\n",
       "\n",
       "mpl.figure.prototype.mouse_event = function(event, name) {\n",
       "    var canvas_pos = mpl.findpos(event)\n",
       "\n",
       "    if (name === 'button_press')\n",
       "    {\n",
       "        this.canvas.focus();\n",
       "        this.canvas_div.focus();\n",
       "    }\n",
       "\n",
       "    var x = canvas_pos.x * mpl.ratio;\n",
       "    var y = canvas_pos.y * mpl.ratio;\n",
       "\n",
       "    this.send_message(name, {x: x, y: y, button: event.button,\n",
       "                             step: event.step,\n",
       "                             guiEvent: simpleKeys(event)});\n",
       "\n",
       "    /* This prevents the web browser from automatically changing to\n",
       "     * the text insertion cursor when the button is pressed.  We want\n",
       "     * to control all of the cursor setting manually through the\n",
       "     * 'cursor' event from matplotlib */\n",
       "    event.preventDefault();\n",
       "    return false;\n",
       "}\n",
       "\n",
       "mpl.figure.prototype._key_event_extra = function(event, name) {\n",
       "    // Handle any extra behaviour associated with a key event\n",
       "}\n",
       "\n",
       "mpl.figure.prototype.key_event = function(event, name) {\n",
       "\n",
       "    // Prevent repeat events\n",
       "    if (name == 'key_press')\n",
       "    {\n",
       "        if (event.which === this._key)\n",
       "            return;\n",
       "        else\n",
       "            this._key = event.which;\n",
       "    }\n",
       "    if (name == 'key_release')\n",
       "        this._key = null;\n",
       "\n",
       "    var value = '';\n",
       "    if (event.ctrlKey && event.which != 17)\n",
       "        value += \"ctrl+\";\n",
       "    if (event.altKey && event.which != 18)\n",
       "        value += \"alt+\";\n",
       "    if (event.shiftKey && event.which != 16)\n",
       "        value += \"shift+\";\n",
       "\n",
       "    value += 'k';\n",
       "    value += event.which.toString();\n",
       "\n",
       "    this._key_event_extra(event, name);\n",
       "\n",
       "    this.send_message(name, {key: value,\n",
       "                             guiEvent: simpleKeys(event)});\n",
       "    return false;\n",
       "}\n",
       "\n",
       "mpl.figure.prototype.toolbar_button_onclick = function(name) {\n",
       "    if (name == 'download') {\n",
       "        this.handle_save(this, null);\n",
       "    } else {\n",
       "        this.send_message(\"toolbar_button\", {name: name});\n",
       "    }\n",
       "};\n",
       "\n",
       "mpl.figure.prototype.toolbar_button_onmouseover = function(tooltip) {\n",
       "    this.message.textContent = tooltip;\n",
       "};\n",
       "mpl.toolbar_items = [[\"Home\", \"Reset original view\", \"fa fa-home icon-home\", \"home\"], [\"Back\", \"Back to previous view\", \"fa fa-arrow-left icon-arrow-left\", \"back\"], [\"Forward\", \"Forward to next view\", \"fa fa-arrow-right icon-arrow-right\", \"forward\"], [\"\", \"\", \"\", \"\"], [\"Pan\", \"Pan axes with left mouse, zoom with right\", \"fa fa-arrows icon-move\", \"pan\"], [\"Zoom\", \"Zoom to rectangle\", \"fa fa-square-o icon-check-empty\", \"zoom\"], [\"\", \"\", \"\", \"\"], [\"Download\", \"Download plot\", \"fa fa-floppy-o icon-save\", \"download\"]];\n",
       "\n",
       "mpl.extensions = [\"eps\", \"pdf\", \"png\", \"ps\", \"raw\", \"svg\"];\n",
       "\n",
       "mpl.default_extension = \"png\";var comm_websocket_adapter = function(comm) {\n",
       "    // Create a \"websocket\"-like object which calls the given IPython comm\n",
       "    // object with the appropriate methods. Currently this is a non binary\n",
       "    // socket, so there is still some room for performance tuning.\n",
       "    var ws = {};\n",
       "\n",
       "    ws.close = function() {\n",
       "        comm.close()\n",
       "    };\n",
       "    ws.send = function(m) {\n",
       "        //console.log('sending', m);\n",
       "        comm.send(m);\n",
       "    };\n",
       "    // Register the callback with on_msg.\n",
       "    comm.on_msg(function(msg) {\n",
       "        //console.log('receiving', msg['content']['data'], msg);\n",
       "        // Pass the mpl event to the overridden (by mpl) onmessage function.\n",
       "        ws.onmessage(msg['content']['data'])\n",
       "    });\n",
       "    return ws;\n",
       "}\n",
       "\n",
       "mpl.mpl_figure_comm = function(comm, msg) {\n",
       "    // This is the function which gets called when the mpl process\n",
       "    // starts-up an IPython Comm through the \"matplotlib\" channel.\n",
       "\n",
       "    var id = msg.content.data.id;\n",
       "    // Get hold of the div created by the display call when the Comm\n",
       "    // socket was opened in Python.\n",
       "    var element = $(\"#\" + id);\n",
       "    var ws_proxy = comm_websocket_adapter(comm)\n",
       "\n",
       "    function ondownload(figure, format) {\n",
       "        window.open(figure.imageObj.src);\n",
       "    }\n",
       "\n",
       "    var fig = new mpl.figure(id, ws_proxy,\n",
       "                           ondownload,\n",
       "                           element.get(0));\n",
       "\n",
       "    // Call onopen now - mpl needs it, as it is assuming we've passed it a real\n",
       "    // web socket which is closed, not our websocket->open comm proxy.\n",
       "    ws_proxy.onopen();\n",
       "\n",
       "    fig.parent_element = element.get(0);\n",
       "    fig.cell_info = mpl.find_output_cell(\"<div id='\" + id + \"'></div>\");\n",
       "    if (!fig.cell_info) {\n",
       "        console.error(\"Failed to find cell for figure\", id, fig);\n",
       "        return;\n",
       "    }\n",
       "\n",
       "    var output_index = fig.cell_info[2]\n",
       "    var cell = fig.cell_info[0];\n",
       "\n",
       "};\n",
       "\n",
       "mpl.figure.prototype.handle_close = function(fig, msg) {\n",
       "    var width = fig.canvas.width/mpl.ratio\n",
       "    fig.root.unbind('remove')\n",
       "\n",
       "    // Update the output cell to use the data from the current canvas.\n",
       "    fig.push_to_output();\n",
       "    var dataURL = fig.canvas.toDataURL();\n",
       "    // Re-enable the keyboard manager in IPython - without this line, in FF,\n",
       "    // the notebook keyboard shortcuts fail.\n",
       "    IPython.keyboard_manager.enable()\n",
       "    $(fig.parent_element).html('<img src=\"' + dataURL + '\" width=\"' + width + '\">');\n",
       "    fig.close_ws(fig, msg);\n",
       "}\n",
       "\n",
       "mpl.figure.prototype.close_ws = function(fig, msg){\n",
       "    fig.send_message('closing', msg);\n",
       "    // fig.ws.close()\n",
       "}\n",
       "\n",
       "mpl.figure.prototype.push_to_output = function(remove_interactive) {\n",
       "    // Turn the data on the canvas into data in the output cell.\n",
       "    var width = this.canvas.width/mpl.ratio\n",
       "    var dataURL = this.canvas.toDataURL();\n",
       "    this.cell_info[1]['text/html'] = '<img src=\"' + dataURL + '\" width=\"' + width + '\">';\n",
       "}\n",
       "\n",
       "mpl.figure.prototype.updated_canvas_event = function() {\n",
       "    // Tell IPython that the notebook contents must change.\n",
       "    IPython.notebook.set_dirty(true);\n",
       "    this.send_message(\"ack\", {});\n",
       "    var fig = this;\n",
       "    // Wait a second, then push the new image to the DOM so\n",
       "    // that it is saved nicely (might be nice to debounce this).\n",
       "    setTimeout(function () { fig.push_to_output() }, 1000);\n",
       "}\n",
       "\n",
       "mpl.figure.prototype._init_toolbar = function() {\n",
       "    var fig = this;\n",
       "\n",
       "    var nav_element = $('<div/>');\n",
       "    nav_element.attr('style', 'width: 100%');\n",
       "    this.root.append(nav_element);\n",
       "\n",
       "    // Define a callback function for later on.\n",
       "    function toolbar_event(event) {\n",
       "        return fig.toolbar_button_onclick(event['data']);\n",
       "    }\n",
       "    function toolbar_mouse_event(event) {\n",
       "        return fig.toolbar_button_onmouseover(event['data']);\n",
       "    }\n",
       "\n",
       "    for(var toolbar_ind in mpl.toolbar_items){\n",
       "        var name = mpl.toolbar_items[toolbar_ind][0];\n",
       "        var tooltip = mpl.toolbar_items[toolbar_ind][1];\n",
       "        var image = mpl.toolbar_items[toolbar_ind][2];\n",
       "        var method_name = mpl.toolbar_items[toolbar_ind][3];\n",
       "\n",
       "        if (!name) { continue; };\n",
       "\n",
       "        var button = $('<button class=\"btn btn-default\" href=\"#\" title=\"' + name + '\"><i class=\"fa ' + image + ' fa-lg\"></i></button>');\n",
       "        button.click(method_name, toolbar_event);\n",
       "        button.mouseover(tooltip, toolbar_mouse_event);\n",
       "        nav_element.append(button);\n",
       "    }\n",
       "\n",
       "    // Add the status bar.\n",
       "    var status_bar = $('<span class=\"mpl-message\" style=\"text-align:right; float: right;\"/>');\n",
       "    nav_element.append(status_bar);\n",
       "    this.message = status_bar[0];\n",
       "\n",
       "    // Add the close button to the window.\n",
       "    var buttongrp = $('<div class=\"btn-group inline pull-right\"></div>');\n",
       "    var button = $('<button class=\"btn btn-mini btn-primary\" href=\"#\" title=\"Stop Interaction\"><i class=\"fa fa-power-off icon-remove icon-large\"></i></button>');\n",
       "    button.click(function (evt) { fig.handle_close(fig, {}); } );\n",
       "    button.mouseover('Stop Interaction', toolbar_mouse_event);\n",
       "    buttongrp.append(button);\n",
       "    var titlebar = this.root.find($('.ui-dialog-titlebar'));\n",
       "    titlebar.prepend(buttongrp);\n",
       "}\n",
       "\n",
       "mpl.figure.prototype._root_extra_style = function(el){\n",
       "    var fig = this\n",
       "    el.on(\"remove\", function(){\n",
       "\tfig.close_ws(fig, {});\n",
       "    });\n",
       "}\n",
       "\n",
       "mpl.figure.prototype._canvas_extra_style = function(el){\n",
       "    // this is important to make the div 'focusable\n",
       "    el.attr('tabindex', 0)\n",
       "    // reach out to IPython and tell the keyboard manager to turn it's self\n",
       "    // off when our div gets focus\n",
       "\n",
       "    // location in version 3\n",
       "    if (IPython.notebook.keyboard_manager) {\n",
       "        IPython.notebook.keyboard_manager.register_events(el);\n",
       "    }\n",
       "    else {\n",
       "        // location in version 2\n",
       "        IPython.keyboard_manager.register_events(el);\n",
       "    }\n",
       "\n",
       "}\n",
       "\n",
       "mpl.figure.prototype._key_event_extra = function(event, name) {\n",
       "    var manager = IPython.notebook.keyboard_manager;\n",
       "    if (!manager)\n",
       "        manager = IPython.keyboard_manager;\n",
       "\n",
       "    // Check for shift+enter\n",
       "    if (event.shiftKey && event.which == 13) {\n",
       "        this.canvas_div.blur();\n",
       "        event.shiftKey = false;\n",
       "        // Send a \"J\" for go to next cell\n",
       "        event.which = 74;\n",
       "        event.keyCode = 74;\n",
       "        manager.command_mode();\n",
       "        manager.handle_keydown(event);\n",
       "    }\n",
       "}\n",
       "\n",
       "mpl.figure.prototype.handle_save = function(fig, msg) {\n",
       "    fig.ondownload(fig, null);\n",
       "}\n",
       "\n",
       "\n",
       "mpl.find_output_cell = function(html_output) {\n",
       "    // Return the cell and output element which can be found *uniquely* in the notebook.\n",
       "    // Note - this is a bit hacky, but it is done because the \"notebook_saving.Notebook\"\n",
       "    // IPython event is triggered only after the cells have been serialised, which for\n",
       "    // our purposes (turning an active figure into a static one), is too late.\n",
       "    var cells = IPython.notebook.get_cells();\n",
       "    var ncells = cells.length;\n",
       "    for (var i=0; i<ncells; i++) {\n",
       "        var cell = cells[i];\n",
       "        if (cell.cell_type === 'code'){\n",
       "            for (var j=0; j<cell.output_area.outputs.length; j++) {\n",
       "                var data = cell.output_area.outputs[j];\n",
       "                if (data.data) {\n",
       "                    // IPython >= 3 moved mimebundle to data attribute of output\n",
       "                    data = data.data;\n",
       "                }\n",
       "                if (data['text/html'] == html_output) {\n",
       "                    return [cell, data, j];\n",
       "                }\n",
       "            }\n",
       "        }\n",
       "    }\n",
       "}\n",
       "\n",
       "// Register the function which deals with the matplotlib target/channel.\n",
       "// The kernel may be null if the page has been refreshed.\n",
       "if (IPython.notebook.kernel != null) {\n",
       "    IPython.notebook.kernel.comm_manager.register_target('matplotlib', mpl.mpl_figure_comm);\n",
       "}\n"
      ],
      "text/plain": [
       "<IPython.core.display.Javascript object>"
      ]
     },
     "metadata": {},
     "output_type": "display_data"
    },
    {
     "data": {
      "text/html": [
       "<img src=\"data:image/png;base64,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\" width=\"640\">"
      ],
      "text/plain": [
       "<IPython.core.display.HTML object>"
      ]
     },
     "metadata": {},
     "output_type": "display_data"
    },
    {
     "data": {
      "text/plain": [
       "<matplotlib.collections.PathCollection at 0x7f751e7539d0>"
      ]
     },
     "execution_count": 57,
     "metadata": {},
     "output_type": "execute_result"
    }
   ],
   "source": [
    "plt.scatter(x=scaled_data[:,0], y=scaled_data[:,1])"
   ]
  },
  {
   "cell_type": "code",
   "execution_count": 29,
   "metadata": {},
   "outputs": [
    {
     "data": {
      "text/plain": [
       "(39, 2)"
      ]
     },
     "execution_count": 29,
     "metadata": {},
     "output_type": "execute_result"
    }
   ],
   "source": [
    "evolver.population.objectives.shape"
   ]
  },
  {
   "cell_type": "code",
   "execution_count": 11,
   "metadata": {},
   "outputs": [],
   "source": [
    "zdt1_pareto = np.asarray([[0.0000000333,0.9998173820],\n",
    "[0.0036524605,0.9395644103],\n",
    "[0.0109353082,0.8954279758],\n",
    "[0.0201661797,0.8579923253],\n",
    "[0.0307984775,0.8245050499],\n",
    "[0.0425521730,0.7937182195],\n",
    "[0.0552536936,0.7649389578],\n",
    "[0.0687834600,0.7377339899],\n",
    "[0.0830533346,0.7118102455],\n",
    "[0.0979952414,0.6869580836],\n",
    "[0.1135547782,0.6630211013],\n",
    "[0.1296872770,0.6398788023],\n",
    "[0.1463553419,0.6174358329],\n",
    "[0.1635270897,0.5956151713],\n",
    "[0.1811749649,0.5743534743],\n",
    "[0.1992748910,0.5535978371],\n",
    "[0.2178056136,0.5333035102],\n",
    "[0.2367481746,0.5134322508],\n",
    "[0.2560856025,0.4939509881],\n",
    "[0.2758025276,0.4748309533],\n",
    "[0.2958850236,0.4560468554],\n",
    "[0.3163203619,0.4375763502],\n",
    "[0.3370968359,0.4193995902],\n",
    "[0.3582036897,0.4014987972],\n",
    "[0.3796309819,0.3838579856],\n",
    "[0.4013694644,0.3664627364],\n",
    "[0.4234104957,0.3492999957],\n",
    "[0.4457460837,0.3323578176],\n",
    "[0.4683687091,0.3156253153],\n",
    "[0.4912712857,0.2990925270],\n",
    "[0.5144471844,0.2827502636],\n",
    "[0.5378901526,0.2665900514],\n",
    "[0.5615942516,0.2506040755],\n",
    "[0.5855539020,0.2347850615],\n",
    "[0.6097637681,0.2191262791],\n",
    "[0.6342188315,0.2036214270],\n",
    "[0.6589142602,0.1882646612],\n",
    "[0.6838455122,0.1730504779],\n",
    "[0.7090082355,0.1579737323],\n",
    "[0.7343982546,0.1430296070],\n",
    "[0.7600116005,0.1282135580],\n",
    "[0.7858444564,0.1135213164],\n",
    "[0.8118931476,0.0989488651],\n",
    "[0.8381541846,0.0844923897],\n",
    "[0.8646242088,0.0701482867],\n",
    "[0.8912999852,0.0559131474],\n",
    "[0.9181784008,0.0417837401],\n",
    "[0.9452564510,0.0277570000],\n",
    "[0.9725312450,0.0138300121],\n",
    "[1.0000000000,0.0000000000],])"
   ]
  },
  {
   "cell_type": "code",
   "execution_count": 13,
   "metadata": {},
   "outputs": [],
   "source": [
    "# 3 Objectives"
   ]
  },
  {
   "cell_type": "code",
   "execution_count": 22,
   "metadata": {},
   "outputs": [],
   "source": [
    "import plotly.graph_objects as go"
   ]
  },
  {
   "cell_type": "code",
   "execution_count": 14,
   "metadata": {},
   "outputs": [],
   "source": [
    "problem = test_problem_builder(name=\"DTLZ1\", n_of_objectives=3, n_of_variables=5)"
   ]
  },
  {
   "cell_type": "code",
   "execution_count": 15,
   "metadata": {},
   "outputs": [],
   "source": [
    "problem.ideal = np.asarray([0, 0, 0])\n",
    "problem.nadir = np.asarray([0.5, 0.5, 0.5])"
   ]
  },
  {
   "cell_type": "code",
   "execution_count": 16,
   "metadata": {},
   "outputs": [],
   "source": [
    "evolver = NIMBUS_RVEA(problem, n_gen_per_iter=700)"
   ]
  },
  {
   "cell_type": "code",
   "execution_count": 17,
   "metadata": {},
   "outputs": [],
   "source": [
    "plot, pref = evolver.requests()"
   ]
  },
  {
   "cell_type": "code",
   "execution_count": 19,
   "metadata": {},
   "outputs": [
    {
     "data": {
      "text/plain": [
       "{'dimensions_data':            f1   f2   f3\n",
       " minimize    1    1    1\n",
       " ideal       0    0    0\n",
       " nadir     0.5  0.5  0.5,\n",
       " 'message': 'Provide a reference point worse than to the ideal point and better than the nadir point.\\nIdeal point: \\nf1    0\\nf2    0\\nf3    0\\nName: ideal, dtype: object\\nNadir point: \\nf1    0.5\\nf2    0.5\\nf3    0.5\\nName: nadir, dtype: object\\nThe reference point will be used to create scalarization functions in the preferred region.\\n',\n",
       " 'validator': <function desdeo_tools.interaction.validators.validate_ref_point_with_ideal_and_nadir(dimensions_data: pandas.core.frame.DataFrame, reference_point: pandas.core.frame.DataFrame)>}"
      ]
     },
     "execution_count": 19,
     "metadata": {},
     "output_type": "execute_result"
    }
   ],
   "source": [
    "pref.content"
   ]
  },
  {
   "cell_type": "code",
   "execution_count": 65,
   "metadata": {},
   "outputs": [],
   "source": [
    "response = np.asarray([[0.45,0.1, 0.4]])\n",
    "pref.response = pd.DataFrame(response, columns=pref.content['dimensions_data'].columns)"
   ]
  },
  {
   "cell_type": "code",
   "execution_count": 66,
   "metadata": {},
   "outputs": [],
   "source": [
    "plot, pref = evolver.iterate(pref)"
   ]
  },
  {
   "cell_type": "code",
   "execution_count": 73,
   "metadata": {},
   "outputs": [
    {
     "data": {
      "application/vnd.plotly.v1+json": {
       "config": {
        "plotlyServerURL": "https://plot.ly"
       },
       "data": [
        {
         "marker": {
          "opacity": 0.8,
          "size": 4
         },
         "mode": "markers",
         "name": "NIMBUS-RVEA",
         "type": "scatter3d",
         "x": [
          0.2647120402132334,
          0.2371243767450546,
          0.2605805309127191,
          0.247193586475252,
          0.2535526093321874,
          0.2641405004621788,
          0.264088390790693,
          0.26318348927515467,
          0.25851703899044537,
          0.26049319977290125,
          0.2569614620266885,
          0.2610618326178119,
          0.26180345753181883,
          0.2623533946389212,
          0.25176775201957396,
          0.2641661153740663,
          0.254496595067787,
          0.25922910903817675,
          0.26385978767219,
          0.24838264571471777,
          0.2524768102480757,
          0.2636268923230785,
          0.25820249712515253,
          0.26195889451754617,
          0.2587532945917026,
          0.26264554680141544,
          0.2559458267051725,
          0.2620929416933397,
          0.26444704581000406,
          0.2611000621378818,
          0.26463193895228343,
          0.2572250295034827,
          0.2636403353756498,
          0.24162710514511052,
          0.2636620814783515,
          0.24879041084853015,
          0.26449339605004285,
          0.26286821861332954,
          0.26482256187384157,
          0.24960151781074388,
          0.26257199658657154,
          0.2599646925001492,
          0.25597974223948294,
          0.2611092027070773,
          0.26404440956324304,
          0.2624402630427415,
          0.2635695570692268,
          0.25937644557612655,
          0.25992020186053494,
          0.24450959462288932
         ],
         "y": [
          0,
          0.052283699822516176,
          0.00762622235281114,
          0.033661478097810275,
          0.021862248632023743,
          0.0005437643296646902,
          0.0011678082728337421,
          0.002817286079588491,
          0.00767431419641847,
          0.006748629078353983,
          0.01168387601669297,
          0.004146957143863848,
          0.0032111403688437536,
          0.004247762874446635,
          0.028703516421233526,
          0.0008469981979281532,
          0.020051566870757254,
          0.012279809770733752,
          0.0021423401209009246,
          0.016722255330957923,
          0.015998941926581627,
          0.0010189056747068638,
          0.016215649156496294,
          0.005309815304304815,
          0.00974992493966871,
          0.0024194842941948676,
          0.018599204235391794,
          0.0057804051396759095,
          0.0006932629365807416,
          0.0061992149397942994,
          0.00012740032920567212,
          0.01732275549334322,
          0.0013710663582139522,
          0.04725070298014774,
          0.0037390441384267613,
          0.02579140466024874,
          0.0002618001757865295,
          0.0017833713576505792,
          0.00040158215851082674,
          0.031180880238964315,
          0.002649478945902533,
          0.005289726643509293,
          0.011338932291095019,
          0.004786387536184886,
          0.0019360052665699044,
          0.003397207286713783,
          0.001544157320989832,
          0.008462409140949425,
          0.008785573937158082,
          0.03882061744404256
         ],
         "z": [
          0.2352974260586663,
          0.21060414912550934,
          0.2318062815890877,
          0.21915677416042015,
          0.2245946512339289,
          0.23533067026470356,
          0.23475883353288535,
          0.23400858259032015,
          0.23382367922387456,
          0.2327728688245767,
          0.23136667406306136,
          0.23480333255525232,
          0.23500033342982057,
          0.23341091603599243,
          0.21954100081107367,
          0.23500181028682093,
          0.2254635513397586,
          0.2285005406511492,
          0.2340098087306563,
          0.2349105676265785,
          0.2315362352177547,
          0.2353663091150824,
          0.22559376943021284,
          0.23274598668353944,
          0.23151153296802854,
          0.23494986557217792,
          0.22546658500861602,
          0.23214141102516436,
          0.23486934673447432,
          0.23271303317431946,
          0.2352526894771445,
          0.2254646555278512,
          0.23500329267376027,
          0.2111376468908531,
          0.23261490545140576,
          0.22543304266642242,
          0.23525398515387155,
          0.23536051941216055,
          0.2347915150772122,
          0.21922942797809328,
          0.23479334810473257,
          0.23476033344016273,
          0.23269656796728594,
          0.23411681361225825,
          0.23402889335578717,
          0.23417792784741165,
          0.23489884011037804,
          0.23217321866972543,
          0.23130364446461052,
          0.21668213847714443
         ]
        },
        {
         "name": "True Front",
         "type": "scatter3d",
         "x": [
          0.5,
          0,
          0,
          0.5
         ],
         "y": [
          0,
          0.5,
          0,
          0
         ],
         "z": [
          0,
          0,
          0.5,
          0
         ]
        },
        {
         "name": "Nadir Point",
         "type": "scatter3d",
         "x": [
          0.5
         ],
         "y": [
          0.5
         ],
         "z": [
          0.5
         ]
        },
        {
         "name": "Reference Point",
         "type": "scatter3d",
         "x": [
          0.45
         ],
         "y": [
          0.1
         ],
         "z": [
          0.4
         ]
        },
        {
         "name": "STOM",
         "type": "scatter3d",
         "x": [
          0,
          0.45
         ],
         "y": [
          0,
          0.1
         ],
         "z": [
          0,
          0.4
         ]
        },
        {
         "name": "ASF",
         "type": "scatter3d",
         "x": [
          -0.55,
          1.45
         ],
         "y": [
          -0.9,
          1.1
         ],
         "z": [
          -0.6,
          1.4
         ]
        },
        {
         "name": "Ideal Point",
         "type": "scatter3d",
         "x": [
          0
         ],
         "y": [
          0
         ],
         "z": [
          0
         ]
        }
       ],
       "layout": {
        "margin": {
         "b": 0,
         "l": 0,
         "r": 0,
         "t": 0
        },
        "scene": {
         "xaxis": {
          "range": [
           -0.1,
           0.6
          ]
         },
         "yaxis": {
          "range": [
           -0.1,
           0.6
          ]
         },
         "zaxis": {
          "range": [
           -0.1,
           0.6
          ]
         }
        },
        "template": {
         "data": {
          "bar": [
           {
            "error_x": {
             "color": "#2a3f5f"
            },
            "error_y": {
             "color": "#2a3f5f"
            },
            "marker": {
             "line": {
              "color": "#E5ECF6",
              "width": 0.5
             }
            },
            "type": "bar"
           }
          ],
          "barpolar": [
           {
            "marker": {
             "line": {
              "color": "#E5ECF6",
              "width": 0.5
             }
            },
            "type": "barpolar"
           }
          ],
          "carpet": [
           {
            "aaxis": {
             "endlinecolor": "#2a3f5f",
             "gridcolor": "white",
             "linecolor": "white",
             "minorgridcolor": "white",
             "startlinecolor": "#2a3f5f"
            },
            "baxis": {
             "endlinecolor": "#2a3f5f",
             "gridcolor": "white",
             "linecolor": "white",
             "minorgridcolor": "white",
             "startlinecolor": "#2a3f5f"
            },
            "type": "carpet"
           }
          ],
          "choropleth": [
           {
            "colorbar": {
             "outlinewidth": 0,
             "ticks": ""
            },
            "type": "choropleth"
           }
          ],
          "contour": [
           {
            "colorbar": {
             "outlinewidth": 0,
             "ticks": ""
            },
            "colorscale": [
             [
              0,
              "#0d0887"
             ],
             [
              0.1111111111111111,
              "#46039f"
             ],
             [
              0.2222222222222222,
              "#7201a8"
             ],
             [
              0.3333333333333333,
              "#9c179e"
             ],
             [
              0.4444444444444444,
              "#bd3786"
             ],
             [
              0.5555555555555556,
              "#d8576b"
             ],
             [
              0.6666666666666666,
              "#ed7953"
             ],
             [
              0.7777777777777778,
              "#fb9f3a"
             ],
             [
              0.8888888888888888,
              "#fdca26"
             ],
             [
              1,
              "#f0f921"
             ]
            ],
            "type": "contour"
           }
          ],
          "contourcarpet": [
           {
            "colorbar": {
             "outlinewidth": 0,
             "ticks": ""
            },
            "type": "contourcarpet"
           }
          ],
          "heatmap": [
           {
            "colorbar": {
             "outlinewidth": 0,
             "ticks": ""
            },
            "colorscale": [
             [
              0,
              "#0d0887"
             ],
             [
              0.1111111111111111,
              "#46039f"
             ],
             [
              0.2222222222222222,
              "#7201a8"
             ],
             [
              0.3333333333333333,
              "#9c179e"
             ],
             [
              0.4444444444444444,
              "#bd3786"
             ],
             [
              0.5555555555555556,
              "#d8576b"
             ],
             [
              0.6666666666666666,
              "#ed7953"
             ],
             [
              0.7777777777777778,
              "#fb9f3a"
             ],
             [
              0.8888888888888888,
              "#fdca26"
             ],
             [
              1,
              "#f0f921"
             ]
            ],
            "type": "heatmap"
           }
          ],
          "heatmapgl": [
           {
            "colorbar": {
             "outlinewidth": 0,
             "ticks": ""
            },
            "colorscale": [
             [
              0,
              "#0d0887"
             ],
             [
              0.1111111111111111,
              "#46039f"
             ],
             [
              0.2222222222222222,
              "#7201a8"
             ],
             [
              0.3333333333333333,
              "#9c179e"
             ],
             [
              0.4444444444444444,
              "#bd3786"
             ],
             [
              0.5555555555555556,
              "#d8576b"
             ],
             [
              0.6666666666666666,
              "#ed7953"
             ],
             [
              0.7777777777777778,
              "#fb9f3a"
             ],
             [
              0.8888888888888888,
              "#fdca26"
             ],
             [
              1,
              "#f0f921"
             ]
            ],
            "type": "heatmapgl"
           }
          ],
          "histogram": [
           {
            "marker": {
             "colorbar": {
              "outlinewidth": 0,
              "ticks": ""
             }
            },
            "type": "histogram"
           }
          ],
          "histogram2d": [
           {
            "colorbar": {
             "outlinewidth": 0,
             "ticks": ""
            },
            "colorscale": [
             [
              0,
              "#0d0887"
             ],
             [
              0.1111111111111111,
              "#46039f"
             ],
             [
              0.2222222222222222,
              "#7201a8"
             ],
             [
              0.3333333333333333,
              "#9c179e"
             ],
             [
              0.4444444444444444,
              "#bd3786"
             ],
             [
              0.5555555555555556,
              "#d8576b"
             ],
             [
              0.6666666666666666,
              "#ed7953"
             ],
             [
              0.7777777777777778,
              "#fb9f3a"
             ],
             [
              0.8888888888888888,
              "#fdca26"
             ],
             [
              1,
              "#f0f921"
             ]
            ],
            "type": "histogram2d"
           }
          ],
          "histogram2dcontour": [
           {
            "colorbar": {
             "outlinewidth": 0,
             "ticks": ""
            },
            "colorscale": [
             [
              0,
              "#0d0887"
             ],
             [
              0.1111111111111111,
              "#46039f"
             ],
             [
              0.2222222222222222,
              "#7201a8"
             ],
             [
              0.3333333333333333,
              "#9c179e"
             ],
             [
              0.4444444444444444,
              "#bd3786"
             ],
             [
              0.5555555555555556,
              "#d8576b"
             ],
             [
              0.6666666666666666,
              "#ed7953"
             ],
             [
              0.7777777777777778,
              "#fb9f3a"
             ],
             [
              0.8888888888888888,
              "#fdca26"
             ],
             [
              1,
              "#f0f921"
             ]
            ],
            "type": "histogram2dcontour"
           }
          ],
          "mesh3d": [
           {
            "colorbar": {
             "outlinewidth": 0,
             "ticks": ""
            },
            "type": "mesh3d"
           }
          ],
          "parcoords": [
           {
            "line": {
             "colorbar": {
              "outlinewidth": 0,
              "ticks": ""
             }
            },
            "type": "parcoords"
           }
          ],
          "scatter": [
           {
            "marker": {
             "colorbar": {
              "outlinewidth": 0,
              "ticks": ""
             }
            },
            "type": "scatter"
           }
          ],
          "scatter3d": [
           {
            "line": {
             "colorbar": {
              "outlinewidth": 0,
              "ticks": ""
             }
            },
            "marker": {
             "colorbar": {
              "outlinewidth": 0,
              "ticks": ""
             }
            },
            "type": "scatter3d"
           }
          ],
          "scattercarpet": [
           {
            "marker": {
             "colorbar": {
              "outlinewidth": 0,
              "ticks": ""
             }
            },
            "type": "scattercarpet"
           }
          ],
          "scattergeo": [
           {
            "marker": {
             "colorbar": {
              "outlinewidth": 0,
              "ticks": ""
             }
            },
            "type": "scattergeo"
           }
          ],
          "scattergl": [
           {
            "marker": {
             "colorbar": {
              "outlinewidth": 0,
              "ticks": ""
             }
            },
            "type": "scattergl"
           }
          ],
          "scattermapbox": [
           {
            "marker": {
             "colorbar": {
              "outlinewidth": 0,
              "ticks": ""
             }
            },
            "type": "scattermapbox"
           }
          ],
          "scatterpolar": [
           {
            "marker": {
             "colorbar": {
              "outlinewidth": 0,
              "ticks": ""
             }
            },
            "type": "scatterpolar"
           }
          ],
          "scatterpolargl": [
           {
            "marker": {
             "colorbar": {
              "outlinewidth": 0,
              "ticks": ""
             }
            },
            "type": "scatterpolargl"
           }
          ],
          "scatterternary": [
           {
            "marker": {
             "colorbar": {
              "outlinewidth": 0,
              "ticks": ""
             }
            },
            "type": "scatterternary"
           }
          ],
          "surface": [
           {
            "colorbar": {
             "outlinewidth": 0,
             "ticks": ""
            },
            "colorscale": [
             [
              0,
              "#0d0887"
             ],
             [
              0.1111111111111111,
              "#46039f"
             ],
             [
              0.2222222222222222,
              "#7201a8"
             ],
             [
              0.3333333333333333,
              "#9c179e"
             ],
             [
              0.4444444444444444,
              "#bd3786"
             ],
             [
              0.5555555555555556,
              "#d8576b"
             ],
             [
              0.6666666666666666,
              "#ed7953"
             ],
             [
              0.7777777777777778,
              "#fb9f3a"
             ],
             [
              0.8888888888888888,
              "#fdca26"
             ],
             [
              1,
              "#f0f921"
             ]
            ],
            "type": "surface"
           }
          ],
          "table": [
           {
            "cells": {
             "fill": {
              "color": "#EBF0F8"
             },
             "line": {
              "color": "white"
             }
            },
            "header": {
             "fill": {
              "color": "#C8D4E3"
             },
             "line": {
              "color": "white"
             }
            },
            "type": "table"
           }
          ]
         },
         "layout": {
          "annotationdefaults": {
           "arrowcolor": "#2a3f5f",
           "arrowhead": 0,
           "arrowwidth": 1
          },
          "colorscale": {
           "diverging": [
            [
             0,
             "#8e0152"
            ],
            [
             0.1,
             "#c51b7d"
            ],
            [
             0.2,
             "#de77ae"
            ],
            [
             0.3,
             "#f1b6da"
            ],
            [
             0.4,
             "#fde0ef"
            ],
            [
             0.5,
             "#f7f7f7"
            ],
            [
             0.6,
             "#e6f5d0"
            ],
            [
             0.7,
             "#b8e186"
            ],
            [
             0.8,
             "#7fbc41"
            ],
            [
             0.9,
             "#4d9221"
            ],
            [
             1,
             "#276419"
            ]
           ],
           "sequential": [
            [
             0,
             "#0d0887"
            ],
            [
             0.1111111111111111,
             "#46039f"
            ],
            [
             0.2222222222222222,
             "#7201a8"
            ],
            [
             0.3333333333333333,
             "#9c179e"
            ],
            [
             0.4444444444444444,
             "#bd3786"
            ],
            [
             0.5555555555555556,
             "#d8576b"
            ],
            [
             0.6666666666666666,
             "#ed7953"
            ],
            [
             0.7777777777777778,
             "#fb9f3a"
            ],
            [
             0.8888888888888888,
             "#fdca26"
            ],
            [
             1,
             "#f0f921"
            ]
           ],
           "sequentialminus": [
            [
             0,
             "#0d0887"
            ],
            [
             0.1111111111111111,
             "#46039f"
            ],
            [
             0.2222222222222222,
             "#7201a8"
            ],
            [
             0.3333333333333333,
             "#9c179e"
            ],
            [
             0.4444444444444444,
             "#bd3786"
            ],
            [
             0.5555555555555556,
             "#d8576b"
            ],
            [
             0.6666666666666666,
             "#ed7953"
            ],
            [
             0.7777777777777778,
             "#fb9f3a"
            ],
            [
             0.8888888888888888,
             "#fdca26"
            ],
            [
             1,
             "#f0f921"
            ]
           ]
          },
          "colorway": [
           "#636efa",
           "#EF553B",
           "#00cc96",
           "#ab63fa",
           "#FFA15A",
           "#19d3f3",
           "#FF6692",
           "#B6E880",
           "#FF97FF",
           "#FECB52"
          ],
          "font": {
           "color": "#2a3f5f"
          },
          "geo": {
           "bgcolor": "white",
           "lakecolor": "white",
           "landcolor": "#E5ECF6",
           "showlakes": true,
           "showland": true,
           "subunitcolor": "white"
          },
          "hoverlabel": {
           "align": "left"
          },
          "hovermode": "closest",
          "mapbox": {
           "style": "light"
          },
          "paper_bgcolor": "white",
          "plot_bgcolor": "#E5ECF6",
          "polar": {
           "angularaxis": {
            "gridcolor": "white",
            "linecolor": "white",
            "ticks": ""
           },
           "bgcolor": "#E5ECF6",
           "radialaxis": {
            "gridcolor": "white",
            "linecolor": "white",
            "ticks": ""
           }
          },
          "scene": {
           "xaxis": {
            "backgroundcolor": "#E5ECF6",
            "gridcolor": "white",
            "gridwidth": 2,
            "linecolor": "white",
            "showbackground": true,
            "ticks": "",
            "zerolinecolor": "white"
           },
           "yaxis": {
            "backgroundcolor": "#E5ECF6",
            "gridcolor": "white",
            "gridwidth": 2,
            "linecolor": "white",
            "showbackground": true,
            "ticks": "",
            "zerolinecolor": "white"
           },
           "zaxis": {
            "backgroundcolor": "#E5ECF6",
            "gridcolor": "white",
            "gridwidth": 2,
            "linecolor": "white",
            "showbackground": true,
            "ticks": "",
            "zerolinecolor": "white"
           }
          },
          "shapedefaults": {
           "line": {
            "color": "#2a3f5f"
           }
          },
          "ternary": {
           "aaxis": {
            "gridcolor": "white",
            "linecolor": "white",
            "ticks": ""
           },
           "baxis": {
            "gridcolor": "white",
            "linecolor": "white",
            "ticks": ""
           },
           "bgcolor": "#E5ECF6",
           "caxis": {
            "gridcolor": "white",
            "linecolor": "white",
            "ticks": ""
           }
          },
          "title": {
           "x": 0.05
          },
          "xaxis": {
           "automargin": true,
           "gridcolor": "white",
           "linecolor": "white",
           "ticks": "",
           "zerolinecolor": "white",
           "zerolinewidth": 2
          },
          "yaxis": {
           "automargin": true,
           "gridcolor": "white",
           "linecolor": "white",
           "ticks": "",
           "zerolinecolor": "white",
           "zerolinewidth": 2
          }
         }
        }
       }
      },
      "text/html": [
       "<div>\n",
       "        \n",
       "        \n",
       "            <div id=\"74719c18-1784-408e-b9fc-b40f15018e5c\" class=\"plotly-graph-div\" style=\"height:525px; width:100%;\"></div>\n",
       "            <script type=\"text/javascript\">\n",
       "                require([\"plotly\"], function(Plotly) {\n",
       "                    window.PLOTLYENV=window.PLOTLYENV || {};\n",
       "                    \n",
       "                if (document.getElementById(\"74719c18-1784-408e-b9fc-b40f15018e5c\")) {\n",
       "                    Plotly.newPlot(\n",
       "                        '74719c18-1784-408e-b9fc-b40f15018e5c',\n",
       "                        [{\"marker\": {\"opacity\": 0.8, \"size\": 4}, \"mode\": \"markers\", \"name\": \"NIMBUS-RVEA\", \"type\": \"scatter3d\", \"x\": [0.2647120402132334, 0.2371243767450546, 0.2605805309127191, 0.247193586475252, 0.2535526093321874, 0.2641405004621788, 0.264088390790693, 0.26318348927515467, 0.25851703899044537, 0.26049319977290125, 0.2569614620266885, 0.2610618326178119, 0.26180345753181883, 0.2623533946389212, 0.25176775201957396, 0.2641661153740663, 0.254496595067787, 0.25922910903817675, 0.26385978767219, 0.24838264571471777, 0.2524768102480757, 0.2636268923230785, 0.25820249712515253, 0.26195889451754617, 0.2587532945917026, 0.26264554680141544, 0.2559458267051725, 0.2620929416933397, 0.26444704581000406, 0.2611000621378818, 0.26463193895228343, 0.2572250295034827, 0.2636403353756498, 0.24162710514511052, 0.2636620814783515, 0.24879041084853015, 0.26449339605004285, 0.26286821861332954, 0.26482256187384157, 0.24960151781074388, 0.26257199658657154, 0.2599646925001492, 0.25597974223948294, 0.2611092027070773, 0.26404440956324304, 0.2624402630427415, 0.2635695570692268, 0.25937644557612655, 0.25992020186053494, 0.24450959462288932], \"y\": [0.0, 0.052283699822516176, 0.00762622235281114, 0.033661478097810275, 0.021862248632023743, 0.0005437643296646902, 0.0011678082728337421, 0.002817286079588491, 0.00767431419641847, 0.006748629078353983, 0.01168387601669297, 0.004146957143863848, 0.0032111403688437536, 0.004247762874446635, 0.028703516421233526, 0.0008469981979281532, 0.020051566870757254, 0.012279809770733752, 0.0021423401209009246, 0.016722255330957923, 0.015998941926581627, 0.0010189056747068638, 0.016215649156496294, 0.005309815304304815, 0.00974992493966871, 0.0024194842941948676, 0.018599204235391794, 0.0057804051396759095, 0.0006932629365807416, 0.0061992149397942994, 0.00012740032920567212, 0.01732275549334322, 0.0013710663582139522, 0.04725070298014774, 0.0037390441384267613, 0.02579140466024874, 0.0002618001757865295, 0.0017833713576505792, 0.00040158215851082674, 0.031180880238964315, 0.002649478945902533, 0.005289726643509293, 0.011338932291095019, 0.004786387536184886, 0.0019360052665699044, 0.003397207286713783, 0.001544157320989832, 0.008462409140949425, 0.008785573937158082, 0.03882061744404256], \"z\": [0.2352974260586663, 0.21060414912550934, 0.2318062815890877, 0.21915677416042015, 0.2245946512339289, 0.23533067026470356, 0.23475883353288535, 0.23400858259032015, 0.23382367922387456, 0.2327728688245767, 0.23136667406306136, 0.23480333255525232, 0.23500033342982057, 0.23341091603599243, 0.21954100081107367, 0.23500181028682093, 0.2254635513397586, 0.2285005406511492, 0.2340098087306563, 0.2349105676265785, 0.2315362352177547, 0.2353663091150824, 0.22559376943021284, 0.23274598668353944, 0.23151153296802854, 0.23494986557217792, 0.22546658500861602, 0.23214141102516436, 0.23486934673447432, 0.23271303317431946, 0.2352526894771445, 0.2254646555278512, 0.23500329267376027, 0.2111376468908531, 0.23261490545140576, 0.22543304266642242, 0.23525398515387155, 0.23536051941216055, 0.2347915150772122, 0.21922942797809328, 0.23479334810473257, 0.23476033344016273, 0.23269656796728594, 0.23411681361225825, 0.23402889335578717, 0.23417792784741165, 0.23489884011037804, 0.23217321866972543, 0.23130364446461052, 0.21668213847714443]}, {\"name\": \"True Front\", \"type\": \"scatter3d\", \"x\": [0.5, 0, 0, 0.5], \"y\": [0, 0.5, 0, 0], \"z\": [0, 0, 0.5, 0]}, {\"name\": \"Nadir Point\", \"type\": \"scatter3d\", \"x\": [0.5], \"y\": [0.5], \"z\": [0.5]}, {\"name\": \"Reference Point\", \"type\": \"scatter3d\", \"x\": [0.45], \"y\": [0.1], \"z\": [0.4]}, {\"name\": \"STOM\", \"type\": \"scatter3d\", \"x\": [0, 0.45], \"y\": [0, 0.1], \"z\": [0, 0.4]}, {\"name\": \"ASF\", \"type\": \"scatter3d\", \"x\": [-0.55, 1.45], \"y\": [-0.9, 1.1], \"z\": [-0.6, 1.4]}, {\"name\": \"Ideal Point\", \"type\": \"scatter3d\", \"x\": [0], \"y\": [0], \"z\": [0]}],\n",
       "                        {\"margin\": {\"b\": 0, \"l\": 0, \"r\": 0, \"t\": 0}, \"scene\": {\"xaxis\": {\"range\": [-0.1, 0.6]}, \"yaxis\": {\"range\": [-0.1, 0.6]}, \"zaxis\": {\"range\": [-0.1, 0.6]}}, \"template\": {\"data\": {\"bar\": [{\"error_x\": {\"color\": \"#2a3f5f\"}, \"error_y\": {\"color\": \"#2a3f5f\"}, \"marker\": {\"line\": {\"color\": \"#E5ECF6\", \"width\": 0.5}}, \"type\": \"bar\"}], \"barpolar\": [{\"marker\": {\"line\": {\"color\": \"#E5ECF6\", \"width\": 0.5}}, \"type\": \"barpolar\"}], \"carpet\": [{\"aaxis\": {\"endlinecolor\": \"#2a3f5f\", \"gridcolor\": \"white\", \"linecolor\": \"white\", \"minorgridcolor\": \"white\", \"startlinecolor\": \"#2a3f5f\"}, \"baxis\": {\"endlinecolor\": \"#2a3f5f\", \"gridcolor\": \"white\", \"linecolor\": \"white\", \"minorgridcolor\": \"white\", \"startlinecolor\": \"#2a3f5f\"}, \"type\": \"carpet\"}], \"choropleth\": [{\"colorbar\": {\"outlinewidth\": 0, \"ticks\": \"\"}, \"type\": \"choropleth\"}], \"contour\": [{\"colorbar\": {\"outlinewidth\": 0, \"ticks\": \"\"}, \"colorscale\": [[0.0, \"#0d0887\"], [0.1111111111111111, \"#46039f\"], [0.2222222222222222, \"#7201a8\"], [0.3333333333333333, \"#9c179e\"], [0.4444444444444444, \"#bd3786\"], [0.5555555555555556, \"#d8576b\"], [0.6666666666666666, \"#ed7953\"], [0.7777777777777778, \"#fb9f3a\"], [0.8888888888888888, \"#fdca26\"], [1.0, \"#f0f921\"]], \"type\": \"contour\"}], \"contourcarpet\": [{\"colorbar\": {\"outlinewidth\": 0, \"ticks\": \"\"}, \"type\": \"contourcarpet\"}], \"heatmap\": [{\"colorbar\": {\"outlinewidth\": 0, \"ticks\": \"\"}, \"colorscale\": [[0.0, \"#0d0887\"], [0.1111111111111111, \"#46039f\"], [0.2222222222222222, \"#7201a8\"], [0.3333333333333333, \"#9c179e\"], [0.4444444444444444, \"#bd3786\"], [0.5555555555555556, \"#d8576b\"], [0.6666666666666666, \"#ed7953\"], [0.7777777777777778, \"#fb9f3a\"], [0.8888888888888888, \"#fdca26\"], [1.0, \"#f0f921\"]], \"type\": \"heatmap\"}], \"heatmapgl\": [{\"colorbar\": {\"outlinewidth\": 0, \"ticks\": \"\"}, \"colorscale\": [[0.0, \"#0d0887\"], [0.1111111111111111, \"#46039f\"], [0.2222222222222222, \"#7201a8\"], [0.3333333333333333, \"#9c179e\"], [0.4444444444444444, \"#bd3786\"], [0.5555555555555556, \"#d8576b\"], [0.6666666666666666, \"#ed7953\"], [0.7777777777777778, \"#fb9f3a\"], [0.8888888888888888, \"#fdca26\"], [1.0, \"#f0f921\"]], \"type\": \"heatmapgl\"}], \"histogram\": [{\"marker\": {\"colorbar\": {\"outlinewidth\": 0, \"ticks\": \"\"}}, \"type\": \"histogram\"}], \"histogram2d\": [{\"colorbar\": {\"outlinewidth\": 0, \"ticks\": \"\"}, \"colorscale\": [[0.0, \"#0d0887\"], [0.1111111111111111, \"#46039f\"], [0.2222222222222222, \"#7201a8\"], [0.3333333333333333, \"#9c179e\"], [0.4444444444444444, \"#bd3786\"], [0.5555555555555556, \"#d8576b\"], [0.6666666666666666, \"#ed7953\"], [0.7777777777777778, \"#fb9f3a\"], [0.8888888888888888, \"#fdca26\"], [1.0, \"#f0f921\"]], \"type\": \"histogram2d\"}], \"histogram2dcontour\": [{\"colorbar\": {\"outlinewidth\": 0, \"ticks\": \"\"}, \"colorscale\": [[0.0, \"#0d0887\"], [0.1111111111111111, \"#46039f\"], [0.2222222222222222, \"#7201a8\"], [0.3333333333333333, \"#9c179e\"], [0.4444444444444444, \"#bd3786\"], [0.5555555555555556, \"#d8576b\"], [0.6666666666666666, \"#ed7953\"], [0.7777777777777778, \"#fb9f3a\"], [0.8888888888888888, \"#fdca26\"], [1.0, \"#f0f921\"]], \"type\": \"histogram2dcontour\"}], \"mesh3d\": [{\"colorbar\": {\"outlinewidth\": 0, \"ticks\": \"\"}, \"type\": \"mesh3d\"}], \"parcoords\": [{\"line\": {\"colorbar\": {\"outlinewidth\": 0, \"ticks\": \"\"}}, \"type\": \"parcoords\"}], \"scatter\": [{\"marker\": {\"colorbar\": {\"outlinewidth\": 0, \"ticks\": \"\"}}, \"type\": \"scatter\"}], \"scatter3d\": [{\"line\": {\"colorbar\": {\"outlinewidth\": 0, \"ticks\": \"\"}}, \"marker\": {\"colorbar\": {\"outlinewidth\": 0, \"ticks\": \"\"}}, \"type\": \"scatter3d\"}], \"scattercarpet\": [{\"marker\": {\"colorbar\": {\"outlinewidth\": 0, \"ticks\": \"\"}}, \"type\": \"scattercarpet\"}], \"scattergeo\": [{\"marker\": {\"colorbar\": {\"outlinewidth\": 0, \"ticks\": \"\"}}, \"type\": \"scattergeo\"}], \"scattergl\": [{\"marker\": {\"colorbar\": {\"outlinewidth\": 0, \"ticks\": \"\"}}, \"type\": \"scattergl\"}], \"scattermapbox\": [{\"marker\": {\"colorbar\": {\"outlinewidth\": 0, \"ticks\": \"\"}}, \"type\": \"scattermapbox\"}], \"scatterpolar\": [{\"marker\": {\"colorbar\": {\"outlinewidth\": 0, \"ticks\": \"\"}}, \"type\": \"scatterpolar\"}], \"scatterpolargl\": [{\"marker\": {\"colorbar\": {\"outlinewidth\": 0, \"ticks\": \"\"}}, \"type\": \"scatterpolargl\"}], \"scatterternary\": [{\"marker\": {\"colorbar\": {\"outlinewidth\": 0, \"ticks\": \"\"}}, \"type\": \"scatterternary\"}], \"surface\": [{\"colorbar\": {\"outlinewidth\": 0, \"ticks\": \"\"}, \"colorscale\": [[0.0, \"#0d0887\"], [0.1111111111111111, \"#46039f\"], [0.2222222222222222, \"#7201a8\"], [0.3333333333333333, \"#9c179e\"], [0.4444444444444444, \"#bd3786\"], [0.5555555555555556, \"#d8576b\"], [0.6666666666666666, \"#ed7953\"], [0.7777777777777778, \"#fb9f3a\"], [0.8888888888888888, \"#fdca26\"], [1.0, \"#f0f921\"]], \"type\": \"surface\"}], \"table\": [{\"cells\": {\"fill\": {\"color\": \"#EBF0F8\"}, \"line\": {\"color\": \"white\"}}, \"header\": {\"fill\": {\"color\": \"#C8D4E3\"}, \"line\": {\"color\": \"white\"}}, \"type\": \"table\"}]}, \"layout\": {\"annotationdefaults\": {\"arrowcolor\": \"#2a3f5f\", \"arrowhead\": 0, \"arrowwidth\": 1}, \"colorscale\": {\"diverging\": [[0, \"#8e0152\"], [0.1, \"#c51b7d\"], [0.2, \"#de77ae\"], [0.3, \"#f1b6da\"], [0.4, \"#fde0ef\"], [0.5, \"#f7f7f7\"], [0.6, \"#e6f5d0\"], [0.7, \"#b8e186\"], [0.8, \"#7fbc41\"], [0.9, \"#4d9221\"], [1, \"#276419\"]], \"sequential\": [[0.0, \"#0d0887\"], [0.1111111111111111, \"#46039f\"], [0.2222222222222222, \"#7201a8\"], [0.3333333333333333, \"#9c179e\"], [0.4444444444444444, \"#bd3786\"], [0.5555555555555556, \"#d8576b\"], [0.6666666666666666, \"#ed7953\"], [0.7777777777777778, \"#fb9f3a\"], [0.8888888888888888, \"#fdca26\"], [1.0, \"#f0f921\"]], \"sequentialminus\": [[0.0, \"#0d0887\"], [0.1111111111111111, \"#46039f\"], [0.2222222222222222, \"#7201a8\"], [0.3333333333333333, \"#9c179e\"], [0.4444444444444444, \"#bd3786\"], [0.5555555555555556, \"#d8576b\"], [0.6666666666666666, \"#ed7953\"], [0.7777777777777778, \"#fb9f3a\"], [0.8888888888888888, \"#fdca26\"], [1.0, \"#f0f921\"]]}, \"colorway\": [\"#636efa\", \"#EF553B\", \"#00cc96\", \"#ab63fa\", \"#FFA15A\", \"#19d3f3\", \"#FF6692\", \"#B6E880\", \"#FF97FF\", \"#FECB52\"], \"font\": {\"color\": \"#2a3f5f\"}, \"geo\": {\"bgcolor\": \"white\", \"lakecolor\": \"white\", \"landcolor\": \"#E5ECF6\", \"showlakes\": true, \"showland\": true, \"subunitcolor\": \"white\"}, \"hoverlabel\": {\"align\": \"left\"}, \"hovermode\": \"closest\", \"mapbox\": {\"style\": \"light\"}, \"paper_bgcolor\": \"white\", \"plot_bgcolor\": \"#E5ECF6\", \"polar\": {\"angularaxis\": {\"gridcolor\": \"white\", \"linecolor\": \"white\", \"ticks\": \"\"}, \"bgcolor\": \"#E5ECF6\", \"radialaxis\": {\"gridcolor\": \"white\", \"linecolor\": \"white\", \"ticks\": \"\"}}, \"scene\": {\"xaxis\": {\"backgroundcolor\": \"#E5ECF6\", \"gridcolor\": \"white\", \"gridwidth\": 2, \"linecolor\": \"white\", \"showbackground\": true, \"ticks\": \"\", \"zerolinecolor\": \"white\"}, \"yaxis\": {\"backgroundcolor\": \"#E5ECF6\", \"gridcolor\": \"white\", \"gridwidth\": 2, \"linecolor\": \"white\", \"showbackground\": true, \"ticks\": \"\", \"zerolinecolor\": \"white\"}, \"zaxis\": {\"backgroundcolor\": \"#E5ECF6\", \"gridcolor\": \"white\", \"gridwidth\": 2, \"linecolor\": \"white\", \"showbackground\": true, \"ticks\": \"\", \"zerolinecolor\": \"white\"}}, \"shapedefaults\": {\"line\": {\"color\": \"#2a3f5f\"}}, \"ternary\": {\"aaxis\": {\"gridcolor\": \"white\", \"linecolor\": \"white\", \"ticks\": \"\"}, \"baxis\": {\"gridcolor\": \"white\", \"linecolor\": \"white\", \"ticks\": \"\"}, \"bgcolor\": \"#E5ECF6\", \"caxis\": {\"gridcolor\": \"white\", \"linecolor\": \"white\", \"ticks\": \"\"}}, \"title\": {\"x\": 0.05}, \"xaxis\": {\"automargin\": true, \"gridcolor\": \"white\", \"linecolor\": \"white\", \"ticks\": \"\", \"zerolinecolor\": \"white\", \"zerolinewidth\": 2}, \"yaxis\": {\"automargin\": true, \"gridcolor\": \"white\", \"linecolor\": \"white\", \"ticks\": \"\", \"zerolinecolor\": \"white\", \"zerolinewidth\": 2}}}},\n",
       "                        {\"responsive\": true}\n",
       "                    ).then(function(){\n",
       "                            \n",
       "var gd = document.getElementById('74719c18-1784-408e-b9fc-b40f15018e5c');\n",
       "var x = new MutationObserver(function (mutations, observer) {{\n",
       "        var display = window.getComputedStyle(gd).display;\n",
       "        if (!display || display === 'none') {{\n",
       "            console.log([gd, 'removed!']);\n",
       "            Plotly.purge(gd);\n",
       "            observer.disconnect();\n",
       "        }}\n",
       "}});\n",
       "\n",
       "// Listen for the removal of the full notebook cells\n",
       "var notebookContainer = gd.closest('#notebook-container');\n",
       "if (notebookContainer) {{\n",
       "    x.observe(notebookContainer, {childList: true});\n",
       "}}\n",
       "\n",
       "// Listen for the clearing of the current output cell\n",
       "var outputEl = gd.closest('.output');\n",
       "if (outputEl) {{\n",
       "    x.observe(outputEl, {childList: true});\n",
       "}}\n",
       "\n",
       "                        })\n",
       "                };\n",
       "                });\n",
       "            </script>\n",
       "        </div>"
      ]
     },
     "metadata": {},
     "output_type": "display_data"
    }
   ],
   "source": [
    "fig = plot3d(plot, response)\n",
    "fig"
   ]
  },
  {
   "cell_type": "code",
   "execution_count": 72,
   "metadata": {},
   "outputs": [],
   "source": [
    "def plot3d(plot_file, response):\n",
    "    # NIMBUSEA\n",
    "    fig = go.Figure(\n",
    "        go.Scatter3d(\n",
    "            x=plot.content['data'][('f1',)],\n",
    "            y=plot.content['data'][('f2',)],\n",
    "            z=plot.content['data'][('f3',)],\n",
    "            name=\"NIMBUS-RVEA\",\n",
    "            mode='markers',\n",
    "            marker=dict(\n",
    "            size=4,\n",
    "            opacity=0.8\n",
    "        )\n",
    "        )\n",
    "    )\n",
    "\n",
    "    #True Front\n",
    "    fig.add_trace(\n",
    "        go.Scatter3d(\n",
    "            x=[0.5, 0, 0, 0.5],\n",
    "            y=[0, 0.5, 0, 0],\n",
    "            z=[0, 0, 0.5, 0],\n",
    "            name=\"True Front\"\n",
    "        )\n",
    "    )\n",
    "\n",
    "    #Nadir Point\n",
    "    fig.add_trace(\n",
    "        go.Scatter3d(\n",
    "            x=[0.5],\n",
    "            y=[0.5],\n",
    "            z=[0.5],\n",
    "            name=\"Nadir Point\"\n",
    "        )\n",
    "    )\n",
    "\n",
    "\n",
    "\n",
    "    # Reference Point\n",
    "\n",
    "    fig.add_trace(\n",
    "        go.Scatter3d(\n",
    "            x=[response[0,0]],\n",
    "            y=[response[0,1]],\n",
    "            z=[response[0,2]],\n",
    "            name=\"Reference Point\"\n",
    "        )\n",
    "    )\n",
    "\n",
    "    # STOM\n",
    "\n",
    "    fig.add_trace(\n",
    "        go.Scatter3d(\n",
    "            x=[0, response[0,0]],\n",
    "            y=[0, response[0,1]],\n",
    "            z=[0, response[0,2]],\n",
    "            name=\"STOM\"\n",
    "        )\n",
    "    )\n",
    "\n",
    "    #ASF\n",
    "\n",
    "    fig.add_trace(\n",
    "        go.Scatter3d(\n",
    "            x=[response[0,0]-1, response[0,0]+1],\n",
    "            y=[response[0,1]-1, response[0,1]+1],\n",
    "            z=[response[0,2]-1, response[0,2]+1],\n",
    "            name=\"ASF\"\n",
    "        )\n",
    "    )\n",
    "\n",
    "    # Ideal Point\n",
    "    fig.add_trace(\n",
    "        go.Scatter3d(\n",
    "            x=[0],\n",
    "            y=[0],\n",
    "            z=[0],\n",
    "            name=\"Ideal Point\"\n",
    "        )\n",
    "    )\n",
    "\n",
    "    fig.update_layout(\n",
    "        scene = dict(\n",
    "            xaxis = dict(range=[-0.1,0.6],),\n",
    "            yaxis = dict(range=[-0.1,0.6],),\n",
    "            zaxis = dict(range=[-0.1,0.6],),),\n",
    "                     )\n",
    "    fig.update_layout(margin=dict(l=0, r=0, b=0, t=0))\n",
    "    return fig\n",
    "    "
   ]
  },
  {
   "cell_type": "code",
   "execution_count": null,
   "metadata": {},
   "outputs": [],
   "source": [
    "prob_dtlz2 = test_problem_builder(name=\"DTLZ2\", n_of_objectives=3, n_of_variables=5)\n",
    "problem.ideal = np.asarray([0, 0, 0])\n",
    "problem.nadir = np.asarray([1, 1, 1])"
   ]
  }
 ],
 "metadata": {
  "kernelspec": {
   "display_name": "desdeo_emo",
   "language": "python",
   "name": "desdeo_emo"
  },
  "language_info": {
   "codemirror_mode": {
    "name": "ipython",
    "version": 3
   },
   "file_extension": ".py",
   "mimetype": "text/x-python",
   "name": "python",
   "nbconvert_exporter": "python",
   "pygments_lexer": "ipython3",
   "version": "3.7.1"
  }
 },
 "nbformat": 4,
 "nbformat_minor": 2
}
