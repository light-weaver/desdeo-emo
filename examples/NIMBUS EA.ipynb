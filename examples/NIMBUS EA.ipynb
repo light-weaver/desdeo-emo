{
 "cells": [
  {
   "cell_type": "code",
   "execution_count": 1,
   "metadata": {},
   "outputs": [],
   "source": [
    "%matplotlib notebook"
   ]
  },
  {
   "cell_type": "code",
   "execution_count": 2,
   "metadata": {},
   "outputs": [],
   "source": [
    "import numpy as np\n",
    "import pandas as pd\n",
    "\n",
    "from desdeo_problem.testproblems.TestProblems import test_problem_builder\n",
    "\n",
    "from desdeo_emo.EAs.NIMBUS_EA import NIMBUS_RVEA, NIMBUS_NSGAIII\n",
    "import plotly.express as ex\n",
    "from pygmo import fast_non_dominated_sorting as nds\n",
    "import plotly.graph_objects as go"
   ]
  },
  {
   "cell_type": "code",
   "execution_count": 3,
   "metadata": {},
   "outputs": [],
   "source": [
    "import matplotlib.pyplot as plt"
   ]
  },
  {
   "cell_type": "code",
   "execution_count": 4,
   "metadata": {},
   "outputs": [],
   "source": [
    "problem = test_problem_builder(name=\"ZDT1\")"
   ]
  },
  {
   "cell_type": "code",
   "execution_count": 5,
   "metadata": {},
   "outputs": [],
   "source": [
    "problem.ideal = np.asarray([0, 0])\n",
    "problem.nadir = np.asarray([1, 1])"
   ]
  },
  {
   "cell_type": "code",
   "execution_count": 6,
   "metadata": {},
   "outputs": [],
   "source": [
    "evolver = NIMBUS_NSGAIII(problem, n_gen_per_iter=200)"
   ]
  },
  {
   "cell_type": "code",
   "execution_count": 7,
   "metadata": {},
   "outputs": [],
   "source": [
    "plot, pref = evolver.requests()"
   ]
  },
  {
   "cell_type": "code",
   "execution_count": 119,
   "metadata": {},
   "outputs": [],
   "source": [
    "response = np.asarray([[0.75,0.2]])\n",
    "pref.response = pd.DataFrame(response, columns=pref.content['dimensions_data'].columns)"
   ]
  },
  {
   "cell_type": "code",
   "execution_count": 120,
   "metadata": {},
   "outputs": [],
   "source": [
    "plot, pref = evolver.iterate(pref)"
   ]
  },
  {
   "cell_type": "code",
   "execution_count": 121,
   "metadata": {},
   "outputs": [
    {
     "data": {
      "application/javascript": [
       "/* Put everything inside the global mpl namespace */\n",
       "window.mpl = {};\n",
       "\n",
       "\n",
       "mpl.get_websocket_type = function() {\n",
       "    if (typeof(WebSocket) !== 'undefined') {\n",
       "        return WebSocket;\n",
       "    } else if (typeof(MozWebSocket) !== 'undefined') {\n",
       "        return MozWebSocket;\n",
       "    } else {\n",
       "        alert('Your browser does not have WebSocket support. ' +\n",
       "              'Please try Chrome, Safari or Firefox ≥ 6. ' +\n",
       "              'Firefox 4 and 5 are also supported but you ' +\n",
       "              'have to enable WebSockets in about:config.');\n",
       "    };\n",
       "}\n",
       "\n",
       "mpl.figure = function(figure_id, websocket, ondownload, parent_element) {\n",
       "    this.id = figure_id;\n",
       "\n",
       "    this.ws = websocket;\n",
       "\n",
       "    this.supports_binary = (this.ws.binaryType != undefined);\n",
       "\n",
       "    if (!this.supports_binary) {\n",
       "        var warnings = document.getElementById(\"mpl-warnings\");\n",
       "        if (warnings) {\n",
       "            warnings.style.display = 'block';\n",
       "            warnings.textContent = (\n",
       "                \"This browser does not support binary websocket messages. \" +\n",
       "                    \"Performance may be slow.\");\n",
       "        }\n",
       "    }\n",
       "\n",
       "    this.imageObj = new Image();\n",
       "\n",
       "    this.context = undefined;\n",
       "    this.message = undefined;\n",
       "    this.canvas = undefined;\n",
       "    this.rubberband_canvas = undefined;\n",
       "    this.rubberband_context = undefined;\n",
       "    this.format_dropdown = undefined;\n",
       "\n",
       "    this.image_mode = 'full';\n",
       "\n",
       "    this.root = $('<div/>');\n",
       "    this._root_extra_style(this.root)\n",
       "    this.root.attr('style', 'display: inline-block');\n",
       "\n",
       "    $(parent_element).append(this.root);\n",
       "\n",
       "    this._init_header(this);\n",
       "    this._init_canvas(this);\n",
       "    this._init_toolbar(this);\n",
       "\n",
       "    var fig = this;\n",
       "\n",
       "    this.waiting = false;\n",
       "\n",
       "    this.ws.onopen =  function () {\n",
       "            fig.send_message(\"supports_binary\", {value: fig.supports_binary});\n",
       "            fig.send_message(\"send_image_mode\", {});\n",
       "            if (mpl.ratio != 1) {\n",
       "                fig.send_message(\"set_dpi_ratio\", {'dpi_ratio': mpl.ratio});\n",
       "            }\n",
       "            fig.send_message(\"refresh\", {});\n",
       "        }\n",
       "\n",
       "    this.imageObj.onload = function() {\n",
       "            if (fig.image_mode == 'full') {\n",
       "                // Full images could contain transparency (where diff images\n",
       "                // almost always do), so we need to clear the canvas so that\n",
       "                // there is no ghosting.\n",
       "                fig.context.clearRect(0, 0, fig.canvas.width, fig.canvas.height);\n",
       "            }\n",
       "            fig.context.drawImage(fig.imageObj, 0, 0);\n",
       "        };\n",
       "\n",
       "    this.imageObj.onunload = function() {\n",
       "        fig.ws.close();\n",
       "    }\n",
       "\n",
       "    this.ws.onmessage = this._make_on_message_function(this);\n",
       "\n",
       "    this.ondownload = ondownload;\n",
       "}\n",
       "\n",
       "mpl.figure.prototype._init_header = function() {\n",
       "    var titlebar = $(\n",
       "        '<div class=\"ui-dialog-titlebar ui-widget-header ui-corner-all ' +\n",
       "        'ui-helper-clearfix\"/>');\n",
       "    var titletext = $(\n",
       "        '<div class=\"ui-dialog-title\" style=\"width: 100%; ' +\n",
       "        'text-align: center; padding: 3px;\"/>');\n",
       "    titlebar.append(titletext)\n",
       "    this.root.append(titlebar);\n",
       "    this.header = titletext[0];\n",
       "}\n",
       "\n",
       "\n",
       "\n",
       "mpl.figure.prototype._canvas_extra_style = function(canvas_div) {\n",
       "\n",
       "}\n",
       "\n",
       "\n",
       "mpl.figure.prototype._root_extra_style = function(canvas_div) {\n",
       "\n",
       "}\n",
       "\n",
       "mpl.figure.prototype._init_canvas = function() {\n",
       "    var fig = this;\n",
       "\n",
       "    var canvas_div = $('<div/>');\n",
       "\n",
       "    canvas_div.attr('style', 'position: relative; clear: both; outline: 0');\n",
       "\n",
       "    function canvas_keyboard_event(event) {\n",
       "        return fig.key_event(event, event['data']);\n",
       "    }\n",
       "\n",
       "    canvas_div.keydown('key_press', canvas_keyboard_event);\n",
       "    canvas_div.keyup('key_release', canvas_keyboard_event);\n",
       "    this.canvas_div = canvas_div\n",
       "    this._canvas_extra_style(canvas_div)\n",
       "    this.root.append(canvas_div);\n",
       "\n",
       "    var canvas = $('<canvas/>');\n",
       "    canvas.addClass('mpl-canvas');\n",
       "    canvas.attr('style', \"left: 0; top: 0; z-index: 0; outline: 0\")\n",
       "\n",
       "    this.canvas = canvas[0];\n",
       "    this.context = canvas[0].getContext(\"2d\");\n",
       "\n",
       "    var backingStore = this.context.backingStorePixelRatio ||\n",
       "\tthis.context.webkitBackingStorePixelRatio ||\n",
       "\tthis.context.mozBackingStorePixelRatio ||\n",
       "\tthis.context.msBackingStorePixelRatio ||\n",
       "\tthis.context.oBackingStorePixelRatio ||\n",
       "\tthis.context.backingStorePixelRatio || 1;\n",
       "\n",
       "    mpl.ratio = (window.devicePixelRatio || 1) / backingStore;\n",
       "\n",
       "    var rubberband = $('<canvas/>');\n",
       "    rubberband.attr('style', \"position: absolute; left: 0; top: 0; z-index: 1;\")\n",
       "\n",
       "    var pass_mouse_events = true;\n",
       "\n",
       "    canvas_div.resizable({\n",
       "        start: function(event, ui) {\n",
       "            pass_mouse_events = false;\n",
       "        },\n",
       "        resize: function(event, ui) {\n",
       "            fig.request_resize(ui.size.width, ui.size.height);\n",
       "        },\n",
       "        stop: function(event, ui) {\n",
       "            pass_mouse_events = true;\n",
       "            fig.request_resize(ui.size.width, ui.size.height);\n",
       "        },\n",
       "    });\n",
       "\n",
       "    function mouse_event_fn(event) {\n",
       "        if (pass_mouse_events)\n",
       "            return fig.mouse_event(event, event['data']);\n",
       "    }\n",
       "\n",
       "    rubberband.mousedown('button_press', mouse_event_fn);\n",
       "    rubberband.mouseup('button_release', mouse_event_fn);\n",
       "    // Throttle sequential mouse events to 1 every 20ms.\n",
       "    rubberband.mousemove('motion_notify', mouse_event_fn);\n",
       "\n",
       "    rubberband.mouseenter('figure_enter', mouse_event_fn);\n",
       "    rubberband.mouseleave('figure_leave', mouse_event_fn);\n",
       "\n",
       "    canvas_div.on(\"wheel\", function (event) {\n",
       "        event = event.originalEvent;\n",
       "        event['data'] = 'scroll'\n",
       "        if (event.deltaY < 0) {\n",
       "            event.step = 1;\n",
       "        } else {\n",
       "            event.step = -1;\n",
       "        }\n",
       "        mouse_event_fn(event);\n",
       "    });\n",
       "\n",
       "    canvas_div.append(canvas);\n",
       "    canvas_div.append(rubberband);\n",
       "\n",
       "    this.rubberband = rubberband;\n",
       "    this.rubberband_canvas = rubberband[0];\n",
       "    this.rubberband_context = rubberband[0].getContext(\"2d\");\n",
       "    this.rubberband_context.strokeStyle = \"#000000\";\n",
       "\n",
       "    this._resize_canvas = function(width, height) {\n",
       "        // Keep the size of the canvas, canvas container, and rubber band\n",
       "        // canvas in synch.\n",
       "        canvas_div.css('width', width)\n",
       "        canvas_div.css('height', height)\n",
       "\n",
       "        canvas.attr('width', width * mpl.ratio);\n",
       "        canvas.attr('height', height * mpl.ratio);\n",
       "        canvas.attr('style', 'width: ' + width + 'px; height: ' + height + 'px;');\n",
       "\n",
       "        rubberband.attr('width', width);\n",
       "        rubberband.attr('height', height);\n",
       "    }\n",
       "\n",
       "    // Set the figure to an initial 600x600px, this will subsequently be updated\n",
       "    // upon first draw.\n",
       "    this._resize_canvas(600, 600);\n",
       "\n",
       "    // Disable right mouse context menu.\n",
       "    $(this.rubberband_canvas).bind(\"contextmenu\",function(e){\n",
       "        return false;\n",
       "    });\n",
       "\n",
       "    function set_focus () {\n",
       "        canvas.focus();\n",
       "        canvas_div.focus();\n",
       "    }\n",
       "\n",
       "    window.setTimeout(set_focus, 100);\n",
       "}\n",
       "\n",
       "mpl.figure.prototype._init_toolbar = function() {\n",
       "    var fig = this;\n",
       "\n",
       "    var nav_element = $('<div/>');\n",
       "    nav_element.attr('style', 'width: 100%');\n",
       "    this.root.append(nav_element);\n",
       "\n",
       "    // Define a callback function for later on.\n",
       "    function toolbar_event(event) {\n",
       "        return fig.toolbar_button_onclick(event['data']);\n",
       "    }\n",
       "    function toolbar_mouse_event(event) {\n",
       "        return fig.toolbar_button_onmouseover(event['data']);\n",
       "    }\n",
       "\n",
       "    for(var toolbar_ind in mpl.toolbar_items) {\n",
       "        var name = mpl.toolbar_items[toolbar_ind][0];\n",
       "        var tooltip = mpl.toolbar_items[toolbar_ind][1];\n",
       "        var image = mpl.toolbar_items[toolbar_ind][2];\n",
       "        var method_name = mpl.toolbar_items[toolbar_ind][3];\n",
       "\n",
       "        if (!name) {\n",
       "            // put a spacer in here.\n",
       "            continue;\n",
       "        }\n",
       "        var button = $('<button/>');\n",
       "        button.addClass('ui-button ui-widget ui-state-default ui-corner-all ' +\n",
       "                        'ui-button-icon-only');\n",
       "        button.attr('role', 'button');\n",
       "        button.attr('aria-disabled', 'false');\n",
       "        button.click(method_name, toolbar_event);\n",
       "        button.mouseover(tooltip, toolbar_mouse_event);\n",
       "\n",
       "        var icon_img = $('<span/>');\n",
       "        icon_img.addClass('ui-button-icon-primary ui-icon');\n",
       "        icon_img.addClass(image);\n",
       "        icon_img.addClass('ui-corner-all');\n",
       "\n",
       "        var tooltip_span = $('<span/>');\n",
       "        tooltip_span.addClass('ui-button-text');\n",
       "        tooltip_span.html(tooltip);\n",
       "\n",
       "        button.append(icon_img);\n",
       "        button.append(tooltip_span);\n",
       "\n",
       "        nav_element.append(button);\n",
       "    }\n",
       "\n",
       "    var fmt_picker_span = $('<span/>');\n",
       "\n",
       "    var fmt_picker = $('<select/>');\n",
       "    fmt_picker.addClass('mpl-toolbar-option ui-widget ui-widget-content');\n",
       "    fmt_picker_span.append(fmt_picker);\n",
       "    nav_element.append(fmt_picker_span);\n",
       "    this.format_dropdown = fmt_picker[0];\n",
       "\n",
       "    for (var ind in mpl.extensions) {\n",
       "        var fmt = mpl.extensions[ind];\n",
       "        var option = $(\n",
       "            '<option/>', {selected: fmt === mpl.default_extension}).html(fmt);\n",
       "        fmt_picker.append(option);\n",
       "    }\n",
       "\n",
       "    // Add hover states to the ui-buttons\n",
       "    $( \".ui-button\" ).hover(\n",
       "        function() { $(this).addClass(\"ui-state-hover\");},\n",
       "        function() { $(this).removeClass(\"ui-state-hover\");}\n",
       "    );\n",
       "\n",
       "    var status_bar = $('<span class=\"mpl-message\"/>');\n",
       "    nav_element.append(status_bar);\n",
       "    this.message = status_bar[0];\n",
       "}\n",
       "\n",
       "mpl.figure.prototype.request_resize = function(x_pixels, y_pixels) {\n",
       "    // Request matplotlib to resize the figure. Matplotlib will then trigger a resize in the client,\n",
       "    // which will in turn request a refresh of the image.\n",
       "    this.send_message('resize', {'width': x_pixels, 'height': y_pixels});\n",
       "}\n",
       "\n",
       "mpl.figure.prototype.send_message = function(type, properties) {\n",
       "    properties['type'] = type;\n",
       "    properties['figure_id'] = this.id;\n",
       "    this.ws.send(JSON.stringify(properties));\n",
       "}\n",
       "\n",
       "mpl.figure.prototype.send_draw_message = function() {\n",
       "    if (!this.waiting) {\n",
       "        this.waiting = true;\n",
       "        this.ws.send(JSON.stringify({type: \"draw\", figure_id: this.id}));\n",
       "    }\n",
       "}\n",
       "\n",
       "\n",
       "mpl.figure.prototype.handle_save = function(fig, msg) {\n",
       "    var format_dropdown = fig.format_dropdown;\n",
       "    var format = format_dropdown.options[format_dropdown.selectedIndex].value;\n",
       "    fig.ondownload(fig, format);\n",
       "}\n",
       "\n",
       "\n",
       "mpl.figure.prototype.handle_resize = function(fig, msg) {\n",
       "    var size = msg['size'];\n",
       "    if (size[0] != fig.canvas.width || size[1] != fig.canvas.height) {\n",
       "        fig._resize_canvas(size[0], size[1]);\n",
       "        fig.send_message(\"refresh\", {});\n",
       "    };\n",
       "}\n",
       "\n",
       "mpl.figure.prototype.handle_rubberband = function(fig, msg) {\n",
       "    var x0 = msg['x0'] / mpl.ratio;\n",
       "    var y0 = (fig.canvas.height - msg['y0']) / mpl.ratio;\n",
       "    var x1 = msg['x1'] / mpl.ratio;\n",
       "    var y1 = (fig.canvas.height - msg['y1']) / mpl.ratio;\n",
       "    x0 = Math.floor(x0) + 0.5;\n",
       "    y0 = Math.floor(y0) + 0.5;\n",
       "    x1 = Math.floor(x1) + 0.5;\n",
       "    y1 = Math.floor(y1) + 0.5;\n",
       "    var min_x = Math.min(x0, x1);\n",
       "    var min_y = Math.min(y0, y1);\n",
       "    var width = Math.abs(x1 - x0);\n",
       "    var height = Math.abs(y1 - y0);\n",
       "\n",
       "    fig.rubberband_context.clearRect(\n",
       "        0, 0, fig.canvas.width / mpl.ratio, fig.canvas.height / mpl.ratio);\n",
       "\n",
       "    fig.rubberband_context.strokeRect(min_x, min_y, width, height);\n",
       "}\n",
       "\n",
       "mpl.figure.prototype.handle_figure_label = function(fig, msg) {\n",
       "    // Updates the figure title.\n",
       "    fig.header.textContent = msg['label'];\n",
       "}\n",
       "\n",
       "mpl.figure.prototype.handle_cursor = function(fig, msg) {\n",
       "    var cursor = msg['cursor'];\n",
       "    switch(cursor)\n",
       "    {\n",
       "    case 0:\n",
       "        cursor = 'pointer';\n",
       "        break;\n",
       "    case 1:\n",
       "        cursor = 'default';\n",
       "        break;\n",
       "    case 2:\n",
       "        cursor = 'crosshair';\n",
       "        break;\n",
       "    case 3:\n",
       "        cursor = 'move';\n",
       "        break;\n",
       "    }\n",
       "    fig.rubberband_canvas.style.cursor = cursor;\n",
       "}\n",
       "\n",
       "mpl.figure.prototype.handle_message = function(fig, msg) {\n",
       "    fig.message.textContent = msg['message'];\n",
       "}\n",
       "\n",
       "mpl.figure.prototype.handle_draw = function(fig, msg) {\n",
       "    // Request the server to send over a new figure.\n",
       "    fig.send_draw_message();\n",
       "}\n",
       "\n",
       "mpl.figure.prototype.handle_image_mode = function(fig, msg) {\n",
       "    fig.image_mode = msg['mode'];\n",
       "}\n",
       "\n",
       "mpl.figure.prototype.updated_canvas_event = function() {\n",
       "    // Called whenever the canvas gets updated.\n",
       "    this.send_message(\"ack\", {});\n",
       "}\n",
       "\n",
       "// A function to construct a web socket function for onmessage handling.\n",
       "// Called in the figure constructor.\n",
       "mpl.figure.prototype._make_on_message_function = function(fig) {\n",
       "    return function socket_on_message(evt) {\n",
       "        if (evt.data instanceof Blob) {\n",
       "            /* FIXME: We get \"Resource interpreted as Image but\n",
       "             * transferred with MIME type text/plain:\" errors on\n",
       "             * Chrome.  But how to set the MIME type?  It doesn't seem\n",
       "             * to be part of the websocket stream */\n",
       "            evt.data.type = \"image/png\";\n",
       "\n",
       "            /* Free the memory for the previous frames */\n",
       "            if (fig.imageObj.src) {\n",
       "                (window.URL || window.webkitURL).revokeObjectURL(\n",
       "                    fig.imageObj.src);\n",
       "            }\n",
       "\n",
       "            fig.imageObj.src = (window.URL || window.webkitURL).createObjectURL(\n",
       "                evt.data);\n",
       "            fig.updated_canvas_event();\n",
       "            fig.waiting = false;\n",
       "            return;\n",
       "        }\n",
       "        else if (typeof evt.data === 'string' && evt.data.slice(0, 21) == \"data:image/png;base64\") {\n",
       "            fig.imageObj.src = evt.data;\n",
       "            fig.updated_canvas_event();\n",
       "            fig.waiting = false;\n",
       "            return;\n",
       "        }\n",
       "\n",
       "        var msg = JSON.parse(evt.data);\n",
       "        var msg_type = msg['type'];\n",
       "\n",
       "        // Call the  \"handle_{type}\" callback, which takes\n",
       "        // the figure and JSON message as its only arguments.\n",
       "        try {\n",
       "            var callback = fig[\"handle_\" + msg_type];\n",
       "        } catch (e) {\n",
       "            console.log(\"No handler for the '\" + msg_type + \"' message type: \", msg);\n",
       "            return;\n",
       "        }\n",
       "\n",
       "        if (callback) {\n",
       "            try {\n",
       "                // console.log(\"Handling '\" + msg_type + \"' message: \", msg);\n",
       "                callback(fig, msg);\n",
       "            } catch (e) {\n",
       "                console.log(\"Exception inside the 'handler_\" + msg_type + \"' callback:\", e, e.stack, msg);\n",
       "            }\n",
       "        }\n",
       "    };\n",
       "}\n",
       "\n",
       "// from http://stackoverflow.com/questions/1114465/getting-mouse-location-in-canvas\n",
       "mpl.findpos = function(e) {\n",
       "    //this section is from http://www.quirksmode.org/js/events_properties.html\n",
       "    var targ;\n",
       "    if (!e)\n",
       "        e = window.event;\n",
       "    if (e.target)\n",
       "        targ = e.target;\n",
       "    else if (e.srcElement)\n",
       "        targ = e.srcElement;\n",
       "    if (targ.nodeType == 3) // defeat Safari bug\n",
       "        targ = targ.parentNode;\n",
       "\n",
       "    // jQuery normalizes the pageX and pageY\n",
       "    // pageX,Y are the mouse positions relative to the document\n",
       "    // offset() returns the position of the element relative to the document\n",
       "    var x = e.pageX - $(targ).offset().left;\n",
       "    var y = e.pageY - $(targ).offset().top;\n",
       "\n",
       "    return {\"x\": x, \"y\": y};\n",
       "};\n",
       "\n",
       "/*\n",
       " * return a copy of an object with only non-object keys\n",
       " * we need this to avoid circular references\n",
       " * http://stackoverflow.com/a/24161582/3208463\n",
       " */\n",
       "function simpleKeys (original) {\n",
       "  return Object.keys(original).reduce(function (obj, key) {\n",
       "    if (typeof original[key] !== 'object')\n",
       "        obj[key] = original[key]\n",
       "    return obj;\n",
       "  }, {});\n",
       "}\n",
       "\n",
       "mpl.figure.prototype.mouse_event = function(event, name) {\n",
       "    var canvas_pos = mpl.findpos(event)\n",
       "\n",
       "    if (name === 'button_press')\n",
       "    {\n",
       "        this.canvas.focus();\n",
       "        this.canvas_div.focus();\n",
       "    }\n",
       "\n",
       "    var x = canvas_pos.x * mpl.ratio;\n",
       "    var y = canvas_pos.y * mpl.ratio;\n",
       "\n",
       "    this.send_message(name, {x: x, y: y, button: event.button,\n",
       "                             step: event.step,\n",
       "                             guiEvent: simpleKeys(event)});\n",
       "\n",
       "    /* This prevents the web browser from automatically changing to\n",
       "     * the text insertion cursor when the button is pressed.  We want\n",
       "     * to control all of the cursor setting manually through the\n",
       "     * 'cursor' event from matplotlib */\n",
       "    event.preventDefault();\n",
       "    return false;\n",
       "}\n",
       "\n",
       "mpl.figure.prototype._key_event_extra = function(event, name) {\n",
       "    // Handle any extra behaviour associated with a key event\n",
       "}\n",
       "\n",
       "mpl.figure.prototype.key_event = function(event, name) {\n",
       "\n",
       "    // Prevent repeat events\n",
       "    if (name == 'key_press')\n",
       "    {\n",
       "        if (event.which === this._key)\n",
       "            return;\n",
       "        else\n",
       "            this._key = event.which;\n",
       "    }\n",
       "    if (name == 'key_release')\n",
       "        this._key = null;\n",
       "\n",
       "    var value = '';\n",
       "    if (event.ctrlKey && event.which != 17)\n",
       "        value += \"ctrl+\";\n",
       "    if (event.altKey && event.which != 18)\n",
       "        value += \"alt+\";\n",
       "    if (event.shiftKey && event.which != 16)\n",
       "        value += \"shift+\";\n",
       "\n",
       "    value += 'k';\n",
       "    value += event.which.toString();\n",
       "\n",
       "    this._key_event_extra(event, name);\n",
       "\n",
       "    this.send_message(name, {key: value,\n",
       "                             guiEvent: simpleKeys(event)});\n",
       "    return false;\n",
       "}\n",
       "\n",
       "mpl.figure.prototype.toolbar_button_onclick = function(name) {\n",
       "    if (name == 'download') {\n",
       "        this.handle_save(this, null);\n",
       "    } else {\n",
       "        this.send_message(\"toolbar_button\", {name: name});\n",
       "    }\n",
       "};\n",
       "\n",
       "mpl.figure.prototype.toolbar_button_onmouseover = function(tooltip) {\n",
       "    this.message.textContent = tooltip;\n",
       "};\n",
       "mpl.toolbar_items = [[\"Home\", \"Reset original view\", \"fa fa-home icon-home\", \"home\"], [\"Back\", \"Back to previous view\", \"fa fa-arrow-left icon-arrow-left\", \"back\"], [\"Forward\", \"Forward to next view\", \"fa fa-arrow-right icon-arrow-right\", \"forward\"], [\"\", \"\", \"\", \"\"], [\"Pan\", \"Pan axes with left mouse, zoom with right\", \"fa fa-arrows icon-move\", \"pan\"], [\"Zoom\", \"Zoom to rectangle\", \"fa fa-square-o icon-check-empty\", \"zoom\"], [\"\", \"\", \"\", \"\"], [\"Download\", \"Download plot\", \"fa fa-floppy-o icon-save\", \"download\"]];\n",
       "\n",
       "mpl.extensions = [\"eps\", \"pdf\", \"png\", \"ps\", \"raw\", \"svg\"];\n",
       "\n",
       "mpl.default_extension = \"png\";var comm_websocket_adapter = function(comm) {\n",
       "    // Create a \"websocket\"-like object which calls the given IPython comm\n",
       "    // object with the appropriate methods. Currently this is a non binary\n",
       "    // socket, so there is still some room for performance tuning.\n",
       "    var ws = {};\n",
       "\n",
       "    ws.close = function() {\n",
       "        comm.close()\n",
       "    };\n",
       "    ws.send = function(m) {\n",
       "        //console.log('sending', m);\n",
       "        comm.send(m);\n",
       "    };\n",
       "    // Register the callback with on_msg.\n",
       "    comm.on_msg(function(msg) {\n",
       "        //console.log('receiving', msg['content']['data'], msg);\n",
       "        // Pass the mpl event to the overridden (by mpl) onmessage function.\n",
       "        ws.onmessage(msg['content']['data'])\n",
       "    });\n",
       "    return ws;\n",
       "}\n",
       "\n",
       "mpl.mpl_figure_comm = function(comm, msg) {\n",
       "    // This is the function which gets called when the mpl process\n",
       "    // starts-up an IPython Comm through the \"matplotlib\" channel.\n",
       "\n",
       "    var id = msg.content.data.id;\n",
       "    // Get hold of the div created by the display call when the Comm\n",
       "    // socket was opened in Python.\n",
       "    var element = $(\"#\" + id);\n",
       "    var ws_proxy = comm_websocket_adapter(comm)\n",
       "\n",
       "    function ondownload(figure, format) {\n",
       "        window.open(figure.imageObj.src);\n",
       "    }\n",
       "\n",
       "    var fig = new mpl.figure(id, ws_proxy,\n",
       "                           ondownload,\n",
       "                           element.get(0));\n",
       "\n",
       "    // Call onopen now - mpl needs it, as it is assuming we've passed it a real\n",
       "    // web socket which is closed, not our websocket->open comm proxy.\n",
       "    ws_proxy.onopen();\n",
       "\n",
       "    fig.parent_element = element.get(0);\n",
       "    fig.cell_info = mpl.find_output_cell(\"<div id='\" + id + \"'></div>\");\n",
       "    if (!fig.cell_info) {\n",
       "        console.error(\"Failed to find cell for figure\", id, fig);\n",
       "        return;\n",
       "    }\n",
       "\n",
       "    var output_index = fig.cell_info[2]\n",
       "    var cell = fig.cell_info[0];\n",
       "\n",
       "};\n",
       "\n",
       "mpl.figure.prototype.handle_close = function(fig, msg) {\n",
       "    var width = fig.canvas.width/mpl.ratio\n",
       "    fig.root.unbind('remove')\n",
       "\n",
       "    // Update the output cell to use the data from the current canvas.\n",
       "    fig.push_to_output();\n",
       "    var dataURL = fig.canvas.toDataURL();\n",
       "    // Re-enable the keyboard manager in IPython - without this line, in FF,\n",
       "    // the notebook keyboard shortcuts fail.\n",
       "    IPython.keyboard_manager.enable()\n",
       "    $(fig.parent_element).html('<img src=\"' + dataURL + '\" width=\"' + width + '\">');\n",
       "    fig.close_ws(fig, msg);\n",
       "}\n",
       "\n",
       "mpl.figure.prototype.close_ws = function(fig, msg){\n",
       "    fig.send_message('closing', msg);\n",
       "    // fig.ws.close()\n",
       "}\n",
       "\n",
       "mpl.figure.prototype.push_to_output = function(remove_interactive) {\n",
       "    // Turn the data on the canvas into data in the output cell.\n",
       "    var width = this.canvas.width/mpl.ratio\n",
       "    var dataURL = this.canvas.toDataURL();\n",
       "    this.cell_info[1]['text/html'] = '<img src=\"' + dataURL + '\" width=\"' + width + '\">';\n",
       "}\n",
       "\n",
       "mpl.figure.prototype.updated_canvas_event = function() {\n",
       "    // Tell IPython that the notebook contents must change.\n",
       "    IPython.notebook.set_dirty(true);\n",
       "    this.send_message(\"ack\", {});\n",
       "    var fig = this;\n",
       "    // Wait a second, then push the new image to the DOM so\n",
       "    // that it is saved nicely (might be nice to debounce this).\n",
       "    setTimeout(function () { fig.push_to_output() }, 1000);\n",
       "}\n",
       "\n",
       "mpl.figure.prototype._init_toolbar = function() {\n",
       "    var fig = this;\n",
       "\n",
       "    var nav_element = $('<div/>');\n",
       "    nav_element.attr('style', 'width: 100%');\n",
       "    this.root.append(nav_element);\n",
       "\n",
       "    // Define a callback function for later on.\n",
       "    function toolbar_event(event) {\n",
       "        return fig.toolbar_button_onclick(event['data']);\n",
       "    }\n",
       "    function toolbar_mouse_event(event) {\n",
       "        return fig.toolbar_button_onmouseover(event['data']);\n",
       "    }\n",
       "\n",
       "    for(var toolbar_ind in mpl.toolbar_items){\n",
       "        var name = mpl.toolbar_items[toolbar_ind][0];\n",
       "        var tooltip = mpl.toolbar_items[toolbar_ind][1];\n",
       "        var image = mpl.toolbar_items[toolbar_ind][2];\n",
       "        var method_name = mpl.toolbar_items[toolbar_ind][3];\n",
       "\n",
       "        if (!name) { continue; };\n",
       "\n",
       "        var button = $('<button class=\"btn btn-default\" href=\"#\" title=\"' + name + '\"><i class=\"fa ' + image + ' fa-lg\"></i></button>');\n",
       "        button.click(method_name, toolbar_event);\n",
       "        button.mouseover(tooltip, toolbar_mouse_event);\n",
       "        nav_element.append(button);\n",
       "    }\n",
       "\n",
       "    // Add the status bar.\n",
       "    var status_bar = $('<span class=\"mpl-message\" style=\"text-align:right; float: right;\"/>');\n",
       "    nav_element.append(status_bar);\n",
       "    this.message = status_bar[0];\n",
       "\n",
       "    // Add the close button to the window.\n",
       "    var buttongrp = $('<div class=\"btn-group inline pull-right\"></div>');\n",
       "    var button = $('<button class=\"btn btn-mini btn-primary\" href=\"#\" title=\"Stop Interaction\"><i class=\"fa fa-power-off icon-remove icon-large\"></i></button>');\n",
       "    button.click(function (evt) { fig.handle_close(fig, {}); } );\n",
       "    button.mouseover('Stop Interaction', toolbar_mouse_event);\n",
       "    buttongrp.append(button);\n",
       "    var titlebar = this.root.find($('.ui-dialog-titlebar'));\n",
       "    titlebar.prepend(buttongrp);\n",
       "}\n",
       "\n",
       "mpl.figure.prototype._root_extra_style = function(el){\n",
       "    var fig = this\n",
       "    el.on(\"remove\", function(){\n",
       "\tfig.close_ws(fig, {});\n",
       "    });\n",
       "}\n",
       "\n",
       "mpl.figure.prototype._canvas_extra_style = function(el){\n",
       "    // this is important to make the div 'focusable\n",
       "    el.attr('tabindex', 0)\n",
       "    // reach out to IPython and tell the keyboard manager to turn it's self\n",
       "    // off when our div gets focus\n",
       "\n",
       "    // location in version 3\n",
       "    if (IPython.notebook.keyboard_manager) {\n",
       "        IPython.notebook.keyboard_manager.register_events(el);\n",
       "    }\n",
       "    else {\n",
       "        // location in version 2\n",
       "        IPython.keyboard_manager.register_events(el);\n",
       "    }\n",
       "\n",
       "}\n",
       "\n",
       "mpl.figure.prototype._key_event_extra = function(event, name) {\n",
       "    var manager = IPython.notebook.keyboard_manager;\n",
       "    if (!manager)\n",
       "        manager = IPython.keyboard_manager;\n",
       "\n",
       "    // Check for shift+enter\n",
       "    if (event.shiftKey && event.which == 13) {\n",
       "        this.canvas_div.blur();\n",
       "        // select the cell after this one\n",
       "        var index = IPython.notebook.find_cell_index(this.cell_info[0]);\n",
       "        IPython.notebook.select(index + 1);\n",
       "    }\n",
       "}\n",
       "\n",
       "mpl.figure.prototype.handle_save = function(fig, msg) {\n",
       "    fig.ondownload(fig, null);\n",
       "}\n",
       "\n",
       "\n",
       "mpl.find_output_cell = function(html_output) {\n",
       "    // Return the cell and output element which can be found *uniquely* in the notebook.\n",
       "    // Note - this is a bit hacky, but it is done because the \"notebook_saving.Notebook\"\n",
       "    // IPython event is triggered only after the cells have been serialised, which for\n",
       "    // our purposes (turning an active figure into a static one), is too late.\n",
       "    var cells = IPython.notebook.get_cells();\n",
       "    var ncells = cells.length;\n",
       "    for (var i=0; i<ncells; i++) {\n",
       "        var cell = cells[i];\n",
       "        if (cell.cell_type === 'code'){\n",
       "            for (var j=0; j<cell.output_area.outputs.length; j++) {\n",
       "                var data = cell.output_area.outputs[j];\n",
       "                if (data.data) {\n",
       "                    // IPython >= 3 moved mimebundle to data attribute of output\n",
       "                    data = data.data;\n",
       "                }\n",
       "                if (data['text/html'] == html_output) {\n",
       "                    return [cell, data, j];\n",
       "                }\n",
       "            }\n",
       "        }\n",
       "    }\n",
       "}\n",
       "\n",
       "// Register the function which deals with the matplotlib target/channel.\n",
       "// The kernel may be null if the page has been refreshed.\n",
       "if (IPython.notebook.kernel != null) {\n",
       "    IPython.notebook.kernel.comm_manager.register_target('matplotlib', mpl.mpl_figure_comm);\n",
       "}\n"
      ],
      "text/plain": [
       "<IPython.core.display.Javascript object>"
      ]
     },
     "metadata": {},
     "output_type": "display_data"
    },
    {
     "data": {
      "text/html": [
       "<img src=\"data:image/png;base64,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\" width=\"479.93333333333334\">"
      ],
      "text/plain": [
       "<IPython.core.display.HTML object>"
      ]
     },
     "metadata": {},
     "output_type": "display_data"
    },
    {
     "name": "stderr",
     "output_type": "stream",
     "text": [
      "2020-03-30 19:41:51,774 - matplotlib.backends.backend_pdf - DEBUG - Assigning font /b'F1' = '/home/rishi/.virtualenvs/desdeo-emo/lib/python3.7/site-packages/matplotlib/mpl-data/fonts/ttf/DejaVuSans.ttf'\n",
      "2020-03-30 19:41:51,789 - matplotlib.backends.backend_pdf - DEBUG - Embedding font /home/rishi/.virtualenvs/desdeo-emo/lib/python3.7/site-packages/matplotlib/mpl-data/fonts/ttf/DejaVuSans.ttf.\n",
      "2020-03-30 19:41:51,789 - matplotlib.backends.backend_pdf - DEBUG - Writing TrueType font.\n"
     ]
    }
   ],
   "source": [
    "scaled_data = np.asarray([scalar(evolver.population.fitness, response) for scalar in evolver.scalarization_methods]).T\n",
    "non_dom_ids = nds(scaled_data)[0][0]\n",
    "\n",
    "font_size=12\n",
    "\n",
    "plt.rc('font', family='serif', serif='Times')\n",
    "plt.rc('text', usetex=False)\n",
    "plt.rc('xtick', labelsize=font_size)\n",
    "plt.rc('ytick', labelsize=font_size)\n",
    "plt.rc('axes', labelsize=font_size)\n",
    "\n",
    "width = 2.4 *2\n",
    "height = width / 2\n",
    "\n",
    "\n",
    "fig, ax = plt.subplots()\n",
    "fig.subplots_adjust(left=.15, bottom=.16, right=.99, top=.97)\n",
    "\n",
    "\n",
    "ax.scatter(x=response[:,0], y=response[:,1], c='r', label='Reference Point')\n",
    "ax.scatter(\n",
    "    x=evolver.population.objectives[non_dom_ids, 0],\n",
    "    y=evolver.population.objectives[non_dom_ids, 1],\n",
    "    label='NIMBUS-RVEA'\n",
    ")\n",
    "\n",
    "pareto = ax.plot(zdt1_pareto[:,0], zdt1_pareto[:,1],'-.', label=\"True front\")\n",
    "ax.plot(\n",
    "    [response[:,0],response[:,0]*10, -response[0,0]*10],\n",
    "    [response[:,1],response[:,1]*10, -response[0,1]*10],\n",
    "    color='g',\n",
    "    label='STOM')\n",
    "ax.plot(\n",
    "    [response[:,0],1, response[0,0] - 1*(1-response[0,0])],\n",
    "    [response[:,1],1, response[0,1] - 1*(1-response[0,1])],\n",
    "    color='r',\n",
    "    label='AUG')\n",
    "\n",
    "plt.xlim([0,1])\n",
    "plt.ylim([0,1])\n",
    "plt.xlabel(\"y1\")\n",
    "plt.ylabel(\"y2\")\n",
    "#plt.title(\"ZDT1 problem with NIMBUS inspired EA\")\n",
    "#ax.legend()\n",
    "\n",
    "fig.set_size_inches(width, height)\n",
    "\n",
    "plt.tight_layout()\n",
    "\n",
    "fig.savefig('2D_4.pdf')"
   ]
  },
  {
   "cell_type": "code",
   "execution_count": 30,
   "metadata": {},
   "outputs": [
    {
     "data": {
      "text/plain": [
       "[array([0.9]), array([9.]), array([0.1]), array([1.])]"
      ]
     },
     "execution_count": 30,
     "metadata": {},
     "output_type": "execute_result"
    }
   ],
   "source": [
    "[response[:,0],response[:,0]*10, response[:,1],response[:,1]*10]"
   ]
  },
  {
   "cell_type": "code",
   "execution_count": 73,
   "metadata": {},
   "outputs": [],
   "source": [
    "scaled_data = np.asarray([scalar(evolver.population.fitness, pref.response.values) for scalar in evolver.scalarization_methods]).T"
   ]
  },
  {
   "cell_type": "code",
   "execution_count": 10,
   "metadata": {},
   "outputs": [],
   "source": [
    "zdt1_pareto = np.asarray([[0.0000000333,0.9998173820],\n",
    "[0.0036524605,0.9395644103],\n",
    "[0.0109353082,0.8954279758],\n",
    "[0.0201661797,0.8579923253],\n",
    "[0.0307984775,0.8245050499],\n",
    "[0.0425521730,0.7937182195],\n",
    "[0.0552536936,0.7649389578],\n",
    "[0.0687834600,0.7377339899],\n",
    "[0.0830533346,0.7118102455],\n",
    "[0.0979952414,0.6869580836],\n",
    "[0.1135547782,0.6630211013],\n",
    "[0.1296872770,0.6398788023],\n",
    "[0.1463553419,0.6174358329],\n",
    "[0.1635270897,0.5956151713],\n",
    "[0.1811749649,0.5743534743],\n",
    "[0.1992748910,0.5535978371],\n",
    "[0.2178056136,0.5333035102],\n",
    "[0.2367481746,0.5134322508],\n",
    "[0.2560856025,0.4939509881],\n",
    "[0.2758025276,0.4748309533],\n",
    "[0.2958850236,0.4560468554],\n",
    "[0.3163203619,0.4375763502],\n",
    "[0.3370968359,0.4193995902],\n",
    "[0.3582036897,0.4014987972],\n",
    "[0.3796309819,0.3838579856],\n",
    "[0.4013694644,0.3664627364],\n",
    "[0.4234104957,0.3492999957],\n",
    "[0.4457460837,0.3323578176],\n",
    "[0.4683687091,0.3156253153],\n",
    "[0.4912712857,0.2990925270],\n",
    "[0.5144471844,0.2827502636],\n",
    "[0.5378901526,0.2665900514],\n",
    "[0.5615942516,0.2506040755],\n",
    "[0.5855539020,0.2347850615],\n",
    "[0.6097637681,0.2191262791],\n",
    "[0.6342188315,0.2036214270],\n",
    "[0.6589142602,0.1882646612],\n",
    "[0.6838455122,0.1730504779],\n",
    "[0.7090082355,0.1579737323],\n",
    "[0.7343982546,0.1430296070],\n",
    "[0.7600116005,0.1282135580],\n",
    "[0.7858444564,0.1135213164],\n",
    "[0.8118931476,0.0989488651],\n",
    "[0.8381541846,0.0844923897],\n",
    "[0.8646242088,0.0701482867],\n",
    "[0.8912999852,0.0559131474],\n",
    "[0.9181784008,0.0417837401],\n",
    "[0.9452564510,0.0277570000],\n",
    "[0.9725312450,0.0138300121],\n",
    "[1.0000000000,0.0000000000],])"
   ]
  },
  {
   "cell_type": "code",
   "execution_count": 13,
   "metadata": {},
   "outputs": [],
   "source": [
    "# 3 Objectives"
   ]
  },
  {
   "cell_type": "code",
   "execution_count": 15,
   "metadata": {},
   "outputs": [],
   "source": [
    "import plotly.graph_objects as go"
   ]
  },
  {
   "cell_type": "code",
   "execution_count": 16,
   "metadata": {},
   "outputs": [],
   "source": [
    "problem = test_problem_builder(name=\"DTLZ1\", n_of_objectives=3, n_of_variables=5)"
   ]
  },
  {
   "cell_type": "code",
   "execution_count": 17,
   "metadata": {},
   "outputs": [],
   "source": [
    "problem.ideal = np.asarray([0, 0, 0])\n",
    "problem.nadir = np.asarray([0.5, 0.5, 0.5])"
   ]
  },
  {
   "cell_type": "code",
   "execution_count": 18,
   "metadata": {},
   "outputs": [],
   "source": [
    "evolver = NIMBUS_NSGAIII(problem, n_gen_per_iter=200)"
   ]
  },
  {
   "cell_type": "code",
   "execution_count": 19,
   "metadata": {},
   "outputs": [],
   "source": [
    "plot, pref = evolver.requests()"
   ]
  },
  {
   "cell_type": "code",
   "execution_count": 20,
   "metadata": {},
   "outputs": [
    {
     "data": {
      "text/plain": [
       "{'dimensions_data':            f1   f2   f3\n",
       " minimize    1    1    1\n",
       " ideal       0    0    0\n",
       " nadir     0.5  0.5  0.5,\n",
       " 'message': 'Provide a reference point worse than to the ideal point and better than the nadir point.\\nIdeal point: \\nf1    0\\nf2    0\\nf3    0\\nName: ideal, dtype: object\\nNadir point: \\nf1    0.5\\nf2    0.5\\nf3    0.5\\nName: nadir, dtype: object\\nThe reference point will be used to create scalarization functions in the preferred region.\\n',\n",
       " 'validator': <function desdeo_tools.interaction.validators.validate_ref_point_with_ideal_and_nadir(dimensions_data: pandas.core.frame.DataFrame, reference_point: pandas.core.frame.DataFrame)>}"
      ]
     },
     "execution_count": 20,
     "metadata": {},
     "output_type": "execute_result"
    }
   ],
   "source": [
    "pref.content"
   ]
  },
  {
   "cell_type": "code",
   "execution_count": 105,
   "metadata": {},
   "outputs": [],
   "source": [
    "response = np.asarray([[0.4,0.2, 0.4]])\n",
    "pref.response = pd.DataFrame(response, columns=pref.content['dimensions_data'].columns)"
   ]
  },
  {
   "cell_type": "code",
   "execution_count": 106,
   "metadata": {},
   "outputs": [],
   "source": [
    "plot, pref = evolver.iterate(pref)"
   ]
  },
  {
   "cell_type": "code",
   "execution_count": 107,
   "metadata": {},
   "outputs": [
    {
     "data": {
      "application/vnd.plotly.v1+json": {
       "config": {
        "plotlyServerURL": "https://plot.ly"
       },
       "data": [
        {
         "marker": {
          "opacity": 0.8,
          "size": 4
         },
         "mode": "markers",
         "name": "NIMBUS-RVEA",
         "type": "scatter3d",
         "x": [
          0.2461794508654893,
          0.24232515522638928,
          0.21213213988320706,
          0.20165698665213946,
          0.23216729613191556,
          0.21372310222067237,
          0.22700875804828238,
          0.24526596189925667,
          0.2405550194750273,
          0.2500097829863311,
          0.22316153468697797,
          0.2180539009381154,
          0.21325233859327677,
          0.20885251922523984,
          0.22736838650162453,
          0.23471866786176393,
          0.24222880923208842,
          0.21561072006788115,
          0.2076461745673772,
          0.24169585585718614,
          0.20786600146430015,
          0.20471698896217724,
          0.23854709456107975,
          0.2495548986337156,
          0.21781696571158435,
          0.24906299395004888,
          0.2221979141557956,
          0.20751751051069542,
          0.2139299594664552,
          0.24965609119250082,
          0.24625048051902204,
          0.21555062327316504,
          0.23261891758885078,
          0.2428938793848863,
          0.20188484705631232,
          0.2320388875653251,
          0.24172896517683018,
          0.23216939163249745,
          0.24958299186317728,
          0.24685221331653007,
          0.23414022499684356,
          0.20147766041118437,
          0.21212358127015338,
          0.22308356072657418,
          0.20327288229647578,
          0.20781636424281008,
          0.21789724428938564,
          0.23092428980063462,
          0.2421641787461102,
          0.22776985890764107,
          0.2224032122744052,
          0.23176826083007435,
          0.21316385108615762,
          0.22779153399132682,
          0.2231839837916943,
          0.23573435300140663,
          0.2279290780521115,
          0.21262289726931824,
          0.21620129764161017,
          0.24865767427861737,
          0.22197111087857527,
          0.2053058130826327,
          0.21953291271267344,
          0.21233309029622582,
          0.20731055567904397,
          0.20794944582717204,
          0.2457388331367869,
          0.24141623155583466,
          0.21370720720362338,
          0.2018103851735645,
          0.21361306199104596,
          0.21964235531288157,
          0.2192920285915461,
          0.2059173405271755,
          0.2032134439016271,
          0.23477118658626248,
          0.20496895349181463,
          0.21611362147639648,
          0.21726816414210712,
          0.23777947785327977,
          0.20155654133232795,
          0.23155575651253274,
          0.25179410204193975,
          0.23877579284888698,
          0.23974519690926727,
          0.22822215786295352,
          0.23270499473709721,
          0.238213769803065,
          0.21216993512868873,
          0.2345437038463455,
          0.20808300125864643,
          0.23231715382677945,
          0.23124579801646739,
          0.21308216603387303,
          0.2491558633007381,
          0.2277788924010932,
          0.22189009053443037,
          0.2122003434872423,
          0.21517492756828888,
          0.20577269396746167,
          0.21292431224293157,
          0.20090446737531728,
          0.20466470294473943,
          0.20259906102707312,
          0.20809060327603487
         ],
         "y": [
          0.007638968978949867,
          0.01556580755099884,
          0.0757438608817266,
          0.09723206466418506,
          0.03574193640079154,
          0.07306092274534166,
          0.04595292427834752,
          0.009495349946979755,
          0.020039270527405836,
          0,
          0.05350353452957305,
          0.06098282923448704,
          0.07356506313913201,
          0.08241040737298075,
          0.04470161563524928,
          0.031229540313726097,
          0.015572279991348165,
          0.06866743818657807,
          0.08457597025940589,
          0.016726124442622302,
          0.08436641215468578,
          0.09067399121669427,
          0.023234370384918296,
          0.00045924262633187477,
          0.0644479579748765,
          0.0014437025158793694,
          0.05548869175115226,
          0.08507875753581128,
          0.07216038569469757,
          0.0009913468745124524,
          0.007559482157383185,
          0.06866467633600787,
          0.03341425269809146,
          0.014025628329767456,
          0.09585005310887174,
          0.03585918717623994,
          0.01664178248022655,
          0,
          0.001001361029081597,
          0.007012044370485104,
          0.03168662329774132,
          0.09627790313635733,
          0.07590009073146511,
          0.053627342184605305,
          0.09364341375684974,
          0.08440443434036488,
          0.06430152347438343,
          0.03818149775498473,
          0.015788576869592594,
          0.04409914943662847,
          0.05449183881133816,
          0.03613313697555138,
          0.0735340020596308,
          0.04521659483053799,
          0.054240967771211145,
          0.03001832119864796,
          0.04507373721964484,
          0.07512413839154536,
          0.067301118355494,
          0.005371443025624581,
          0.055747451580835064,
          0.08982533901145404,
          0.06126024832672534,
          0.07547760211054542,
          0.08535102068272275,
          0.0842967702787612,
          0.008229112873972986,
          0.01947939380990634,
          0.07256439683258974,
          0.09593376034103998,
          0.0731387467978431,
          0.0611830239570667,
          0.06146729121275227,
          0.08683074527210101,
          0.09377292110646113,
          0.031126761598466036,
          0.0904298557040624,
          0.06832946973493352,
          0.067297630474527,
          0.027027563877091647,
          0.09823497589961463,
          0.0355052511589503,
          0,
          0.02245594595984629,
          0.020917529634407416,
          0.04377939798223038,
          0.03350416474351994,
          0.023583567362835116,
          0.07559827123641778,
          0.0314423095648728,
          0.08414404293967026,
          0.03573519265660841,
          0.03548306591093283,
          0.0737857426400607,
          0.005241661964255091,
          0.04420226584547519,
          0.05586888242515828,
          0.07572276896976213,
          0.06939042942173018,
          0.08954210505330129,
          0.07470273340258801,
          0.0988312226233094,
          0.09063041127926479,
          0.0951704159532923,
          0.08413421239338452
         ],
         "z": [
          0.24619635046531388,
          0.2421257587677826,
          0.21212630907658442,
          0.20111328901316125,
          0.23209317247024527,
          0.21321837803438465,
          0.22705265379130732,
          0.24524109511772504,
          0.23942131259975488,
          0.24999199855638227,
          0.2233377739629852,
          0.220965790824009,
          0.21318500675109273,
          0.20873948647167886,
          0.22794605158705417,
          0.2340650339708672,
          0.24220185664349161,
          0.2157367470542614,
          0.2077930022685061,
          0.24158098337907163,
          0.2077831999631746,
          0.20462381435139604,
          0.2382352518183747,
          0.25000173253285485,
          0.2177375350354319,
          0.24949503274373608,
          0.22232854384739206,
          0.2074058442788302,
          0.21392558851917792,
          0.2493546630397864,
          0.24620474219882335,
          0.21579984911110528,
          0.23396821187024647,
          0.2430829563680397,
          0.2022807802140332,
          0.23210466129898466,
          0.24163221417692135,
          0.26783122107547586,
          0.24943101349097366,
          0.24613862584426527,
          0.23417583727646954,
          0.2022467273959599,
          0.21197815996640323,
          0.22329196525716782,
          0.20309899552210262,
          0.20779352331584733,
          0.21781632321216646,
          0.23090939454893197,
          0.24206145663922568,
          0.22814705548481962,
          0.22310722960371615,
          0.23210155565938018,
          0.21331799803482412,
          0.22699422749554307,
          0.22259021185896824,
          0.23424782339058078,
          0.2269989364797431,
          0.2122554280308315,
          0.21649896517407327,
          0.2459861198723674,
          0.22229658312404374,
          0.2048713010350131,
          0.21920938575502102,
          0.21219160688158845,
          0.20734054631258067,
          0.20775632406356376,
          0.24603434784723255,
          0.23912007349591408,
          0.21373016159511693,
          0.20227157255308736,
          0.21325076500790885,
          0.21917699676324415,
          0.21924313615558155,
          0.20725412317454955,
          0.20302892787629284,
          0.23410460673721217,
          0.20461585013371764,
          0.21555991614547804,
          0.21544944661264454,
          0.23520569581082815,
          0.20021096777741126,
          0.23294173089802145,
          0.24820766089416846,
          0.23877134122438418,
          0.23935329159105506,
          0.22801408185772645,
          0.23379210844587997,
          0.23821717927295086,
          0.212234125142103,
          0.23402718485099813,
          0.207788021132444,
          0.2319493796030859,
          0.23328718185339273,
          0.21313427738100335,
          0.24561807312660738,
          0.22803529369679482,
          0.22225620235512733,
          0.21207920020345875,
          0.21544963559257857,
          0.2046876591704432,
          0.2123752486347795,
          0.20026676887727624,
          0.2047196349826962,
          0.20224624659025786,
          0.20779058121545882
         ]
        },
        {
         "marker": {
          "opacity": 0.8,
          "size": 2
         },
         "name": "True Front",
         "type": "scatter3d",
         "x": [
          0.5,
          0,
          0,
          0.5
         ],
         "y": [
          0,
          0.5,
          0,
          0
         ],
         "z": [
          0,
          0,
          0.5,
          0
         ]
        },
        {
         "marker": {
          "opacity": 0.8,
          "size": 4
         },
         "name": "Nadir Point",
         "type": "scatter3d",
         "x": [
          0.5
         ],
         "y": [
          0.5
         ],
         "z": [
          0.5
         ]
        },
        {
         "marker": {
          "opacity": 0.8,
          "size": 4
         },
         "name": "Reference Point",
         "type": "scatter3d",
         "x": [
          0.4
         ],
         "y": [
          0.2
         ],
         "z": [
          0.4
         ]
        },
        {
         "line": {
          "width": 10
         },
         "marker": {
          "opacity": 0.8,
          "size": 2
         },
         "name": "STOM",
         "type": "scatter3d",
         "x": [
          0,
          0.4,
          40
         ],
         "y": [
          0,
          0.2,
          20
         ],
         "z": [
          0,
          0.4,
          40
         ]
        },
        {
         "line": {
          "width": 10
         },
         "marker": {
          "opacity": 0.8,
          "size": 2
         },
         "name": "ASF",
         "type": "scatter3d",
         "x": [
          -0.6,
          1.4
         ],
         "y": [
          -0.8,
          1.2
         ],
         "z": [
          -0.6,
          1.4
         ]
        },
        {
         "line": {
          "width": 10
         },
         "marker": {
          "opacity": 0.8,
          "size": 2
         },
         "name": "AUG",
         "type": "scatter3d",
         "x": [
          -0.5,
          0.4,
          0.5
         ],
         "y": [
          -2.5,
          0.2,
          0.5
         ],
         "z": [
          -0.5,
          0.4,
          0.5
         ]
        },
        {
         "marker": {
          "opacity": 0.8,
          "size": 4
         },
         "name": "Ideal Point",
         "type": "scatter3d",
         "x": [
          0
         ],
         "y": [
          0
         ],
         "z": [
          0
         ]
        }
       ],
       "layout": {
        "margin": {
         "b": 0,
         "l": 0,
         "r": 0,
         "t": 0
        },
        "scene": {
         "aspectratio": {
          "x": 1,
          "y": 1,
          "z": 1
         },
         "xaxis": {
          "range": [
           0,
           0.6
          ]
         },
         "yaxis": {
          "range": [
           0,
           0.6
          ]
         },
         "zaxis": {
          "range": [
           0,
           0.6
          ]
         }
        },
        "template": {
         "data": {
          "bar": [
           {
            "error_x": {
             "color": "#2a3f5f"
            },
            "error_y": {
             "color": "#2a3f5f"
            },
            "marker": {
             "line": {
              "color": "#E5ECF6",
              "width": 0.5
             }
            },
            "type": "bar"
           }
          ],
          "barpolar": [
           {
            "marker": {
             "line": {
              "color": "#E5ECF6",
              "width": 0.5
             }
            },
            "type": "barpolar"
           }
          ],
          "carpet": [
           {
            "aaxis": {
             "endlinecolor": "#2a3f5f",
             "gridcolor": "white",
             "linecolor": "white",
             "minorgridcolor": "white",
             "startlinecolor": "#2a3f5f"
            },
            "baxis": {
             "endlinecolor": "#2a3f5f",
             "gridcolor": "white",
             "linecolor": "white",
             "minorgridcolor": "white",
             "startlinecolor": "#2a3f5f"
            },
            "type": "carpet"
           }
          ],
          "choropleth": [
           {
            "colorbar": {
             "outlinewidth": 0,
             "ticks": ""
            },
            "type": "choropleth"
           }
          ],
          "contour": [
           {
            "colorbar": {
             "outlinewidth": 0,
             "ticks": ""
            },
            "colorscale": [
             [
              0,
              "#0d0887"
             ],
             [
              0.1111111111111111,
              "#46039f"
             ],
             [
              0.2222222222222222,
              "#7201a8"
             ],
             [
              0.3333333333333333,
              "#9c179e"
             ],
             [
              0.4444444444444444,
              "#bd3786"
             ],
             [
              0.5555555555555556,
              "#d8576b"
             ],
             [
              0.6666666666666666,
              "#ed7953"
             ],
             [
              0.7777777777777778,
              "#fb9f3a"
             ],
             [
              0.8888888888888888,
              "#fdca26"
             ],
             [
              1,
              "#f0f921"
             ]
            ],
            "type": "contour"
           }
          ],
          "contourcarpet": [
           {
            "colorbar": {
             "outlinewidth": 0,
             "ticks": ""
            },
            "type": "contourcarpet"
           }
          ],
          "heatmap": [
           {
            "colorbar": {
             "outlinewidth": 0,
             "ticks": ""
            },
            "colorscale": [
             [
              0,
              "#0d0887"
             ],
             [
              0.1111111111111111,
              "#46039f"
             ],
             [
              0.2222222222222222,
              "#7201a8"
             ],
             [
              0.3333333333333333,
              "#9c179e"
             ],
             [
              0.4444444444444444,
              "#bd3786"
             ],
             [
              0.5555555555555556,
              "#d8576b"
             ],
             [
              0.6666666666666666,
              "#ed7953"
             ],
             [
              0.7777777777777778,
              "#fb9f3a"
             ],
             [
              0.8888888888888888,
              "#fdca26"
             ],
             [
              1,
              "#f0f921"
             ]
            ],
            "type": "heatmap"
           }
          ],
          "heatmapgl": [
           {
            "colorbar": {
             "outlinewidth": 0,
             "ticks": ""
            },
            "colorscale": [
             [
              0,
              "#0d0887"
             ],
             [
              0.1111111111111111,
              "#46039f"
             ],
             [
              0.2222222222222222,
              "#7201a8"
             ],
             [
              0.3333333333333333,
              "#9c179e"
             ],
             [
              0.4444444444444444,
              "#bd3786"
             ],
             [
              0.5555555555555556,
              "#d8576b"
             ],
             [
              0.6666666666666666,
              "#ed7953"
             ],
             [
              0.7777777777777778,
              "#fb9f3a"
             ],
             [
              0.8888888888888888,
              "#fdca26"
             ],
             [
              1,
              "#f0f921"
             ]
            ],
            "type": "heatmapgl"
           }
          ],
          "histogram": [
           {
            "marker": {
             "colorbar": {
              "outlinewidth": 0,
              "ticks": ""
             }
            },
            "type": "histogram"
           }
          ],
          "histogram2d": [
           {
            "colorbar": {
             "outlinewidth": 0,
             "ticks": ""
            },
            "colorscale": [
             [
              0,
              "#0d0887"
             ],
             [
              0.1111111111111111,
              "#46039f"
             ],
             [
              0.2222222222222222,
              "#7201a8"
             ],
             [
              0.3333333333333333,
              "#9c179e"
             ],
             [
              0.4444444444444444,
              "#bd3786"
             ],
             [
              0.5555555555555556,
              "#d8576b"
             ],
             [
              0.6666666666666666,
              "#ed7953"
             ],
             [
              0.7777777777777778,
              "#fb9f3a"
             ],
             [
              0.8888888888888888,
              "#fdca26"
             ],
             [
              1,
              "#f0f921"
             ]
            ],
            "type": "histogram2d"
           }
          ],
          "histogram2dcontour": [
           {
            "colorbar": {
             "outlinewidth": 0,
             "ticks": ""
            },
            "colorscale": [
             [
              0,
              "#0d0887"
             ],
             [
              0.1111111111111111,
              "#46039f"
             ],
             [
              0.2222222222222222,
              "#7201a8"
             ],
             [
              0.3333333333333333,
              "#9c179e"
             ],
             [
              0.4444444444444444,
              "#bd3786"
             ],
             [
              0.5555555555555556,
              "#d8576b"
             ],
             [
              0.6666666666666666,
              "#ed7953"
             ],
             [
              0.7777777777777778,
              "#fb9f3a"
             ],
             [
              0.8888888888888888,
              "#fdca26"
             ],
             [
              1,
              "#f0f921"
             ]
            ],
            "type": "histogram2dcontour"
           }
          ],
          "mesh3d": [
           {
            "colorbar": {
             "outlinewidth": 0,
             "ticks": ""
            },
            "type": "mesh3d"
           }
          ],
          "parcoords": [
           {
            "line": {
             "colorbar": {
              "outlinewidth": 0,
              "ticks": ""
             }
            },
            "type": "parcoords"
           }
          ],
          "pie": [
           {
            "automargin": true,
            "type": "pie"
           }
          ],
          "scatter": [
           {
            "marker": {
             "colorbar": {
              "outlinewidth": 0,
              "ticks": ""
             }
            },
            "type": "scatter"
           }
          ],
          "scatter3d": [
           {
            "line": {
             "colorbar": {
              "outlinewidth": 0,
              "ticks": ""
             }
            },
            "marker": {
             "colorbar": {
              "outlinewidth": 0,
              "ticks": ""
             }
            },
            "type": "scatter3d"
           }
          ],
          "scattercarpet": [
           {
            "marker": {
             "colorbar": {
              "outlinewidth": 0,
              "ticks": ""
             }
            },
            "type": "scattercarpet"
           }
          ],
          "scattergeo": [
           {
            "marker": {
             "colorbar": {
              "outlinewidth": 0,
              "ticks": ""
             }
            },
            "type": "scattergeo"
           }
          ],
          "scattergl": [
           {
            "marker": {
             "colorbar": {
              "outlinewidth": 0,
              "ticks": ""
             }
            },
            "type": "scattergl"
           }
          ],
          "scattermapbox": [
           {
            "marker": {
             "colorbar": {
              "outlinewidth": 0,
              "ticks": ""
             }
            },
            "type": "scattermapbox"
           }
          ],
          "scatterpolar": [
           {
            "marker": {
             "colorbar": {
              "outlinewidth": 0,
              "ticks": ""
             }
            },
            "type": "scatterpolar"
           }
          ],
          "scatterpolargl": [
           {
            "marker": {
             "colorbar": {
              "outlinewidth": 0,
              "ticks": ""
             }
            },
            "type": "scatterpolargl"
           }
          ],
          "scatterternary": [
           {
            "marker": {
             "colorbar": {
              "outlinewidth": 0,
              "ticks": ""
             }
            },
            "type": "scatterternary"
           }
          ],
          "surface": [
           {
            "colorbar": {
             "outlinewidth": 0,
             "ticks": ""
            },
            "colorscale": [
             [
              0,
              "#0d0887"
             ],
             [
              0.1111111111111111,
              "#46039f"
             ],
             [
              0.2222222222222222,
              "#7201a8"
             ],
             [
              0.3333333333333333,
              "#9c179e"
             ],
             [
              0.4444444444444444,
              "#bd3786"
             ],
             [
              0.5555555555555556,
              "#d8576b"
             ],
             [
              0.6666666666666666,
              "#ed7953"
             ],
             [
              0.7777777777777778,
              "#fb9f3a"
             ],
             [
              0.8888888888888888,
              "#fdca26"
             ],
             [
              1,
              "#f0f921"
             ]
            ],
            "type": "surface"
           }
          ],
          "table": [
           {
            "cells": {
             "fill": {
              "color": "#EBF0F8"
             },
             "line": {
              "color": "white"
             }
            },
            "header": {
             "fill": {
              "color": "#C8D4E3"
             },
             "line": {
              "color": "white"
             }
            },
            "type": "table"
           }
          ]
         },
         "layout": {
          "annotationdefaults": {
           "arrowcolor": "#2a3f5f",
           "arrowhead": 0,
           "arrowwidth": 1
          },
          "coloraxis": {
           "colorbar": {
            "outlinewidth": 0,
            "ticks": ""
           }
          },
          "colorscale": {
           "diverging": [
            [
             0,
             "#8e0152"
            ],
            [
             0.1,
             "#c51b7d"
            ],
            [
             0.2,
             "#de77ae"
            ],
            [
             0.3,
             "#f1b6da"
            ],
            [
             0.4,
             "#fde0ef"
            ],
            [
             0.5,
             "#f7f7f7"
            ],
            [
             0.6,
             "#e6f5d0"
            ],
            [
             0.7,
             "#b8e186"
            ],
            [
             0.8,
             "#7fbc41"
            ],
            [
             0.9,
             "#4d9221"
            ],
            [
             1,
             "#276419"
            ]
           ],
           "sequential": [
            [
             0,
             "#0d0887"
            ],
            [
             0.1111111111111111,
             "#46039f"
            ],
            [
             0.2222222222222222,
             "#7201a8"
            ],
            [
             0.3333333333333333,
             "#9c179e"
            ],
            [
             0.4444444444444444,
             "#bd3786"
            ],
            [
             0.5555555555555556,
             "#d8576b"
            ],
            [
             0.6666666666666666,
             "#ed7953"
            ],
            [
             0.7777777777777778,
             "#fb9f3a"
            ],
            [
             0.8888888888888888,
             "#fdca26"
            ],
            [
             1,
             "#f0f921"
            ]
           ],
           "sequentialminus": [
            [
             0,
             "#0d0887"
            ],
            [
             0.1111111111111111,
             "#46039f"
            ],
            [
             0.2222222222222222,
             "#7201a8"
            ],
            [
             0.3333333333333333,
             "#9c179e"
            ],
            [
             0.4444444444444444,
             "#bd3786"
            ],
            [
             0.5555555555555556,
             "#d8576b"
            ],
            [
             0.6666666666666666,
             "#ed7953"
            ],
            [
             0.7777777777777778,
             "#fb9f3a"
            ],
            [
             0.8888888888888888,
             "#fdca26"
            ],
            [
             1,
             "#f0f921"
            ]
           ]
          },
          "colorway": [
           "#636efa",
           "#EF553B",
           "#00cc96",
           "#ab63fa",
           "#FFA15A",
           "#19d3f3",
           "#FF6692",
           "#B6E880",
           "#FF97FF",
           "#FECB52"
          ],
          "font": {
           "color": "#2a3f5f"
          },
          "geo": {
           "bgcolor": "white",
           "lakecolor": "white",
           "landcolor": "#E5ECF6",
           "showlakes": true,
           "showland": true,
           "subunitcolor": "white"
          },
          "hoverlabel": {
           "align": "left"
          },
          "hovermode": "closest",
          "mapbox": {
           "style": "light"
          },
          "paper_bgcolor": "white",
          "plot_bgcolor": "#E5ECF6",
          "polar": {
           "angularaxis": {
            "gridcolor": "white",
            "linecolor": "white",
            "ticks": ""
           },
           "bgcolor": "#E5ECF6",
           "radialaxis": {
            "gridcolor": "white",
            "linecolor": "white",
            "ticks": ""
           }
          },
          "scene": {
           "xaxis": {
            "backgroundcolor": "#E5ECF6",
            "gridcolor": "white",
            "gridwidth": 2,
            "linecolor": "white",
            "showbackground": true,
            "ticks": "",
            "zerolinecolor": "white"
           },
           "yaxis": {
            "backgroundcolor": "#E5ECF6",
            "gridcolor": "white",
            "gridwidth": 2,
            "linecolor": "white",
            "showbackground": true,
            "ticks": "",
            "zerolinecolor": "white"
           },
           "zaxis": {
            "backgroundcolor": "#E5ECF6",
            "gridcolor": "white",
            "gridwidth": 2,
            "linecolor": "white",
            "showbackground": true,
            "ticks": "",
            "zerolinecolor": "white"
           }
          },
          "shapedefaults": {
           "line": {
            "color": "#2a3f5f"
           }
          },
          "ternary": {
           "aaxis": {
            "gridcolor": "white",
            "linecolor": "white",
            "ticks": ""
           },
           "baxis": {
            "gridcolor": "white",
            "linecolor": "white",
            "ticks": ""
           },
           "bgcolor": "#E5ECF6",
           "caxis": {
            "gridcolor": "white",
            "linecolor": "white",
            "ticks": ""
           }
          },
          "title": {
           "x": 0.05
          },
          "xaxis": {
           "automargin": true,
           "gridcolor": "white",
           "linecolor": "white",
           "ticks": "",
           "title": {
            "standoff": 15
           },
           "zerolinecolor": "white",
           "zerolinewidth": 2
          },
          "yaxis": {
           "automargin": true,
           "gridcolor": "white",
           "linecolor": "white",
           "ticks": "",
           "title": {
            "standoff": 15
           },
           "zerolinecolor": "white",
           "zerolinewidth": 2
          }
         }
        }
       }
      },
      "text/html": [
       "<div>\n",
       "        \n",
       "        \n",
       "            <div id=\"90441877-6266-435e-84fa-26451dce69ae\" class=\"plotly-graph-div\" style=\"height:525px; width:100%;\"></div>\n",
       "            <script type=\"text/javascript\">\n",
       "                require([\"plotly\"], function(Plotly) {\n",
       "                    window.PLOTLYENV=window.PLOTLYENV || {};\n",
       "                    \n",
       "                if (document.getElementById(\"90441877-6266-435e-84fa-26451dce69ae\")) {\n",
       "                    Plotly.newPlot(\n",
       "                        '90441877-6266-435e-84fa-26451dce69ae',\n",
       "                        [{\"marker\": {\"opacity\": 0.8, \"size\": 4}, \"mode\": \"markers\", \"name\": \"NIMBUS-RVEA\", \"type\": \"scatter3d\", \"x\": [0.2461794508654893, 0.24232515522638928, 0.21213213988320706, 0.20165698665213946, 0.23216729613191556, 0.21372310222067237, 0.22700875804828238, 0.24526596189925667, 0.2405550194750273, 0.2500097829863311, 0.22316153468697797, 0.2180539009381154, 0.21325233859327677, 0.20885251922523984, 0.22736838650162453, 0.23471866786176393, 0.24222880923208842, 0.21561072006788115, 0.2076461745673772, 0.24169585585718614, 0.20786600146430015, 0.20471698896217724, 0.23854709456107975, 0.2495548986337156, 0.21781696571158435, 0.24906299395004888, 0.2221979141557956, 0.20751751051069542, 0.2139299594664552, 0.24965609119250082, 0.24625048051902204, 0.21555062327316504, 0.23261891758885078, 0.2428938793848863, 0.20188484705631232, 0.2320388875653251, 0.24172896517683018, 0.23216939163249745, 0.24958299186317728, 0.24685221331653007, 0.23414022499684356, 0.20147766041118437, 0.21212358127015338, 0.22308356072657418, 0.20327288229647578, 0.20781636424281008, 0.21789724428938564, 0.23092428980063462, 0.2421641787461102, 0.22776985890764107, 0.2224032122744052, 0.23176826083007435, 0.21316385108615762, 0.22779153399132682, 0.2231839837916943, 0.23573435300140663, 0.2279290780521115, 0.21262289726931824, 0.21620129764161017, 0.24865767427861737, 0.22197111087857527, 0.2053058130826327, 0.21953291271267344, 0.21233309029622582, 0.20731055567904397, 0.20794944582717204, 0.2457388331367869, 0.24141623155583466, 0.21370720720362338, 0.2018103851735645, 0.21361306199104596, 0.21964235531288157, 0.2192920285915461, 0.2059173405271755, 0.2032134439016271, 0.23477118658626248, 0.20496895349181463, 0.21611362147639648, 0.21726816414210712, 0.23777947785327977, 0.20155654133232795, 0.23155575651253274, 0.25179410204193975, 0.23877579284888698, 0.23974519690926727, 0.22822215786295352, 0.23270499473709721, 0.238213769803065, 0.21216993512868873, 0.2345437038463455, 0.20808300125864643, 0.23231715382677945, 0.23124579801646739, 0.21308216603387303, 0.2491558633007381, 0.2277788924010932, 0.22189009053443037, 0.2122003434872423, 0.21517492756828888, 0.20577269396746167, 0.21292431224293157, 0.20090446737531728, 0.20466470294473943, 0.20259906102707312, 0.20809060327603487], \"y\": [0.007638968978949867, 0.01556580755099884, 0.0757438608817266, 0.09723206466418506, 0.03574193640079154, 0.07306092274534166, 0.04595292427834752, 0.009495349946979755, 0.020039270527405836, 0.0, 0.05350353452957305, 0.06098282923448704, 0.07356506313913201, 0.08241040737298075, 0.04470161563524928, 0.031229540313726097, 0.015572279991348165, 0.06866743818657807, 0.08457597025940589, 0.016726124442622302, 0.08436641215468578, 0.09067399121669427, 0.023234370384918296, 0.00045924262633187477, 0.0644479579748765, 0.0014437025158793694, 0.05548869175115226, 0.08507875753581128, 0.07216038569469757, 0.0009913468745124524, 0.007559482157383185, 0.06866467633600787, 0.03341425269809146, 0.014025628329767456, 0.09585005310887174, 0.03585918717623994, 0.01664178248022655, 0.0, 0.001001361029081597, 0.007012044370485104, 0.03168662329774132, 0.09627790313635733, 0.07590009073146511, 0.053627342184605305, 0.09364341375684974, 0.08440443434036488, 0.06430152347438343, 0.03818149775498473, 0.015788576869592594, 0.04409914943662847, 0.05449183881133816, 0.03613313697555138, 0.0735340020596308, 0.04521659483053799, 0.054240967771211145, 0.03001832119864796, 0.04507373721964484, 0.07512413839154536, 0.067301118355494, 0.005371443025624581, 0.055747451580835064, 0.08982533901145404, 0.06126024832672534, 0.07547760211054542, 0.08535102068272275, 0.0842967702787612, 0.008229112873972986, 0.01947939380990634, 0.07256439683258974, 0.09593376034103998, 0.0731387467978431, 0.0611830239570667, 0.06146729121275227, 0.08683074527210101, 0.09377292110646113, 0.031126761598466036, 0.0904298557040624, 0.06832946973493352, 0.067297630474527, 0.027027563877091647, 0.09823497589961463, 0.0355052511589503, 0.0, 0.02245594595984629, 0.020917529634407416, 0.04377939798223038, 0.03350416474351994, 0.023583567362835116, 0.07559827123641778, 0.0314423095648728, 0.08414404293967026, 0.03573519265660841, 0.03548306591093283, 0.0737857426400607, 0.005241661964255091, 0.04420226584547519, 0.05586888242515828, 0.07572276896976213, 0.06939042942173018, 0.08954210505330129, 0.07470273340258801, 0.0988312226233094, 0.09063041127926479, 0.0951704159532923, 0.08413421239338452], \"z\": [0.24619635046531388, 0.2421257587677826, 0.21212630907658442, 0.20111328901316125, 0.23209317247024527, 0.21321837803438465, 0.22705265379130732, 0.24524109511772504, 0.23942131259975488, 0.24999199855638227, 0.2233377739629852, 0.220965790824009, 0.21318500675109273, 0.20873948647167886, 0.22794605158705417, 0.2340650339708672, 0.24220185664349161, 0.2157367470542614, 0.2077930022685061, 0.24158098337907163, 0.2077831999631746, 0.20462381435139604, 0.2382352518183747, 0.25000173253285485, 0.2177375350354319, 0.24949503274373608, 0.22232854384739206, 0.2074058442788302, 0.21392558851917792, 0.2493546630397864, 0.24620474219882335, 0.21579984911110528, 0.23396821187024647, 0.2430829563680397, 0.2022807802140332, 0.23210466129898466, 0.24163221417692135, 0.26783122107547586, 0.24943101349097366, 0.24613862584426527, 0.23417583727646954, 0.2022467273959599, 0.21197815996640323, 0.22329196525716782, 0.20309899552210262, 0.20779352331584733, 0.21781632321216646, 0.23090939454893197, 0.24206145663922568, 0.22814705548481962, 0.22310722960371615, 0.23210155565938018, 0.21331799803482412, 0.22699422749554307, 0.22259021185896824, 0.23424782339058078, 0.2269989364797431, 0.2122554280308315, 0.21649896517407327, 0.2459861198723674, 0.22229658312404374, 0.2048713010350131, 0.21920938575502102, 0.21219160688158845, 0.20734054631258067, 0.20775632406356376, 0.24603434784723255, 0.23912007349591408, 0.21373016159511693, 0.20227157255308736, 0.21325076500790885, 0.21917699676324415, 0.21924313615558155, 0.20725412317454955, 0.20302892787629284, 0.23410460673721217, 0.20461585013371764, 0.21555991614547804, 0.21544944661264454, 0.23520569581082815, 0.20021096777741126, 0.23294173089802145, 0.24820766089416846, 0.23877134122438418, 0.23935329159105506, 0.22801408185772645, 0.23379210844587997, 0.23821717927295086, 0.212234125142103, 0.23402718485099813, 0.207788021132444, 0.2319493796030859, 0.23328718185339273, 0.21313427738100335, 0.24561807312660738, 0.22803529369679482, 0.22225620235512733, 0.21207920020345875, 0.21544963559257857, 0.2046876591704432, 0.2123752486347795, 0.20026676887727624, 0.2047196349826962, 0.20224624659025786, 0.20779058121545882]}, {\"marker\": {\"opacity\": 0.8, \"size\": 2}, \"name\": \"True Front\", \"type\": \"scatter3d\", \"x\": [0.5, 0, 0, 0.5], \"y\": [0, 0.5, 0, 0], \"z\": [0, 0, 0.5, 0]}, {\"marker\": {\"opacity\": 0.8, \"size\": 4}, \"name\": \"Nadir Point\", \"type\": \"scatter3d\", \"x\": [0.5], \"y\": [0.5], \"z\": [0.5]}, {\"marker\": {\"opacity\": 0.8, \"size\": 4}, \"name\": \"Reference Point\", \"type\": \"scatter3d\", \"x\": [0.4], \"y\": [0.2], \"z\": [0.4]}, {\"line\": {\"width\": 10}, \"marker\": {\"opacity\": 0.8, \"size\": 2}, \"name\": \"STOM\", \"type\": \"scatter3d\", \"x\": [0, 0.4, 40.0], \"y\": [0, 0.2, 20.0], \"z\": [0, 0.4, 40.0]}, {\"line\": {\"width\": 10}, \"marker\": {\"opacity\": 0.8, \"size\": 2}, \"name\": \"ASF\", \"type\": \"scatter3d\", \"x\": [-0.6, 1.4], \"y\": [-0.8, 1.2], \"z\": [-0.6, 1.4]}, {\"line\": {\"width\": 10}, \"marker\": {\"opacity\": 0.8, \"size\": 2}, \"name\": \"AUG\", \"type\": \"scatter3d\", \"x\": [-0.5, 0.4, 0.5], \"y\": [-2.5, 0.2, 0.5], \"z\": [-0.5, 0.4, 0.5]}, {\"marker\": {\"opacity\": 0.8, \"size\": 4}, \"name\": \"Ideal Point\", \"type\": \"scatter3d\", \"x\": [0], \"y\": [0], \"z\": [0]}],\n",
       "                        {\"margin\": {\"b\": 0, \"l\": 0, \"r\": 0, \"t\": 0}, \"scene\": {\"aspectratio\": {\"x\": 1, \"y\": 1, \"z\": 1}, \"xaxis\": {\"range\": [0, 0.6]}, \"yaxis\": {\"range\": [0, 0.6]}, \"zaxis\": {\"range\": [0, 0.6]}}, \"template\": {\"data\": {\"bar\": [{\"error_x\": {\"color\": \"#2a3f5f\"}, \"error_y\": {\"color\": \"#2a3f5f\"}, \"marker\": {\"line\": {\"color\": \"#E5ECF6\", \"width\": 0.5}}, \"type\": \"bar\"}], \"barpolar\": [{\"marker\": {\"line\": {\"color\": \"#E5ECF6\", \"width\": 0.5}}, \"type\": \"barpolar\"}], \"carpet\": [{\"aaxis\": {\"endlinecolor\": \"#2a3f5f\", \"gridcolor\": \"white\", \"linecolor\": \"white\", \"minorgridcolor\": \"white\", \"startlinecolor\": \"#2a3f5f\"}, \"baxis\": {\"endlinecolor\": \"#2a3f5f\", \"gridcolor\": \"white\", \"linecolor\": \"white\", \"minorgridcolor\": \"white\", \"startlinecolor\": \"#2a3f5f\"}, \"type\": \"carpet\"}], \"choropleth\": [{\"colorbar\": {\"outlinewidth\": 0, \"ticks\": \"\"}, \"type\": \"choropleth\"}], \"contour\": [{\"colorbar\": {\"outlinewidth\": 0, \"ticks\": \"\"}, \"colorscale\": [[0.0, \"#0d0887\"], [0.1111111111111111, \"#46039f\"], [0.2222222222222222, \"#7201a8\"], [0.3333333333333333, \"#9c179e\"], [0.4444444444444444, \"#bd3786\"], [0.5555555555555556, \"#d8576b\"], [0.6666666666666666, \"#ed7953\"], [0.7777777777777778, \"#fb9f3a\"], [0.8888888888888888, \"#fdca26\"], [1.0, \"#f0f921\"]], \"type\": \"contour\"}], \"contourcarpet\": [{\"colorbar\": {\"outlinewidth\": 0, \"ticks\": \"\"}, \"type\": \"contourcarpet\"}], \"heatmap\": [{\"colorbar\": {\"outlinewidth\": 0, \"ticks\": \"\"}, \"colorscale\": [[0.0, \"#0d0887\"], [0.1111111111111111, \"#46039f\"], [0.2222222222222222, \"#7201a8\"], [0.3333333333333333, \"#9c179e\"], [0.4444444444444444, \"#bd3786\"], [0.5555555555555556, \"#d8576b\"], [0.6666666666666666, \"#ed7953\"], [0.7777777777777778, \"#fb9f3a\"], [0.8888888888888888, \"#fdca26\"], [1.0, \"#f0f921\"]], \"type\": \"heatmap\"}], \"heatmapgl\": [{\"colorbar\": {\"outlinewidth\": 0, \"ticks\": \"\"}, \"colorscale\": [[0.0, \"#0d0887\"], [0.1111111111111111, \"#46039f\"], [0.2222222222222222, \"#7201a8\"], [0.3333333333333333, \"#9c179e\"], [0.4444444444444444, \"#bd3786\"], [0.5555555555555556, \"#d8576b\"], [0.6666666666666666, \"#ed7953\"], [0.7777777777777778, \"#fb9f3a\"], [0.8888888888888888, \"#fdca26\"], [1.0, \"#f0f921\"]], \"type\": \"heatmapgl\"}], \"histogram\": [{\"marker\": {\"colorbar\": {\"outlinewidth\": 0, \"ticks\": \"\"}}, \"type\": \"histogram\"}], \"histogram2d\": [{\"colorbar\": {\"outlinewidth\": 0, \"ticks\": \"\"}, \"colorscale\": [[0.0, \"#0d0887\"], [0.1111111111111111, \"#46039f\"], [0.2222222222222222, \"#7201a8\"], [0.3333333333333333, \"#9c179e\"], [0.4444444444444444, \"#bd3786\"], [0.5555555555555556, \"#d8576b\"], [0.6666666666666666, \"#ed7953\"], [0.7777777777777778, \"#fb9f3a\"], [0.8888888888888888, \"#fdca26\"], [1.0, \"#f0f921\"]], \"type\": \"histogram2d\"}], \"histogram2dcontour\": [{\"colorbar\": {\"outlinewidth\": 0, \"ticks\": \"\"}, \"colorscale\": [[0.0, \"#0d0887\"], [0.1111111111111111, \"#46039f\"], [0.2222222222222222, \"#7201a8\"], [0.3333333333333333, \"#9c179e\"], [0.4444444444444444, \"#bd3786\"], [0.5555555555555556, \"#d8576b\"], [0.6666666666666666, \"#ed7953\"], [0.7777777777777778, \"#fb9f3a\"], [0.8888888888888888, \"#fdca26\"], [1.0, \"#f0f921\"]], \"type\": \"histogram2dcontour\"}], \"mesh3d\": [{\"colorbar\": {\"outlinewidth\": 0, \"ticks\": \"\"}, \"type\": \"mesh3d\"}], \"parcoords\": [{\"line\": {\"colorbar\": {\"outlinewidth\": 0, \"ticks\": \"\"}}, \"type\": \"parcoords\"}], \"pie\": [{\"automargin\": true, \"type\": \"pie\"}], \"scatter\": [{\"marker\": {\"colorbar\": {\"outlinewidth\": 0, \"ticks\": \"\"}}, \"type\": \"scatter\"}], \"scatter3d\": [{\"line\": {\"colorbar\": {\"outlinewidth\": 0, \"ticks\": \"\"}}, \"marker\": {\"colorbar\": {\"outlinewidth\": 0, \"ticks\": \"\"}}, \"type\": \"scatter3d\"}], \"scattercarpet\": [{\"marker\": {\"colorbar\": {\"outlinewidth\": 0, \"ticks\": \"\"}}, \"type\": \"scattercarpet\"}], \"scattergeo\": [{\"marker\": {\"colorbar\": {\"outlinewidth\": 0, \"ticks\": \"\"}}, \"type\": \"scattergeo\"}], \"scattergl\": [{\"marker\": {\"colorbar\": {\"outlinewidth\": 0, \"ticks\": \"\"}}, \"type\": \"scattergl\"}], \"scattermapbox\": [{\"marker\": {\"colorbar\": {\"outlinewidth\": 0, \"ticks\": \"\"}}, \"type\": \"scattermapbox\"}], \"scatterpolar\": [{\"marker\": {\"colorbar\": {\"outlinewidth\": 0, \"ticks\": \"\"}}, \"type\": \"scatterpolar\"}], \"scatterpolargl\": [{\"marker\": {\"colorbar\": {\"outlinewidth\": 0, \"ticks\": \"\"}}, \"type\": \"scatterpolargl\"}], \"scatterternary\": [{\"marker\": {\"colorbar\": {\"outlinewidth\": 0, \"ticks\": \"\"}}, \"type\": \"scatterternary\"}], \"surface\": [{\"colorbar\": {\"outlinewidth\": 0, \"ticks\": \"\"}, \"colorscale\": [[0.0, \"#0d0887\"], [0.1111111111111111, \"#46039f\"], [0.2222222222222222, \"#7201a8\"], [0.3333333333333333, \"#9c179e\"], [0.4444444444444444, \"#bd3786\"], [0.5555555555555556, \"#d8576b\"], [0.6666666666666666, \"#ed7953\"], [0.7777777777777778, \"#fb9f3a\"], [0.8888888888888888, \"#fdca26\"], [1.0, \"#f0f921\"]], \"type\": \"surface\"}], \"table\": [{\"cells\": {\"fill\": {\"color\": \"#EBF0F8\"}, \"line\": {\"color\": \"white\"}}, \"header\": {\"fill\": {\"color\": \"#C8D4E3\"}, \"line\": {\"color\": \"white\"}}, \"type\": \"table\"}]}, \"layout\": {\"annotationdefaults\": {\"arrowcolor\": \"#2a3f5f\", \"arrowhead\": 0, \"arrowwidth\": 1}, \"coloraxis\": {\"colorbar\": {\"outlinewidth\": 0, \"ticks\": \"\"}}, \"colorscale\": {\"diverging\": [[0, \"#8e0152\"], [0.1, \"#c51b7d\"], [0.2, \"#de77ae\"], [0.3, \"#f1b6da\"], [0.4, \"#fde0ef\"], [0.5, \"#f7f7f7\"], [0.6, \"#e6f5d0\"], [0.7, \"#b8e186\"], [0.8, \"#7fbc41\"], [0.9, \"#4d9221\"], [1, \"#276419\"]], \"sequential\": [[0.0, \"#0d0887\"], [0.1111111111111111, \"#46039f\"], [0.2222222222222222, \"#7201a8\"], [0.3333333333333333, \"#9c179e\"], [0.4444444444444444, \"#bd3786\"], [0.5555555555555556, \"#d8576b\"], [0.6666666666666666, \"#ed7953\"], [0.7777777777777778, \"#fb9f3a\"], [0.8888888888888888, \"#fdca26\"], [1.0, \"#f0f921\"]], \"sequentialminus\": [[0.0, \"#0d0887\"], [0.1111111111111111, \"#46039f\"], [0.2222222222222222, \"#7201a8\"], [0.3333333333333333, \"#9c179e\"], [0.4444444444444444, \"#bd3786\"], [0.5555555555555556, \"#d8576b\"], [0.6666666666666666, \"#ed7953\"], [0.7777777777777778, \"#fb9f3a\"], [0.8888888888888888, \"#fdca26\"], [1.0, \"#f0f921\"]]}, \"colorway\": [\"#636efa\", \"#EF553B\", \"#00cc96\", \"#ab63fa\", \"#FFA15A\", \"#19d3f3\", \"#FF6692\", \"#B6E880\", \"#FF97FF\", \"#FECB52\"], \"font\": {\"color\": \"#2a3f5f\"}, \"geo\": {\"bgcolor\": \"white\", \"lakecolor\": \"white\", \"landcolor\": \"#E5ECF6\", \"showlakes\": true, \"showland\": true, \"subunitcolor\": \"white\"}, \"hoverlabel\": {\"align\": \"left\"}, \"hovermode\": \"closest\", \"mapbox\": {\"style\": \"light\"}, \"paper_bgcolor\": \"white\", \"plot_bgcolor\": \"#E5ECF6\", \"polar\": {\"angularaxis\": {\"gridcolor\": \"white\", \"linecolor\": \"white\", \"ticks\": \"\"}, \"bgcolor\": \"#E5ECF6\", \"radialaxis\": {\"gridcolor\": \"white\", \"linecolor\": \"white\", \"ticks\": \"\"}}, \"scene\": {\"xaxis\": {\"backgroundcolor\": \"#E5ECF6\", \"gridcolor\": \"white\", \"gridwidth\": 2, \"linecolor\": \"white\", \"showbackground\": true, \"ticks\": \"\", \"zerolinecolor\": \"white\"}, \"yaxis\": {\"backgroundcolor\": \"#E5ECF6\", \"gridcolor\": \"white\", \"gridwidth\": 2, \"linecolor\": \"white\", \"showbackground\": true, \"ticks\": \"\", \"zerolinecolor\": \"white\"}, \"zaxis\": {\"backgroundcolor\": \"#E5ECF6\", \"gridcolor\": \"white\", \"gridwidth\": 2, \"linecolor\": \"white\", \"showbackground\": true, \"ticks\": \"\", \"zerolinecolor\": \"white\"}}, \"shapedefaults\": {\"line\": {\"color\": \"#2a3f5f\"}}, \"ternary\": {\"aaxis\": {\"gridcolor\": \"white\", \"linecolor\": \"white\", \"ticks\": \"\"}, \"baxis\": {\"gridcolor\": \"white\", \"linecolor\": \"white\", \"ticks\": \"\"}, \"bgcolor\": \"#E5ECF6\", \"caxis\": {\"gridcolor\": \"white\", \"linecolor\": \"white\", \"ticks\": \"\"}}, \"title\": {\"x\": 0.05}, \"xaxis\": {\"automargin\": true, \"gridcolor\": \"white\", \"linecolor\": \"white\", \"ticks\": \"\", \"title\": {\"standoff\": 15}, \"zerolinecolor\": \"white\", \"zerolinewidth\": 2}, \"yaxis\": {\"automargin\": true, \"gridcolor\": \"white\", \"linecolor\": \"white\", \"ticks\": \"\", \"title\": {\"standoff\": 15}, \"zerolinecolor\": \"white\", \"zerolinewidth\": 2}}}},\n",
       "                        {\"responsive\": true}\n",
       "                    ).then(function(){\n",
       "                            \n",
       "var gd = document.getElementById('90441877-6266-435e-84fa-26451dce69ae');\n",
       "var x = new MutationObserver(function (mutations, observer) {{\n",
       "        var display = window.getComputedStyle(gd).display;\n",
       "        if (!display || display === 'none') {{\n",
       "            console.log([gd, 'removed!']);\n",
       "            Plotly.purge(gd);\n",
       "            observer.disconnect();\n",
       "        }}\n",
       "}});\n",
       "\n",
       "// Listen for the removal of the full notebook cells\n",
       "var notebookContainer = gd.closest('#notebook-container');\n",
       "if (notebookContainer) {{\n",
       "    x.observe(notebookContainer, {childList: true});\n",
       "}}\n",
       "\n",
       "// Listen for the clearing of the current output cell\n",
       "var outputEl = gd.closest('.output');\n",
       "if (outputEl) {{\n",
       "    x.observe(outputEl, {childList: true});\n",
       "}}\n",
       "\n",
       "                        })\n",
       "                };\n",
       "                });\n",
       "            </script>\n",
       "        </div>"
      ]
     },
     "metadata": {},
     "output_type": "display_data"
    }
   ],
   "source": [
    "fig = plot3d(plot, response)\n",
    "fig"
   ]
  },
  {
   "cell_type": "code",
   "execution_count": 61,
   "metadata": {},
   "outputs": [],
   "source": [
    "def plot3d(plot, response):\n",
    "    # NIMBUSEA\n",
    "    obj = plot.content['data'].values\n",
    "    non_dom_id = nds(obj)[0][0]\n",
    "    fig = go.Figure(\n",
    "        go.Scatter3d(\n",
    "            x=obj[non_dom_id, 0],\n",
    "            y=obj[non_dom_id, 1],\n",
    "            z=obj[non_dom_id, 2],\n",
    "            name=\"NIMBUS-RVEA\",\n",
    "            mode='markers',\n",
    "            marker=dict(\n",
    "            size=4,\n",
    "            opacity=0.8\n",
    "        )\n",
    "        )\n",
    "    )\n",
    "\n",
    "    #True Front\n",
    "    fig.add_trace(\n",
    "        go.Scatter3d(\n",
    "            x=[0.5, 0, 0, 0.5],\n",
    "            y=[0, 0.5, 0, 0],\n",
    "            z=[0, 0, 0.5, 0],\n",
    "            name=\"True Front\",\n",
    "            marker=dict(\n",
    "            size=2,\n",
    "            opacity=0.8\n",
    "        )\n",
    "        )\n",
    "    )\n",
    "\n",
    "    #Nadir Point\n",
    "    fig.add_trace(\n",
    "        go.Scatter3d(\n",
    "            x=[0.5],\n",
    "            y=[0.5],\n",
    "            z=[0.5],\n",
    "            name=\"Nadir Point\",\n",
    "            marker=dict(\n",
    "            size=4,\n",
    "            opacity=0.8\n",
    "        )\n",
    "        )\n",
    "    )\n",
    "\n",
    "\n",
    "\n",
    "    # Reference Point\n",
    "\n",
    "    fig.add_trace(\n",
    "        go.Scatter3d(\n",
    "            x=[response[0,0]],\n",
    "            y=[response[0,1]],\n",
    "            z=[response[0,2]],\n",
    "            name=\"Reference Point\",\n",
    "            marker=dict(\n",
    "            size=4,\n",
    "            opacity=0.8\n",
    "        )\n",
    "        )\n",
    "    )\n",
    "\n",
    "    # STOM\n",
    "\n",
    "    fig.add_trace(\n",
    "        go.Scatter3d(\n",
    "            x=[0, response[0,0],100*response[0,0]],\n",
    "            y=[0, response[0,1],100*response[0,1]],\n",
    "            z=[0, response[0,2],100*response[0,2]],\n",
    "            name=\"STOM\",\n",
    "            marker=dict(\n",
    "            size=2,\n",
    "            opacity=0.8\n",
    "        ),\n",
    "            line=dict(width=10)\n",
    "        )\n",
    "    )\n",
    "\n",
    "    #ASF\n",
    "\n",
    "    fig.add_trace(\n",
    "        go.Scatter3d(\n",
    "            x=[response[0,0]-1, response[0,0]+1],\n",
    "            y=[response[0,1]-1, response[0,1]+1],\n",
    "            z=[response[0,2]-1, response[0,2]+1],\n",
    "            name=\"ASF\",\n",
    "            marker=dict(\n",
    "            size=2,\n",
    "            opacity=0.8\n",
    "        ),\n",
    "            line=dict(width=10)\n",
    "        )\n",
    "    )\n",
    "    #AUG\n",
    "\n",
    "    fig.add_trace(\n",
    "        go.Scatter3d(\n",
    "            x=[10*response[0,0] - 9*0.5,response[0,0], 0.5],\n",
    "            y=[10*response[0,1] - 9*0.5,response[0,1], 0.5],\n",
    "            z=[10*response[0,2] - 9*0.5,response[0,2], 0.5],\n",
    "            name=\"AUG\",\n",
    "            marker=dict(\n",
    "            size=2,\n",
    "            opacity=0.8\n",
    "        ),\n",
    "            line=dict(width=10)\n",
    "        )\n",
    "    )\n",
    "\n",
    "    # Ideal Point\n",
    "    fig.add_trace(\n",
    "        go.Scatter3d(\n",
    "            x=[0],\n",
    "            y=[0],\n",
    "            z=[0],\n",
    "            name=\"Ideal Point\",\n",
    "            marker=dict(\n",
    "            size=4,\n",
    "            opacity=0.8\n",
    "        )\n",
    "        )\n",
    "    )\n",
    "\n",
    "    fig.update_layout(\n",
    "        scene = dict(\n",
    "            xaxis = dict(range=[0,0.6],),\n",
    "            yaxis = dict(range=[0,0.6],),\n",
    "            zaxis = dict(range=[0,0.6],),\n",
    "            aspectratio=dict(x=1,y=1,z=1))\n",
    "                     )\n",
    "    fig.update_layout(margin=dict(l=0, r=0, b=0, t=0))\n",
    "    return fig\n",
    "    "
   ]
  },
  {
   "cell_type": "code",
   "execution_count": 5,
   "metadata": {},
   "outputs": [],
   "source": [
    "prob_dtlz2 = test_problem_builder(name=\"DTLZ2\", n_of_objectives=3, n_of_variables=5)\n",
    "prob_dtlz2.ideal = np.asarray([0, 0, 0])\n",
    "prob_dtlz2.nadir = np.asarray([1, 1, 1])"
   ]
  },
  {
   "cell_type": "code",
   "execution_count": 6,
   "metadata": {},
   "outputs": [],
   "source": [
    "evolver = NIMBUS_NSGAIII(prob_dtlz2, n_gen_per_iter=200)"
   ]
  },
  {
   "cell_type": "code",
   "execution_count": 7,
   "metadata": {},
   "outputs": [
    {
     "data": {
      "text/plain": [
       "{'dimensions_data':          f1 f2 f3\n",
       " minimize  1  1  1\n",
       " ideal     0  0  0\n",
       " nadir     1  1  1,\n",
       " 'message': 'Provide a reference point worse than to the ideal point and better than the nadir point.\\nIdeal point: \\nf1    0\\nf2    0\\nf3    0\\nName: ideal, dtype: object\\nNadir point: \\nf1    1\\nf2    1\\nf3    1\\nName: nadir, dtype: object\\nThe reference point will be used to create scalarization functions in the preferred region.\\n',\n",
       " 'validator': <function desdeo_tools.interaction.validators.validate_ref_point_with_ideal_and_nadir(dimensions_data: pandas.core.frame.DataFrame, reference_point: pandas.core.frame.DataFrame)>}"
      ]
     },
     "execution_count": 7,
     "metadata": {},
     "output_type": "execute_result"
    }
   ],
   "source": [
    "plot, pref = evolver.requests()\n",
    "pref.content"
   ]
  },
  {
   "cell_type": "code",
   "execution_count": 23,
   "metadata": {},
   "outputs": [],
   "source": [
    "response = np.asarray([[0.8,0.9, 0.4]])\n",
    "pref.response = pd.DataFrame(response, columns=pref.content['dimensions_data'].columns)"
   ]
  },
  {
   "cell_type": "code",
   "execution_count": 24,
   "metadata": {},
   "outputs": [],
   "source": [
    "plot, pref = evolver.iterate(pref)"
   ]
  },
  {
   "cell_type": "code",
   "execution_count": 25,
   "metadata": {},
   "outputs": [
    {
     "data": {
      "application/vnd.plotly.v1+json": {
       "config": {
        "plotlyServerURL": "https://plot.ly"
       },
       "data": [
        {
         "marker": {
          "opacity": 0.8,
          "size": 4
         },
         "mode": "markers",
         "name": "NIMBUS-EA",
         "type": "scatter3d",
         "x": [
          0.6507638754445666,
          0.6515563356133452,
          0.6549016655517085,
          0.6502183006139564,
          0.6589264394139889,
          0.6323044477154749,
          0.6598809094312916,
          0.6308249783482955,
          0.6441980786866779,
          0.6540799146809534,
          0.6362446004855524,
          0.6605557018542252,
          0.6620481069005012,
          0.6397271907122352,
          0.6343156338219846,
          0.6508979923353244,
          0.6633326485038685,
          0.6524216650589473,
          0.6373690595466263,
          0.6552708192141161,
          0.6344039342916977,
          0.6358215579441115,
          0.6600517933454872,
          0.6641763055502762,
          0.6637227716842096,
          0.659811646786557,
          0.634762496133069,
          0.6601344493936192,
          0.6633606772467603,
          0.6598351954457949,
          0.6470162668601398,
          0.6356843684580098,
          0.6524844684584742,
          0.6540157894442882,
          0.6458963950506685,
          0.6536878060441375,
          0.6522254650470388,
          0.6378643370181056,
          0.66345082687631,
          0.6521051410432295,
          0.6628513329912838,
          0.6515709640308389,
          0.6482090312395721,
          0.6590528153979189,
          0.6548989854680612,
          0.6628333256759569,
          0.6361276546338837,
          0.6447474321737822,
          0.6609405905889932,
          0.6389056173996867,
          0.6614716609226796,
          0.6517664501289747,
          0.6365869102422725,
          0.6636951651679325,
          0.6448012522260054,
          0.6580688215276941,
          0.6563759850708925,
          0.631312772554376,
          0.6352880927867536,
          0.6312355303936587,
          0.6596182651203171,
          0.660023997182449,
          0.6562892141303741,
          0.6630051612379997,
          0.6558563744934082,
          0.6592258570344538,
          0.6637860363864013,
          0.6423830961363914,
          0.6515405667632305,
          0.6588068751435315,
          0.658212892318742,
          0.6572017476367269,
          0.6571468022228494,
          0.6610798378144189,
          0.6639304144772799,
          0.6476887505755087,
          0.6434678407999127,
          0.6331312682301847,
          0.6603394100531808,
          0.6451481476505181,
          0.6516355076529595,
          0.6597150075039148,
          0.6601822332729057,
          0.6625995726632062,
          0.6367125180881514,
          0.6518770905780513,
          0.6500687050530375,
          0.6649246961807418,
          0.6340774595072436,
          0.660562341945327,
          0.6604738275287227,
          0.6323847030963592,
          0.652032872719727,
          0.6529602711270389,
          0.6317776663675699,
          0.6445893111211128,
          0.6635881683413009,
          0.6380871380081333,
          0.6457794207164451,
          0.6574272764841841,
          0.6559144265502832,
          0.660051357670487,
          0.6599464662373397,
          0.6340693146493658,
          0.6569524795681048
         ],
         "y": [
          0.7497693627521556,
          0.7493205722860966,
          0.7479993521917532,
          0.7482449497367926,
          0.741541530122904,
          0.711515947851875,
          0.7431287719029359,
          0.7097894048605521,
          0.7245825858634583,
          0.753658317113972,
          0.7160013798274223,
          0.7432085639391175,
          0.7448348005774243,
          0.7199329374043315,
          0.7137817826724115,
          0.7328932576571303,
          0.7460840980250328,
          0.7485748056106207,
          0.7169920301543413,
          0.7554281519800798,
          0.7375751149374004,
          0.7155714488792081,
          0.7497186781493009,
          0.7476786795537215,
          0.7474203241105971,
          0.7430497163887008,
          0.7145588024081801,
          0.7488131509669698,
          0.7462973695508258,
          0.7492792909162957,
          0.7343774262631679,
          0.7155605337549357,
          0.734126412501444,
          0.7536596246450806,
          0.7270147295717646,
          0.7355271797551014,
          0.7502289707138076,
          0.718304993010764,
          0.747076064779059,
          0.7342414533767317,
          0.7465487688771028,
          0.7392260254033154,
          0.7466858538812184,
          0.7418081184209026,
          0.7479900805237153,
          0.7459527912469149,
          0.7156047031362054,
          0.7255257313098037,
          0.7502626233961811,
          0.719495438161106,
          0.7435557235788632,
          0.7502551546423178,
          0.7168412723284414,
          0.746600626462953,
          0.7260868448043455,
          0.7481364732914191,
          0.7392679783378563,
          0.7100892545819741,
          0.7147732352865869,
          0.7102457083853296,
          0.7438307537335334,
          0.7429120170023645,
          0.7451526528888485,
          0.7463493227064649,
          0.7538149948759155,
          0.742506736395249,
          0.7472384175698533,
          0.7286489883199027,
          0.7513258355474127,
          0.7504778073820216,
          0.7406930695827605,
          0.7461337619567759,
          0.7461517399452527,
          0.7435555347759661,
          0.7476087393307017,
          0.7289666749010668,
          0.7237571500115348,
          0.7131259090336072,
          0.7492555838989257,
          0.7259821237090349,
          0.7482253876767765,
          0.7437982306401527,
          0.7489079284106084,
          0.7457080187721481,
          0.7165565819305915,
          0.750531329107626,
          0.7483913179149121,
          0.7473996169294452,
          0.7133706080299036,
          0.7431983888808953,
          0.7434151636021088,
          0.7114886697426652,
          0.7584460076211113,
          0.7476591256540431,
          0.7106129930512342,
          0.7259901091452483,
          0.7466173650525152,
          0.7180829481854135,
          0.74302689889074,
          0.7397381195995292,
          0.7554960660285561,
          0.7497200651681754,
          0.7486605581926021,
          0.7135922366213552,
          0.7392541054764834
         ],
         "z": [
          0.12004378720348981,
          0.1184090036921122,
          0.11223727171327988,
          0.13393341012935653,
          0.12649964566878225,
          0.30662267621909167,
          0.11190509602028356,
          0.31355677945922605,
          0.24607169546504642,
          0.06644948256763732,
          0.287502249500952,
          0.10657506503569317,
          0.08455466678122926,
          0.26954627213103494,
          0.2970019066499148,
          0.1993467047878063,
          0.06104348769216334,
          0.1186069610040237,
          0.2826603913233027,
          0.012014143536963092,
          0.23247295100081314,
          0.2895627114177626,
          0.04759288972784459,
          0.012807740419233476,
          0.03453661869987472,
          0.11196364183232244,
          0.29510704959070533,
          0.061081826724996395,
          0.05775028780874432,
          0.0633433307170783,
          0.20683906612728473,
          0.2897297327048197,
          0.1905823640896662,
          0.06691242516242363,
          0.23555746018523965,
          0.17807550495774477,
          0.10848635441682009,
          0.27784771388734797,
          0.04221500949644594,
          0.19057916429471342,
          0.06005189817541297,
          0.17078298158281013,
          0.15006946214356395,
          0.12413597330796966,
          0.11224276926084836,
          0.06643687651905662,
          0.28860620950869037,
          0.24083158248659056,
          0.022711025029661817,
          0.272303682706729,
          0.1028497962972239,
          0.11348118562233304,
          0.2845065421314791,
          0.04649074721619829,
          0.24005576317359748,
          0.09700973288983501,
          0.15067052679836795,
          0.3118827318740589,
          0.29274348256380744,
          0.31170161875872643,
          0.10854717969135559,
          0.11179451265403284,
          0.11861909822020658,
          0.05886902813185924,
          0.04126227124433299,
          0.11966110678622331,
          0.03406014889254937,
          0.23969984168537445,
          0.1073715175859886,
          0.05789038287588334,
          0.1353418033133433,
          0.10672789144203454,
          0.10687180408050485,
          0.10291999871661352,
          0.033075482395350395,
          0.2237910420205311,
          0.25037382258862784,
          0.3057783682138434,
          0.05534533932892022,
          0.23936822326311386,
          0.12995272925405654,
          0.10814572558116405,
          0.05905845009247099,
          0.07095835406676444,
          0.28522749975048434,
          0.1093840275002338,
          0.1338746150321542,
          0.010890970728129588,
          0.2984977962037932,
          0.10658064388622462,
          0.10569537461677482,
          0.30687433171834255,
          0,
          0.12189518948886664,
          0.30974383566626673,
          0.24094407226202366,
          0.04720165846209577,
          0.2782380004990941,
          0.17796944525932554,
          0.14781860297488447,
          0.009523281919255897,
          0.04760943620947259,
          0.06328157923410149,
          0.2979818899331036,
          0.14873756355368362
         ]
        },
        {
         "colorscale": [
          [
           0,
           "red"
          ],
          [
           1,
           "red"
          ]
         ],
         "opacity": 0.5,
         "type": "surface",
         "x": [
          [
           0,
           0.17364817766693033,
           0.3420201433256687,
           0.49999999999999994,
           0.6427876096865393,
           0.766044443118978,
           0.8660254037844386,
           0.9396926207859083,
           0.984807753012208,
           1
          ],
          [
           0,
           0.17101007166283433,
           0.33682408883346515,
           0.49240387650610395,
           0.633022221559489,
           0.7544065067354889,
           0.8528685319524432,
           0.9254165783983233,
           0.9698463103929541,
           0.984807753012208
          ],
          [
           0,
           0.16317591116653482,
           0.3213938048432697,
           0.46984631039295416,
           0.6040227735550536,
           0.7198463103929542,
           0.8137976813493737,
           0.883022221559489,
           0.9254165783983234,
           0.9396926207859084
          ],
          [
           0,
           0.1503837331804353,
           0.29619813272602386,
           0.4330127018922193,
           0.5566703992264194,
           0.6634139481689384,
           0.75,
           0.8137976813493737,
           0.8528685319524433,
           0.8660254037844387
          ],
          [
           0,
           0.133022221559489,
           0.2620026302293849,
           0.38302222155948895,
           0.49240387650610395,
           0.5868240888334652,
           0.6634139481689384,
           0.7198463103929541,
           0.7544065067354889,
           0.766044443118978
          ],
          [
           0,
           0.11161889704894966,
           0.2198463103929542,
           0.3213938048432696,
           0.4131759111665348,
           0.49240387650610407,
           0.5566703992264194,
           0.6040227735550536,
           0.6330222215594891,
           0.6427876096865394
          ],
          [
           0,
           0.08682408883346518,
           0.17101007166283438,
           0.25,
           0.3213938048432697,
           0.3830222215594891,
           0.4330127018922194,
           0.46984631039295427,
           0.4924038765061041,
           0.5000000000000001
          ],
          [
           0,
           0.05939117461388472,
           0.11697777844051101,
           0.17101007166283438,
           0.21984631039295421,
           0.262002630229385,
           0.2961981327260239,
           0.32139380484326974,
           0.33682408883346526,
           0.3420201433256688
          ],
          [
           0,
           0.030153689607045817,
           0.059391174613884726,
           0.0868240888334652,
           0.11161889704894969,
           0.13302222155948906,
           0.15038373318043535,
           0.16317591116653488,
           0.1710100716628344,
           0.17364817766693041
          ],
          [
           0,
           1.0632884247878856e-17,
           2.094269368838496e-17,
           3.0616169978683824e-17,
           3.9359389436709925e-17,
           4.6906693763513654e-17,
           5.302876193624534e-17,
           5.753957801139251e-17,
           6.030208312509488e-17,
           6.123233995736766e-17
          ]
         ],
         "y": [
          [
           0,
           0,
           0,
           0,
           0,
           0,
           0,
           0,
           0,
           0
          ],
          [
           0,
           0.030153689607045803,
           0.0593911746138847,
           0.08682408883346515,
           0.11161889704894963,
           0.133022221559489,
           0.15038373318043527,
           0.1631759111665348,
           0.17101007166283433,
           0.17364817766693033
          ],
          [
           0,
           0.0593911746138847,
           0.11697777844051097,
           0.17101007166283433,
           0.21984631039295416,
           0.2620026302293849,
           0.2961981327260238,
           0.3213938048432696,
           0.33682408883346515,
           0.3420201433256687
          ],
          [
           0,
           0.08682408883346515,
           0.17101007166283433,
           0.24999999999999994,
           0.32139380484326957,
           0.38302222155948895,
           0.43301270189221924,
           0.4698463103929541,
           0.49240387650610395,
           0.49999999999999994
          ],
          [
           0,
           0.11161889704894963,
           0.21984631039295416,
           0.32139380484326957,
           0.41317591116653474,
           0.49240387650610395,
           0.5566703992264193,
           0.6040227735550536,
           0.633022221559489,
           0.6427876096865393
          ],
          [
           0,
           0.133022221559489,
           0.2620026302293849,
           0.38302222155948895,
           0.49240387650610395,
           0.5868240888334652,
           0.6634139481689384,
           0.7198463103929541,
           0.7544065067354889,
           0.766044443118978
          ],
          [
           0,
           0.15038373318043527,
           0.2961981327260238,
           0.43301270189221924,
           0.5566703992264193,
           0.6634139481689384,
           0.7499999999999999,
           0.8137976813493736,
           0.8528685319524432,
           0.8660254037844386
          ],
          [
           0,
           0.1631759111665348,
           0.3213938048432696,
           0.4698463103929541,
           0.6040227735550536,
           0.7198463103929541,
           0.8137976813493736,
           0.8830222215594888,
           0.9254165783983233,
           0.9396926207859083
          ],
          [
           0,
           0.17101007166283433,
           0.33682408883346515,
           0.49240387650610395,
           0.633022221559489,
           0.7544065067354889,
           0.8528685319524432,
           0.9254165783983233,
           0.9698463103929541,
           0.984807753012208
          ],
          [
           0,
           0.17364817766693033,
           0.3420201433256687,
           0.49999999999999994,
           0.6427876096865393,
           0.766044443118978,
           0.8660254037844386,
           0.9396926207859083,
           0.984807753012208,
           1
          ]
         ],
         "z": [
          [
           1,
           0.984807753012208,
           0.9396926207859084,
           0.8660254037844387,
           0.766044443118978,
           0.6427876096865394,
           0.5000000000000001,
           0.3420201433256688,
           0.17364817766693041,
           6.123233995736766e-17
          ],
          [
           1,
           0.984807753012208,
           0.9396926207859084,
           0.8660254037844387,
           0.766044443118978,
           0.6427876096865394,
           0.5000000000000001,
           0.3420201433256688,
           0.17364817766693041,
           6.123233995736766e-17
          ],
          [
           1,
           0.984807753012208,
           0.9396926207859084,
           0.8660254037844387,
           0.766044443118978,
           0.6427876096865394,
           0.5000000000000001,
           0.3420201433256688,
           0.17364817766693041,
           6.123233995736766e-17
          ],
          [
           1,
           0.984807753012208,
           0.9396926207859084,
           0.8660254037844387,
           0.766044443118978,
           0.6427876096865394,
           0.5000000000000001,
           0.3420201433256688,
           0.17364817766693041,
           6.123233995736766e-17
          ],
          [
           1,
           0.984807753012208,
           0.9396926207859084,
           0.8660254037844387,
           0.766044443118978,
           0.6427876096865394,
           0.5000000000000001,
           0.3420201433256688,
           0.17364817766693041,
           6.123233995736766e-17
          ],
          [
           1,
           0.984807753012208,
           0.9396926207859084,
           0.8660254037844387,
           0.766044443118978,
           0.6427876096865394,
           0.5000000000000001,
           0.3420201433256688,
           0.17364817766693041,
           6.123233995736766e-17
          ],
          [
           1,
           0.984807753012208,
           0.9396926207859084,
           0.8660254037844387,
           0.766044443118978,
           0.6427876096865394,
           0.5000000000000001,
           0.3420201433256688,
           0.17364817766693041,
           6.123233995736766e-17
          ],
          [
           1,
           0.984807753012208,
           0.9396926207859084,
           0.8660254037844387,
           0.766044443118978,
           0.6427876096865394,
           0.5000000000000001,
           0.3420201433256688,
           0.17364817766693041,
           6.123233995736766e-17
          ],
          [
           1,
           0.984807753012208,
           0.9396926207859084,
           0.8660254037844387,
           0.766044443118978,
           0.6427876096865394,
           0.5000000000000001,
           0.3420201433256688,
           0.17364817766693041,
           6.123233995736766e-17
          ],
          [
           1,
           0.984807753012208,
           0.9396926207859084,
           0.8660254037844387,
           0.766044443118978,
           0.6427876096865394,
           0.5000000000000001,
           0.3420201433256688,
           0.17364817766693041,
           6.123233995736766e-17
          ]
         ]
        },
        {
         "marker": {
          "opacity": 0.8,
          "size": 4
         },
         "name": "Nadir Point",
         "type": "scatter3d",
         "x": [
          1
         ],
         "y": [
          1
         ],
         "z": [
          1
         ]
        },
        {
         "marker": {
          "opacity": 0.8,
          "size": 4
         },
         "name": "Reference Point",
         "type": "scatter3d",
         "x": [
          0.8
         ],
         "y": [
          0.9
         ],
         "z": [
          0.4
         ]
        },
        {
         "line": {
          "width": 10
         },
         "marker": {
          "opacity": 0.8,
          "size": 2
         },
         "name": "STOM",
         "type": "scatter3d",
         "x": [
          0,
          0.8,
          80
         ],
         "y": [
          0,
          0.9,
          90
         ],
         "z": [
          0,
          0.4,
          40
         ]
        },
        {
         "line": {
          "width": 10
         },
         "marker": {
          "opacity": 0.8,
          "size": 2
         },
         "name": "ASF",
         "type": "scatter3d",
         "x": [
          -0.19999999999999996,
          1.8
         ],
         "y": [
          -0.09999999999999998,
          1.9
         ],
         "z": [
          -0.6,
          1.4
         ]
        },
        {
         "line": {
          "width": 10
         },
         "marker": {
          "opacity": 0.8,
          "size": 2
         },
         "name": "AUG",
         "type": "scatter3d",
         "x": [
          -1,
          0.8,
          1
         ],
         "y": [
          0,
          0.9,
          1
         ],
         "z": [
          -5,
          0.4,
          1
         ]
        },
        {
         "marker": {
          "opacity": 0.8,
          "size": 4
         },
         "name": "Ideal Point",
         "type": "scatter3d",
         "x": [
          0
         ],
         "y": [
          0
         ],
         "z": [
          0
         ]
        }
       ],
       "layout": {
        "margin": {
         "b": 0,
         "l": 0,
         "r": 0,
         "t": 0
        },
        "scene": {
         "aspectratio": {
          "x": 1,
          "y": 1,
          "z": 1
         },
         "xaxis": {
          "range": [
           0,
           1.1
          ]
         },
         "yaxis": {
          "range": [
           0,
           1.1
          ]
         },
         "zaxis": {
          "range": [
           0,
           1.1
          ]
         }
        },
        "template": {
         "data": {
          "bar": [
           {
            "error_x": {
             "color": "#2a3f5f"
            },
            "error_y": {
             "color": "#2a3f5f"
            },
            "marker": {
             "line": {
              "color": "#E5ECF6",
              "width": 0.5
             }
            },
            "type": "bar"
           }
          ],
          "barpolar": [
           {
            "marker": {
             "line": {
              "color": "#E5ECF6",
              "width": 0.5
             }
            },
            "type": "barpolar"
           }
          ],
          "carpet": [
           {
            "aaxis": {
             "endlinecolor": "#2a3f5f",
             "gridcolor": "white",
             "linecolor": "white",
             "minorgridcolor": "white",
             "startlinecolor": "#2a3f5f"
            },
            "baxis": {
             "endlinecolor": "#2a3f5f",
             "gridcolor": "white",
             "linecolor": "white",
             "minorgridcolor": "white",
             "startlinecolor": "#2a3f5f"
            },
            "type": "carpet"
           }
          ],
          "choropleth": [
           {
            "colorbar": {
             "outlinewidth": 0,
             "ticks": ""
            },
            "type": "choropleth"
           }
          ],
          "contour": [
           {
            "colorbar": {
             "outlinewidth": 0,
             "ticks": ""
            },
            "colorscale": [
             [
              0,
              "#0d0887"
             ],
             [
              0.1111111111111111,
              "#46039f"
             ],
             [
              0.2222222222222222,
              "#7201a8"
             ],
             [
              0.3333333333333333,
              "#9c179e"
             ],
             [
              0.4444444444444444,
              "#bd3786"
             ],
             [
              0.5555555555555556,
              "#d8576b"
             ],
             [
              0.6666666666666666,
              "#ed7953"
             ],
             [
              0.7777777777777778,
              "#fb9f3a"
             ],
             [
              0.8888888888888888,
              "#fdca26"
             ],
             [
              1,
              "#f0f921"
             ]
            ],
            "type": "contour"
           }
          ],
          "contourcarpet": [
           {
            "colorbar": {
             "outlinewidth": 0,
             "ticks": ""
            },
            "type": "contourcarpet"
           }
          ],
          "heatmap": [
           {
            "colorbar": {
             "outlinewidth": 0,
             "ticks": ""
            },
            "colorscale": [
             [
              0,
              "#0d0887"
             ],
             [
              0.1111111111111111,
              "#46039f"
             ],
             [
              0.2222222222222222,
              "#7201a8"
             ],
             [
              0.3333333333333333,
              "#9c179e"
             ],
             [
              0.4444444444444444,
              "#bd3786"
             ],
             [
              0.5555555555555556,
              "#d8576b"
             ],
             [
              0.6666666666666666,
              "#ed7953"
             ],
             [
              0.7777777777777778,
              "#fb9f3a"
             ],
             [
              0.8888888888888888,
              "#fdca26"
             ],
             [
              1,
              "#f0f921"
             ]
            ],
            "type": "heatmap"
           }
          ],
          "heatmapgl": [
           {
            "colorbar": {
             "outlinewidth": 0,
             "ticks": ""
            },
            "colorscale": [
             [
              0,
              "#0d0887"
             ],
             [
              0.1111111111111111,
              "#46039f"
             ],
             [
              0.2222222222222222,
              "#7201a8"
             ],
             [
              0.3333333333333333,
              "#9c179e"
             ],
             [
              0.4444444444444444,
              "#bd3786"
             ],
             [
              0.5555555555555556,
              "#d8576b"
             ],
             [
              0.6666666666666666,
              "#ed7953"
             ],
             [
              0.7777777777777778,
              "#fb9f3a"
             ],
             [
              0.8888888888888888,
              "#fdca26"
             ],
             [
              1,
              "#f0f921"
             ]
            ],
            "type": "heatmapgl"
           }
          ],
          "histogram": [
           {
            "marker": {
             "colorbar": {
              "outlinewidth": 0,
              "ticks": ""
             }
            },
            "type": "histogram"
           }
          ],
          "histogram2d": [
           {
            "colorbar": {
             "outlinewidth": 0,
             "ticks": ""
            },
            "colorscale": [
             [
              0,
              "#0d0887"
             ],
             [
              0.1111111111111111,
              "#46039f"
             ],
             [
              0.2222222222222222,
              "#7201a8"
             ],
             [
              0.3333333333333333,
              "#9c179e"
             ],
             [
              0.4444444444444444,
              "#bd3786"
             ],
             [
              0.5555555555555556,
              "#d8576b"
             ],
             [
              0.6666666666666666,
              "#ed7953"
             ],
             [
              0.7777777777777778,
              "#fb9f3a"
             ],
             [
              0.8888888888888888,
              "#fdca26"
             ],
             [
              1,
              "#f0f921"
             ]
            ],
            "type": "histogram2d"
           }
          ],
          "histogram2dcontour": [
           {
            "colorbar": {
             "outlinewidth": 0,
             "ticks": ""
            },
            "colorscale": [
             [
              0,
              "#0d0887"
             ],
             [
              0.1111111111111111,
              "#46039f"
             ],
             [
              0.2222222222222222,
              "#7201a8"
             ],
             [
              0.3333333333333333,
              "#9c179e"
             ],
             [
              0.4444444444444444,
              "#bd3786"
             ],
             [
              0.5555555555555556,
              "#d8576b"
             ],
             [
              0.6666666666666666,
              "#ed7953"
             ],
             [
              0.7777777777777778,
              "#fb9f3a"
             ],
             [
              0.8888888888888888,
              "#fdca26"
             ],
             [
              1,
              "#f0f921"
             ]
            ],
            "type": "histogram2dcontour"
           }
          ],
          "mesh3d": [
           {
            "colorbar": {
             "outlinewidth": 0,
             "ticks": ""
            },
            "type": "mesh3d"
           }
          ],
          "parcoords": [
           {
            "line": {
             "colorbar": {
              "outlinewidth": 0,
              "ticks": ""
             }
            },
            "type": "parcoords"
           }
          ],
          "pie": [
           {
            "automargin": true,
            "type": "pie"
           }
          ],
          "scatter": [
           {
            "marker": {
             "colorbar": {
              "outlinewidth": 0,
              "ticks": ""
             }
            },
            "type": "scatter"
           }
          ],
          "scatter3d": [
           {
            "line": {
             "colorbar": {
              "outlinewidth": 0,
              "ticks": ""
             }
            },
            "marker": {
             "colorbar": {
              "outlinewidth": 0,
              "ticks": ""
             }
            },
            "type": "scatter3d"
           }
          ],
          "scattercarpet": [
           {
            "marker": {
             "colorbar": {
              "outlinewidth": 0,
              "ticks": ""
             }
            },
            "type": "scattercarpet"
           }
          ],
          "scattergeo": [
           {
            "marker": {
             "colorbar": {
              "outlinewidth": 0,
              "ticks": ""
             }
            },
            "type": "scattergeo"
           }
          ],
          "scattergl": [
           {
            "marker": {
             "colorbar": {
              "outlinewidth": 0,
              "ticks": ""
             }
            },
            "type": "scattergl"
           }
          ],
          "scattermapbox": [
           {
            "marker": {
             "colorbar": {
              "outlinewidth": 0,
              "ticks": ""
             }
            },
            "type": "scattermapbox"
           }
          ],
          "scatterpolar": [
           {
            "marker": {
             "colorbar": {
              "outlinewidth": 0,
              "ticks": ""
             }
            },
            "type": "scatterpolar"
           }
          ],
          "scatterpolargl": [
           {
            "marker": {
             "colorbar": {
              "outlinewidth": 0,
              "ticks": ""
             }
            },
            "type": "scatterpolargl"
           }
          ],
          "scatterternary": [
           {
            "marker": {
             "colorbar": {
              "outlinewidth": 0,
              "ticks": ""
             }
            },
            "type": "scatterternary"
           }
          ],
          "surface": [
           {
            "colorbar": {
             "outlinewidth": 0,
             "ticks": ""
            },
            "colorscale": [
             [
              0,
              "#0d0887"
             ],
             [
              0.1111111111111111,
              "#46039f"
             ],
             [
              0.2222222222222222,
              "#7201a8"
             ],
             [
              0.3333333333333333,
              "#9c179e"
             ],
             [
              0.4444444444444444,
              "#bd3786"
             ],
             [
              0.5555555555555556,
              "#d8576b"
             ],
             [
              0.6666666666666666,
              "#ed7953"
             ],
             [
              0.7777777777777778,
              "#fb9f3a"
             ],
             [
              0.8888888888888888,
              "#fdca26"
             ],
             [
              1,
              "#f0f921"
             ]
            ],
            "type": "surface"
           }
          ],
          "table": [
           {
            "cells": {
             "fill": {
              "color": "#EBF0F8"
             },
             "line": {
              "color": "white"
             }
            },
            "header": {
             "fill": {
              "color": "#C8D4E3"
             },
             "line": {
              "color": "white"
             }
            },
            "type": "table"
           }
          ]
         },
         "layout": {
          "annotationdefaults": {
           "arrowcolor": "#2a3f5f",
           "arrowhead": 0,
           "arrowwidth": 1
          },
          "coloraxis": {
           "colorbar": {
            "outlinewidth": 0,
            "ticks": ""
           }
          },
          "colorscale": {
           "diverging": [
            [
             0,
             "#8e0152"
            ],
            [
             0.1,
             "#c51b7d"
            ],
            [
             0.2,
             "#de77ae"
            ],
            [
             0.3,
             "#f1b6da"
            ],
            [
             0.4,
             "#fde0ef"
            ],
            [
             0.5,
             "#f7f7f7"
            ],
            [
             0.6,
             "#e6f5d0"
            ],
            [
             0.7,
             "#b8e186"
            ],
            [
             0.8,
             "#7fbc41"
            ],
            [
             0.9,
             "#4d9221"
            ],
            [
             1,
             "#276419"
            ]
           ],
           "sequential": [
            [
             0,
             "#0d0887"
            ],
            [
             0.1111111111111111,
             "#46039f"
            ],
            [
             0.2222222222222222,
             "#7201a8"
            ],
            [
             0.3333333333333333,
             "#9c179e"
            ],
            [
             0.4444444444444444,
             "#bd3786"
            ],
            [
             0.5555555555555556,
             "#d8576b"
            ],
            [
             0.6666666666666666,
             "#ed7953"
            ],
            [
             0.7777777777777778,
             "#fb9f3a"
            ],
            [
             0.8888888888888888,
             "#fdca26"
            ],
            [
             1,
             "#f0f921"
            ]
           ],
           "sequentialminus": [
            [
             0,
             "#0d0887"
            ],
            [
             0.1111111111111111,
             "#46039f"
            ],
            [
             0.2222222222222222,
             "#7201a8"
            ],
            [
             0.3333333333333333,
             "#9c179e"
            ],
            [
             0.4444444444444444,
             "#bd3786"
            ],
            [
             0.5555555555555556,
             "#d8576b"
            ],
            [
             0.6666666666666666,
             "#ed7953"
            ],
            [
             0.7777777777777778,
             "#fb9f3a"
            ],
            [
             0.8888888888888888,
             "#fdca26"
            ],
            [
             1,
             "#f0f921"
            ]
           ]
          },
          "colorway": [
           "#636efa",
           "#EF553B",
           "#00cc96",
           "#ab63fa",
           "#FFA15A",
           "#19d3f3",
           "#FF6692",
           "#B6E880",
           "#FF97FF",
           "#FECB52"
          ],
          "font": {
           "color": "#2a3f5f"
          },
          "geo": {
           "bgcolor": "white",
           "lakecolor": "white",
           "landcolor": "#E5ECF6",
           "showlakes": true,
           "showland": true,
           "subunitcolor": "white"
          },
          "hoverlabel": {
           "align": "left"
          },
          "hovermode": "closest",
          "mapbox": {
           "style": "light"
          },
          "paper_bgcolor": "white",
          "plot_bgcolor": "#E5ECF6",
          "polar": {
           "angularaxis": {
            "gridcolor": "white",
            "linecolor": "white",
            "ticks": ""
           },
           "bgcolor": "#E5ECF6",
           "radialaxis": {
            "gridcolor": "white",
            "linecolor": "white",
            "ticks": ""
           }
          },
          "scene": {
           "xaxis": {
            "backgroundcolor": "#E5ECF6",
            "gridcolor": "white",
            "gridwidth": 2,
            "linecolor": "white",
            "showbackground": true,
            "ticks": "",
            "zerolinecolor": "white"
           },
           "yaxis": {
            "backgroundcolor": "#E5ECF6",
            "gridcolor": "white",
            "gridwidth": 2,
            "linecolor": "white",
            "showbackground": true,
            "ticks": "",
            "zerolinecolor": "white"
           },
           "zaxis": {
            "backgroundcolor": "#E5ECF6",
            "gridcolor": "white",
            "gridwidth": 2,
            "linecolor": "white",
            "showbackground": true,
            "ticks": "",
            "zerolinecolor": "white"
           }
          },
          "shapedefaults": {
           "line": {
            "color": "#2a3f5f"
           }
          },
          "ternary": {
           "aaxis": {
            "gridcolor": "white",
            "linecolor": "white",
            "ticks": ""
           },
           "baxis": {
            "gridcolor": "white",
            "linecolor": "white",
            "ticks": ""
           },
           "bgcolor": "#E5ECF6",
           "caxis": {
            "gridcolor": "white",
            "linecolor": "white",
            "ticks": ""
           }
          },
          "title": {
           "x": 0.05
          },
          "xaxis": {
           "automargin": true,
           "gridcolor": "white",
           "linecolor": "white",
           "ticks": "",
           "title": {
            "standoff": 15
           },
           "zerolinecolor": "white",
           "zerolinewidth": 2
          },
          "yaxis": {
           "automargin": true,
           "gridcolor": "white",
           "linecolor": "white",
           "ticks": "",
           "title": {
            "standoff": 15
           },
           "zerolinecolor": "white",
           "zerolinewidth": 2
          }
         }
        }
       }
      },
      "text/html": [
       "<div>\n",
       "        \n",
       "        \n",
       "            <div id=\"f130c96a-2de6-4613-b1a5-72d7e80d3d26\" class=\"plotly-graph-div\" style=\"height:525px; width:100%;\"></div>\n",
       "            <script type=\"text/javascript\">\n",
       "                require([\"plotly\"], function(Plotly) {\n",
       "                    window.PLOTLYENV=window.PLOTLYENV || {};\n",
       "                    \n",
       "                if (document.getElementById(\"f130c96a-2de6-4613-b1a5-72d7e80d3d26\")) {\n",
       "                    Plotly.newPlot(\n",
       "                        'f130c96a-2de6-4613-b1a5-72d7e80d3d26',\n",
       "                        [{\"marker\": {\"opacity\": 0.8, \"size\": 4}, \"mode\": \"markers\", \"name\": \"NIMBUS-EA\", \"type\": \"scatter3d\", \"x\": [0.6507638754445666, 0.6515563356133452, 0.6549016655517085, 0.6502183006139564, 0.6589264394139889, 0.6323044477154749, 0.6598809094312916, 0.6308249783482955, 0.6441980786866779, 0.6540799146809534, 0.6362446004855524, 0.6605557018542252, 0.6620481069005012, 0.6397271907122352, 0.6343156338219846, 0.6508979923353244, 0.6633326485038685, 0.6524216650589473, 0.6373690595466263, 0.6552708192141161, 0.6344039342916977, 0.6358215579441115, 0.6600517933454872, 0.6641763055502762, 0.6637227716842096, 0.659811646786557, 0.634762496133069, 0.6601344493936192, 0.6633606772467603, 0.6598351954457949, 0.6470162668601398, 0.6356843684580098, 0.6524844684584742, 0.6540157894442882, 0.6458963950506685, 0.6536878060441375, 0.6522254650470388, 0.6378643370181056, 0.66345082687631, 0.6521051410432295, 0.6628513329912838, 0.6515709640308389, 0.6482090312395721, 0.6590528153979189, 0.6548989854680612, 0.6628333256759569, 0.6361276546338837, 0.6447474321737822, 0.6609405905889932, 0.6389056173996867, 0.6614716609226796, 0.6517664501289747, 0.6365869102422725, 0.6636951651679325, 0.6448012522260054, 0.6580688215276941, 0.6563759850708925, 0.631312772554376, 0.6352880927867536, 0.6312355303936587, 0.6596182651203171, 0.660023997182449, 0.6562892141303741, 0.6630051612379997, 0.6558563744934082, 0.6592258570344538, 0.6637860363864013, 0.6423830961363914, 0.6515405667632305, 0.6588068751435315, 0.658212892318742, 0.6572017476367269, 0.6571468022228494, 0.6610798378144189, 0.6639304144772799, 0.6476887505755087, 0.6434678407999127, 0.6331312682301847, 0.6603394100531808, 0.6451481476505181, 0.6516355076529595, 0.6597150075039148, 0.6601822332729057, 0.6625995726632062, 0.6367125180881514, 0.6518770905780513, 0.6500687050530375, 0.6649246961807418, 0.6340774595072436, 0.660562341945327, 0.6604738275287227, 0.6323847030963592, 0.652032872719727, 0.6529602711270389, 0.6317776663675699, 0.6445893111211128, 0.6635881683413009, 0.6380871380081333, 0.6457794207164451, 0.6574272764841841, 0.6559144265502832, 0.660051357670487, 0.6599464662373397, 0.6340693146493658, 0.6569524795681048], \"y\": [0.7497693627521556, 0.7493205722860966, 0.7479993521917532, 0.7482449497367926, 0.741541530122904, 0.711515947851875, 0.7431287719029359, 0.7097894048605521, 0.7245825858634583, 0.753658317113972, 0.7160013798274223, 0.7432085639391175, 0.7448348005774243, 0.7199329374043315, 0.7137817826724115, 0.7328932576571303, 0.7460840980250328, 0.7485748056106207, 0.7169920301543413, 0.7554281519800798, 0.7375751149374004, 0.7155714488792081, 0.7497186781493009, 0.7476786795537215, 0.7474203241105971, 0.7430497163887008, 0.7145588024081801, 0.7488131509669698, 0.7462973695508258, 0.7492792909162957, 0.7343774262631679, 0.7155605337549357, 0.734126412501444, 0.7536596246450806, 0.7270147295717646, 0.7355271797551014, 0.7502289707138076, 0.718304993010764, 0.747076064779059, 0.7342414533767317, 0.7465487688771028, 0.7392260254033154, 0.7466858538812184, 0.7418081184209026, 0.7479900805237153, 0.7459527912469149, 0.7156047031362054, 0.7255257313098037, 0.7502626233961811, 0.719495438161106, 0.7435557235788632, 0.7502551546423178, 0.7168412723284414, 0.746600626462953, 0.7260868448043455, 0.7481364732914191, 0.7392679783378563, 0.7100892545819741, 0.7147732352865869, 0.7102457083853296, 0.7438307537335334, 0.7429120170023645, 0.7451526528888485, 0.7463493227064649, 0.7538149948759155, 0.742506736395249, 0.7472384175698533, 0.7286489883199027, 0.7513258355474127, 0.7504778073820216, 0.7406930695827605, 0.7461337619567759, 0.7461517399452527, 0.7435555347759661, 0.7476087393307017, 0.7289666749010668, 0.7237571500115348, 0.7131259090336072, 0.7492555838989257, 0.7259821237090349, 0.7482253876767765, 0.7437982306401527, 0.7489079284106084, 0.7457080187721481, 0.7165565819305915, 0.750531329107626, 0.7483913179149121, 0.7473996169294452, 0.7133706080299036, 0.7431983888808953, 0.7434151636021088, 0.7114886697426652, 0.7584460076211113, 0.7476591256540431, 0.7106129930512342, 0.7259901091452483, 0.7466173650525152, 0.7180829481854135, 0.74302689889074, 0.7397381195995292, 0.7554960660285561, 0.7497200651681754, 0.7486605581926021, 0.7135922366213552, 0.7392541054764834], \"z\": [0.12004378720348981, 0.1184090036921122, 0.11223727171327988, 0.13393341012935653, 0.12649964566878225, 0.30662267621909167, 0.11190509602028356, 0.31355677945922605, 0.24607169546504642, 0.06644948256763732, 0.287502249500952, 0.10657506503569317, 0.08455466678122926, 0.26954627213103494, 0.2970019066499148, 0.1993467047878063, 0.06104348769216334, 0.1186069610040237, 0.2826603913233027, 0.012014143536963092, 0.23247295100081314, 0.2895627114177626, 0.04759288972784459, 0.012807740419233476, 0.03453661869987472, 0.11196364183232244, 0.29510704959070533, 0.061081826724996395, 0.05775028780874432, 0.0633433307170783, 0.20683906612728473, 0.2897297327048197, 0.1905823640896662, 0.06691242516242363, 0.23555746018523965, 0.17807550495774477, 0.10848635441682009, 0.27784771388734797, 0.04221500949644594, 0.19057916429471342, 0.06005189817541297, 0.17078298158281013, 0.15006946214356395, 0.12413597330796966, 0.11224276926084836, 0.06643687651905662, 0.28860620950869037, 0.24083158248659056, 0.022711025029661817, 0.272303682706729, 0.1028497962972239, 0.11348118562233304, 0.2845065421314791, 0.04649074721619829, 0.24005576317359748, 0.09700973288983501, 0.15067052679836795, 0.3118827318740589, 0.29274348256380744, 0.31170161875872643, 0.10854717969135559, 0.11179451265403284, 0.11861909822020658, 0.05886902813185924, 0.04126227124433299, 0.11966110678622331, 0.03406014889254937, 0.23969984168537445, 0.1073715175859886, 0.05789038287588334, 0.1353418033133433, 0.10672789144203454, 0.10687180408050485, 0.10291999871661352, 0.033075482395350395, 0.2237910420205311, 0.25037382258862784, 0.3057783682138434, 0.05534533932892022, 0.23936822326311386, 0.12995272925405654, 0.10814572558116405, 0.05905845009247099, 0.07095835406676444, 0.28522749975048434, 0.1093840275002338, 0.1338746150321542, 0.010890970728129588, 0.2984977962037932, 0.10658064388622462, 0.10569537461677482, 0.30687433171834255, 0.0, 0.12189518948886664, 0.30974383566626673, 0.24094407226202366, 0.04720165846209577, 0.2782380004990941, 0.17796944525932554, 0.14781860297488447, 0.009523281919255897, 0.04760943620947259, 0.06328157923410149, 0.2979818899331036, 0.14873756355368362]}, {\"colorscale\": [[0.0, \"red\"], [1.0, \"red\"]], \"opacity\": 0.5, \"type\": \"surface\", \"x\": [[0.0, 0.17364817766693033, 0.3420201433256687, 0.49999999999999994, 0.6427876096865393, 0.766044443118978, 0.8660254037844386, 0.9396926207859083, 0.984807753012208, 1.0], [0.0, 0.17101007166283433, 0.33682408883346515, 0.49240387650610395, 0.633022221559489, 0.7544065067354889, 0.8528685319524432, 0.9254165783983233, 0.9698463103929541, 0.984807753012208], [0.0, 0.16317591116653482, 0.3213938048432697, 0.46984631039295416, 0.6040227735550536, 0.7198463103929542, 0.8137976813493737, 0.883022221559489, 0.9254165783983234, 0.9396926207859084], [0.0, 0.1503837331804353, 0.29619813272602386, 0.4330127018922193, 0.5566703992264194, 0.6634139481689384, 0.75, 0.8137976813493737, 0.8528685319524433, 0.8660254037844387], [0.0, 0.133022221559489, 0.2620026302293849, 0.38302222155948895, 0.49240387650610395, 0.5868240888334652, 0.6634139481689384, 0.7198463103929541, 0.7544065067354889, 0.766044443118978], [0.0, 0.11161889704894966, 0.2198463103929542, 0.3213938048432696, 0.4131759111665348, 0.49240387650610407, 0.5566703992264194, 0.6040227735550536, 0.6330222215594891, 0.6427876096865394], [0.0, 0.08682408883346518, 0.17101007166283438, 0.25, 0.3213938048432697, 0.3830222215594891, 0.4330127018922194, 0.46984631039295427, 0.4924038765061041, 0.5000000000000001], [0.0, 0.05939117461388472, 0.11697777844051101, 0.17101007166283438, 0.21984631039295421, 0.262002630229385, 0.2961981327260239, 0.32139380484326974, 0.33682408883346526, 0.3420201433256688], [0.0, 0.030153689607045817, 0.059391174613884726, 0.0868240888334652, 0.11161889704894969, 0.13302222155948906, 0.15038373318043535, 0.16317591116653488, 0.1710100716628344, 0.17364817766693041], [0.0, 1.0632884247878856e-17, 2.094269368838496e-17, 3.0616169978683824e-17, 3.9359389436709925e-17, 4.6906693763513654e-17, 5.302876193624534e-17, 5.753957801139251e-17, 6.030208312509488e-17, 6.123233995736766e-17]], \"y\": [[0.0, 0.0, 0.0, 0.0, 0.0, 0.0, 0.0, 0.0, 0.0, 0.0], [0.0, 0.030153689607045803, 0.0593911746138847, 0.08682408883346515, 0.11161889704894963, 0.133022221559489, 0.15038373318043527, 0.1631759111665348, 0.17101007166283433, 0.17364817766693033], [0.0, 0.0593911746138847, 0.11697777844051097, 0.17101007166283433, 0.21984631039295416, 0.2620026302293849, 0.2961981327260238, 0.3213938048432696, 0.33682408883346515, 0.3420201433256687], [0.0, 0.08682408883346515, 0.17101007166283433, 0.24999999999999994, 0.32139380484326957, 0.38302222155948895, 0.43301270189221924, 0.4698463103929541, 0.49240387650610395, 0.49999999999999994], [0.0, 0.11161889704894963, 0.21984631039295416, 0.32139380484326957, 0.41317591116653474, 0.49240387650610395, 0.5566703992264193, 0.6040227735550536, 0.633022221559489, 0.6427876096865393], [0.0, 0.133022221559489, 0.2620026302293849, 0.38302222155948895, 0.49240387650610395, 0.5868240888334652, 0.6634139481689384, 0.7198463103929541, 0.7544065067354889, 0.766044443118978], [0.0, 0.15038373318043527, 0.2961981327260238, 0.43301270189221924, 0.5566703992264193, 0.6634139481689384, 0.7499999999999999, 0.8137976813493736, 0.8528685319524432, 0.8660254037844386], [0.0, 0.1631759111665348, 0.3213938048432696, 0.4698463103929541, 0.6040227735550536, 0.7198463103929541, 0.8137976813493736, 0.8830222215594888, 0.9254165783983233, 0.9396926207859083], [0.0, 0.17101007166283433, 0.33682408883346515, 0.49240387650610395, 0.633022221559489, 0.7544065067354889, 0.8528685319524432, 0.9254165783983233, 0.9698463103929541, 0.984807753012208], [0.0, 0.17364817766693033, 0.3420201433256687, 0.49999999999999994, 0.6427876096865393, 0.766044443118978, 0.8660254037844386, 0.9396926207859083, 0.984807753012208, 1.0]], \"z\": [[1.0, 0.984807753012208, 0.9396926207859084, 0.8660254037844387, 0.766044443118978, 0.6427876096865394, 0.5000000000000001, 0.3420201433256688, 0.17364817766693041, 6.123233995736766e-17], [1.0, 0.984807753012208, 0.9396926207859084, 0.8660254037844387, 0.766044443118978, 0.6427876096865394, 0.5000000000000001, 0.3420201433256688, 0.17364817766693041, 6.123233995736766e-17], [1.0, 0.984807753012208, 0.9396926207859084, 0.8660254037844387, 0.766044443118978, 0.6427876096865394, 0.5000000000000001, 0.3420201433256688, 0.17364817766693041, 6.123233995736766e-17], [1.0, 0.984807753012208, 0.9396926207859084, 0.8660254037844387, 0.766044443118978, 0.6427876096865394, 0.5000000000000001, 0.3420201433256688, 0.17364817766693041, 6.123233995736766e-17], [1.0, 0.984807753012208, 0.9396926207859084, 0.8660254037844387, 0.766044443118978, 0.6427876096865394, 0.5000000000000001, 0.3420201433256688, 0.17364817766693041, 6.123233995736766e-17], [1.0, 0.984807753012208, 0.9396926207859084, 0.8660254037844387, 0.766044443118978, 0.6427876096865394, 0.5000000000000001, 0.3420201433256688, 0.17364817766693041, 6.123233995736766e-17], [1.0, 0.984807753012208, 0.9396926207859084, 0.8660254037844387, 0.766044443118978, 0.6427876096865394, 0.5000000000000001, 0.3420201433256688, 0.17364817766693041, 6.123233995736766e-17], [1.0, 0.984807753012208, 0.9396926207859084, 0.8660254037844387, 0.766044443118978, 0.6427876096865394, 0.5000000000000001, 0.3420201433256688, 0.17364817766693041, 6.123233995736766e-17], [1.0, 0.984807753012208, 0.9396926207859084, 0.8660254037844387, 0.766044443118978, 0.6427876096865394, 0.5000000000000001, 0.3420201433256688, 0.17364817766693041, 6.123233995736766e-17], [1.0, 0.984807753012208, 0.9396926207859084, 0.8660254037844387, 0.766044443118978, 0.6427876096865394, 0.5000000000000001, 0.3420201433256688, 0.17364817766693041, 6.123233995736766e-17]]}, {\"marker\": {\"opacity\": 0.8, \"size\": 4}, \"name\": \"Nadir Point\", \"type\": \"scatter3d\", \"x\": [1], \"y\": [1], \"z\": [1]}, {\"marker\": {\"opacity\": 0.8, \"size\": 4}, \"name\": \"Reference Point\", \"type\": \"scatter3d\", \"x\": [0.8], \"y\": [0.9], \"z\": [0.4]}, {\"line\": {\"width\": 10}, \"marker\": {\"opacity\": 0.8, \"size\": 2}, \"name\": \"STOM\", \"type\": \"scatter3d\", \"x\": [0, 0.8, 80.0], \"y\": [0, 0.9, 90.0], \"z\": [0, 0.4, 40.0]}, {\"line\": {\"width\": 10}, \"marker\": {\"opacity\": 0.8, \"size\": 2}, \"name\": \"ASF\", \"type\": \"scatter3d\", \"x\": [-0.19999999999999996, 1.8], \"y\": [-0.09999999999999998, 1.9], \"z\": [-0.6, 1.4]}, {\"line\": {\"width\": 10}, \"marker\": {\"opacity\": 0.8, \"size\": 2}, \"name\": \"AUG\", \"type\": \"scatter3d\", \"x\": [-1.0, 0.8, 1], \"y\": [0.0, 0.9, 1], \"z\": [-5.0, 0.4, 1]}, {\"marker\": {\"opacity\": 0.8, \"size\": 4}, \"name\": \"Ideal Point\", \"type\": \"scatter3d\", \"x\": [0], \"y\": [0], \"z\": [0]}],\n",
       "                        {\"margin\": {\"b\": 0, \"l\": 0, \"r\": 0, \"t\": 0}, \"scene\": {\"aspectratio\": {\"x\": 1, \"y\": 1, \"z\": 1}, \"xaxis\": {\"range\": [0, 1.1]}, \"yaxis\": {\"range\": [0, 1.1]}, \"zaxis\": {\"range\": [0, 1.1]}}, \"template\": {\"data\": {\"bar\": [{\"error_x\": {\"color\": \"#2a3f5f\"}, \"error_y\": {\"color\": \"#2a3f5f\"}, \"marker\": {\"line\": {\"color\": \"#E5ECF6\", \"width\": 0.5}}, \"type\": \"bar\"}], \"barpolar\": [{\"marker\": {\"line\": {\"color\": \"#E5ECF6\", \"width\": 0.5}}, \"type\": \"barpolar\"}], \"carpet\": [{\"aaxis\": {\"endlinecolor\": \"#2a3f5f\", \"gridcolor\": \"white\", \"linecolor\": \"white\", \"minorgridcolor\": \"white\", \"startlinecolor\": \"#2a3f5f\"}, \"baxis\": {\"endlinecolor\": \"#2a3f5f\", \"gridcolor\": \"white\", \"linecolor\": \"white\", \"minorgridcolor\": \"white\", \"startlinecolor\": \"#2a3f5f\"}, \"type\": \"carpet\"}], \"choropleth\": [{\"colorbar\": {\"outlinewidth\": 0, \"ticks\": \"\"}, \"type\": \"choropleth\"}], \"contour\": [{\"colorbar\": {\"outlinewidth\": 0, \"ticks\": \"\"}, \"colorscale\": [[0.0, \"#0d0887\"], [0.1111111111111111, \"#46039f\"], [0.2222222222222222, \"#7201a8\"], [0.3333333333333333, \"#9c179e\"], [0.4444444444444444, \"#bd3786\"], [0.5555555555555556, \"#d8576b\"], [0.6666666666666666, \"#ed7953\"], [0.7777777777777778, \"#fb9f3a\"], [0.8888888888888888, \"#fdca26\"], [1.0, \"#f0f921\"]], \"type\": \"contour\"}], \"contourcarpet\": [{\"colorbar\": {\"outlinewidth\": 0, \"ticks\": \"\"}, \"type\": \"contourcarpet\"}], \"heatmap\": [{\"colorbar\": {\"outlinewidth\": 0, \"ticks\": \"\"}, \"colorscale\": [[0.0, \"#0d0887\"], [0.1111111111111111, \"#46039f\"], [0.2222222222222222, \"#7201a8\"], [0.3333333333333333, \"#9c179e\"], [0.4444444444444444, \"#bd3786\"], [0.5555555555555556, \"#d8576b\"], [0.6666666666666666, \"#ed7953\"], [0.7777777777777778, \"#fb9f3a\"], [0.8888888888888888, \"#fdca26\"], [1.0, \"#f0f921\"]], \"type\": \"heatmap\"}], \"heatmapgl\": [{\"colorbar\": {\"outlinewidth\": 0, \"ticks\": \"\"}, \"colorscale\": [[0.0, \"#0d0887\"], [0.1111111111111111, \"#46039f\"], [0.2222222222222222, \"#7201a8\"], [0.3333333333333333, \"#9c179e\"], [0.4444444444444444, \"#bd3786\"], [0.5555555555555556, \"#d8576b\"], [0.6666666666666666, \"#ed7953\"], [0.7777777777777778, \"#fb9f3a\"], [0.8888888888888888, \"#fdca26\"], [1.0, \"#f0f921\"]], \"type\": \"heatmapgl\"}], \"histogram\": [{\"marker\": {\"colorbar\": {\"outlinewidth\": 0, \"ticks\": \"\"}}, \"type\": \"histogram\"}], \"histogram2d\": [{\"colorbar\": {\"outlinewidth\": 0, \"ticks\": \"\"}, \"colorscale\": [[0.0, \"#0d0887\"], [0.1111111111111111, \"#46039f\"], [0.2222222222222222, \"#7201a8\"], [0.3333333333333333, \"#9c179e\"], [0.4444444444444444, \"#bd3786\"], [0.5555555555555556, \"#d8576b\"], [0.6666666666666666, \"#ed7953\"], [0.7777777777777778, \"#fb9f3a\"], [0.8888888888888888, \"#fdca26\"], [1.0, \"#f0f921\"]], \"type\": \"histogram2d\"}], \"histogram2dcontour\": [{\"colorbar\": {\"outlinewidth\": 0, \"ticks\": \"\"}, \"colorscale\": [[0.0, \"#0d0887\"], [0.1111111111111111, \"#46039f\"], [0.2222222222222222, \"#7201a8\"], [0.3333333333333333, \"#9c179e\"], [0.4444444444444444, \"#bd3786\"], [0.5555555555555556, \"#d8576b\"], [0.6666666666666666, \"#ed7953\"], [0.7777777777777778, \"#fb9f3a\"], [0.8888888888888888, \"#fdca26\"], [1.0, \"#f0f921\"]], \"type\": \"histogram2dcontour\"}], \"mesh3d\": [{\"colorbar\": {\"outlinewidth\": 0, \"ticks\": \"\"}, \"type\": \"mesh3d\"}], \"parcoords\": [{\"line\": {\"colorbar\": {\"outlinewidth\": 0, \"ticks\": \"\"}}, \"type\": \"parcoords\"}], \"pie\": [{\"automargin\": true, \"type\": \"pie\"}], \"scatter\": [{\"marker\": {\"colorbar\": {\"outlinewidth\": 0, \"ticks\": \"\"}}, \"type\": \"scatter\"}], \"scatter3d\": [{\"line\": {\"colorbar\": {\"outlinewidth\": 0, \"ticks\": \"\"}}, \"marker\": {\"colorbar\": {\"outlinewidth\": 0, \"ticks\": \"\"}}, \"type\": \"scatter3d\"}], \"scattercarpet\": [{\"marker\": {\"colorbar\": {\"outlinewidth\": 0, \"ticks\": \"\"}}, \"type\": \"scattercarpet\"}], \"scattergeo\": [{\"marker\": {\"colorbar\": {\"outlinewidth\": 0, \"ticks\": \"\"}}, \"type\": \"scattergeo\"}], \"scattergl\": [{\"marker\": {\"colorbar\": {\"outlinewidth\": 0, \"ticks\": \"\"}}, \"type\": \"scattergl\"}], \"scattermapbox\": [{\"marker\": {\"colorbar\": {\"outlinewidth\": 0, \"ticks\": \"\"}}, \"type\": \"scattermapbox\"}], \"scatterpolar\": [{\"marker\": {\"colorbar\": {\"outlinewidth\": 0, \"ticks\": \"\"}}, \"type\": \"scatterpolar\"}], \"scatterpolargl\": [{\"marker\": {\"colorbar\": {\"outlinewidth\": 0, \"ticks\": \"\"}}, \"type\": \"scatterpolargl\"}], \"scatterternary\": [{\"marker\": {\"colorbar\": {\"outlinewidth\": 0, \"ticks\": \"\"}}, \"type\": \"scatterternary\"}], \"surface\": [{\"colorbar\": {\"outlinewidth\": 0, \"ticks\": \"\"}, \"colorscale\": [[0.0, \"#0d0887\"], [0.1111111111111111, \"#46039f\"], [0.2222222222222222, \"#7201a8\"], [0.3333333333333333, \"#9c179e\"], [0.4444444444444444, \"#bd3786\"], [0.5555555555555556, \"#d8576b\"], [0.6666666666666666, \"#ed7953\"], [0.7777777777777778, \"#fb9f3a\"], [0.8888888888888888, \"#fdca26\"], [1.0, \"#f0f921\"]], \"type\": \"surface\"}], \"table\": [{\"cells\": {\"fill\": {\"color\": \"#EBF0F8\"}, \"line\": {\"color\": \"white\"}}, \"header\": {\"fill\": {\"color\": \"#C8D4E3\"}, \"line\": {\"color\": \"white\"}}, \"type\": \"table\"}]}, \"layout\": {\"annotationdefaults\": {\"arrowcolor\": \"#2a3f5f\", \"arrowhead\": 0, \"arrowwidth\": 1}, \"coloraxis\": {\"colorbar\": {\"outlinewidth\": 0, \"ticks\": \"\"}}, \"colorscale\": {\"diverging\": [[0, \"#8e0152\"], [0.1, \"#c51b7d\"], [0.2, \"#de77ae\"], [0.3, \"#f1b6da\"], [0.4, \"#fde0ef\"], [0.5, \"#f7f7f7\"], [0.6, \"#e6f5d0\"], [0.7, \"#b8e186\"], [0.8, \"#7fbc41\"], [0.9, \"#4d9221\"], [1, \"#276419\"]], \"sequential\": [[0.0, \"#0d0887\"], [0.1111111111111111, \"#46039f\"], [0.2222222222222222, \"#7201a8\"], [0.3333333333333333, \"#9c179e\"], [0.4444444444444444, \"#bd3786\"], [0.5555555555555556, \"#d8576b\"], [0.6666666666666666, \"#ed7953\"], [0.7777777777777778, \"#fb9f3a\"], [0.8888888888888888, \"#fdca26\"], [1.0, \"#f0f921\"]], \"sequentialminus\": [[0.0, \"#0d0887\"], [0.1111111111111111, \"#46039f\"], [0.2222222222222222, \"#7201a8\"], [0.3333333333333333, \"#9c179e\"], [0.4444444444444444, \"#bd3786\"], [0.5555555555555556, \"#d8576b\"], [0.6666666666666666, \"#ed7953\"], [0.7777777777777778, \"#fb9f3a\"], [0.8888888888888888, \"#fdca26\"], [1.0, \"#f0f921\"]]}, \"colorway\": [\"#636efa\", \"#EF553B\", \"#00cc96\", \"#ab63fa\", \"#FFA15A\", \"#19d3f3\", \"#FF6692\", \"#B6E880\", \"#FF97FF\", \"#FECB52\"], \"font\": {\"color\": \"#2a3f5f\"}, \"geo\": {\"bgcolor\": \"white\", \"lakecolor\": \"white\", \"landcolor\": \"#E5ECF6\", \"showlakes\": true, \"showland\": true, \"subunitcolor\": \"white\"}, \"hoverlabel\": {\"align\": \"left\"}, \"hovermode\": \"closest\", \"mapbox\": {\"style\": \"light\"}, \"paper_bgcolor\": \"white\", \"plot_bgcolor\": \"#E5ECF6\", \"polar\": {\"angularaxis\": {\"gridcolor\": \"white\", \"linecolor\": \"white\", \"ticks\": \"\"}, \"bgcolor\": \"#E5ECF6\", \"radialaxis\": {\"gridcolor\": \"white\", \"linecolor\": \"white\", \"ticks\": \"\"}}, \"scene\": {\"xaxis\": {\"backgroundcolor\": \"#E5ECF6\", \"gridcolor\": \"white\", \"gridwidth\": 2, \"linecolor\": \"white\", \"showbackground\": true, \"ticks\": \"\", \"zerolinecolor\": \"white\"}, \"yaxis\": {\"backgroundcolor\": \"#E5ECF6\", \"gridcolor\": \"white\", \"gridwidth\": 2, \"linecolor\": \"white\", \"showbackground\": true, \"ticks\": \"\", \"zerolinecolor\": \"white\"}, \"zaxis\": {\"backgroundcolor\": \"#E5ECF6\", \"gridcolor\": \"white\", \"gridwidth\": 2, \"linecolor\": \"white\", \"showbackground\": true, \"ticks\": \"\", \"zerolinecolor\": \"white\"}}, \"shapedefaults\": {\"line\": {\"color\": \"#2a3f5f\"}}, \"ternary\": {\"aaxis\": {\"gridcolor\": \"white\", \"linecolor\": \"white\", \"ticks\": \"\"}, \"baxis\": {\"gridcolor\": \"white\", \"linecolor\": \"white\", \"ticks\": \"\"}, \"bgcolor\": \"#E5ECF6\", \"caxis\": {\"gridcolor\": \"white\", \"linecolor\": \"white\", \"ticks\": \"\"}}, \"title\": {\"x\": 0.05}, \"xaxis\": {\"automargin\": true, \"gridcolor\": \"white\", \"linecolor\": \"white\", \"ticks\": \"\", \"title\": {\"standoff\": 15}, \"zerolinecolor\": \"white\", \"zerolinewidth\": 2}, \"yaxis\": {\"automargin\": true, \"gridcolor\": \"white\", \"linecolor\": \"white\", \"ticks\": \"\", \"title\": {\"standoff\": 15}, \"zerolinecolor\": \"white\", \"zerolinewidth\": 2}}}},\n",
       "                        {\"responsive\": true}\n",
       "                    ).then(function(){\n",
       "                            \n",
       "var gd = document.getElementById('f130c96a-2de6-4613-b1a5-72d7e80d3d26');\n",
       "var x = new MutationObserver(function (mutations, observer) {{\n",
       "        var display = window.getComputedStyle(gd).display;\n",
       "        if (!display || display === 'none') {{\n",
       "            console.log([gd, 'removed!']);\n",
       "            Plotly.purge(gd);\n",
       "            observer.disconnect();\n",
       "        }}\n",
       "}});\n",
       "\n",
       "// Listen for the removal of the full notebook cells\n",
       "var notebookContainer = gd.closest('#notebook-container');\n",
       "if (notebookContainer) {{\n",
       "    x.observe(notebookContainer, {childList: true});\n",
       "}}\n",
       "\n",
       "// Listen for the clearing of the current output cell\n",
       "var outputEl = gd.closest('.output');\n",
       "if (outputEl) {{\n",
       "    x.observe(outputEl, {childList: true});\n",
       "}}\n",
       "\n",
       "                        })\n",
       "                };\n",
       "                });\n",
       "            </script>\n",
       "        </div>"
      ]
     },
     "metadata": {},
     "output_type": "display_data"
    }
   ],
   "source": [
    "fig = plot_dtlz2(plot, response)\n",
    "fig"
   ]
  },
  {
   "cell_type": "code",
   "execution_count": 12,
   "metadata": {},
   "outputs": [],
   "source": [
    "def plot_dtlz2(plot, response):\n",
    "    # NIMBUSEA\n",
    "    obj = plot.content['data'].values\n",
    "    non_dom_id = nds(obj)[0][0]\n",
    "    fig = go.Figure(\n",
    "        go.Scatter3d(\n",
    "            x=obj[non_dom_id, 0],\n",
    "            y=obj[non_dom_id, 1],\n",
    "            z=obj[non_dom_id, 2],\n",
    "            name=\"NIMBUS-EA\",\n",
    "            mode='markers',\n",
    "            marker=dict(\n",
    "            size=4,\n",
    "            opacity=0.8\n",
    "        )\n",
    "        )\n",
    "    )\n",
    "\n",
    "    #True Front\n",
    "    phi = np.linspace(0, np.pi/2, 10)\n",
    "    theta = np.linspace(0, np.pi/2, 10)\n",
    "    phi, theta = np.meshgrid(phi, theta)\n",
    "    x = np.cos(theta)*np.sin(phi)\n",
    "    y = np.sin(theta)*np.sin(phi)\n",
    "    z = np.cos(phi)\n",
    "    fig = fig.add_trace(go.Surface(x=x, y=y, z=z, colorscale=[\"red\", \"red\"], opacity=0.5))\n",
    "\n",
    "    #Nadir Point\n",
    "    fig.add_trace(\n",
    "        go.Scatter3d(\n",
    "            x=[1],\n",
    "            y=[1],\n",
    "            z=[1],\n",
    "            name=\"Nadir Point\",\n",
    "            marker=dict(\n",
    "            size=4,\n",
    "            opacity=0.8\n",
    "        )\n",
    "        )\n",
    "    )\n",
    "\n",
    "\n",
    "\n",
    "    # Reference Point\n",
    "\n",
    "    fig.add_trace(\n",
    "        go.Scatter3d(\n",
    "            x=[response[0,0]],\n",
    "            y=[response[0,1]],\n",
    "            z=[response[0,2]],\n",
    "            name=\"Reference Point\",\n",
    "            marker=dict(\n",
    "            size=4,\n",
    "            opacity=0.8\n",
    "        )\n",
    "        )\n",
    "    )\n",
    "\n",
    "    # STOM\n",
    "\n",
    "    fig.add_trace(\n",
    "        go.Scatter3d(\n",
    "            x=[0, response[0,0],100*response[0,0]],\n",
    "            y=[0, response[0,1],100*response[0,1]],\n",
    "            z=[0, response[0,2],100*response[0,2]],\n",
    "            name=\"STOM\",\n",
    "            marker=dict(\n",
    "            size=2,\n",
    "            opacity=0.8\n",
    "        ),\n",
    "            line=dict(width=10)\n",
    "        )\n",
    "    )\n",
    "\n",
    "    #ASF\n",
    "\n",
    "    fig.add_trace(\n",
    "        go.Scatter3d(\n",
    "            x=[response[0,0]-1, response[0,0]+1],\n",
    "            y=[response[0,1]-1, response[0,1]+1],\n",
    "            z=[response[0,2]-1, response[0,2]+1],\n",
    "            name=\"ASF\",\n",
    "            marker=dict(\n",
    "            size=2,\n",
    "            opacity=0.8\n",
    "        ),\n",
    "            line=dict(width=10)\n",
    "        )\n",
    "    )\n",
    "    #AUG\n",
    "\n",
    "    fig.add_trace(\n",
    "        go.Scatter3d(\n",
    "            x=[10*response[0,0] - 9*1,response[0,0], 1],\n",
    "            y=[10*response[0,1] - 9*1,response[0,1], 1],\n",
    "            z=[10*response[0,2] - 9*1,response[0,2], 1],\n",
    "            name=\"AUG\",\n",
    "            marker=dict(\n",
    "            size=2,\n",
    "            opacity=0.8\n",
    "        ),\n",
    "            line=dict(width=10)\n",
    "        )\n",
    "    )\n",
    "\n",
    "    # Ideal Point\n",
    "    fig.add_trace(\n",
    "        go.Scatter3d(\n",
    "            x=[0],\n",
    "            y=[0],\n",
    "            z=[0],\n",
    "            name=\"Ideal Point\",\n",
    "            marker=dict(\n",
    "            size=4,\n",
    "            opacity=0.8\n",
    "        )\n",
    "        )\n",
    "    )\n",
    "\n",
    "    fig.update_layout(\n",
    "        scene = dict(\n",
    "            xaxis = dict(range=[0,1.1],),\n",
    "            yaxis = dict(range=[0,1.1],),\n",
    "            zaxis = dict(range=[0,1.1],),\n",
    "            aspectratio=dict(x=1,y=1,z=1))\n",
    "                     )\n",
    "    fig.update_layout(margin=dict(l=0, r=0, b=0, t=0))\n",
    "    return fig"
   ]
  },
  {
   "cell_type": "code",
   "execution_count": 209,
   "metadata": {},
   "outputs": [
    {
     "data": {
      "text/plain": [
       "'temp-plot.html'"
      ]
     },
     "execution_count": 209,
     "metadata": {},
     "output_type": "execute_result"
    }
   ],
   "source": [
    "plot(fig, \"DTLZ.html\")"
   ]
  },
  {
   "cell_type": "code",
   "execution_count": 207,
   "metadata": {},
   "outputs": [
    {
     "ename": "ModuleNotFoundError",
     "evalue": "No module named 'plotly.offline.plot'",
     "output_type": "error",
     "traceback": [
      "\u001b[0;31m---------------------------------------------------------------------------\u001b[0m",
      "\u001b[0;31mModuleNotFoundError\u001b[0m                       Traceback (most recent call last)",
      "\u001b[0;32m<ipython-input-207-09283a1c4c51>\u001b[0m in \u001b[0;36m<module>\u001b[0;34m\u001b[0m\n\u001b[0;32m----> 1\u001b[0;31m \u001b[0;32mimport\u001b[0m \u001b[0mplotly\u001b[0m\u001b[0;34m.\u001b[0m\u001b[0moffline\u001b[0m\u001b[0;34m.\u001b[0m\u001b[0mplot\u001b[0m \u001b[0;32mas\u001b[0m \u001b[0msavefig\u001b[0m\u001b[0;34m\u001b[0m\u001b[0;34m\u001b[0m\u001b[0m\n\u001b[0m",
      "\u001b[0;31mModuleNotFoundError\u001b[0m: No module named 'plotly.offline.plot'"
     ]
    }
   ],
   "source": [
    "import plotly.offline.plot as savefig"
   ]
  },
  {
   "cell_type": "code",
   "execution_count": 208,
   "metadata": {},
   "outputs": [],
   "source": [
    "from plotly.offline import plot"
   ]
  },
  {
   "cell_type": "code",
   "execution_count": null,
   "metadata": {},
   "outputs": [],
   "source": []
  }
 ],
 "metadata": {
  "kernelspec": {
   "display_name": "desdeo_emo",
   "language": "python",
   "name": "desdeo_emo"
  },
  "language_info": {
   "codemirror_mode": {
    "name": "ipython",
    "version": 3
   },
   "file_extension": ".py",
   "mimetype": "text/x-python",
   "name": "python",
   "nbconvert_exporter": "python",
   "pygments_lexer": "ipython3",
   "version": "3.7.5rc1"
  }
 },
 "nbformat": 4,
 "nbformat_minor": 2
}
