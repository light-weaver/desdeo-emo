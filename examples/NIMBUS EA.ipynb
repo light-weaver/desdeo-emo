{
 "cells": [
  {
   "cell_type": "code",
   "execution_count": 1,
   "metadata": {},
   "outputs": [],
   "source": [
    "%matplotlib notebook"
   ]
  },
  {
   "cell_type": "code",
   "execution_count": 11,
   "metadata": {},
   "outputs": [],
   "source": [
    "import numpy as np\n",
    "import pandas as pd\n",
    "\n",
    "from desdeo_problem.testproblems.TestProblems import test_problem_builder\n",
    "\n",
    "from desdeo_emo.EAs.NIMBUS_EA import NIMBUS_RVEA, NIMBUS_NSGAIII\n",
    "import plotly.express as ex\n",
    "from pygmo import fast_non_dominated_sorting as nds\n",
    "import plotly.graph_objects as go"
   ]
  },
  {
   "cell_type": "code",
   "execution_count": 3,
   "metadata": {},
   "outputs": [],
   "source": [
    "import matplotlib.pyplot as plt"
   ]
  },
  {
   "cell_type": "code",
   "execution_count": 4,
   "metadata": {},
   "outputs": [],
   "source": [
    "problem = test_problem_builder(name=\"ZDT1\")"
   ]
  },
  {
   "cell_type": "code",
   "execution_count": 5,
   "metadata": {},
   "outputs": [],
   "source": [
    "problem.ideal = np.asarray([0, 0])\n",
    "problem.nadir = np.asarray([1, 1])"
   ]
  },
  {
   "cell_type": "code",
   "execution_count": 6,
   "metadata": {},
   "outputs": [],
   "source": [
    "evolver = NIMBUS_NSGAIII(problem, n_gen_per_iter=200)"
   ]
  },
  {
   "cell_type": "code",
   "execution_count": 7,
   "metadata": {},
   "outputs": [],
   "source": [
    "plot, pref = evolver.requests()"
   ]
  },
  {
   "cell_type": "code",
   "execution_count": 12,
   "metadata": {},
   "outputs": [],
   "source": [
    "response = np.asarray([[0.9,0.1]])\n",
    "pref.response = pd.DataFrame(response, columns=pref.content['dimensions_data'].columns)"
   ]
  },
  {
   "cell_type": "code",
   "execution_count": 13,
   "metadata": {},
   "outputs": [],
   "source": [
    "plot, pref = evolver.iterate(pref)"
   ]
  },
  {
   "cell_type": "code",
   "execution_count": 14,
   "metadata": {},
   "outputs": [
    {
     "data": {
      "application/javascript": [
       "/* Put everything inside the global mpl namespace */\n",
       "window.mpl = {};\n",
       "\n",
       "\n",
       "mpl.get_websocket_type = function() {\n",
       "    if (typeof(WebSocket) !== 'undefined') {\n",
       "        return WebSocket;\n",
       "    } else if (typeof(MozWebSocket) !== 'undefined') {\n",
       "        return MozWebSocket;\n",
       "    } else {\n",
       "        alert('Your browser does not have WebSocket support. ' +\n",
       "              'Please try Chrome, Safari or Firefox ≥ 6. ' +\n",
       "              'Firefox 4 and 5 are also supported but you ' +\n",
       "              'have to enable WebSockets in about:config.');\n",
       "    };\n",
       "}\n",
       "\n",
       "mpl.figure = function(figure_id, websocket, ondownload, parent_element) {\n",
       "    this.id = figure_id;\n",
       "\n",
       "    this.ws = websocket;\n",
       "\n",
       "    this.supports_binary = (this.ws.binaryType != undefined);\n",
       "\n",
       "    if (!this.supports_binary) {\n",
       "        var warnings = document.getElementById(\"mpl-warnings\");\n",
       "        if (warnings) {\n",
       "            warnings.style.display = 'block';\n",
       "            warnings.textContent = (\n",
       "                \"This browser does not support binary websocket messages. \" +\n",
       "                    \"Performance may be slow.\");\n",
       "        }\n",
       "    }\n",
       "\n",
       "    this.imageObj = new Image();\n",
       "\n",
       "    this.context = undefined;\n",
       "    this.message = undefined;\n",
       "    this.canvas = undefined;\n",
       "    this.rubberband_canvas = undefined;\n",
       "    this.rubberband_context = undefined;\n",
       "    this.format_dropdown = undefined;\n",
       "\n",
       "    this.image_mode = 'full';\n",
       "\n",
       "    this.root = $('<div/>');\n",
       "    this._root_extra_style(this.root)\n",
       "    this.root.attr('style', 'display: inline-block');\n",
       "\n",
       "    $(parent_element).append(this.root);\n",
       "\n",
       "    this._init_header(this);\n",
       "    this._init_canvas(this);\n",
       "    this._init_toolbar(this);\n",
       "\n",
       "    var fig = this;\n",
       "\n",
       "    this.waiting = false;\n",
       "\n",
       "    this.ws.onopen =  function () {\n",
       "            fig.send_message(\"supports_binary\", {value: fig.supports_binary});\n",
       "            fig.send_message(\"send_image_mode\", {});\n",
       "            if (mpl.ratio != 1) {\n",
       "                fig.send_message(\"set_dpi_ratio\", {'dpi_ratio': mpl.ratio});\n",
       "            }\n",
       "            fig.send_message(\"refresh\", {});\n",
       "        }\n",
       "\n",
       "    this.imageObj.onload = function() {\n",
       "            if (fig.image_mode == 'full') {\n",
       "                // Full images could contain transparency (where diff images\n",
       "                // almost always do), so we need to clear the canvas so that\n",
       "                // there is no ghosting.\n",
       "                fig.context.clearRect(0, 0, fig.canvas.width, fig.canvas.height);\n",
       "            }\n",
       "            fig.context.drawImage(fig.imageObj, 0, 0);\n",
       "        };\n",
       "\n",
       "    this.imageObj.onunload = function() {\n",
       "        fig.ws.close();\n",
       "    }\n",
       "\n",
       "    this.ws.onmessage = this._make_on_message_function(this);\n",
       "\n",
       "    this.ondownload = ondownload;\n",
       "}\n",
       "\n",
       "mpl.figure.prototype._init_header = function() {\n",
       "    var titlebar = $(\n",
       "        '<div class=\"ui-dialog-titlebar ui-widget-header ui-corner-all ' +\n",
       "        'ui-helper-clearfix\"/>');\n",
       "    var titletext = $(\n",
       "        '<div class=\"ui-dialog-title\" style=\"width: 100%; ' +\n",
       "        'text-align: center; padding: 3px;\"/>');\n",
       "    titlebar.append(titletext)\n",
       "    this.root.append(titlebar);\n",
       "    this.header = titletext[0];\n",
       "}\n",
       "\n",
       "\n",
       "\n",
       "mpl.figure.prototype._canvas_extra_style = function(canvas_div) {\n",
       "\n",
       "}\n",
       "\n",
       "\n",
       "mpl.figure.prototype._root_extra_style = function(canvas_div) {\n",
       "\n",
       "}\n",
       "\n",
       "mpl.figure.prototype._init_canvas = function() {\n",
       "    var fig = this;\n",
       "\n",
       "    var canvas_div = $('<div/>');\n",
       "\n",
       "    canvas_div.attr('style', 'position: relative; clear: both; outline: 0');\n",
       "\n",
       "    function canvas_keyboard_event(event) {\n",
       "        return fig.key_event(event, event['data']);\n",
       "    }\n",
       "\n",
       "    canvas_div.keydown('key_press', canvas_keyboard_event);\n",
       "    canvas_div.keyup('key_release', canvas_keyboard_event);\n",
       "    this.canvas_div = canvas_div\n",
       "    this._canvas_extra_style(canvas_div)\n",
       "    this.root.append(canvas_div);\n",
       "\n",
       "    var canvas = $('<canvas/>');\n",
       "    canvas.addClass('mpl-canvas');\n",
       "    canvas.attr('style', \"left: 0; top: 0; z-index: 0; outline: 0\")\n",
       "\n",
       "    this.canvas = canvas[0];\n",
       "    this.context = canvas[0].getContext(\"2d\");\n",
       "\n",
       "    var backingStore = this.context.backingStorePixelRatio ||\n",
       "\tthis.context.webkitBackingStorePixelRatio ||\n",
       "\tthis.context.mozBackingStorePixelRatio ||\n",
       "\tthis.context.msBackingStorePixelRatio ||\n",
       "\tthis.context.oBackingStorePixelRatio ||\n",
       "\tthis.context.backingStorePixelRatio || 1;\n",
       "\n",
       "    mpl.ratio = (window.devicePixelRatio || 1) / backingStore;\n",
       "\n",
       "    var rubberband = $('<canvas/>');\n",
       "    rubberband.attr('style', \"position: absolute; left: 0; top: 0; z-index: 1;\")\n",
       "\n",
       "    var pass_mouse_events = true;\n",
       "\n",
       "    canvas_div.resizable({\n",
       "        start: function(event, ui) {\n",
       "            pass_mouse_events = false;\n",
       "        },\n",
       "        resize: function(event, ui) {\n",
       "            fig.request_resize(ui.size.width, ui.size.height);\n",
       "        },\n",
       "        stop: function(event, ui) {\n",
       "            pass_mouse_events = true;\n",
       "            fig.request_resize(ui.size.width, ui.size.height);\n",
       "        },\n",
       "    });\n",
       "\n",
       "    function mouse_event_fn(event) {\n",
       "        if (pass_mouse_events)\n",
       "            return fig.mouse_event(event, event['data']);\n",
       "    }\n",
       "\n",
       "    rubberband.mousedown('button_press', mouse_event_fn);\n",
       "    rubberband.mouseup('button_release', mouse_event_fn);\n",
       "    // Throttle sequential mouse events to 1 every 20ms.\n",
       "    rubberband.mousemove('motion_notify', mouse_event_fn);\n",
       "\n",
       "    rubberband.mouseenter('figure_enter', mouse_event_fn);\n",
       "    rubberband.mouseleave('figure_leave', mouse_event_fn);\n",
       "\n",
       "    canvas_div.on(\"wheel\", function (event) {\n",
       "        event = event.originalEvent;\n",
       "        event['data'] = 'scroll'\n",
       "        if (event.deltaY < 0) {\n",
       "            event.step = 1;\n",
       "        } else {\n",
       "            event.step = -1;\n",
       "        }\n",
       "        mouse_event_fn(event);\n",
       "    });\n",
       "\n",
       "    canvas_div.append(canvas);\n",
       "    canvas_div.append(rubberband);\n",
       "\n",
       "    this.rubberband = rubberband;\n",
       "    this.rubberband_canvas = rubberband[0];\n",
       "    this.rubberband_context = rubberband[0].getContext(\"2d\");\n",
       "    this.rubberband_context.strokeStyle = \"#000000\";\n",
       "\n",
       "    this._resize_canvas = function(width, height) {\n",
       "        // Keep the size of the canvas, canvas container, and rubber band\n",
       "        // canvas in synch.\n",
       "        canvas_div.css('width', width)\n",
       "        canvas_div.css('height', height)\n",
       "\n",
       "        canvas.attr('width', width * mpl.ratio);\n",
       "        canvas.attr('height', height * mpl.ratio);\n",
       "        canvas.attr('style', 'width: ' + width + 'px; height: ' + height + 'px;');\n",
       "\n",
       "        rubberband.attr('width', width);\n",
       "        rubberband.attr('height', height);\n",
       "    }\n",
       "\n",
       "    // Set the figure to an initial 600x600px, this will subsequently be updated\n",
       "    // upon first draw.\n",
       "    this._resize_canvas(600, 600);\n",
       "\n",
       "    // Disable right mouse context menu.\n",
       "    $(this.rubberband_canvas).bind(\"contextmenu\",function(e){\n",
       "        return false;\n",
       "    });\n",
       "\n",
       "    function set_focus () {\n",
       "        canvas.focus();\n",
       "        canvas_div.focus();\n",
       "    }\n",
       "\n",
       "    window.setTimeout(set_focus, 100);\n",
       "}\n",
       "\n",
       "mpl.figure.prototype._init_toolbar = function() {\n",
       "    var fig = this;\n",
       "\n",
       "    var nav_element = $('<div/>');\n",
       "    nav_element.attr('style', 'width: 100%');\n",
       "    this.root.append(nav_element);\n",
       "\n",
       "    // Define a callback function for later on.\n",
       "    function toolbar_event(event) {\n",
       "        return fig.toolbar_button_onclick(event['data']);\n",
       "    }\n",
       "    function toolbar_mouse_event(event) {\n",
       "        return fig.toolbar_button_onmouseover(event['data']);\n",
       "    }\n",
       "\n",
       "    for(var toolbar_ind in mpl.toolbar_items) {\n",
       "        var name = mpl.toolbar_items[toolbar_ind][0];\n",
       "        var tooltip = mpl.toolbar_items[toolbar_ind][1];\n",
       "        var image = mpl.toolbar_items[toolbar_ind][2];\n",
       "        var method_name = mpl.toolbar_items[toolbar_ind][3];\n",
       "\n",
       "        if (!name) {\n",
       "            // put a spacer in here.\n",
       "            continue;\n",
       "        }\n",
       "        var button = $('<button/>');\n",
       "        button.addClass('ui-button ui-widget ui-state-default ui-corner-all ' +\n",
       "                        'ui-button-icon-only');\n",
       "        button.attr('role', 'button');\n",
       "        button.attr('aria-disabled', 'false');\n",
       "        button.click(method_name, toolbar_event);\n",
       "        button.mouseover(tooltip, toolbar_mouse_event);\n",
       "\n",
       "        var icon_img = $('<span/>');\n",
       "        icon_img.addClass('ui-button-icon-primary ui-icon');\n",
       "        icon_img.addClass(image);\n",
       "        icon_img.addClass('ui-corner-all');\n",
       "\n",
       "        var tooltip_span = $('<span/>');\n",
       "        tooltip_span.addClass('ui-button-text');\n",
       "        tooltip_span.html(tooltip);\n",
       "\n",
       "        button.append(icon_img);\n",
       "        button.append(tooltip_span);\n",
       "\n",
       "        nav_element.append(button);\n",
       "    }\n",
       "\n",
       "    var fmt_picker_span = $('<span/>');\n",
       "\n",
       "    var fmt_picker = $('<select/>');\n",
       "    fmt_picker.addClass('mpl-toolbar-option ui-widget ui-widget-content');\n",
       "    fmt_picker_span.append(fmt_picker);\n",
       "    nav_element.append(fmt_picker_span);\n",
       "    this.format_dropdown = fmt_picker[0];\n",
       "\n",
       "    for (var ind in mpl.extensions) {\n",
       "        var fmt = mpl.extensions[ind];\n",
       "        var option = $(\n",
       "            '<option/>', {selected: fmt === mpl.default_extension}).html(fmt);\n",
       "        fmt_picker.append(option);\n",
       "    }\n",
       "\n",
       "    // Add hover states to the ui-buttons\n",
       "    $( \".ui-button\" ).hover(\n",
       "        function() { $(this).addClass(\"ui-state-hover\");},\n",
       "        function() { $(this).removeClass(\"ui-state-hover\");}\n",
       "    );\n",
       "\n",
       "    var status_bar = $('<span class=\"mpl-message\"/>');\n",
       "    nav_element.append(status_bar);\n",
       "    this.message = status_bar[0];\n",
       "}\n",
       "\n",
       "mpl.figure.prototype.request_resize = function(x_pixels, y_pixels) {\n",
       "    // Request matplotlib to resize the figure. Matplotlib will then trigger a resize in the client,\n",
       "    // which will in turn request a refresh of the image.\n",
       "    this.send_message('resize', {'width': x_pixels, 'height': y_pixels});\n",
       "}\n",
       "\n",
       "mpl.figure.prototype.send_message = function(type, properties) {\n",
       "    properties['type'] = type;\n",
       "    properties['figure_id'] = this.id;\n",
       "    this.ws.send(JSON.stringify(properties));\n",
       "}\n",
       "\n",
       "mpl.figure.prototype.send_draw_message = function() {\n",
       "    if (!this.waiting) {\n",
       "        this.waiting = true;\n",
       "        this.ws.send(JSON.stringify({type: \"draw\", figure_id: this.id}));\n",
       "    }\n",
       "}\n",
       "\n",
       "\n",
       "mpl.figure.prototype.handle_save = function(fig, msg) {\n",
       "    var format_dropdown = fig.format_dropdown;\n",
       "    var format = format_dropdown.options[format_dropdown.selectedIndex].value;\n",
       "    fig.ondownload(fig, format);\n",
       "}\n",
       "\n",
       "\n",
       "mpl.figure.prototype.handle_resize = function(fig, msg) {\n",
       "    var size = msg['size'];\n",
       "    if (size[0] != fig.canvas.width || size[1] != fig.canvas.height) {\n",
       "        fig._resize_canvas(size[0], size[1]);\n",
       "        fig.send_message(\"refresh\", {});\n",
       "    };\n",
       "}\n",
       "\n",
       "mpl.figure.prototype.handle_rubberband = function(fig, msg) {\n",
       "    var x0 = msg['x0'] / mpl.ratio;\n",
       "    var y0 = (fig.canvas.height - msg['y0']) / mpl.ratio;\n",
       "    var x1 = msg['x1'] / mpl.ratio;\n",
       "    var y1 = (fig.canvas.height - msg['y1']) / mpl.ratio;\n",
       "    x0 = Math.floor(x0) + 0.5;\n",
       "    y0 = Math.floor(y0) + 0.5;\n",
       "    x1 = Math.floor(x1) + 0.5;\n",
       "    y1 = Math.floor(y1) + 0.5;\n",
       "    var min_x = Math.min(x0, x1);\n",
       "    var min_y = Math.min(y0, y1);\n",
       "    var width = Math.abs(x1 - x0);\n",
       "    var height = Math.abs(y1 - y0);\n",
       "\n",
       "    fig.rubberband_context.clearRect(\n",
       "        0, 0, fig.canvas.width / mpl.ratio, fig.canvas.height / mpl.ratio);\n",
       "\n",
       "    fig.rubberband_context.strokeRect(min_x, min_y, width, height);\n",
       "}\n",
       "\n",
       "mpl.figure.prototype.handle_figure_label = function(fig, msg) {\n",
       "    // Updates the figure title.\n",
       "    fig.header.textContent = msg['label'];\n",
       "}\n",
       "\n",
       "mpl.figure.prototype.handle_cursor = function(fig, msg) {\n",
       "    var cursor = msg['cursor'];\n",
       "    switch(cursor)\n",
       "    {\n",
       "    case 0:\n",
       "        cursor = 'pointer';\n",
       "        break;\n",
       "    case 1:\n",
       "        cursor = 'default';\n",
       "        break;\n",
       "    case 2:\n",
       "        cursor = 'crosshair';\n",
       "        break;\n",
       "    case 3:\n",
       "        cursor = 'move';\n",
       "        break;\n",
       "    }\n",
       "    fig.rubberband_canvas.style.cursor = cursor;\n",
       "}\n",
       "\n",
       "mpl.figure.prototype.handle_message = function(fig, msg) {\n",
       "    fig.message.textContent = msg['message'];\n",
       "}\n",
       "\n",
       "mpl.figure.prototype.handle_draw = function(fig, msg) {\n",
       "    // Request the server to send over a new figure.\n",
       "    fig.send_draw_message();\n",
       "}\n",
       "\n",
       "mpl.figure.prototype.handle_image_mode = function(fig, msg) {\n",
       "    fig.image_mode = msg['mode'];\n",
       "}\n",
       "\n",
       "mpl.figure.prototype.updated_canvas_event = function() {\n",
       "    // Called whenever the canvas gets updated.\n",
       "    this.send_message(\"ack\", {});\n",
       "}\n",
       "\n",
       "// A function to construct a web socket function for onmessage handling.\n",
       "// Called in the figure constructor.\n",
       "mpl.figure.prototype._make_on_message_function = function(fig) {\n",
       "    return function socket_on_message(evt) {\n",
       "        if (evt.data instanceof Blob) {\n",
       "            /* FIXME: We get \"Resource interpreted as Image but\n",
       "             * transferred with MIME type text/plain:\" errors on\n",
       "             * Chrome.  But how to set the MIME type?  It doesn't seem\n",
       "             * to be part of the websocket stream */\n",
       "            evt.data.type = \"image/png\";\n",
       "\n",
       "            /* Free the memory for the previous frames */\n",
       "            if (fig.imageObj.src) {\n",
       "                (window.URL || window.webkitURL).revokeObjectURL(\n",
       "                    fig.imageObj.src);\n",
       "            }\n",
       "\n",
       "            fig.imageObj.src = (window.URL || window.webkitURL).createObjectURL(\n",
       "                evt.data);\n",
       "            fig.updated_canvas_event();\n",
       "            fig.waiting = false;\n",
       "            return;\n",
       "        }\n",
       "        else if (typeof evt.data === 'string' && evt.data.slice(0, 21) == \"data:image/png;base64\") {\n",
       "            fig.imageObj.src = evt.data;\n",
       "            fig.updated_canvas_event();\n",
       "            fig.waiting = false;\n",
       "            return;\n",
       "        }\n",
       "\n",
       "        var msg = JSON.parse(evt.data);\n",
       "        var msg_type = msg['type'];\n",
       "\n",
       "        // Call the  \"handle_{type}\" callback, which takes\n",
       "        // the figure and JSON message as its only arguments.\n",
       "        try {\n",
       "            var callback = fig[\"handle_\" + msg_type];\n",
       "        } catch (e) {\n",
       "            console.log(\"No handler for the '\" + msg_type + \"' message type: \", msg);\n",
       "            return;\n",
       "        }\n",
       "\n",
       "        if (callback) {\n",
       "            try {\n",
       "                // console.log(\"Handling '\" + msg_type + \"' message: \", msg);\n",
       "                callback(fig, msg);\n",
       "            } catch (e) {\n",
       "                console.log(\"Exception inside the 'handler_\" + msg_type + \"' callback:\", e, e.stack, msg);\n",
       "            }\n",
       "        }\n",
       "    };\n",
       "}\n",
       "\n",
       "// from http://stackoverflow.com/questions/1114465/getting-mouse-location-in-canvas\n",
       "mpl.findpos = function(e) {\n",
       "    //this section is from http://www.quirksmode.org/js/events_properties.html\n",
       "    var targ;\n",
       "    if (!e)\n",
       "        e = window.event;\n",
       "    if (e.target)\n",
       "        targ = e.target;\n",
       "    else if (e.srcElement)\n",
       "        targ = e.srcElement;\n",
       "    if (targ.nodeType == 3) // defeat Safari bug\n",
       "        targ = targ.parentNode;\n",
       "\n",
       "    // jQuery normalizes the pageX and pageY\n",
       "    // pageX,Y are the mouse positions relative to the document\n",
       "    // offset() returns the position of the element relative to the document\n",
       "    var x = e.pageX - $(targ).offset().left;\n",
       "    var y = e.pageY - $(targ).offset().top;\n",
       "\n",
       "    return {\"x\": x, \"y\": y};\n",
       "};\n",
       "\n",
       "/*\n",
       " * return a copy of an object with only non-object keys\n",
       " * we need this to avoid circular references\n",
       " * http://stackoverflow.com/a/24161582/3208463\n",
       " */\n",
       "function simpleKeys (original) {\n",
       "  return Object.keys(original).reduce(function (obj, key) {\n",
       "    if (typeof original[key] !== 'object')\n",
       "        obj[key] = original[key]\n",
       "    return obj;\n",
       "  }, {});\n",
       "}\n",
       "\n",
       "mpl.figure.prototype.mouse_event = function(event, name) {\n",
       "    var canvas_pos = mpl.findpos(event)\n",
       "\n",
       "    if (name === 'button_press')\n",
       "    {\n",
       "        this.canvas.focus();\n",
       "        this.canvas_div.focus();\n",
       "    }\n",
       "\n",
       "    var x = canvas_pos.x * mpl.ratio;\n",
       "    var y = canvas_pos.y * mpl.ratio;\n",
       "\n",
       "    this.send_message(name, {x: x, y: y, button: event.button,\n",
       "                             step: event.step,\n",
       "                             guiEvent: simpleKeys(event)});\n",
       "\n",
       "    /* This prevents the web browser from automatically changing to\n",
       "     * the text insertion cursor when the button is pressed.  We want\n",
       "     * to control all of the cursor setting manually through the\n",
       "     * 'cursor' event from matplotlib */\n",
       "    event.preventDefault();\n",
       "    return false;\n",
       "}\n",
       "\n",
       "mpl.figure.prototype._key_event_extra = function(event, name) {\n",
       "    // Handle any extra behaviour associated with a key event\n",
       "}\n",
       "\n",
       "mpl.figure.prototype.key_event = function(event, name) {\n",
       "\n",
       "    // Prevent repeat events\n",
       "    if (name == 'key_press')\n",
       "    {\n",
       "        if (event.which === this._key)\n",
       "            return;\n",
       "        else\n",
       "            this._key = event.which;\n",
       "    }\n",
       "    if (name == 'key_release')\n",
       "        this._key = null;\n",
       "\n",
       "    var value = '';\n",
       "    if (event.ctrlKey && event.which != 17)\n",
       "        value += \"ctrl+\";\n",
       "    if (event.altKey && event.which != 18)\n",
       "        value += \"alt+\";\n",
       "    if (event.shiftKey && event.which != 16)\n",
       "        value += \"shift+\";\n",
       "\n",
       "    value += 'k';\n",
       "    value += event.which.toString();\n",
       "\n",
       "    this._key_event_extra(event, name);\n",
       "\n",
       "    this.send_message(name, {key: value,\n",
       "                             guiEvent: simpleKeys(event)});\n",
       "    return false;\n",
       "}\n",
       "\n",
       "mpl.figure.prototype.toolbar_button_onclick = function(name) {\n",
       "    if (name == 'download') {\n",
       "        this.handle_save(this, null);\n",
       "    } else {\n",
       "        this.send_message(\"toolbar_button\", {name: name});\n",
       "    }\n",
       "};\n",
       "\n",
       "mpl.figure.prototype.toolbar_button_onmouseover = function(tooltip) {\n",
       "    this.message.textContent = tooltip;\n",
       "};\n",
       "mpl.toolbar_items = [[\"Home\", \"Reset original view\", \"fa fa-home icon-home\", \"home\"], [\"Back\", \"Back to previous view\", \"fa fa-arrow-left icon-arrow-left\", \"back\"], [\"Forward\", \"Forward to next view\", \"fa fa-arrow-right icon-arrow-right\", \"forward\"], [\"\", \"\", \"\", \"\"], [\"Pan\", \"Pan axes with left mouse, zoom with right\", \"fa fa-arrows icon-move\", \"pan\"], [\"Zoom\", \"Zoom to rectangle\", \"fa fa-square-o icon-check-empty\", \"zoom\"], [\"\", \"\", \"\", \"\"], [\"Download\", \"Download plot\", \"fa fa-floppy-o icon-save\", \"download\"]];\n",
       "\n",
       "mpl.extensions = [\"eps\", \"pdf\", \"png\", \"ps\", \"raw\", \"svg\"];\n",
       "\n",
       "mpl.default_extension = \"png\";var comm_websocket_adapter = function(comm) {\n",
       "    // Create a \"websocket\"-like object which calls the given IPython comm\n",
       "    // object with the appropriate methods. Currently this is a non binary\n",
       "    // socket, so there is still some room for performance tuning.\n",
       "    var ws = {};\n",
       "\n",
       "    ws.close = function() {\n",
       "        comm.close()\n",
       "    };\n",
       "    ws.send = function(m) {\n",
       "        //console.log('sending', m);\n",
       "        comm.send(m);\n",
       "    };\n",
       "    // Register the callback with on_msg.\n",
       "    comm.on_msg(function(msg) {\n",
       "        //console.log('receiving', msg['content']['data'], msg);\n",
       "        // Pass the mpl event to the overridden (by mpl) onmessage function.\n",
       "        ws.onmessage(msg['content']['data'])\n",
       "    });\n",
       "    return ws;\n",
       "}\n",
       "\n",
       "mpl.mpl_figure_comm = function(comm, msg) {\n",
       "    // This is the function which gets called when the mpl process\n",
       "    // starts-up an IPython Comm through the \"matplotlib\" channel.\n",
       "\n",
       "    var id = msg.content.data.id;\n",
       "    // Get hold of the div created by the display call when the Comm\n",
       "    // socket was opened in Python.\n",
       "    var element = $(\"#\" + id);\n",
       "    var ws_proxy = comm_websocket_adapter(comm)\n",
       "\n",
       "    function ondownload(figure, format) {\n",
       "        window.open(figure.imageObj.src);\n",
       "    }\n",
       "\n",
       "    var fig = new mpl.figure(id, ws_proxy,\n",
       "                           ondownload,\n",
       "                           element.get(0));\n",
       "\n",
       "    // Call onopen now - mpl needs it, as it is assuming we've passed it a real\n",
       "    // web socket which is closed, not our websocket->open comm proxy.\n",
       "    ws_proxy.onopen();\n",
       "\n",
       "    fig.parent_element = element.get(0);\n",
       "    fig.cell_info = mpl.find_output_cell(\"<div id='\" + id + \"'></div>\");\n",
       "    if (!fig.cell_info) {\n",
       "        console.error(\"Failed to find cell for figure\", id, fig);\n",
       "        return;\n",
       "    }\n",
       "\n",
       "    var output_index = fig.cell_info[2]\n",
       "    var cell = fig.cell_info[0];\n",
       "\n",
       "};\n",
       "\n",
       "mpl.figure.prototype.handle_close = function(fig, msg) {\n",
       "    var width = fig.canvas.width/mpl.ratio\n",
       "    fig.root.unbind('remove')\n",
       "\n",
       "    // Update the output cell to use the data from the current canvas.\n",
       "    fig.push_to_output();\n",
       "    var dataURL = fig.canvas.toDataURL();\n",
       "    // Re-enable the keyboard manager in IPython - without this line, in FF,\n",
       "    // the notebook keyboard shortcuts fail.\n",
       "    IPython.keyboard_manager.enable()\n",
       "    $(fig.parent_element).html('<img src=\"' + dataURL + '\" width=\"' + width + '\">');\n",
       "    fig.close_ws(fig, msg);\n",
       "}\n",
       "\n",
       "mpl.figure.prototype.close_ws = function(fig, msg){\n",
       "    fig.send_message('closing', msg);\n",
       "    // fig.ws.close()\n",
       "}\n",
       "\n",
       "mpl.figure.prototype.push_to_output = function(remove_interactive) {\n",
       "    // Turn the data on the canvas into data in the output cell.\n",
       "    var width = this.canvas.width/mpl.ratio\n",
       "    var dataURL = this.canvas.toDataURL();\n",
       "    this.cell_info[1]['text/html'] = '<img src=\"' + dataURL + '\" width=\"' + width + '\">';\n",
       "}\n",
       "\n",
       "mpl.figure.prototype.updated_canvas_event = function() {\n",
       "    // Tell IPython that the notebook contents must change.\n",
       "    IPython.notebook.set_dirty(true);\n",
       "    this.send_message(\"ack\", {});\n",
       "    var fig = this;\n",
       "    // Wait a second, then push the new image to the DOM so\n",
       "    // that it is saved nicely (might be nice to debounce this).\n",
       "    setTimeout(function () { fig.push_to_output() }, 1000);\n",
       "}\n",
       "\n",
       "mpl.figure.prototype._init_toolbar = function() {\n",
       "    var fig = this;\n",
       "\n",
       "    var nav_element = $('<div/>');\n",
       "    nav_element.attr('style', 'width: 100%');\n",
       "    this.root.append(nav_element);\n",
       "\n",
       "    // Define a callback function for later on.\n",
       "    function toolbar_event(event) {\n",
       "        return fig.toolbar_button_onclick(event['data']);\n",
       "    }\n",
       "    function toolbar_mouse_event(event) {\n",
       "        return fig.toolbar_button_onmouseover(event['data']);\n",
       "    }\n",
       "\n",
       "    for(var toolbar_ind in mpl.toolbar_items){\n",
       "        var name = mpl.toolbar_items[toolbar_ind][0];\n",
       "        var tooltip = mpl.toolbar_items[toolbar_ind][1];\n",
       "        var image = mpl.toolbar_items[toolbar_ind][2];\n",
       "        var method_name = mpl.toolbar_items[toolbar_ind][3];\n",
       "\n",
       "        if (!name) { continue; };\n",
       "\n",
       "        var button = $('<button class=\"btn btn-default\" href=\"#\" title=\"' + name + '\"><i class=\"fa ' + image + ' fa-lg\"></i></button>');\n",
       "        button.click(method_name, toolbar_event);\n",
       "        button.mouseover(tooltip, toolbar_mouse_event);\n",
       "        nav_element.append(button);\n",
       "    }\n",
       "\n",
       "    // Add the status bar.\n",
       "    var status_bar = $('<span class=\"mpl-message\" style=\"text-align:right; float: right;\"/>');\n",
       "    nav_element.append(status_bar);\n",
       "    this.message = status_bar[0];\n",
       "\n",
       "    // Add the close button to the window.\n",
       "    var buttongrp = $('<div class=\"btn-group inline pull-right\"></div>');\n",
       "    var button = $('<button class=\"btn btn-mini btn-primary\" href=\"#\" title=\"Stop Interaction\"><i class=\"fa fa-power-off icon-remove icon-large\"></i></button>');\n",
       "    button.click(function (evt) { fig.handle_close(fig, {}); } );\n",
       "    button.mouseover('Stop Interaction', toolbar_mouse_event);\n",
       "    buttongrp.append(button);\n",
       "    var titlebar = this.root.find($('.ui-dialog-titlebar'));\n",
       "    titlebar.prepend(buttongrp);\n",
       "}\n",
       "\n",
       "mpl.figure.prototype._root_extra_style = function(el){\n",
       "    var fig = this\n",
       "    el.on(\"remove\", function(){\n",
       "\tfig.close_ws(fig, {});\n",
       "    });\n",
       "}\n",
       "\n",
       "mpl.figure.prototype._canvas_extra_style = function(el){\n",
       "    // this is important to make the div 'focusable\n",
       "    el.attr('tabindex', 0)\n",
       "    // reach out to IPython and tell the keyboard manager to turn it's self\n",
       "    // off when our div gets focus\n",
       "\n",
       "    // location in version 3\n",
       "    if (IPython.notebook.keyboard_manager) {\n",
       "        IPython.notebook.keyboard_manager.register_events(el);\n",
       "    }\n",
       "    else {\n",
       "        // location in version 2\n",
       "        IPython.keyboard_manager.register_events(el);\n",
       "    }\n",
       "\n",
       "}\n",
       "\n",
       "mpl.figure.prototype._key_event_extra = function(event, name) {\n",
       "    var manager = IPython.notebook.keyboard_manager;\n",
       "    if (!manager)\n",
       "        manager = IPython.keyboard_manager;\n",
       "\n",
       "    // Check for shift+enter\n",
       "    if (event.shiftKey && event.which == 13) {\n",
       "        this.canvas_div.blur();\n",
       "        // select the cell after this one\n",
       "        var index = IPython.notebook.find_cell_index(this.cell_info[0]);\n",
       "        IPython.notebook.select(index + 1);\n",
       "    }\n",
       "}\n",
       "\n",
       "mpl.figure.prototype.handle_save = function(fig, msg) {\n",
       "    fig.ondownload(fig, null);\n",
       "}\n",
       "\n",
       "\n",
       "mpl.find_output_cell = function(html_output) {\n",
       "    // Return the cell and output element which can be found *uniquely* in the notebook.\n",
       "    // Note - this is a bit hacky, but it is done because the \"notebook_saving.Notebook\"\n",
       "    // IPython event is triggered only after the cells have been serialised, which for\n",
       "    // our purposes (turning an active figure into a static one), is too late.\n",
       "    var cells = IPython.notebook.get_cells();\n",
       "    var ncells = cells.length;\n",
       "    for (var i=0; i<ncells; i++) {\n",
       "        var cell = cells[i];\n",
       "        if (cell.cell_type === 'code'){\n",
       "            for (var j=0; j<cell.output_area.outputs.length; j++) {\n",
       "                var data = cell.output_area.outputs[j];\n",
       "                if (data.data) {\n",
       "                    // IPython >= 3 moved mimebundle to data attribute of output\n",
       "                    data = data.data;\n",
       "                }\n",
       "                if (data['text/html'] == html_output) {\n",
       "                    return [cell, data, j];\n",
       "                }\n",
       "            }\n",
       "        }\n",
       "    }\n",
       "}\n",
       "\n",
       "// Register the function which deals with the matplotlib target/channel.\n",
       "// The kernel may be null if the page has been refreshed.\n",
       "if (IPython.notebook.kernel != null) {\n",
       "    IPython.notebook.kernel.comm_manager.register_target('matplotlib', mpl.mpl_figure_comm);\n",
       "}\n"
      ],
      "text/plain": [
       "<IPython.core.display.Javascript object>"
      ]
     },
     "metadata": {},
     "output_type": "display_data"
    },
    {
     "data": {
      "text/html": [
       "<img src=\"data:image/png;base64,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\" width=\"640\">"
      ],
      "text/plain": [
       "<IPython.core.display.HTML object>"
      ]
     },
     "metadata": {},
     "output_type": "display_data"
    }
   ],
   "source": [
    "scaled_data = np.asarray([scalar(evolver.population.fitness, response) for scalar in evolver.scalarization_methods]).T\n",
    "non_dom_ids = nds(scaled_data)[0][0]\n",
    "\n",
    "\n",
    "nimbus = plt.scatter(\n",
    "    x=evolver.population.objectives[non_dom_ids, 0],\n",
    "    y=evolver.population.objectives[non_dom_ids, 1],\n",
    "    label='NIMBUS-RVEA'\n",
    ")\n",
    "\"\"\"nimbus = plt.scatter(\n",
    "    x=evolver.population.objectives[:, 0],\n",
    "    y=evolver.population.objectives[:, 1],\n",
    "    label='NIMBUS-RVEA'\n",
    ")\"\"\"\n",
    "refp = plt.scatter(x=response[:,0], y=response[:,1], c='r', label='Reference Point')\n",
    "stom = plt.arrow(x=response[0,0], y=response[0,1], dx=response[0,0]*10, dy=response[0,1]*10, color='g', label='STOM')\n",
    "asf = plt.arrow(x=response[0,0], y=response[0,1], dx=10, dy=10,color='black',label=\"ASF\")\n",
    "aug = plt.arrow(x=response[0,0], y=response[0,1], dx=1-response[0,0], dy=1-response[0,1],color='red',label=\"AUG\")\n",
    "# Completing the other side\n",
    "plt.arrow(x=response[0,0], y=response[0,1], dx=-response[0,0]*10, dy=-response[0,1]*10, color='g')\n",
    "plt.arrow(x=response[0,0], y=response[0,1], dx=-10, dy=-10, color='black')\n",
    "plt.arrow(x=response[0,0], y=response[0,1], dx=-1+response[0,0], dy=-1+response[0,1],color='red')\n",
    "pareto = plt.plot(zdt1_pareto[:,0], zdt1_pareto[:,1],'-.')\n",
    "plt.xlim([0,1])\n",
    "plt.ylim([0,1])\n",
    "plt.title(\"ZDT1 problem with NIMBUS inspired EA\")\n",
    "plt.legend([nimbus, refp, stom, asf], [\"NIMBUS-RVEA\",\"Reference Point\",\"STOM\", \"ASF\", \"AUG\"])\n",
    "plt.gca().set_aspect('equal', adjustable='box')"
   ]
  },
  {
   "cell_type": "code",
   "execution_count": 73,
   "metadata": {},
   "outputs": [],
   "source": [
    "scaled_data = np.asarray([scalar(evolver.population.fitness, pref.response.values) for scalar in evolver.scalarization_methods]).T"
   ]
  },
  {
   "cell_type": "code",
   "execution_count": 10,
   "metadata": {},
   "outputs": [],
   "source": [
    "zdt1_pareto = np.asarray([[0.0000000333,0.9998173820],\n",
    "[0.0036524605,0.9395644103],\n",
    "[0.0109353082,0.8954279758],\n",
    "[0.0201661797,0.8579923253],\n",
    "[0.0307984775,0.8245050499],\n",
    "[0.0425521730,0.7937182195],\n",
    "[0.0552536936,0.7649389578],\n",
    "[0.0687834600,0.7377339899],\n",
    "[0.0830533346,0.7118102455],\n",
    "[0.0979952414,0.6869580836],\n",
    "[0.1135547782,0.6630211013],\n",
    "[0.1296872770,0.6398788023],\n",
    "[0.1463553419,0.6174358329],\n",
    "[0.1635270897,0.5956151713],\n",
    "[0.1811749649,0.5743534743],\n",
    "[0.1992748910,0.5535978371],\n",
    "[0.2178056136,0.5333035102],\n",
    "[0.2367481746,0.5134322508],\n",
    "[0.2560856025,0.4939509881],\n",
    "[0.2758025276,0.4748309533],\n",
    "[0.2958850236,0.4560468554],\n",
    "[0.3163203619,0.4375763502],\n",
    "[0.3370968359,0.4193995902],\n",
    "[0.3582036897,0.4014987972],\n",
    "[0.3796309819,0.3838579856],\n",
    "[0.4013694644,0.3664627364],\n",
    "[0.4234104957,0.3492999957],\n",
    "[0.4457460837,0.3323578176],\n",
    "[0.4683687091,0.3156253153],\n",
    "[0.4912712857,0.2990925270],\n",
    "[0.5144471844,0.2827502636],\n",
    "[0.5378901526,0.2665900514],\n",
    "[0.5615942516,0.2506040755],\n",
    "[0.5855539020,0.2347850615],\n",
    "[0.6097637681,0.2191262791],\n",
    "[0.6342188315,0.2036214270],\n",
    "[0.6589142602,0.1882646612],\n",
    "[0.6838455122,0.1730504779],\n",
    "[0.7090082355,0.1579737323],\n",
    "[0.7343982546,0.1430296070],\n",
    "[0.7600116005,0.1282135580],\n",
    "[0.7858444564,0.1135213164],\n",
    "[0.8118931476,0.0989488651],\n",
    "[0.8381541846,0.0844923897],\n",
    "[0.8646242088,0.0701482867],\n",
    "[0.8912999852,0.0559131474],\n",
    "[0.9181784008,0.0417837401],\n",
    "[0.9452564510,0.0277570000],\n",
    "[0.9725312450,0.0138300121],\n",
    "[1.0000000000,0.0000000000],])"
   ]
  },
  {
   "cell_type": "code",
   "execution_count": 13,
   "metadata": {},
   "outputs": [],
   "source": [
    "# 3 Objectives"
   ]
  },
  {
   "cell_type": "code",
   "execution_count": 15,
   "metadata": {},
   "outputs": [],
   "source": [
    "import plotly.graph_objects as go"
   ]
  },
  {
   "cell_type": "code",
   "execution_count": 16,
   "metadata": {},
   "outputs": [],
   "source": [
    "problem = test_problem_builder(name=\"DTLZ1\", n_of_objectives=3, n_of_variables=5)"
   ]
  },
  {
   "cell_type": "code",
   "execution_count": 17,
   "metadata": {},
   "outputs": [],
   "source": [
    "problem.ideal = np.asarray([0, 0, 0])\n",
    "problem.nadir = np.asarray([0.5, 0.5, 0.5])"
   ]
  },
  {
   "cell_type": "code",
   "execution_count": 18,
   "metadata": {},
   "outputs": [],
   "source": [
    "evolver = NIMBUS_NSGAIII(problem, n_gen_per_iter=200)"
   ]
  },
  {
   "cell_type": "code",
   "execution_count": 19,
   "metadata": {},
   "outputs": [],
   "source": [
    "plot, pref = evolver.requests()"
   ]
  },
  {
   "cell_type": "code",
   "execution_count": 20,
   "metadata": {},
   "outputs": [
    {
     "data": {
      "text/plain": [
       "{'dimensions_data':            f1   f2   f3\n",
       " minimize    1    1    1\n",
       " ideal       0    0    0\n",
       " nadir     0.5  0.5  0.5,\n",
       " 'message': 'Provide a reference point worse than to the ideal point and better than the nadir point.\\nIdeal point: \\nf1    0\\nf2    0\\nf3    0\\nName: ideal, dtype: object\\nNadir point: \\nf1    0.5\\nf2    0.5\\nf3    0.5\\nName: nadir, dtype: object\\nThe reference point will be used to create scalarization functions in the preferred region.\\n',\n",
       " 'validator': <function desdeo_tools.interaction.validators.validate_ref_point_with_ideal_and_nadir(dimensions_data: pandas.core.frame.DataFrame, reference_point: pandas.core.frame.DataFrame)>}"
      ]
     },
     "execution_count": 20,
     "metadata": {},
     "output_type": "execute_result"
    }
   ],
   "source": [
    "pref.content"
   ]
  },
  {
   "cell_type": "code",
   "execution_count": 105,
   "metadata": {},
   "outputs": [],
   "source": [
    "response = np.asarray([[0.4,0.2, 0.4]])\n",
    "pref.response = pd.DataFrame(response, columns=pref.content['dimensions_data'].columns)"
   ]
  },
  {
   "cell_type": "code",
   "execution_count": 106,
   "metadata": {},
   "outputs": [],
   "source": [
    "plot, pref = evolver.iterate(pref)"
   ]
  },
  {
   "cell_type": "code",
   "execution_count": 107,
   "metadata": {},
   "outputs": [
    {
     "data": {
      "application/vnd.plotly.v1+json": {
       "config": {
        "plotlyServerURL": "https://plot.ly"
       },
       "data": [
        {
         "marker": {
          "opacity": 0.8,
          "size": 4
         },
         "mode": "markers",
         "name": "NIMBUS-RVEA",
         "type": "scatter3d",
         "x": [
          0.2461794508654893,
          0.24232515522638928,
          0.21213213988320706,
          0.20165698665213946,
          0.23216729613191556,
          0.21372310222067237,
          0.22700875804828238,
          0.24526596189925667,
          0.2405550194750273,
          0.2500097829863311,
          0.22316153468697797,
          0.2180539009381154,
          0.21325233859327677,
          0.20885251922523984,
          0.22736838650162453,
          0.23471866786176393,
          0.24222880923208842,
          0.21561072006788115,
          0.2076461745673772,
          0.24169585585718614,
          0.20786600146430015,
          0.20471698896217724,
          0.23854709456107975,
          0.2495548986337156,
          0.21781696571158435,
          0.24906299395004888,
          0.2221979141557956,
          0.20751751051069542,
          0.2139299594664552,
          0.24965609119250082,
          0.24625048051902204,
          0.21555062327316504,
          0.23261891758885078,
          0.2428938793848863,
          0.20188484705631232,
          0.2320388875653251,
          0.24172896517683018,
          0.23216939163249745,
          0.24958299186317728,
          0.24685221331653007,
          0.23414022499684356,
          0.20147766041118437,
          0.21212358127015338,
          0.22308356072657418,
          0.20327288229647578,
          0.20781636424281008,
          0.21789724428938564,
          0.23092428980063462,
          0.2421641787461102,
          0.22776985890764107,
          0.2224032122744052,
          0.23176826083007435,
          0.21316385108615762,
          0.22779153399132682,
          0.2231839837916943,
          0.23573435300140663,
          0.2279290780521115,
          0.21262289726931824,
          0.21620129764161017,
          0.24865767427861737,
          0.22197111087857527,
          0.2053058130826327,
          0.21953291271267344,
          0.21233309029622582,
          0.20731055567904397,
          0.20794944582717204,
          0.2457388331367869,
          0.24141623155583466,
          0.21370720720362338,
          0.2018103851735645,
          0.21361306199104596,
          0.21964235531288157,
          0.2192920285915461,
          0.2059173405271755,
          0.2032134439016271,
          0.23477118658626248,
          0.20496895349181463,
          0.21611362147639648,
          0.21726816414210712,
          0.23777947785327977,
          0.20155654133232795,
          0.23155575651253274,
          0.25179410204193975,
          0.23877579284888698,
          0.23974519690926727,
          0.22822215786295352,
          0.23270499473709721,
          0.238213769803065,
          0.21216993512868873,
          0.2345437038463455,
          0.20808300125864643,
          0.23231715382677945,
          0.23124579801646739,
          0.21308216603387303,
          0.2491558633007381,
          0.2277788924010932,
          0.22189009053443037,
          0.2122003434872423,
          0.21517492756828888,
          0.20577269396746167,
          0.21292431224293157,
          0.20090446737531728,
          0.20466470294473943,
          0.20259906102707312,
          0.20809060327603487
         ],
         "y": [
          0.007638968978949867,
          0.01556580755099884,
          0.0757438608817266,
          0.09723206466418506,
          0.03574193640079154,
          0.07306092274534166,
          0.04595292427834752,
          0.009495349946979755,
          0.020039270527405836,
          0,
          0.05350353452957305,
          0.06098282923448704,
          0.07356506313913201,
          0.08241040737298075,
          0.04470161563524928,
          0.031229540313726097,
          0.015572279991348165,
          0.06866743818657807,
          0.08457597025940589,
          0.016726124442622302,
          0.08436641215468578,
          0.09067399121669427,
          0.023234370384918296,
          0.00045924262633187477,
          0.0644479579748765,
          0.0014437025158793694,
          0.05548869175115226,
          0.08507875753581128,
          0.07216038569469757,
          0.0009913468745124524,
          0.007559482157383185,
          0.06866467633600787,
          0.03341425269809146,
          0.014025628329767456,
          0.09585005310887174,
          0.03585918717623994,
          0.01664178248022655,
          0,
          0.001001361029081597,
          0.007012044370485104,
          0.03168662329774132,
          0.09627790313635733,
          0.07590009073146511,
          0.053627342184605305,
          0.09364341375684974,
          0.08440443434036488,
          0.06430152347438343,
          0.03818149775498473,
          0.015788576869592594,
          0.04409914943662847,
          0.05449183881133816,
          0.03613313697555138,
          0.0735340020596308,
          0.04521659483053799,
          0.054240967771211145,
          0.03001832119864796,
          0.04507373721964484,
          0.07512413839154536,
          0.067301118355494,
          0.005371443025624581,
          0.055747451580835064,
          0.08982533901145404,
          0.06126024832672534,
          0.07547760211054542,
          0.08535102068272275,
          0.0842967702787612,
          0.008229112873972986,
          0.01947939380990634,
          0.07256439683258974,
          0.09593376034103998,
          0.0731387467978431,
          0.0611830239570667,
          0.06146729121275227,
          0.08683074527210101,
          0.09377292110646113,
          0.031126761598466036,
          0.0904298557040624,
          0.06832946973493352,
          0.067297630474527,
          0.027027563877091647,
          0.09823497589961463,
          0.0355052511589503,
          0,
          0.02245594595984629,
          0.020917529634407416,
          0.04377939798223038,
          0.03350416474351994,
          0.023583567362835116,
          0.07559827123641778,
          0.0314423095648728,
          0.08414404293967026,
          0.03573519265660841,
          0.03548306591093283,
          0.0737857426400607,
          0.005241661964255091,
          0.04420226584547519,
          0.05586888242515828,
          0.07572276896976213,
          0.06939042942173018,
          0.08954210505330129,
          0.07470273340258801,
          0.0988312226233094,
          0.09063041127926479,
          0.0951704159532923,
          0.08413421239338452
         ],
         "z": [
          0.24619635046531388,
          0.2421257587677826,
          0.21212630907658442,
          0.20111328901316125,
          0.23209317247024527,
          0.21321837803438465,
          0.22705265379130732,
          0.24524109511772504,
          0.23942131259975488,
          0.24999199855638227,
          0.2233377739629852,
          0.220965790824009,
          0.21318500675109273,
          0.20873948647167886,
          0.22794605158705417,
          0.2340650339708672,
          0.24220185664349161,
          0.2157367470542614,
          0.2077930022685061,
          0.24158098337907163,
          0.2077831999631746,
          0.20462381435139604,
          0.2382352518183747,
          0.25000173253285485,
          0.2177375350354319,
          0.24949503274373608,
          0.22232854384739206,
          0.2074058442788302,
          0.21392558851917792,
          0.2493546630397864,
          0.24620474219882335,
          0.21579984911110528,
          0.23396821187024647,
          0.2430829563680397,
          0.2022807802140332,
          0.23210466129898466,
          0.24163221417692135,
          0.26783122107547586,
          0.24943101349097366,
          0.24613862584426527,
          0.23417583727646954,
          0.2022467273959599,
          0.21197815996640323,
          0.22329196525716782,
          0.20309899552210262,
          0.20779352331584733,
          0.21781632321216646,
          0.23090939454893197,
          0.24206145663922568,
          0.22814705548481962,
          0.22310722960371615,
          0.23210155565938018,
          0.21331799803482412,
          0.22699422749554307,
          0.22259021185896824,
          0.23424782339058078,
          0.2269989364797431,
          0.2122554280308315,
          0.21649896517407327,
          0.2459861198723674,
          0.22229658312404374,
          0.2048713010350131,
          0.21920938575502102,
          0.21219160688158845,
          0.20734054631258067,
          0.20775632406356376,
          0.24603434784723255,
          0.23912007349591408,
          0.21373016159511693,
          0.20227157255308736,
          0.21325076500790885,
          0.21917699676324415,
          0.21924313615558155,
          0.20725412317454955,
          0.20302892787629284,
          0.23410460673721217,
          0.20461585013371764,
          0.21555991614547804,
          0.21544944661264454,
          0.23520569581082815,
          0.20021096777741126,
          0.23294173089802145,
          0.24820766089416846,
          0.23877134122438418,
          0.23935329159105506,
          0.22801408185772645,
          0.23379210844587997,
          0.23821717927295086,
          0.212234125142103,
          0.23402718485099813,
          0.207788021132444,
          0.2319493796030859,
          0.23328718185339273,
          0.21313427738100335,
          0.24561807312660738,
          0.22803529369679482,
          0.22225620235512733,
          0.21207920020345875,
          0.21544963559257857,
          0.2046876591704432,
          0.2123752486347795,
          0.20026676887727624,
          0.2047196349826962,
          0.20224624659025786,
          0.20779058121545882
         ]
        },
        {
         "marker": {
          "opacity": 0.8,
          "size": 2
         },
         "name": "True Front",
         "type": "scatter3d",
         "x": [
          0.5,
          0,
          0,
          0.5
         ],
         "y": [
          0,
          0.5,
          0,
          0
         ],
         "z": [
          0,
          0,
          0.5,
          0
         ]
        },
        {
         "marker": {
          "opacity": 0.8,
          "size": 4
         },
         "name": "Nadir Point",
         "type": "scatter3d",
         "x": [
          0.5
         ],
         "y": [
          0.5
         ],
         "z": [
          0.5
         ]
        },
        {
         "marker": {
          "opacity": 0.8,
          "size": 4
         },
         "name": "Reference Point",
         "type": "scatter3d",
         "x": [
          0.4
         ],
         "y": [
          0.2
         ],
         "z": [
          0.4
         ]
        },
        {
         "line": {
          "width": 10
         },
         "marker": {
          "opacity": 0.8,
          "size": 2
         },
         "name": "STOM",
         "type": "scatter3d",
         "x": [
          0,
          0.4,
          40
         ],
         "y": [
          0,
          0.2,
          20
         ],
         "z": [
          0,
          0.4,
          40
         ]
        },
        {
         "line": {
          "width": 10
         },
         "marker": {
          "opacity": 0.8,
          "size": 2
         },
         "name": "ASF",
         "type": "scatter3d",
         "x": [
          -0.6,
          1.4
         ],
         "y": [
          -0.8,
          1.2
         ],
         "z": [
          -0.6,
          1.4
         ]
        },
        {
         "line": {
          "width": 10
         },
         "marker": {
          "opacity": 0.8,
          "size": 2
         },
         "name": "AUG",
         "type": "scatter3d",
         "x": [
          -0.5,
          0.4,
          0.5
         ],
         "y": [
          -2.5,
          0.2,
          0.5
         ],
         "z": [
          -0.5,
          0.4,
          0.5
         ]
        },
        {
         "marker": {
          "opacity": 0.8,
          "size": 4
         },
         "name": "Ideal Point",
         "type": "scatter3d",
         "x": [
          0
         ],
         "y": [
          0
         ],
         "z": [
          0
         ]
        }
       ],
       "layout": {
        "margin": {
         "b": 0,
         "l": 0,
         "r": 0,
         "t": 0
        },
        "scene": {
         "aspectratio": {
          "x": 1,
          "y": 1,
          "z": 1
         },
         "xaxis": {
          "range": [
           0,
           0.6
          ]
         },
         "yaxis": {
          "range": [
           0,
           0.6
          ]
         },
         "zaxis": {
          "range": [
           0,
           0.6
          ]
         }
        },
        "template": {
         "data": {
          "bar": [
           {
            "error_x": {
             "color": "#2a3f5f"
            },
            "error_y": {
             "color": "#2a3f5f"
            },
            "marker": {
             "line": {
              "color": "#E5ECF6",
              "width": 0.5
             }
            },
            "type": "bar"
           }
          ],
          "barpolar": [
           {
            "marker": {
             "line": {
              "color": "#E5ECF6",
              "width": 0.5
             }
            },
            "type": "barpolar"
           }
          ],
          "carpet": [
           {
            "aaxis": {
             "endlinecolor": "#2a3f5f",
             "gridcolor": "white",
             "linecolor": "white",
             "minorgridcolor": "white",
             "startlinecolor": "#2a3f5f"
            },
            "baxis": {
             "endlinecolor": "#2a3f5f",
             "gridcolor": "white",
             "linecolor": "white",
             "minorgridcolor": "white",
             "startlinecolor": "#2a3f5f"
            },
            "type": "carpet"
           }
          ],
          "choropleth": [
           {
            "colorbar": {
             "outlinewidth": 0,
             "ticks": ""
            },
            "type": "choropleth"
           }
          ],
          "contour": [
           {
            "colorbar": {
             "outlinewidth": 0,
             "ticks": ""
            },
            "colorscale": [
             [
              0,
              "#0d0887"
             ],
             [
              0.1111111111111111,
              "#46039f"
             ],
             [
              0.2222222222222222,
              "#7201a8"
             ],
             [
              0.3333333333333333,
              "#9c179e"
             ],
             [
              0.4444444444444444,
              "#bd3786"
             ],
             [
              0.5555555555555556,
              "#d8576b"
             ],
             [
              0.6666666666666666,
              "#ed7953"
             ],
             [
              0.7777777777777778,
              "#fb9f3a"
             ],
             [
              0.8888888888888888,
              "#fdca26"
             ],
             [
              1,
              "#f0f921"
             ]
            ],
            "type": "contour"
           }
          ],
          "contourcarpet": [
           {
            "colorbar": {
             "outlinewidth": 0,
             "ticks": ""
            },
            "type": "contourcarpet"
           }
          ],
          "heatmap": [
           {
            "colorbar": {
             "outlinewidth": 0,
             "ticks": ""
            },
            "colorscale": [
             [
              0,
              "#0d0887"
             ],
             [
              0.1111111111111111,
              "#46039f"
             ],
             [
              0.2222222222222222,
              "#7201a8"
             ],
             [
              0.3333333333333333,
              "#9c179e"
             ],
             [
              0.4444444444444444,
              "#bd3786"
             ],
             [
              0.5555555555555556,
              "#d8576b"
             ],
             [
              0.6666666666666666,
              "#ed7953"
             ],
             [
              0.7777777777777778,
              "#fb9f3a"
             ],
             [
              0.8888888888888888,
              "#fdca26"
             ],
             [
              1,
              "#f0f921"
             ]
            ],
            "type": "heatmap"
           }
          ],
          "heatmapgl": [
           {
            "colorbar": {
             "outlinewidth": 0,
             "ticks": ""
            },
            "colorscale": [
             [
              0,
              "#0d0887"
             ],
             [
              0.1111111111111111,
              "#46039f"
             ],
             [
              0.2222222222222222,
              "#7201a8"
             ],
             [
              0.3333333333333333,
              "#9c179e"
             ],
             [
              0.4444444444444444,
              "#bd3786"
             ],
             [
              0.5555555555555556,
              "#d8576b"
             ],
             [
              0.6666666666666666,
              "#ed7953"
             ],
             [
              0.7777777777777778,
              "#fb9f3a"
             ],
             [
              0.8888888888888888,
              "#fdca26"
             ],
             [
              1,
              "#f0f921"
             ]
            ],
            "type": "heatmapgl"
           }
          ],
          "histogram": [
           {
            "marker": {
             "colorbar": {
              "outlinewidth": 0,
              "ticks": ""
             }
            },
            "type": "histogram"
           }
          ],
          "histogram2d": [
           {
            "colorbar": {
             "outlinewidth": 0,
             "ticks": ""
            },
            "colorscale": [
             [
              0,
              "#0d0887"
             ],
             [
              0.1111111111111111,
              "#46039f"
             ],
             [
              0.2222222222222222,
              "#7201a8"
             ],
             [
              0.3333333333333333,
              "#9c179e"
             ],
             [
              0.4444444444444444,
              "#bd3786"
             ],
             [
              0.5555555555555556,
              "#d8576b"
             ],
             [
              0.6666666666666666,
              "#ed7953"
             ],
             [
              0.7777777777777778,
              "#fb9f3a"
             ],
             [
              0.8888888888888888,
              "#fdca26"
             ],
             [
              1,
              "#f0f921"
             ]
            ],
            "type": "histogram2d"
           }
          ],
          "histogram2dcontour": [
           {
            "colorbar": {
             "outlinewidth": 0,
             "ticks": ""
            },
            "colorscale": [
             [
              0,
              "#0d0887"
             ],
             [
              0.1111111111111111,
              "#46039f"
             ],
             [
              0.2222222222222222,
              "#7201a8"
             ],
             [
              0.3333333333333333,
              "#9c179e"
             ],
             [
              0.4444444444444444,
              "#bd3786"
             ],
             [
              0.5555555555555556,
              "#d8576b"
             ],
             [
              0.6666666666666666,
              "#ed7953"
             ],
             [
              0.7777777777777778,
              "#fb9f3a"
             ],
             [
              0.8888888888888888,
              "#fdca26"
             ],
             [
              1,
              "#f0f921"
             ]
            ],
            "type": "histogram2dcontour"
           }
          ],
          "mesh3d": [
           {
            "colorbar": {
             "outlinewidth": 0,
             "ticks": ""
            },
            "type": "mesh3d"
           }
          ],
          "parcoords": [
           {
            "line": {
             "colorbar": {
              "outlinewidth": 0,
              "ticks": ""
             }
            },
            "type": "parcoords"
           }
          ],
          "pie": [
           {
            "automargin": true,
            "type": "pie"
           }
          ],
          "scatter": [
           {
            "marker": {
             "colorbar": {
              "outlinewidth": 0,
              "ticks": ""
             }
            },
            "type": "scatter"
           }
          ],
          "scatter3d": [
           {
            "line": {
             "colorbar": {
              "outlinewidth": 0,
              "ticks": ""
             }
            },
            "marker": {
             "colorbar": {
              "outlinewidth": 0,
              "ticks": ""
             }
            },
            "type": "scatter3d"
           }
          ],
          "scattercarpet": [
           {
            "marker": {
             "colorbar": {
              "outlinewidth": 0,
              "ticks": ""
             }
            },
            "type": "scattercarpet"
           }
          ],
          "scattergeo": [
           {
            "marker": {
             "colorbar": {
              "outlinewidth": 0,
              "ticks": ""
             }
            },
            "type": "scattergeo"
           }
          ],
          "scattergl": [
           {
            "marker": {
             "colorbar": {
              "outlinewidth": 0,
              "ticks": ""
             }
            },
            "type": "scattergl"
           }
          ],
          "scattermapbox": [
           {
            "marker": {
             "colorbar": {
              "outlinewidth": 0,
              "ticks": ""
             }
            },
            "type": "scattermapbox"
           }
          ],
          "scatterpolar": [
           {
            "marker": {
             "colorbar": {
              "outlinewidth": 0,
              "ticks": ""
             }
            },
            "type": "scatterpolar"
           }
          ],
          "scatterpolargl": [
           {
            "marker": {
             "colorbar": {
              "outlinewidth": 0,
              "ticks": ""
             }
            },
            "type": "scatterpolargl"
           }
          ],
          "scatterternary": [
           {
            "marker": {
             "colorbar": {
              "outlinewidth": 0,
              "ticks": ""
             }
            },
            "type": "scatterternary"
           }
          ],
          "surface": [
           {
            "colorbar": {
             "outlinewidth": 0,
             "ticks": ""
            },
            "colorscale": [
             [
              0,
              "#0d0887"
             ],
             [
              0.1111111111111111,
              "#46039f"
             ],
             [
              0.2222222222222222,
              "#7201a8"
             ],
             [
              0.3333333333333333,
              "#9c179e"
             ],
             [
              0.4444444444444444,
              "#bd3786"
             ],
             [
              0.5555555555555556,
              "#d8576b"
             ],
             [
              0.6666666666666666,
              "#ed7953"
             ],
             [
              0.7777777777777778,
              "#fb9f3a"
             ],
             [
              0.8888888888888888,
              "#fdca26"
             ],
             [
              1,
              "#f0f921"
             ]
            ],
            "type": "surface"
           }
          ],
          "table": [
           {
            "cells": {
             "fill": {
              "color": "#EBF0F8"
             },
             "line": {
              "color": "white"
             }
            },
            "header": {
             "fill": {
              "color": "#C8D4E3"
             },
             "line": {
              "color": "white"
             }
            },
            "type": "table"
           }
          ]
         },
         "layout": {
          "annotationdefaults": {
           "arrowcolor": "#2a3f5f",
           "arrowhead": 0,
           "arrowwidth": 1
          },
          "coloraxis": {
           "colorbar": {
            "outlinewidth": 0,
            "ticks": ""
           }
          },
          "colorscale": {
           "diverging": [
            [
             0,
             "#8e0152"
            ],
            [
             0.1,
             "#c51b7d"
            ],
            [
             0.2,
             "#de77ae"
            ],
            [
             0.3,
             "#f1b6da"
            ],
            [
             0.4,
             "#fde0ef"
            ],
            [
             0.5,
             "#f7f7f7"
            ],
            [
             0.6,
             "#e6f5d0"
            ],
            [
             0.7,
             "#b8e186"
            ],
            [
             0.8,
             "#7fbc41"
            ],
            [
             0.9,
             "#4d9221"
            ],
            [
             1,
             "#276419"
            ]
           ],
           "sequential": [
            [
             0,
             "#0d0887"
            ],
            [
             0.1111111111111111,
             "#46039f"
            ],
            [
             0.2222222222222222,
             "#7201a8"
            ],
            [
             0.3333333333333333,
             "#9c179e"
            ],
            [
             0.4444444444444444,
             "#bd3786"
            ],
            [
             0.5555555555555556,
             "#d8576b"
            ],
            [
             0.6666666666666666,
             "#ed7953"
            ],
            [
             0.7777777777777778,
             "#fb9f3a"
            ],
            [
             0.8888888888888888,
             "#fdca26"
            ],
            [
             1,
             "#f0f921"
            ]
           ],
           "sequentialminus": [
            [
             0,
             "#0d0887"
            ],
            [
             0.1111111111111111,
             "#46039f"
            ],
            [
             0.2222222222222222,
             "#7201a8"
            ],
            [
             0.3333333333333333,
             "#9c179e"
            ],
            [
             0.4444444444444444,
             "#bd3786"
            ],
            [
             0.5555555555555556,
             "#d8576b"
            ],
            [
             0.6666666666666666,
             "#ed7953"
            ],
            [
             0.7777777777777778,
             "#fb9f3a"
            ],
            [
             0.8888888888888888,
             "#fdca26"
            ],
            [
             1,
             "#f0f921"
            ]
           ]
          },
          "colorway": [
           "#636efa",
           "#EF553B",
           "#00cc96",
           "#ab63fa",
           "#FFA15A",
           "#19d3f3",
           "#FF6692",
           "#B6E880",
           "#FF97FF",
           "#FECB52"
          ],
          "font": {
           "color": "#2a3f5f"
          },
          "geo": {
           "bgcolor": "white",
           "lakecolor": "white",
           "landcolor": "#E5ECF6",
           "showlakes": true,
           "showland": true,
           "subunitcolor": "white"
          },
          "hoverlabel": {
           "align": "left"
          },
          "hovermode": "closest",
          "mapbox": {
           "style": "light"
          },
          "paper_bgcolor": "white",
          "plot_bgcolor": "#E5ECF6",
          "polar": {
           "angularaxis": {
            "gridcolor": "white",
            "linecolor": "white",
            "ticks": ""
           },
           "bgcolor": "#E5ECF6",
           "radialaxis": {
            "gridcolor": "white",
            "linecolor": "white",
            "ticks": ""
           }
          },
          "scene": {
           "xaxis": {
            "backgroundcolor": "#E5ECF6",
            "gridcolor": "white",
            "gridwidth": 2,
            "linecolor": "white",
            "showbackground": true,
            "ticks": "",
            "zerolinecolor": "white"
           },
           "yaxis": {
            "backgroundcolor": "#E5ECF6",
            "gridcolor": "white",
            "gridwidth": 2,
            "linecolor": "white",
            "showbackground": true,
            "ticks": "",
            "zerolinecolor": "white"
           },
           "zaxis": {
            "backgroundcolor": "#E5ECF6",
            "gridcolor": "white",
            "gridwidth": 2,
            "linecolor": "white",
            "showbackground": true,
            "ticks": "",
            "zerolinecolor": "white"
           }
          },
          "shapedefaults": {
           "line": {
            "color": "#2a3f5f"
           }
          },
          "ternary": {
           "aaxis": {
            "gridcolor": "white",
            "linecolor": "white",
            "ticks": ""
           },
           "baxis": {
            "gridcolor": "white",
            "linecolor": "white",
            "ticks": ""
           },
           "bgcolor": "#E5ECF6",
           "caxis": {
            "gridcolor": "white",
            "linecolor": "white",
            "ticks": ""
           }
          },
          "title": {
           "x": 0.05
          },
          "xaxis": {
           "automargin": true,
           "gridcolor": "white",
           "linecolor": "white",
           "ticks": "",
           "title": {
            "standoff": 15
           },
           "zerolinecolor": "white",
           "zerolinewidth": 2
          },
          "yaxis": {
           "automargin": true,
           "gridcolor": "white",
           "linecolor": "white",
           "ticks": "",
           "title": {
            "standoff": 15
           },
           "zerolinecolor": "white",
           "zerolinewidth": 2
          }
         }
        }
       }
      },
      "text/html": [
       "<div>\n",
       "        \n",
       "        \n",
       "            <div id=\"90441877-6266-435e-84fa-26451dce69ae\" class=\"plotly-graph-div\" style=\"height:525px; width:100%;\"></div>\n",
       "            <script type=\"text/javascript\">\n",
       "                require([\"plotly\"], function(Plotly) {\n",
       "                    window.PLOTLYENV=window.PLOTLYENV || {};\n",
       "                    \n",
       "                if (document.getElementById(\"90441877-6266-435e-84fa-26451dce69ae\")) {\n",
       "                    Plotly.newPlot(\n",
       "                        '90441877-6266-435e-84fa-26451dce69ae',\n",
       "                        [{\"marker\": {\"opacity\": 0.8, \"size\": 4}, \"mode\": \"markers\", \"name\": \"NIMBUS-RVEA\", \"type\": \"scatter3d\", \"x\": [0.2461794508654893, 0.24232515522638928, 0.21213213988320706, 0.20165698665213946, 0.23216729613191556, 0.21372310222067237, 0.22700875804828238, 0.24526596189925667, 0.2405550194750273, 0.2500097829863311, 0.22316153468697797, 0.2180539009381154, 0.21325233859327677, 0.20885251922523984, 0.22736838650162453, 0.23471866786176393, 0.24222880923208842, 0.21561072006788115, 0.2076461745673772, 0.24169585585718614, 0.20786600146430015, 0.20471698896217724, 0.23854709456107975, 0.2495548986337156, 0.21781696571158435, 0.24906299395004888, 0.2221979141557956, 0.20751751051069542, 0.2139299594664552, 0.24965609119250082, 0.24625048051902204, 0.21555062327316504, 0.23261891758885078, 0.2428938793848863, 0.20188484705631232, 0.2320388875653251, 0.24172896517683018, 0.23216939163249745, 0.24958299186317728, 0.24685221331653007, 0.23414022499684356, 0.20147766041118437, 0.21212358127015338, 0.22308356072657418, 0.20327288229647578, 0.20781636424281008, 0.21789724428938564, 0.23092428980063462, 0.2421641787461102, 0.22776985890764107, 0.2224032122744052, 0.23176826083007435, 0.21316385108615762, 0.22779153399132682, 0.2231839837916943, 0.23573435300140663, 0.2279290780521115, 0.21262289726931824, 0.21620129764161017, 0.24865767427861737, 0.22197111087857527, 0.2053058130826327, 0.21953291271267344, 0.21233309029622582, 0.20731055567904397, 0.20794944582717204, 0.2457388331367869, 0.24141623155583466, 0.21370720720362338, 0.2018103851735645, 0.21361306199104596, 0.21964235531288157, 0.2192920285915461, 0.2059173405271755, 0.2032134439016271, 0.23477118658626248, 0.20496895349181463, 0.21611362147639648, 0.21726816414210712, 0.23777947785327977, 0.20155654133232795, 0.23155575651253274, 0.25179410204193975, 0.23877579284888698, 0.23974519690926727, 0.22822215786295352, 0.23270499473709721, 0.238213769803065, 0.21216993512868873, 0.2345437038463455, 0.20808300125864643, 0.23231715382677945, 0.23124579801646739, 0.21308216603387303, 0.2491558633007381, 0.2277788924010932, 0.22189009053443037, 0.2122003434872423, 0.21517492756828888, 0.20577269396746167, 0.21292431224293157, 0.20090446737531728, 0.20466470294473943, 0.20259906102707312, 0.20809060327603487], \"y\": [0.007638968978949867, 0.01556580755099884, 0.0757438608817266, 0.09723206466418506, 0.03574193640079154, 0.07306092274534166, 0.04595292427834752, 0.009495349946979755, 0.020039270527405836, 0.0, 0.05350353452957305, 0.06098282923448704, 0.07356506313913201, 0.08241040737298075, 0.04470161563524928, 0.031229540313726097, 0.015572279991348165, 0.06866743818657807, 0.08457597025940589, 0.016726124442622302, 0.08436641215468578, 0.09067399121669427, 0.023234370384918296, 0.00045924262633187477, 0.0644479579748765, 0.0014437025158793694, 0.05548869175115226, 0.08507875753581128, 0.07216038569469757, 0.0009913468745124524, 0.007559482157383185, 0.06866467633600787, 0.03341425269809146, 0.014025628329767456, 0.09585005310887174, 0.03585918717623994, 0.01664178248022655, 0.0, 0.001001361029081597, 0.007012044370485104, 0.03168662329774132, 0.09627790313635733, 0.07590009073146511, 0.053627342184605305, 0.09364341375684974, 0.08440443434036488, 0.06430152347438343, 0.03818149775498473, 0.015788576869592594, 0.04409914943662847, 0.05449183881133816, 0.03613313697555138, 0.0735340020596308, 0.04521659483053799, 0.054240967771211145, 0.03001832119864796, 0.04507373721964484, 0.07512413839154536, 0.067301118355494, 0.005371443025624581, 0.055747451580835064, 0.08982533901145404, 0.06126024832672534, 0.07547760211054542, 0.08535102068272275, 0.0842967702787612, 0.008229112873972986, 0.01947939380990634, 0.07256439683258974, 0.09593376034103998, 0.0731387467978431, 0.0611830239570667, 0.06146729121275227, 0.08683074527210101, 0.09377292110646113, 0.031126761598466036, 0.0904298557040624, 0.06832946973493352, 0.067297630474527, 0.027027563877091647, 0.09823497589961463, 0.0355052511589503, 0.0, 0.02245594595984629, 0.020917529634407416, 0.04377939798223038, 0.03350416474351994, 0.023583567362835116, 0.07559827123641778, 0.0314423095648728, 0.08414404293967026, 0.03573519265660841, 0.03548306591093283, 0.0737857426400607, 0.005241661964255091, 0.04420226584547519, 0.05586888242515828, 0.07572276896976213, 0.06939042942173018, 0.08954210505330129, 0.07470273340258801, 0.0988312226233094, 0.09063041127926479, 0.0951704159532923, 0.08413421239338452], \"z\": [0.24619635046531388, 0.2421257587677826, 0.21212630907658442, 0.20111328901316125, 0.23209317247024527, 0.21321837803438465, 0.22705265379130732, 0.24524109511772504, 0.23942131259975488, 0.24999199855638227, 0.2233377739629852, 0.220965790824009, 0.21318500675109273, 0.20873948647167886, 0.22794605158705417, 0.2340650339708672, 0.24220185664349161, 0.2157367470542614, 0.2077930022685061, 0.24158098337907163, 0.2077831999631746, 0.20462381435139604, 0.2382352518183747, 0.25000173253285485, 0.2177375350354319, 0.24949503274373608, 0.22232854384739206, 0.2074058442788302, 0.21392558851917792, 0.2493546630397864, 0.24620474219882335, 0.21579984911110528, 0.23396821187024647, 0.2430829563680397, 0.2022807802140332, 0.23210466129898466, 0.24163221417692135, 0.26783122107547586, 0.24943101349097366, 0.24613862584426527, 0.23417583727646954, 0.2022467273959599, 0.21197815996640323, 0.22329196525716782, 0.20309899552210262, 0.20779352331584733, 0.21781632321216646, 0.23090939454893197, 0.24206145663922568, 0.22814705548481962, 0.22310722960371615, 0.23210155565938018, 0.21331799803482412, 0.22699422749554307, 0.22259021185896824, 0.23424782339058078, 0.2269989364797431, 0.2122554280308315, 0.21649896517407327, 0.2459861198723674, 0.22229658312404374, 0.2048713010350131, 0.21920938575502102, 0.21219160688158845, 0.20734054631258067, 0.20775632406356376, 0.24603434784723255, 0.23912007349591408, 0.21373016159511693, 0.20227157255308736, 0.21325076500790885, 0.21917699676324415, 0.21924313615558155, 0.20725412317454955, 0.20302892787629284, 0.23410460673721217, 0.20461585013371764, 0.21555991614547804, 0.21544944661264454, 0.23520569581082815, 0.20021096777741126, 0.23294173089802145, 0.24820766089416846, 0.23877134122438418, 0.23935329159105506, 0.22801408185772645, 0.23379210844587997, 0.23821717927295086, 0.212234125142103, 0.23402718485099813, 0.207788021132444, 0.2319493796030859, 0.23328718185339273, 0.21313427738100335, 0.24561807312660738, 0.22803529369679482, 0.22225620235512733, 0.21207920020345875, 0.21544963559257857, 0.2046876591704432, 0.2123752486347795, 0.20026676887727624, 0.2047196349826962, 0.20224624659025786, 0.20779058121545882]}, {\"marker\": {\"opacity\": 0.8, \"size\": 2}, \"name\": \"True Front\", \"type\": \"scatter3d\", \"x\": [0.5, 0, 0, 0.5], \"y\": [0, 0.5, 0, 0], \"z\": [0, 0, 0.5, 0]}, {\"marker\": {\"opacity\": 0.8, \"size\": 4}, \"name\": \"Nadir Point\", \"type\": \"scatter3d\", \"x\": [0.5], \"y\": [0.5], \"z\": [0.5]}, {\"marker\": {\"opacity\": 0.8, \"size\": 4}, \"name\": \"Reference Point\", \"type\": \"scatter3d\", \"x\": [0.4], \"y\": [0.2], \"z\": [0.4]}, {\"line\": {\"width\": 10}, \"marker\": {\"opacity\": 0.8, \"size\": 2}, \"name\": \"STOM\", \"type\": \"scatter3d\", \"x\": [0, 0.4, 40.0], \"y\": [0, 0.2, 20.0], \"z\": [0, 0.4, 40.0]}, {\"line\": {\"width\": 10}, \"marker\": {\"opacity\": 0.8, \"size\": 2}, \"name\": \"ASF\", \"type\": \"scatter3d\", \"x\": [-0.6, 1.4], \"y\": [-0.8, 1.2], \"z\": [-0.6, 1.4]}, {\"line\": {\"width\": 10}, \"marker\": {\"opacity\": 0.8, \"size\": 2}, \"name\": \"AUG\", \"type\": \"scatter3d\", \"x\": [-0.5, 0.4, 0.5], \"y\": [-2.5, 0.2, 0.5], \"z\": [-0.5, 0.4, 0.5]}, {\"marker\": {\"opacity\": 0.8, \"size\": 4}, \"name\": \"Ideal Point\", \"type\": \"scatter3d\", \"x\": [0], \"y\": [0], \"z\": [0]}],\n",
       "                        {\"margin\": {\"b\": 0, \"l\": 0, \"r\": 0, \"t\": 0}, \"scene\": {\"aspectratio\": {\"x\": 1, \"y\": 1, \"z\": 1}, \"xaxis\": {\"range\": [0, 0.6]}, \"yaxis\": {\"range\": [0, 0.6]}, \"zaxis\": {\"range\": [0, 0.6]}}, \"template\": {\"data\": {\"bar\": [{\"error_x\": {\"color\": \"#2a3f5f\"}, \"error_y\": {\"color\": \"#2a3f5f\"}, \"marker\": {\"line\": {\"color\": \"#E5ECF6\", \"width\": 0.5}}, \"type\": \"bar\"}], \"barpolar\": [{\"marker\": {\"line\": {\"color\": \"#E5ECF6\", \"width\": 0.5}}, \"type\": \"barpolar\"}], \"carpet\": [{\"aaxis\": {\"endlinecolor\": \"#2a3f5f\", \"gridcolor\": \"white\", \"linecolor\": \"white\", \"minorgridcolor\": \"white\", \"startlinecolor\": \"#2a3f5f\"}, \"baxis\": {\"endlinecolor\": \"#2a3f5f\", \"gridcolor\": \"white\", \"linecolor\": \"white\", \"minorgridcolor\": \"white\", \"startlinecolor\": \"#2a3f5f\"}, \"type\": \"carpet\"}], \"choropleth\": [{\"colorbar\": {\"outlinewidth\": 0, \"ticks\": \"\"}, \"type\": \"choropleth\"}], \"contour\": [{\"colorbar\": {\"outlinewidth\": 0, \"ticks\": \"\"}, \"colorscale\": [[0.0, \"#0d0887\"], [0.1111111111111111, \"#46039f\"], [0.2222222222222222, \"#7201a8\"], [0.3333333333333333, \"#9c179e\"], [0.4444444444444444, \"#bd3786\"], [0.5555555555555556, \"#d8576b\"], [0.6666666666666666, \"#ed7953\"], [0.7777777777777778, \"#fb9f3a\"], [0.8888888888888888, \"#fdca26\"], [1.0, \"#f0f921\"]], \"type\": \"contour\"}], \"contourcarpet\": [{\"colorbar\": {\"outlinewidth\": 0, \"ticks\": \"\"}, \"type\": \"contourcarpet\"}], \"heatmap\": [{\"colorbar\": {\"outlinewidth\": 0, \"ticks\": \"\"}, \"colorscale\": [[0.0, \"#0d0887\"], [0.1111111111111111, \"#46039f\"], [0.2222222222222222, \"#7201a8\"], [0.3333333333333333, \"#9c179e\"], [0.4444444444444444, \"#bd3786\"], [0.5555555555555556, \"#d8576b\"], [0.6666666666666666, \"#ed7953\"], [0.7777777777777778, \"#fb9f3a\"], [0.8888888888888888, \"#fdca26\"], [1.0, \"#f0f921\"]], \"type\": \"heatmap\"}], \"heatmapgl\": [{\"colorbar\": {\"outlinewidth\": 0, \"ticks\": \"\"}, \"colorscale\": [[0.0, \"#0d0887\"], [0.1111111111111111, \"#46039f\"], [0.2222222222222222, \"#7201a8\"], [0.3333333333333333, \"#9c179e\"], [0.4444444444444444, \"#bd3786\"], [0.5555555555555556, \"#d8576b\"], [0.6666666666666666, \"#ed7953\"], [0.7777777777777778, \"#fb9f3a\"], [0.8888888888888888, \"#fdca26\"], [1.0, \"#f0f921\"]], \"type\": \"heatmapgl\"}], \"histogram\": [{\"marker\": {\"colorbar\": {\"outlinewidth\": 0, \"ticks\": \"\"}}, \"type\": \"histogram\"}], \"histogram2d\": [{\"colorbar\": {\"outlinewidth\": 0, \"ticks\": \"\"}, \"colorscale\": [[0.0, \"#0d0887\"], [0.1111111111111111, \"#46039f\"], [0.2222222222222222, \"#7201a8\"], [0.3333333333333333, \"#9c179e\"], [0.4444444444444444, \"#bd3786\"], [0.5555555555555556, \"#d8576b\"], [0.6666666666666666, \"#ed7953\"], [0.7777777777777778, \"#fb9f3a\"], [0.8888888888888888, \"#fdca26\"], [1.0, \"#f0f921\"]], \"type\": \"histogram2d\"}], \"histogram2dcontour\": [{\"colorbar\": {\"outlinewidth\": 0, \"ticks\": \"\"}, \"colorscale\": [[0.0, \"#0d0887\"], [0.1111111111111111, \"#46039f\"], [0.2222222222222222, \"#7201a8\"], [0.3333333333333333, \"#9c179e\"], [0.4444444444444444, \"#bd3786\"], [0.5555555555555556, \"#d8576b\"], [0.6666666666666666, \"#ed7953\"], [0.7777777777777778, \"#fb9f3a\"], [0.8888888888888888, \"#fdca26\"], [1.0, \"#f0f921\"]], \"type\": \"histogram2dcontour\"}], \"mesh3d\": [{\"colorbar\": {\"outlinewidth\": 0, \"ticks\": \"\"}, \"type\": \"mesh3d\"}], \"parcoords\": [{\"line\": {\"colorbar\": {\"outlinewidth\": 0, \"ticks\": \"\"}}, \"type\": \"parcoords\"}], \"pie\": [{\"automargin\": true, \"type\": \"pie\"}], \"scatter\": [{\"marker\": {\"colorbar\": {\"outlinewidth\": 0, \"ticks\": \"\"}}, \"type\": \"scatter\"}], \"scatter3d\": [{\"line\": {\"colorbar\": {\"outlinewidth\": 0, \"ticks\": \"\"}}, \"marker\": {\"colorbar\": {\"outlinewidth\": 0, \"ticks\": \"\"}}, \"type\": \"scatter3d\"}], \"scattercarpet\": [{\"marker\": {\"colorbar\": {\"outlinewidth\": 0, \"ticks\": \"\"}}, \"type\": \"scattercarpet\"}], \"scattergeo\": [{\"marker\": {\"colorbar\": {\"outlinewidth\": 0, \"ticks\": \"\"}}, \"type\": \"scattergeo\"}], \"scattergl\": [{\"marker\": {\"colorbar\": {\"outlinewidth\": 0, \"ticks\": \"\"}}, \"type\": \"scattergl\"}], \"scattermapbox\": [{\"marker\": {\"colorbar\": {\"outlinewidth\": 0, \"ticks\": \"\"}}, \"type\": \"scattermapbox\"}], \"scatterpolar\": [{\"marker\": {\"colorbar\": {\"outlinewidth\": 0, \"ticks\": \"\"}}, \"type\": \"scatterpolar\"}], \"scatterpolargl\": [{\"marker\": {\"colorbar\": {\"outlinewidth\": 0, \"ticks\": \"\"}}, \"type\": \"scatterpolargl\"}], \"scatterternary\": [{\"marker\": {\"colorbar\": {\"outlinewidth\": 0, \"ticks\": \"\"}}, \"type\": \"scatterternary\"}], \"surface\": [{\"colorbar\": {\"outlinewidth\": 0, \"ticks\": \"\"}, \"colorscale\": [[0.0, \"#0d0887\"], [0.1111111111111111, \"#46039f\"], [0.2222222222222222, \"#7201a8\"], [0.3333333333333333, \"#9c179e\"], [0.4444444444444444, \"#bd3786\"], [0.5555555555555556, \"#d8576b\"], [0.6666666666666666, \"#ed7953\"], [0.7777777777777778, \"#fb9f3a\"], [0.8888888888888888, \"#fdca26\"], [1.0, \"#f0f921\"]], \"type\": \"surface\"}], \"table\": [{\"cells\": {\"fill\": {\"color\": \"#EBF0F8\"}, \"line\": {\"color\": \"white\"}}, \"header\": {\"fill\": {\"color\": \"#C8D4E3\"}, \"line\": {\"color\": \"white\"}}, \"type\": \"table\"}]}, \"layout\": {\"annotationdefaults\": {\"arrowcolor\": \"#2a3f5f\", \"arrowhead\": 0, \"arrowwidth\": 1}, \"coloraxis\": {\"colorbar\": {\"outlinewidth\": 0, \"ticks\": \"\"}}, \"colorscale\": {\"diverging\": [[0, \"#8e0152\"], [0.1, \"#c51b7d\"], [0.2, \"#de77ae\"], [0.3, \"#f1b6da\"], [0.4, \"#fde0ef\"], [0.5, \"#f7f7f7\"], [0.6, \"#e6f5d0\"], [0.7, \"#b8e186\"], [0.8, \"#7fbc41\"], [0.9, \"#4d9221\"], [1, \"#276419\"]], \"sequential\": [[0.0, \"#0d0887\"], [0.1111111111111111, \"#46039f\"], [0.2222222222222222, \"#7201a8\"], [0.3333333333333333, \"#9c179e\"], [0.4444444444444444, \"#bd3786\"], [0.5555555555555556, \"#d8576b\"], [0.6666666666666666, \"#ed7953\"], [0.7777777777777778, \"#fb9f3a\"], [0.8888888888888888, \"#fdca26\"], [1.0, \"#f0f921\"]], \"sequentialminus\": [[0.0, \"#0d0887\"], [0.1111111111111111, \"#46039f\"], [0.2222222222222222, \"#7201a8\"], [0.3333333333333333, \"#9c179e\"], [0.4444444444444444, \"#bd3786\"], [0.5555555555555556, \"#d8576b\"], [0.6666666666666666, \"#ed7953\"], [0.7777777777777778, \"#fb9f3a\"], [0.8888888888888888, \"#fdca26\"], [1.0, \"#f0f921\"]]}, \"colorway\": [\"#636efa\", \"#EF553B\", \"#00cc96\", \"#ab63fa\", \"#FFA15A\", \"#19d3f3\", \"#FF6692\", \"#B6E880\", \"#FF97FF\", \"#FECB52\"], \"font\": {\"color\": \"#2a3f5f\"}, \"geo\": {\"bgcolor\": \"white\", \"lakecolor\": \"white\", \"landcolor\": \"#E5ECF6\", \"showlakes\": true, \"showland\": true, \"subunitcolor\": \"white\"}, \"hoverlabel\": {\"align\": \"left\"}, \"hovermode\": \"closest\", \"mapbox\": {\"style\": \"light\"}, \"paper_bgcolor\": \"white\", \"plot_bgcolor\": \"#E5ECF6\", \"polar\": {\"angularaxis\": {\"gridcolor\": \"white\", \"linecolor\": \"white\", \"ticks\": \"\"}, \"bgcolor\": \"#E5ECF6\", \"radialaxis\": {\"gridcolor\": \"white\", \"linecolor\": \"white\", \"ticks\": \"\"}}, \"scene\": {\"xaxis\": {\"backgroundcolor\": \"#E5ECF6\", \"gridcolor\": \"white\", \"gridwidth\": 2, \"linecolor\": \"white\", \"showbackground\": true, \"ticks\": \"\", \"zerolinecolor\": \"white\"}, \"yaxis\": {\"backgroundcolor\": \"#E5ECF6\", \"gridcolor\": \"white\", \"gridwidth\": 2, \"linecolor\": \"white\", \"showbackground\": true, \"ticks\": \"\", \"zerolinecolor\": \"white\"}, \"zaxis\": {\"backgroundcolor\": \"#E5ECF6\", \"gridcolor\": \"white\", \"gridwidth\": 2, \"linecolor\": \"white\", \"showbackground\": true, \"ticks\": \"\", \"zerolinecolor\": \"white\"}}, \"shapedefaults\": {\"line\": {\"color\": \"#2a3f5f\"}}, \"ternary\": {\"aaxis\": {\"gridcolor\": \"white\", \"linecolor\": \"white\", \"ticks\": \"\"}, \"baxis\": {\"gridcolor\": \"white\", \"linecolor\": \"white\", \"ticks\": \"\"}, \"bgcolor\": \"#E5ECF6\", \"caxis\": {\"gridcolor\": \"white\", \"linecolor\": \"white\", \"ticks\": \"\"}}, \"title\": {\"x\": 0.05}, \"xaxis\": {\"automargin\": true, \"gridcolor\": \"white\", \"linecolor\": \"white\", \"ticks\": \"\", \"title\": {\"standoff\": 15}, \"zerolinecolor\": \"white\", \"zerolinewidth\": 2}, \"yaxis\": {\"automargin\": true, \"gridcolor\": \"white\", \"linecolor\": \"white\", \"ticks\": \"\", \"title\": {\"standoff\": 15}, \"zerolinecolor\": \"white\", \"zerolinewidth\": 2}}}},\n",
       "                        {\"responsive\": true}\n",
       "                    ).then(function(){\n",
       "                            \n",
       "var gd = document.getElementById('90441877-6266-435e-84fa-26451dce69ae');\n",
       "var x = new MutationObserver(function (mutations, observer) {{\n",
       "        var display = window.getComputedStyle(gd).display;\n",
       "        if (!display || display === 'none') {{\n",
       "            console.log([gd, 'removed!']);\n",
       "            Plotly.purge(gd);\n",
       "            observer.disconnect();\n",
       "        }}\n",
       "}});\n",
       "\n",
       "// Listen for the removal of the full notebook cells\n",
       "var notebookContainer = gd.closest('#notebook-container');\n",
       "if (notebookContainer) {{\n",
       "    x.observe(notebookContainer, {childList: true});\n",
       "}}\n",
       "\n",
       "// Listen for the clearing of the current output cell\n",
       "var outputEl = gd.closest('.output');\n",
       "if (outputEl) {{\n",
       "    x.observe(outputEl, {childList: true});\n",
       "}}\n",
       "\n",
       "                        })\n",
       "                };\n",
       "                });\n",
       "            </script>\n",
       "        </div>"
      ]
     },
     "metadata": {},
     "output_type": "display_data"
    }
   ],
   "source": [
    "fig = plot3d(plot, response)\n",
    "fig"
   ]
  },
  {
   "cell_type": "code",
   "execution_count": 61,
   "metadata": {},
   "outputs": [],
   "source": [
    "def plot3d(plot, response):\n",
    "    # NIMBUSEA\n",
    "    obj = plot.content['data'].values\n",
    "    non_dom_id = nds(obj)[0][0]\n",
    "    fig = go.Figure(\n",
    "        go.Scatter3d(\n",
    "            x=obj[non_dom_id, 0],\n",
    "            y=obj[non_dom_id, 1],\n",
    "            z=obj[non_dom_id, 2],\n",
    "            name=\"NIMBUS-RVEA\",\n",
    "            mode='markers',\n",
    "            marker=dict(\n",
    "            size=4,\n",
    "            opacity=0.8\n",
    "        )\n",
    "        )\n",
    "    )\n",
    "\n",
    "    #True Front\n",
    "    fig.add_trace(\n",
    "        go.Scatter3d(\n",
    "            x=[0.5, 0, 0, 0.5],\n",
    "            y=[0, 0.5, 0, 0],\n",
    "            z=[0, 0, 0.5, 0],\n",
    "            name=\"True Front\",\n",
    "            marker=dict(\n",
    "            size=2,\n",
    "            opacity=0.8\n",
    "        )\n",
    "        )\n",
    "    )\n",
    "\n",
    "    #Nadir Point\n",
    "    fig.add_trace(\n",
    "        go.Scatter3d(\n",
    "            x=[0.5],\n",
    "            y=[0.5],\n",
    "            z=[0.5],\n",
    "            name=\"Nadir Point\",\n",
    "            marker=dict(\n",
    "            size=4,\n",
    "            opacity=0.8\n",
    "        )\n",
    "        )\n",
    "    )\n",
    "\n",
    "\n",
    "\n",
    "    # Reference Point\n",
    "\n",
    "    fig.add_trace(\n",
    "        go.Scatter3d(\n",
    "            x=[response[0,0]],\n",
    "            y=[response[0,1]],\n",
    "            z=[response[0,2]],\n",
    "            name=\"Reference Point\",\n",
    "            marker=dict(\n",
    "            size=4,\n",
    "            opacity=0.8\n",
    "        )\n",
    "        )\n",
    "    )\n",
    "\n",
    "    # STOM\n",
    "\n",
    "    fig.add_trace(\n",
    "        go.Scatter3d(\n",
    "            x=[0, response[0,0],100*response[0,0]],\n",
    "            y=[0, response[0,1],100*response[0,1]],\n",
    "            z=[0, response[0,2],100*response[0,2]],\n",
    "            name=\"STOM\",\n",
    "            marker=dict(\n",
    "            size=2,\n",
    "            opacity=0.8\n",
    "        ),\n",
    "            line=dict(width=10)\n",
    "        )\n",
    "    )\n",
    "\n",
    "    #ASF\n",
    "\n",
    "    fig.add_trace(\n",
    "        go.Scatter3d(\n",
    "            x=[response[0,0]-1, response[0,0]+1],\n",
    "            y=[response[0,1]-1, response[0,1]+1],\n",
    "            z=[response[0,2]-1, response[0,2]+1],\n",
    "            name=\"ASF\",\n",
    "            marker=dict(\n",
    "            size=2,\n",
    "            opacity=0.8\n",
    "        ),\n",
    "            line=dict(width=10)\n",
    "        )\n",
    "    )\n",
    "    #AUG\n",
    "\n",
    "    fig.add_trace(\n",
    "        go.Scatter3d(\n",
    "            x=[10*response[0,0] - 9*0.5,response[0,0], 0.5],\n",
    "            y=[10*response[0,1] - 9*0.5,response[0,1], 0.5],\n",
    "            z=[10*response[0,2] - 9*0.5,response[0,2], 0.5],\n",
    "            name=\"AUG\",\n",
    "            marker=dict(\n",
    "            size=2,\n",
    "            opacity=0.8\n",
    "        ),\n",
    "            line=dict(width=10)\n",
    "        )\n",
    "    )\n",
    "\n",
    "    # Ideal Point\n",
    "    fig.add_trace(\n",
    "        go.Scatter3d(\n",
    "            x=[0],\n",
    "            y=[0],\n",
    "            z=[0],\n",
    "            name=\"Ideal Point\",\n",
    "            marker=dict(\n",
    "            size=4,\n",
    "            opacity=0.8\n",
    "        )\n",
    "        )\n",
    "    )\n",
    "\n",
    "    fig.update_layout(\n",
    "        scene = dict(\n",
    "            xaxis = dict(range=[0,0.6],),\n",
    "            yaxis = dict(range=[0,0.6],),\n",
    "            zaxis = dict(range=[0,0.6],),\n",
    "            aspectratio=dict(x=1,y=1,z=1))\n",
    "                     )\n",
    "    fig.update_layout(margin=dict(l=0, r=0, b=0, t=0))\n",
    "    return fig\n",
    "    "
   ]
  },
  {
   "cell_type": "code",
   "execution_count": 5,
   "metadata": {},
   "outputs": [],
   "source": [
    "prob_dtlz2 = test_problem_builder(name=\"DTLZ2\", n_of_objectives=3, n_of_variables=5)\n",
    "prob_dtlz2.ideal = np.asarray([0, 0, 0])\n",
    "prob_dtlz2.nadir = np.asarray([1, 1, 1])"
   ]
  },
  {
   "cell_type": "code",
   "execution_count": 6,
   "metadata": {},
   "outputs": [],
   "source": [
    "evolver = NIMBUS_NSGAIII(prob_dtlz2, n_gen_per_iter=200)"
   ]
  },
  {
   "cell_type": "code",
   "execution_count": 7,
   "metadata": {},
   "outputs": [
    {
     "data": {
      "text/plain": [
       "{'dimensions_data':          f1 f2 f3\n",
       " minimize  1  1  1\n",
       " ideal     0  0  0\n",
       " nadir     1  1  1,\n",
       " 'message': 'Provide a reference point worse than to the ideal point and better than the nadir point.\\nIdeal point: \\nf1    0\\nf2    0\\nf3    0\\nName: ideal, dtype: object\\nNadir point: \\nf1    1\\nf2    1\\nf3    1\\nName: nadir, dtype: object\\nThe reference point will be used to create scalarization functions in the preferred region.\\n',\n",
       " 'validator': <function desdeo_tools.interaction.validators.validate_ref_point_with_ideal_and_nadir(dimensions_data: pandas.core.frame.DataFrame, reference_point: pandas.core.frame.DataFrame)>}"
      ]
     },
     "execution_count": 7,
     "metadata": {},
     "output_type": "execute_result"
    }
   ],
   "source": [
    "plot, pref = evolver.requests()\n",
    "pref.content"
   ]
  },
  {
   "cell_type": "code",
   "execution_count": 23,
   "metadata": {},
   "outputs": [],
   "source": [
    "response = np.asarray([[0.8,0.9, 0.4]])\n",
    "pref.response = pd.DataFrame(response, columns=pref.content['dimensions_data'].columns)"
   ]
  },
  {
   "cell_type": "code",
   "execution_count": 24,
   "metadata": {},
   "outputs": [],
   "source": [
    "plot, pref = evolver.iterate(pref)"
   ]
  },
  {
   "cell_type": "code",
   "execution_count": 25,
   "metadata": {},
   "outputs": [
    {
     "data": {
      "application/vnd.plotly.v1+json": {
       "config": {
        "plotlyServerURL": "https://plot.ly"
       },
       "data": [
        {
         "marker": {
          "opacity": 0.8,
          "size": 4
         },
         "mode": "markers",
         "name": "NIMBUS-EA",
         "type": "scatter3d",
         "x": [
          0.6507638754445666,
          0.6515563356133452,
          0.6549016655517085,
          0.6502183006139564,
          0.6589264394139889,
          0.6323044477154749,
          0.6598809094312916,
          0.6308249783482955,
          0.6441980786866779,
          0.6540799146809534,
          0.6362446004855524,
          0.6605557018542252,
          0.6620481069005012,
          0.6397271907122352,
          0.6343156338219846,
          0.6508979923353244,
          0.6633326485038685,
          0.6524216650589473,
          0.6373690595466263,
          0.6552708192141161,
          0.6344039342916977,
          0.6358215579441115,
          0.6600517933454872,
          0.6641763055502762,
          0.6637227716842096,
          0.659811646786557,
          0.634762496133069,
          0.6601344493936192,
          0.6633606772467603,
          0.6598351954457949,
          0.6470162668601398,
          0.6356843684580098,
          0.6524844684584742,
          0.6540157894442882,
          0.6458963950506685,
          0.6536878060441375,
          0.6522254650470388,
          0.6378643370181056,
          0.66345082687631,
          0.6521051410432295,
          0.6628513329912838,
          0.6515709640308389,
          0.6482090312395721,
          0.6590528153979189,
          0.6548989854680612,
          0.6628333256759569,
          0.6361276546338837,
          0.6447474321737822,
          0.6609405905889932,
          0.6389056173996867,
          0.6614716609226796,
          0.6517664501289747,
          0.6365869102422725,
          0.6636951651679325,
          0.6448012522260054,
          0.6580688215276941,
          0.6563759850708925,
          0.631312772554376,
          0.6352880927867536,
          0.6312355303936587,
          0.6596182651203171,
          0.660023997182449,
          0.6562892141303741,
          0.6630051612379997,
          0.6558563744934082,
          0.6592258570344538,
          0.6637860363864013,
          0.6423830961363914,
          0.6515405667632305,
          0.6588068751435315,
          0.658212892318742,
          0.6572017476367269,
          0.6571468022228494,
          0.6610798378144189,
          0.6639304144772799,
          0.6476887505755087,
          0.6434678407999127,
          0.6331312682301847,
          0.6603394100531808,
          0.6451481476505181,
          0.6516355076529595,
          0.6597150075039148,
          0.6601822332729057,
          0.6625995726632062,
          0.6367125180881514,
          0.6518770905780513,
          0.6500687050530375,
          0.6649246961807418,
          0.6340774595072436,
          0.660562341945327,
          0.6604738275287227,
          0.6323847030963592,
          0.652032872719727,
          0.6529602711270389,
          0.6317776663675699,
          0.6445893111211128,
          0.6635881683413009,
          0.6380871380081333,
          0.6457794207164451,
          0.6574272764841841,
          0.6559144265502832,
          0.660051357670487,
          0.6599464662373397,
          0.6340693146493658,
          0.6569524795681048
         ],
         "y": [
          0.7497693627521556,
          0.7493205722860966,
          0.7479993521917532,
          0.7482449497367926,
          0.741541530122904,
          0.711515947851875,
          0.7431287719029359,
          0.7097894048605521,
          0.7245825858634583,
          0.753658317113972,
          0.7160013798274223,
          0.7432085639391175,
          0.7448348005774243,
          0.7199329374043315,
          0.7137817826724115,
          0.7328932576571303,
          0.7460840980250328,
          0.7485748056106207,
          0.7169920301543413,
          0.7554281519800798,
          0.7375751149374004,
          0.7155714488792081,
          0.7497186781493009,
          0.7476786795537215,
          0.7474203241105971,
          0.7430497163887008,
          0.7145588024081801,
          0.7488131509669698,
          0.7462973695508258,
          0.7492792909162957,
          0.7343774262631679,
          0.7155605337549357,
          0.734126412501444,
          0.7536596246450806,
          0.7270147295717646,
          0.7355271797551014,
          0.7502289707138076,
          0.718304993010764,
          0.747076064779059,
          0.7342414533767317,
          0.7465487688771028,
          0.7392260254033154,
          0.7466858538812184,
          0.7418081184209026,
          0.7479900805237153,
          0.7459527912469149,
          0.7156047031362054,
          0.7255257313098037,
          0.7502626233961811,
          0.719495438161106,
          0.7435557235788632,
          0.7502551546423178,
          0.7168412723284414,
          0.746600626462953,
          0.7260868448043455,
          0.7481364732914191,
          0.7392679783378563,
          0.7100892545819741,
          0.7147732352865869,
          0.7102457083853296,
          0.7438307537335334,
          0.7429120170023645,
          0.7451526528888485,
          0.7463493227064649,
          0.7538149948759155,
          0.742506736395249,
          0.7472384175698533,
          0.7286489883199027,
          0.7513258355474127,
          0.7504778073820216,
          0.7406930695827605,
          0.7461337619567759,
          0.7461517399452527,
          0.7435555347759661,
          0.7476087393307017,
          0.7289666749010668,
          0.7237571500115348,
          0.7131259090336072,
          0.7492555838989257,
          0.7259821237090349,
          0.7482253876767765,
          0.7437982306401527,
          0.7489079284106084,
          0.7457080187721481,
          0.7165565819305915,
          0.750531329107626,
          0.7483913179149121,
          0.7473996169294452,
          0.7133706080299036,
          0.7431983888808953,
          0.7434151636021088,
          0.7114886697426652,
          0.7584460076211113,
          0.7476591256540431,
          0.7106129930512342,
          0.7259901091452483,
          0.7466173650525152,
          0.7180829481854135,
          0.74302689889074,
          0.7397381195995292,
          0.7554960660285561,
          0.7497200651681754,
          0.7486605581926021,
          0.7135922366213552,
          0.7392541054764834
         ],
         "z": [
          0.12004378720348981,
          0.1184090036921122,
          0.11223727171327988,
          0.13393341012935653,
          0.12649964566878225,
          0.30662267621909167,
          0.11190509602028356,
          0.31355677945922605,
          0.24607169546504642,
          0.06644948256763732,
          0.287502249500952,
          0.10657506503569317,
          0.08455466678122926,
          0.26954627213103494,
          0.2970019066499148,
          0.1993467047878063,
          0.06104348769216334,
          0.1186069610040237,
          0.2826603913233027,
          0.012014143536963092,
          0.23247295100081314,
          0.2895627114177626,
          0.04759288972784459,
          0.012807740419233476,
          0.03453661869987472,
          0.11196364183232244,
          0.29510704959070533,
          0.061081826724996395,
          0.05775028780874432,
          0.0633433307170783,
          0.20683906612728473,
          0.2897297327048197,
          0.1905823640896662,
          0.06691242516242363,
          0.23555746018523965,
          0.17807550495774477,
          0.10848635441682009,
          0.27784771388734797,
          0.04221500949644594,
          0.19057916429471342,
          0.06005189817541297,
          0.17078298158281013,
          0.15006946214356395,
          0.12413597330796966,
          0.11224276926084836,
          0.06643687651905662,
          0.28860620950869037,
          0.24083158248659056,
          0.022711025029661817,
          0.272303682706729,
          0.1028497962972239,
          0.11348118562233304,
          0.2845065421314791,
          0.04649074721619829,
          0.24005576317359748,
          0.09700973288983501,
          0.15067052679836795,
          0.3118827318740589,
          0.29274348256380744,
          0.31170161875872643,
          0.10854717969135559,
          0.11179451265403284,
          0.11861909822020658,
          0.05886902813185924,
          0.04126227124433299,
          0.11966110678622331,
          0.03406014889254937,
          0.23969984168537445,
          0.1073715175859886,
          0.05789038287588334,
          0.1353418033133433,
          0.10672789144203454,
          0.10687180408050485,
          0.10291999871661352,
          0.033075482395350395,
          0.2237910420205311,
          0.25037382258862784,
          0.3057783682138434,
          0.05534533932892022,
          0.23936822326311386,
          0.12995272925405654,
          0.10814572558116405,
          0.05905845009247099,
          0.07095835406676444,
          0.28522749975048434,
          0.1093840275002338,
          0.1338746150321542,
          0.010890970728129588,
          0.2984977962037932,
          0.10658064388622462,
          0.10569537461677482,
          0.30687433171834255,
          0,
          0.12189518948886664,
          0.30974383566626673,
          0.24094407226202366,
          0.04720165846209577,
          0.2782380004990941,
          0.17796944525932554,
          0.14781860297488447,
          0.009523281919255897,
          0.04760943620947259,
          0.06328157923410149,
          0.2979818899331036,
          0.14873756355368362
         ]
        },
        {
         "colorscale": [
          [
           0,
           "red"
          ],
          [
           1,
           "red"
          ]
         ],
         "opacity": 0.5,
         "type": "surface",
         "x": [
          [
           0,
           0.17364817766693033,
           0.3420201433256687,
           0.49999999999999994,
           0.6427876096865393,
           0.766044443118978,
           0.8660254037844386,
           0.9396926207859083,
           0.984807753012208,
           1
          ],
          [
           0,
           0.17101007166283433,
           0.33682408883346515,
           0.49240387650610395,
           0.633022221559489,
           0.7544065067354889,
           0.8528685319524432,
           0.9254165783983233,
           0.9698463103929541,
           0.984807753012208
          ],
          [
           0,
           0.16317591116653482,
           0.3213938048432697,
           0.46984631039295416,
           0.6040227735550536,
           0.7198463103929542,
           0.8137976813493737,
           0.883022221559489,
           0.9254165783983234,
           0.9396926207859084
          ],
          [
           0,
           0.1503837331804353,
           0.29619813272602386,
           0.4330127018922193,
           0.5566703992264194,
           0.6634139481689384,
           0.75,
           0.8137976813493737,
           0.8528685319524433,
           0.8660254037844387
          ],
          [
           0,
           0.133022221559489,
           0.2620026302293849,
           0.38302222155948895,
           0.49240387650610395,
           0.5868240888334652,
           0.6634139481689384,
           0.7198463103929541,
           0.7544065067354889,
           0.766044443118978
          ],
          [
           0,
           0.11161889704894966,
           0.2198463103929542,
           0.3213938048432696,
           0.4131759111665348,
           0.49240387650610407,
           0.5566703992264194,
           0.6040227735550536,
           0.6330222215594891,
           0.6427876096865394
          ],
          [
           0,
           0.08682408883346518,
           0.17101007166283438,
           0.25,
           0.3213938048432697,
           0.3830222215594891,
           0.4330127018922194,
           0.46984631039295427,
           0.4924038765061041,
           0.5000000000000001
          ],
          [
           0,
           0.05939117461388472,
           0.11697777844051101,
           0.17101007166283438,
           0.21984631039295421,
           0.262002630229385,
           0.2961981327260239,
           0.32139380484326974,
           0.33682408883346526,
           0.3420201433256688
          ],
          [
           0,
           0.030153689607045817,
           0.059391174613884726,
           0.0868240888334652,
           0.11161889704894969,
           0.13302222155948906,
           0.15038373318043535,
           0.16317591116653488,
           0.1710100716628344,
           0.17364817766693041
          ],
          [
           0,
           1.0632884247878856e-17,
           2.094269368838496e-17,
           3.0616169978683824e-17,
           3.9359389436709925e-17,
           4.6906693763513654e-17,
           5.302876193624534e-17,
           5.753957801139251e-17,
           6.030208312509488e-17,
           6.123233995736766e-17
          ]
         ],
         "y": [
          [
           0,
           0,
           0,
           0,
           0,
           0,
           0,
           0,
           0,
           0
          ],
          [
           0,
           0.030153689607045803,
           0.0593911746138847,
           0.08682408883346515,
           0.11161889704894963,
           0.133022221559489,
           0.15038373318043527,
           0.1631759111665348,
           0.17101007166283433,
           0.17364817766693033
          ],
          [
           0,
           0.0593911746138847,
           0.11697777844051097,
           0.17101007166283433,
           0.21984631039295416,
           0.2620026302293849,
           0.2961981327260238,
           0.3213938048432696,
           0.33682408883346515,
           0.3420201433256687
          ],
          [
           0,
           0.08682408883346515,
           0.17101007166283433,
           0.24999999999999994,
           0.32139380484326957,
           0.38302222155948895,
           0.43301270189221924,
           0.4698463103929541,
           0.49240387650610395,
           0.49999999999999994
          ],
          [
           0,
           0.11161889704894963,
           0.21984631039295416,
           0.32139380484326957,
           0.41317591116653474,
           0.49240387650610395,
           0.5566703992264193,
           0.6040227735550536,
           0.633022221559489,
           0.6427876096865393
          ],
          [
           0,
           0.133022221559489,
           0.2620026302293849,
           0.38302222155948895,
           0.49240387650610395,
           0.5868240888334652,
           0.6634139481689384,
           0.7198463103929541,
           0.7544065067354889,
           0.766044443118978
          ],
          [
           0,
           0.15038373318043527,
           0.2961981327260238,
           0.43301270189221924,
           0.5566703992264193,
           0.6634139481689384,
           0.7499999999999999,
           0.8137976813493736,
           0.8528685319524432,
           0.8660254037844386
          ],
          [
           0,
           0.1631759111665348,
           0.3213938048432696,
           0.4698463103929541,
           0.6040227735550536,
           0.7198463103929541,
           0.8137976813493736,
           0.8830222215594888,
           0.9254165783983233,
           0.9396926207859083
          ],
          [
           0,
           0.17101007166283433,
           0.33682408883346515,
           0.49240387650610395,
           0.633022221559489,
           0.7544065067354889,
           0.8528685319524432,
           0.9254165783983233,
           0.9698463103929541,
           0.984807753012208
          ],
          [
           0,
           0.17364817766693033,
           0.3420201433256687,
           0.49999999999999994,
           0.6427876096865393,
           0.766044443118978,
           0.8660254037844386,
           0.9396926207859083,
           0.984807753012208,
           1
          ]
         ],
         "z": [
          [
           1,
           0.984807753012208,
           0.9396926207859084,
           0.8660254037844387,
           0.766044443118978,
           0.6427876096865394,
           0.5000000000000001,
           0.3420201433256688,
           0.17364817766693041,
           6.123233995736766e-17
          ],
          [
           1,
           0.984807753012208,
           0.9396926207859084,
           0.8660254037844387,
           0.766044443118978,
           0.6427876096865394,
           0.5000000000000001,
           0.3420201433256688,
           0.17364817766693041,
           6.123233995736766e-17
          ],
          [
           1,
           0.984807753012208,
           0.9396926207859084,
           0.8660254037844387,
           0.766044443118978,
           0.6427876096865394,
           0.5000000000000001,
           0.3420201433256688,
           0.17364817766693041,
           6.123233995736766e-17
          ],
          [
           1,
           0.984807753012208,
           0.9396926207859084,
           0.8660254037844387,
           0.766044443118978,
           0.6427876096865394,
           0.5000000000000001,
           0.3420201433256688,
           0.17364817766693041,
           6.123233995736766e-17
          ],
          [
           1,
           0.984807753012208,
           0.9396926207859084,
           0.8660254037844387,
           0.766044443118978,
           0.6427876096865394,
           0.5000000000000001,
           0.3420201433256688,
           0.17364817766693041,
           6.123233995736766e-17
          ],
          [
           1,
           0.984807753012208,
           0.9396926207859084,
           0.8660254037844387,
           0.766044443118978,
           0.6427876096865394,
           0.5000000000000001,
           0.3420201433256688,
           0.17364817766693041,
           6.123233995736766e-17
          ],
          [
           1,
           0.984807753012208,
           0.9396926207859084,
           0.8660254037844387,
           0.766044443118978,
           0.6427876096865394,
           0.5000000000000001,
           0.3420201433256688,
           0.17364817766693041,
           6.123233995736766e-17
          ],
          [
           1,
           0.984807753012208,
           0.9396926207859084,
           0.8660254037844387,
           0.766044443118978,
           0.6427876096865394,
           0.5000000000000001,
           0.3420201433256688,
           0.17364817766693041,
           6.123233995736766e-17
          ],
          [
           1,
           0.984807753012208,
           0.9396926207859084,
           0.8660254037844387,
           0.766044443118978,
           0.6427876096865394,
           0.5000000000000001,
           0.3420201433256688,
           0.17364817766693041,
           6.123233995736766e-17
          ],
          [
           1,
           0.984807753012208,
           0.9396926207859084,
           0.8660254037844387,
           0.766044443118978,
           0.6427876096865394,
           0.5000000000000001,
           0.3420201433256688,
           0.17364817766693041,
           6.123233995736766e-17
          ]
         ]
        },
        {
         "marker": {
          "opacity": 0.8,
          "size": 4
         },
         "name": "Nadir Point",
         "type": "scatter3d",
         "x": [
          1
         ],
         "y": [
          1
         ],
         "z": [
          1
         ]
        },
        {
         "marker": {
          "opacity": 0.8,
          "size": 4
         },
         "name": "Reference Point",
         "type": "scatter3d",
         "x": [
          0.8
         ],
         "y": [
          0.9
         ],
         "z": [
          0.4
         ]
        },
        {
         "line": {
          "width": 10
         },
         "marker": {
          "opacity": 0.8,
          "size": 2
         },
         "name": "STOM",
         "type": "scatter3d",
         "x": [
          0,
          0.8,
          80
         ],
         "y": [
          0,
          0.9,
          90
         ],
         "z": [
          0,
          0.4,
          40
         ]
        },
        {
         "line": {
          "width": 10
         },
         "marker": {
          "opacity": 0.8,
          "size": 2
         },
         "name": "ASF",
         "type": "scatter3d",
         "x": [
          -0.19999999999999996,
          1.8
         ],
         "y": [
          -0.09999999999999998,
          1.9
         ],
         "z": [
          -0.6,
          1.4
         ]
        },
        {
         "line": {
          "width": 10
         },
         "marker": {
          "opacity": 0.8,
          "size": 2
         },
         "name": "AUG",
         "type": "scatter3d",
         "x": [
          -1,
          0.8,
          1
         ],
         "y": [
          0,
          0.9,
          1
         ],
         "z": [
          -5,
          0.4,
          1
         ]
        },
        {
         "marker": {
          "opacity": 0.8,
          "size": 4
         },
         "name": "Ideal Point",
         "type": "scatter3d",
         "x": [
          0
         ],
         "y": [
          0
         ],
         "z": [
          0
         ]
        }
       ],
       "layout": {
        "margin": {
         "b": 0,
         "l": 0,
         "r": 0,
         "t": 0
        },
        "scene": {
         "aspectratio": {
          "x": 1,
          "y": 1,
          "z": 1
         },
         "xaxis": {
          "range": [
           0,
           1.1
          ]
         },
         "yaxis": {
          "range": [
           0,
           1.1
          ]
         },
         "zaxis": {
          "range": [
           0,
           1.1
          ]
         }
        },
        "template": {
         "data": {
          "bar": [
           {
            "error_x": {
             "color": "#2a3f5f"
            },
            "error_y": {
             "color": "#2a3f5f"
            },
            "marker": {
             "line": {
              "color": "#E5ECF6",
              "width": 0.5
             }
            },
            "type": "bar"
           }
          ],
          "barpolar": [
           {
            "marker": {
             "line": {
              "color": "#E5ECF6",
              "width": 0.5
             }
            },
            "type": "barpolar"
           }
          ],
          "carpet": [
           {
            "aaxis": {
             "endlinecolor": "#2a3f5f",
             "gridcolor": "white",
             "linecolor": "white",
             "minorgridcolor": "white",
             "startlinecolor": "#2a3f5f"
            },
            "baxis": {
             "endlinecolor": "#2a3f5f",
             "gridcolor": "white",
             "linecolor": "white",
             "minorgridcolor": "white",
             "startlinecolor": "#2a3f5f"
            },
            "type": "carpet"
           }
          ],
          "choropleth": [
           {
            "colorbar": {
             "outlinewidth": 0,
             "ticks": ""
            },
            "type": "choropleth"
           }
          ],
          "contour": [
           {
            "colorbar": {
             "outlinewidth": 0,
             "ticks": ""
            },
            "colorscale": [
             [
              0,
              "#0d0887"
             ],
             [
              0.1111111111111111,
              "#46039f"
             ],
             [
              0.2222222222222222,
              "#7201a8"
             ],
             [
              0.3333333333333333,
              "#9c179e"
             ],
             [
              0.4444444444444444,
              "#bd3786"
             ],
             [
              0.5555555555555556,
              "#d8576b"
             ],
             [
              0.6666666666666666,
              "#ed7953"
             ],
             [
              0.7777777777777778,
              "#fb9f3a"
             ],
             [
              0.8888888888888888,
              "#fdca26"
             ],
             [
              1,
              "#f0f921"
             ]
            ],
            "type": "contour"
           }
          ],
          "contourcarpet": [
           {
            "colorbar": {
             "outlinewidth": 0,
             "ticks": ""
            },
            "type": "contourcarpet"
           }
          ],
          "heatmap": [
           {
            "colorbar": {
             "outlinewidth": 0,
             "ticks": ""
            },
            "colorscale": [
             [
              0,
              "#0d0887"
             ],
             [
              0.1111111111111111,
              "#46039f"
             ],
             [
              0.2222222222222222,
              "#7201a8"
             ],
             [
              0.3333333333333333,
              "#9c179e"
             ],
             [
              0.4444444444444444,
              "#bd3786"
             ],
             [
              0.5555555555555556,
              "#d8576b"
             ],
             [
              0.6666666666666666,
              "#ed7953"
             ],
             [
              0.7777777777777778,
              "#fb9f3a"
             ],
             [
              0.8888888888888888,
              "#fdca26"
             ],
             [
              1,
              "#f0f921"
             ]
            ],
            "type": "heatmap"
           }
          ],
          "heatmapgl": [
           {
            "colorbar": {
             "outlinewidth": 0,
             "ticks": ""
            },
            "colorscale": [
             [
              0,
              "#0d0887"
             ],
             [
              0.1111111111111111,
              "#46039f"
             ],
             [
              0.2222222222222222,
              "#7201a8"
             ],
             [
              0.3333333333333333,
              "#9c179e"
             ],
             [
              0.4444444444444444,
              "#bd3786"
             ],
             [
              0.5555555555555556,
              "#d8576b"
             ],
             [
              0.6666666666666666,
              "#ed7953"
             ],
             [
              0.7777777777777778,
              "#fb9f3a"
             ],
             [
              0.8888888888888888,
              "#fdca26"
             ],
             [
              1,
              "#f0f921"
             ]
            ],
            "type": "heatmapgl"
           }
          ],
          "histogram": [
           {
            "marker": {
             "colorbar": {
              "outlinewidth": 0,
              "ticks": ""
             }
            },
            "type": "histogram"
           }
          ],
          "histogram2d": [
           {
            "colorbar": {
             "outlinewidth": 0,
             "ticks": ""
            },
            "colorscale": [
             [
              0,
              "#0d0887"
             ],
             [
              0.1111111111111111,
              "#46039f"
             ],
             [
              0.2222222222222222,
              "#7201a8"
             ],
             [
              0.3333333333333333,
              "#9c179e"
             ],
             [
              0.4444444444444444,
              "#bd3786"
             ],
             [
              0.5555555555555556,
              "#d8576b"
             ],
             [
              0.6666666666666666,
              "#ed7953"
             ],
             [
              0.7777777777777778,
              "#fb9f3a"
             ],
             [
              0.8888888888888888,
              "#fdca26"
             ],
             [
              1,
              "#f0f921"
             ]
            ],
            "type": "histogram2d"
           }
          ],
          "histogram2dcontour": [
           {
            "colorbar": {
             "outlinewidth": 0,
             "ticks": ""
            },
            "colorscale": [
             [
              0,
              "#0d0887"
             ],
             [
              0.1111111111111111,
              "#46039f"
             ],
             [
              0.2222222222222222,
              "#7201a8"
             ],
             [
              0.3333333333333333,
              "#9c179e"
             ],
             [
              0.4444444444444444,
              "#bd3786"
             ],
             [
              0.5555555555555556,
              "#d8576b"
             ],
             [
              0.6666666666666666,
              "#ed7953"
             ],
             [
              0.7777777777777778,
              "#fb9f3a"
             ],
             [
              0.8888888888888888,
              "#fdca26"
             ],
             [
              1,
              "#f0f921"
             ]
            ],
            "type": "histogram2dcontour"
           }
          ],
          "mesh3d": [
           {
            "colorbar": {
             "outlinewidth": 0,
             "ticks": ""
            },
            "type": "mesh3d"
           }
          ],
          "parcoords": [
           {
            "line": {
             "colorbar": {
              "outlinewidth": 0,
              "ticks": ""
             }
            },
            "type": "parcoords"
           }
          ],
          "pie": [
           {
            "automargin": true,
            "type": "pie"
           }
          ],
          "scatter": [
           {
            "marker": {
             "colorbar": {
              "outlinewidth": 0,
              "ticks": ""
             }
            },
            "type": "scatter"
           }
          ],
          "scatter3d": [
           {
            "line": {
             "colorbar": {
              "outlinewidth": 0,
              "ticks": ""
             }
            },
            "marker": {
             "colorbar": {
              "outlinewidth": 0,
              "ticks": ""
             }
            },
            "type": "scatter3d"
           }
          ],
          "scattercarpet": [
           {
            "marker": {
             "colorbar": {
              "outlinewidth": 0,
              "ticks": ""
             }
            },
            "type": "scattercarpet"
           }
          ],
          "scattergeo": [
           {
            "marker": {
             "colorbar": {
              "outlinewidth": 0,
              "ticks": ""
             }
            },
            "type": "scattergeo"
           }
          ],
          "scattergl": [
           {
            "marker": {
             "colorbar": {
              "outlinewidth": 0,
              "ticks": ""
             }
            },
            "type": "scattergl"
           }
          ],
          "scattermapbox": [
           {
            "marker": {
             "colorbar": {
              "outlinewidth": 0,
              "ticks": ""
             }
            },
            "type": "scattermapbox"
           }
          ],
          "scatterpolar": [
           {
            "marker": {
             "colorbar": {
              "outlinewidth": 0,
              "ticks": ""
             }
            },
            "type": "scatterpolar"
           }
          ],
          "scatterpolargl": [
           {
            "marker": {
             "colorbar": {
              "outlinewidth": 0,
              "ticks": ""
             }
            },
            "type": "scatterpolargl"
           }
          ],
          "scatterternary": [
           {
            "marker": {
             "colorbar": {
              "outlinewidth": 0,
              "ticks": ""
             }
            },
            "type": "scatterternary"
           }
          ],
          "surface": [
           {
            "colorbar": {
             "outlinewidth": 0,
             "ticks": ""
            },
            "colorscale": [
             [
              0,
              "#0d0887"
             ],
             [
              0.1111111111111111,
              "#46039f"
             ],
             [
              0.2222222222222222,
              "#7201a8"
             ],
             [
              0.3333333333333333,
              "#9c179e"
             ],
             [
              0.4444444444444444,
              "#bd3786"
             ],
             [
              0.5555555555555556,
              "#d8576b"
             ],
             [
              0.6666666666666666,
              "#ed7953"
             ],
             [
              0.7777777777777778,
              "#fb9f3a"
             ],
             [
              0.8888888888888888,
              "#fdca26"
             ],
             [
              1,
              "#f0f921"
             ]
            ],
            "type": "surface"
           }
          ],
          "table": [
           {
            "cells": {
             "fill": {
              "color": "#EBF0F8"
             },
             "line": {
              "color": "white"
             }
            },
            "header": {
             "fill": {
              "color": "#C8D4E3"
             },
             "line": {
              "color": "white"
             }
            },
            "type": "table"
           }
          ]
         },
         "layout": {
          "annotationdefaults": {
           "arrowcolor": "#2a3f5f",
           "arrowhead": 0,
           "arrowwidth": 1
          },
          "coloraxis": {
           "colorbar": {
            "outlinewidth": 0,
            "ticks": ""
           }
          },
          "colorscale": {
           "diverging": [
            [
             0,
             "#8e0152"
            ],
            [
             0.1,
             "#c51b7d"
            ],
            [
             0.2,
             "#de77ae"
            ],
            [
             0.3,
             "#f1b6da"
            ],
            [
             0.4,
             "#fde0ef"
            ],
            [
             0.5,
             "#f7f7f7"
            ],
            [
             0.6,
             "#e6f5d0"
            ],
            [
             0.7,
             "#b8e186"
            ],
            [
             0.8,
             "#7fbc41"
            ],
            [
             0.9,
             "#4d9221"
            ],
            [
             1,
             "#276419"
            ]
           ],
           "sequential": [
            [
             0,
             "#0d0887"
            ],
            [
             0.1111111111111111,
             "#46039f"
            ],
            [
             0.2222222222222222,
             "#7201a8"
            ],
            [
             0.3333333333333333,
             "#9c179e"
            ],
            [
             0.4444444444444444,
             "#bd3786"
            ],
            [
             0.5555555555555556,
             "#d8576b"
            ],
            [
             0.6666666666666666,
             "#ed7953"
            ],
            [
             0.7777777777777778,
             "#fb9f3a"
            ],
            [
             0.8888888888888888,
             "#fdca26"
            ],
            [
             1,
             "#f0f921"
            ]
           ],
           "sequentialminus": [
            [
             0,
             "#0d0887"
            ],
            [
             0.1111111111111111,
             "#46039f"
            ],
            [
             0.2222222222222222,
             "#7201a8"
            ],
            [
             0.3333333333333333,
             "#9c179e"
            ],
            [
             0.4444444444444444,
             "#bd3786"
            ],
            [
             0.5555555555555556,
             "#d8576b"
            ],
            [
             0.6666666666666666,
             "#ed7953"
            ],
            [
             0.7777777777777778,
             "#fb9f3a"
            ],
            [
             0.8888888888888888,
             "#fdca26"
            ],
            [
             1,
             "#f0f921"
            ]
           ]
          },
          "colorway": [
           "#636efa",
           "#EF553B",
           "#00cc96",
           "#ab63fa",
           "#FFA15A",
           "#19d3f3",
           "#FF6692",
           "#B6E880",
           "#FF97FF",
           "#FECB52"
          ],
          "font": {
           "color": "#2a3f5f"
          },
          "geo": {
           "bgcolor": "white",
           "lakecolor": "white",
           "landcolor": "#E5ECF6",
           "showlakes": true,
           "showland": true,
           "subunitcolor": "white"
          },
          "hoverlabel": {
           "align": "left"
          },
          "hovermode": "closest",
          "mapbox": {
           "style": "light"
          },
          "paper_bgcolor": "white",
          "plot_bgcolor": "#E5ECF6",
          "polar": {
           "angularaxis": {
            "gridcolor": "white",
            "linecolor": "white",
            "ticks": ""
           },
           "bgcolor": "#E5ECF6",
           "radialaxis": {
            "gridcolor": "white",
            "linecolor": "white",
            "ticks": ""
           }
          },
          "scene": {
           "xaxis": {
            "backgroundcolor": "#E5ECF6",
            "gridcolor": "white",
            "gridwidth": 2,
            "linecolor": "white",
            "showbackground": true,
            "ticks": "",
            "zerolinecolor": "white"
           },
           "yaxis": {
            "backgroundcolor": "#E5ECF6",
            "gridcolor": "white",
            "gridwidth": 2,
            "linecolor": "white",
            "showbackground": true,
            "ticks": "",
            "zerolinecolor": "white"
           },
           "zaxis": {
            "backgroundcolor": "#E5ECF6",
            "gridcolor": "white",
            "gridwidth": 2,
            "linecolor": "white",
            "showbackground": true,
            "ticks": "",
            "zerolinecolor": "white"
           }
          },
          "shapedefaults": {
           "line": {
            "color": "#2a3f5f"
           }
          },
          "ternary": {
           "aaxis": {
            "gridcolor": "white",
            "linecolor": "white",
            "ticks": ""
           },
           "baxis": {
            "gridcolor": "white",
            "linecolor": "white",
            "ticks": ""
           },
           "bgcolor": "#E5ECF6",
           "caxis": {
            "gridcolor": "white",
            "linecolor": "white",
            "ticks": ""
           }
          },
          "title": {
           "x": 0.05
          },
          "xaxis": {
           "automargin": true,
           "gridcolor": "white",
           "linecolor": "white",
           "ticks": "",
           "title": {
            "standoff": 15
           },
           "zerolinecolor": "white",
           "zerolinewidth": 2
          },
          "yaxis": {
           "automargin": true,
           "gridcolor": "white",
           "linecolor": "white",
           "ticks": "",
           "title": {
            "standoff": 15
           },
           "zerolinecolor": "white",
           "zerolinewidth": 2
          }
         }
        }
       }
      },
      "text/html": [
       "<div>\n",
       "        \n",
       "        \n",
       "            <div id=\"f130c96a-2de6-4613-b1a5-72d7e80d3d26\" class=\"plotly-graph-div\" style=\"height:525px; width:100%;\"></div>\n",
       "            <script type=\"text/javascript\">\n",
       "                require([\"plotly\"], function(Plotly) {\n",
       "                    window.PLOTLYENV=window.PLOTLYENV || {};\n",
       "                    \n",
       "                if (document.getElementById(\"f130c96a-2de6-4613-b1a5-72d7e80d3d26\")) {\n",
       "                    Plotly.newPlot(\n",
       "                        'f130c96a-2de6-4613-b1a5-72d7e80d3d26',\n",
       "                        [{\"marker\": {\"opacity\": 0.8, \"size\": 4}, \"mode\": \"markers\", \"name\": \"NIMBUS-EA\", \"type\": \"scatter3d\", \"x\": [0.6507638754445666, 0.6515563356133452, 0.6549016655517085, 0.6502183006139564, 0.6589264394139889, 0.6323044477154749, 0.6598809094312916, 0.6308249783482955, 0.6441980786866779, 0.6540799146809534, 0.6362446004855524, 0.6605557018542252, 0.6620481069005012, 0.6397271907122352, 0.6343156338219846, 0.6508979923353244, 0.6633326485038685, 0.6524216650589473, 0.6373690595466263, 0.6552708192141161, 0.6344039342916977, 0.6358215579441115, 0.6600517933454872, 0.6641763055502762, 0.6637227716842096, 0.659811646786557, 0.634762496133069, 0.6601344493936192, 0.6633606772467603, 0.6598351954457949, 0.6470162668601398, 0.6356843684580098, 0.6524844684584742, 0.6540157894442882, 0.6458963950506685, 0.6536878060441375, 0.6522254650470388, 0.6378643370181056, 0.66345082687631, 0.6521051410432295, 0.6628513329912838, 0.6515709640308389, 0.6482090312395721, 0.6590528153979189, 0.6548989854680612, 0.6628333256759569, 0.6361276546338837, 0.6447474321737822, 0.6609405905889932, 0.6389056173996867, 0.6614716609226796, 0.6517664501289747, 0.6365869102422725, 0.6636951651679325, 0.6448012522260054, 0.6580688215276941, 0.6563759850708925, 0.631312772554376, 0.6352880927867536, 0.6312355303936587, 0.6596182651203171, 0.660023997182449, 0.6562892141303741, 0.6630051612379997, 0.6558563744934082, 0.6592258570344538, 0.6637860363864013, 0.6423830961363914, 0.6515405667632305, 0.6588068751435315, 0.658212892318742, 0.6572017476367269, 0.6571468022228494, 0.6610798378144189, 0.6639304144772799, 0.6476887505755087, 0.6434678407999127, 0.6331312682301847, 0.6603394100531808, 0.6451481476505181, 0.6516355076529595, 0.6597150075039148, 0.6601822332729057, 0.6625995726632062, 0.6367125180881514, 0.6518770905780513, 0.6500687050530375, 0.6649246961807418, 0.6340774595072436, 0.660562341945327, 0.6604738275287227, 0.6323847030963592, 0.652032872719727, 0.6529602711270389, 0.6317776663675699, 0.6445893111211128, 0.6635881683413009, 0.6380871380081333, 0.6457794207164451, 0.6574272764841841, 0.6559144265502832, 0.660051357670487, 0.6599464662373397, 0.6340693146493658, 0.6569524795681048], \"y\": [0.7497693627521556, 0.7493205722860966, 0.7479993521917532, 0.7482449497367926, 0.741541530122904, 0.711515947851875, 0.7431287719029359, 0.7097894048605521, 0.7245825858634583, 0.753658317113972, 0.7160013798274223, 0.7432085639391175, 0.7448348005774243, 0.7199329374043315, 0.7137817826724115, 0.7328932576571303, 0.7460840980250328, 0.7485748056106207, 0.7169920301543413, 0.7554281519800798, 0.7375751149374004, 0.7155714488792081, 0.7497186781493009, 0.7476786795537215, 0.7474203241105971, 0.7430497163887008, 0.7145588024081801, 0.7488131509669698, 0.7462973695508258, 0.7492792909162957, 0.7343774262631679, 0.7155605337549357, 0.734126412501444, 0.7536596246450806, 0.7270147295717646, 0.7355271797551014, 0.7502289707138076, 0.718304993010764, 0.747076064779059, 0.7342414533767317, 0.7465487688771028, 0.7392260254033154, 0.7466858538812184, 0.7418081184209026, 0.7479900805237153, 0.7459527912469149, 0.7156047031362054, 0.7255257313098037, 0.7502626233961811, 0.719495438161106, 0.7435557235788632, 0.7502551546423178, 0.7168412723284414, 0.746600626462953, 0.7260868448043455, 0.7481364732914191, 0.7392679783378563, 0.7100892545819741, 0.7147732352865869, 0.7102457083853296, 0.7438307537335334, 0.7429120170023645, 0.7451526528888485, 0.7463493227064649, 0.7538149948759155, 0.742506736395249, 0.7472384175698533, 0.7286489883199027, 0.7513258355474127, 0.7504778073820216, 0.7406930695827605, 0.7461337619567759, 0.7461517399452527, 0.7435555347759661, 0.7476087393307017, 0.7289666749010668, 0.7237571500115348, 0.7131259090336072, 0.7492555838989257, 0.7259821237090349, 0.7482253876767765, 0.7437982306401527, 0.7489079284106084, 0.7457080187721481, 0.7165565819305915, 0.750531329107626, 0.7483913179149121, 0.7473996169294452, 0.7133706080299036, 0.7431983888808953, 0.7434151636021088, 0.7114886697426652, 0.7584460076211113, 0.7476591256540431, 0.7106129930512342, 0.7259901091452483, 0.7466173650525152, 0.7180829481854135, 0.74302689889074, 0.7397381195995292, 0.7554960660285561, 0.7497200651681754, 0.7486605581926021, 0.7135922366213552, 0.7392541054764834], \"z\": [0.12004378720348981, 0.1184090036921122, 0.11223727171327988, 0.13393341012935653, 0.12649964566878225, 0.30662267621909167, 0.11190509602028356, 0.31355677945922605, 0.24607169546504642, 0.06644948256763732, 0.287502249500952, 0.10657506503569317, 0.08455466678122926, 0.26954627213103494, 0.2970019066499148, 0.1993467047878063, 0.06104348769216334, 0.1186069610040237, 0.2826603913233027, 0.012014143536963092, 0.23247295100081314, 0.2895627114177626, 0.04759288972784459, 0.012807740419233476, 0.03453661869987472, 0.11196364183232244, 0.29510704959070533, 0.061081826724996395, 0.05775028780874432, 0.0633433307170783, 0.20683906612728473, 0.2897297327048197, 0.1905823640896662, 0.06691242516242363, 0.23555746018523965, 0.17807550495774477, 0.10848635441682009, 0.27784771388734797, 0.04221500949644594, 0.19057916429471342, 0.06005189817541297, 0.17078298158281013, 0.15006946214356395, 0.12413597330796966, 0.11224276926084836, 0.06643687651905662, 0.28860620950869037, 0.24083158248659056, 0.022711025029661817, 0.272303682706729, 0.1028497962972239, 0.11348118562233304, 0.2845065421314791, 0.04649074721619829, 0.24005576317359748, 0.09700973288983501, 0.15067052679836795, 0.3118827318740589, 0.29274348256380744, 0.31170161875872643, 0.10854717969135559, 0.11179451265403284, 0.11861909822020658, 0.05886902813185924, 0.04126227124433299, 0.11966110678622331, 0.03406014889254937, 0.23969984168537445, 0.1073715175859886, 0.05789038287588334, 0.1353418033133433, 0.10672789144203454, 0.10687180408050485, 0.10291999871661352, 0.033075482395350395, 0.2237910420205311, 0.25037382258862784, 0.3057783682138434, 0.05534533932892022, 0.23936822326311386, 0.12995272925405654, 0.10814572558116405, 0.05905845009247099, 0.07095835406676444, 0.28522749975048434, 0.1093840275002338, 0.1338746150321542, 0.010890970728129588, 0.2984977962037932, 0.10658064388622462, 0.10569537461677482, 0.30687433171834255, 0.0, 0.12189518948886664, 0.30974383566626673, 0.24094407226202366, 0.04720165846209577, 0.2782380004990941, 0.17796944525932554, 0.14781860297488447, 0.009523281919255897, 0.04760943620947259, 0.06328157923410149, 0.2979818899331036, 0.14873756355368362]}, {\"colorscale\": [[0.0, \"red\"], [1.0, \"red\"]], \"opacity\": 0.5, \"type\": \"surface\", \"x\": [[0.0, 0.17364817766693033, 0.3420201433256687, 0.49999999999999994, 0.6427876096865393, 0.766044443118978, 0.8660254037844386, 0.9396926207859083, 0.984807753012208, 1.0], [0.0, 0.17101007166283433, 0.33682408883346515, 0.49240387650610395, 0.633022221559489, 0.7544065067354889, 0.8528685319524432, 0.9254165783983233, 0.9698463103929541, 0.984807753012208], [0.0, 0.16317591116653482, 0.3213938048432697, 0.46984631039295416, 0.6040227735550536, 0.7198463103929542, 0.8137976813493737, 0.883022221559489, 0.9254165783983234, 0.9396926207859084], [0.0, 0.1503837331804353, 0.29619813272602386, 0.4330127018922193, 0.5566703992264194, 0.6634139481689384, 0.75, 0.8137976813493737, 0.8528685319524433, 0.8660254037844387], [0.0, 0.133022221559489, 0.2620026302293849, 0.38302222155948895, 0.49240387650610395, 0.5868240888334652, 0.6634139481689384, 0.7198463103929541, 0.7544065067354889, 0.766044443118978], [0.0, 0.11161889704894966, 0.2198463103929542, 0.3213938048432696, 0.4131759111665348, 0.49240387650610407, 0.5566703992264194, 0.6040227735550536, 0.6330222215594891, 0.6427876096865394], [0.0, 0.08682408883346518, 0.17101007166283438, 0.25, 0.3213938048432697, 0.3830222215594891, 0.4330127018922194, 0.46984631039295427, 0.4924038765061041, 0.5000000000000001], [0.0, 0.05939117461388472, 0.11697777844051101, 0.17101007166283438, 0.21984631039295421, 0.262002630229385, 0.2961981327260239, 0.32139380484326974, 0.33682408883346526, 0.3420201433256688], [0.0, 0.030153689607045817, 0.059391174613884726, 0.0868240888334652, 0.11161889704894969, 0.13302222155948906, 0.15038373318043535, 0.16317591116653488, 0.1710100716628344, 0.17364817766693041], [0.0, 1.0632884247878856e-17, 2.094269368838496e-17, 3.0616169978683824e-17, 3.9359389436709925e-17, 4.6906693763513654e-17, 5.302876193624534e-17, 5.753957801139251e-17, 6.030208312509488e-17, 6.123233995736766e-17]], \"y\": [[0.0, 0.0, 0.0, 0.0, 0.0, 0.0, 0.0, 0.0, 0.0, 0.0], [0.0, 0.030153689607045803, 0.0593911746138847, 0.08682408883346515, 0.11161889704894963, 0.133022221559489, 0.15038373318043527, 0.1631759111665348, 0.17101007166283433, 0.17364817766693033], [0.0, 0.0593911746138847, 0.11697777844051097, 0.17101007166283433, 0.21984631039295416, 0.2620026302293849, 0.2961981327260238, 0.3213938048432696, 0.33682408883346515, 0.3420201433256687], [0.0, 0.08682408883346515, 0.17101007166283433, 0.24999999999999994, 0.32139380484326957, 0.38302222155948895, 0.43301270189221924, 0.4698463103929541, 0.49240387650610395, 0.49999999999999994], [0.0, 0.11161889704894963, 0.21984631039295416, 0.32139380484326957, 0.41317591116653474, 0.49240387650610395, 0.5566703992264193, 0.6040227735550536, 0.633022221559489, 0.6427876096865393], [0.0, 0.133022221559489, 0.2620026302293849, 0.38302222155948895, 0.49240387650610395, 0.5868240888334652, 0.6634139481689384, 0.7198463103929541, 0.7544065067354889, 0.766044443118978], [0.0, 0.15038373318043527, 0.2961981327260238, 0.43301270189221924, 0.5566703992264193, 0.6634139481689384, 0.7499999999999999, 0.8137976813493736, 0.8528685319524432, 0.8660254037844386], [0.0, 0.1631759111665348, 0.3213938048432696, 0.4698463103929541, 0.6040227735550536, 0.7198463103929541, 0.8137976813493736, 0.8830222215594888, 0.9254165783983233, 0.9396926207859083], [0.0, 0.17101007166283433, 0.33682408883346515, 0.49240387650610395, 0.633022221559489, 0.7544065067354889, 0.8528685319524432, 0.9254165783983233, 0.9698463103929541, 0.984807753012208], [0.0, 0.17364817766693033, 0.3420201433256687, 0.49999999999999994, 0.6427876096865393, 0.766044443118978, 0.8660254037844386, 0.9396926207859083, 0.984807753012208, 1.0]], \"z\": [[1.0, 0.984807753012208, 0.9396926207859084, 0.8660254037844387, 0.766044443118978, 0.6427876096865394, 0.5000000000000001, 0.3420201433256688, 0.17364817766693041, 6.123233995736766e-17], [1.0, 0.984807753012208, 0.9396926207859084, 0.8660254037844387, 0.766044443118978, 0.6427876096865394, 0.5000000000000001, 0.3420201433256688, 0.17364817766693041, 6.123233995736766e-17], [1.0, 0.984807753012208, 0.9396926207859084, 0.8660254037844387, 0.766044443118978, 0.6427876096865394, 0.5000000000000001, 0.3420201433256688, 0.17364817766693041, 6.123233995736766e-17], [1.0, 0.984807753012208, 0.9396926207859084, 0.8660254037844387, 0.766044443118978, 0.6427876096865394, 0.5000000000000001, 0.3420201433256688, 0.17364817766693041, 6.123233995736766e-17], [1.0, 0.984807753012208, 0.9396926207859084, 0.8660254037844387, 0.766044443118978, 0.6427876096865394, 0.5000000000000001, 0.3420201433256688, 0.17364817766693041, 6.123233995736766e-17], [1.0, 0.984807753012208, 0.9396926207859084, 0.8660254037844387, 0.766044443118978, 0.6427876096865394, 0.5000000000000001, 0.3420201433256688, 0.17364817766693041, 6.123233995736766e-17], [1.0, 0.984807753012208, 0.9396926207859084, 0.8660254037844387, 0.766044443118978, 0.6427876096865394, 0.5000000000000001, 0.3420201433256688, 0.17364817766693041, 6.123233995736766e-17], [1.0, 0.984807753012208, 0.9396926207859084, 0.8660254037844387, 0.766044443118978, 0.6427876096865394, 0.5000000000000001, 0.3420201433256688, 0.17364817766693041, 6.123233995736766e-17], [1.0, 0.984807753012208, 0.9396926207859084, 0.8660254037844387, 0.766044443118978, 0.6427876096865394, 0.5000000000000001, 0.3420201433256688, 0.17364817766693041, 6.123233995736766e-17], [1.0, 0.984807753012208, 0.9396926207859084, 0.8660254037844387, 0.766044443118978, 0.6427876096865394, 0.5000000000000001, 0.3420201433256688, 0.17364817766693041, 6.123233995736766e-17]]}, {\"marker\": {\"opacity\": 0.8, \"size\": 4}, \"name\": \"Nadir Point\", \"type\": \"scatter3d\", \"x\": [1], \"y\": [1], \"z\": [1]}, {\"marker\": {\"opacity\": 0.8, \"size\": 4}, \"name\": \"Reference Point\", \"type\": \"scatter3d\", \"x\": [0.8], \"y\": [0.9], \"z\": [0.4]}, {\"line\": {\"width\": 10}, \"marker\": {\"opacity\": 0.8, \"size\": 2}, \"name\": \"STOM\", \"type\": \"scatter3d\", \"x\": [0, 0.8, 80.0], \"y\": [0, 0.9, 90.0], \"z\": [0, 0.4, 40.0]}, {\"line\": {\"width\": 10}, \"marker\": {\"opacity\": 0.8, \"size\": 2}, \"name\": \"ASF\", \"type\": \"scatter3d\", \"x\": [-0.19999999999999996, 1.8], \"y\": [-0.09999999999999998, 1.9], \"z\": [-0.6, 1.4]}, {\"line\": {\"width\": 10}, \"marker\": {\"opacity\": 0.8, \"size\": 2}, \"name\": \"AUG\", \"type\": \"scatter3d\", \"x\": [-1.0, 0.8, 1], \"y\": [0.0, 0.9, 1], \"z\": [-5.0, 0.4, 1]}, {\"marker\": {\"opacity\": 0.8, \"size\": 4}, \"name\": \"Ideal Point\", \"type\": \"scatter3d\", \"x\": [0], \"y\": [0], \"z\": [0]}],\n",
       "                        {\"margin\": {\"b\": 0, \"l\": 0, \"r\": 0, \"t\": 0}, \"scene\": {\"aspectratio\": {\"x\": 1, \"y\": 1, \"z\": 1}, \"xaxis\": {\"range\": [0, 1.1]}, \"yaxis\": {\"range\": [0, 1.1]}, \"zaxis\": {\"range\": [0, 1.1]}}, \"template\": {\"data\": {\"bar\": [{\"error_x\": {\"color\": \"#2a3f5f\"}, \"error_y\": {\"color\": \"#2a3f5f\"}, \"marker\": {\"line\": {\"color\": \"#E5ECF6\", \"width\": 0.5}}, \"type\": \"bar\"}], \"barpolar\": [{\"marker\": {\"line\": {\"color\": \"#E5ECF6\", \"width\": 0.5}}, \"type\": \"barpolar\"}], \"carpet\": [{\"aaxis\": {\"endlinecolor\": \"#2a3f5f\", \"gridcolor\": \"white\", \"linecolor\": \"white\", \"minorgridcolor\": \"white\", \"startlinecolor\": \"#2a3f5f\"}, \"baxis\": {\"endlinecolor\": \"#2a3f5f\", \"gridcolor\": \"white\", \"linecolor\": \"white\", \"minorgridcolor\": \"white\", \"startlinecolor\": \"#2a3f5f\"}, \"type\": \"carpet\"}], \"choropleth\": [{\"colorbar\": {\"outlinewidth\": 0, \"ticks\": \"\"}, \"type\": \"choropleth\"}], \"contour\": [{\"colorbar\": {\"outlinewidth\": 0, \"ticks\": \"\"}, \"colorscale\": [[0.0, \"#0d0887\"], [0.1111111111111111, \"#46039f\"], [0.2222222222222222, \"#7201a8\"], [0.3333333333333333, \"#9c179e\"], [0.4444444444444444, \"#bd3786\"], [0.5555555555555556, \"#d8576b\"], [0.6666666666666666, \"#ed7953\"], [0.7777777777777778, \"#fb9f3a\"], [0.8888888888888888, \"#fdca26\"], [1.0, \"#f0f921\"]], \"type\": \"contour\"}], \"contourcarpet\": [{\"colorbar\": {\"outlinewidth\": 0, \"ticks\": \"\"}, \"type\": \"contourcarpet\"}], \"heatmap\": [{\"colorbar\": {\"outlinewidth\": 0, \"ticks\": \"\"}, \"colorscale\": [[0.0, \"#0d0887\"], [0.1111111111111111, \"#46039f\"], [0.2222222222222222, \"#7201a8\"], [0.3333333333333333, \"#9c179e\"], [0.4444444444444444, \"#bd3786\"], [0.5555555555555556, \"#d8576b\"], [0.6666666666666666, \"#ed7953\"], [0.7777777777777778, \"#fb9f3a\"], [0.8888888888888888, \"#fdca26\"], [1.0, \"#f0f921\"]], \"type\": \"heatmap\"}], \"heatmapgl\": [{\"colorbar\": {\"outlinewidth\": 0, \"ticks\": \"\"}, \"colorscale\": [[0.0, \"#0d0887\"], [0.1111111111111111, \"#46039f\"], [0.2222222222222222, \"#7201a8\"], [0.3333333333333333, \"#9c179e\"], [0.4444444444444444, \"#bd3786\"], [0.5555555555555556, \"#d8576b\"], [0.6666666666666666, \"#ed7953\"], [0.7777777777777778, \"#fb9f3a\"], [0.8888888888888888, \"#fdca26\"], [1.0, \"#f0f921\"]], \"type\": \"heatmapgl\"}], \"histogram\": [{\"marker\": {\"colorbar\": {\"outlinewidth\": 0, \"ticks\": \"\"}}, \"type\": \"histogram\"}], \"histogram2d\": [{\"colorbar\": {\"outlinewidth\": 0, \"ticks\": \"\"}, \"colorscale\": [[0.0, \"#0d0887\"], [0.1111111111111111, \"#46039f\"], [0.2222222222222222, \"#7201a8\"], [0.3333333333333333, \"#9c179e\"], [0.4444444444444444, \"#bd3786\"], [0.5555555555555556, \"#d8576b\"], [0.6666666666666666, \"#ed7953\"], [0.7777777777777778, \"#fb9f3a\"], [0.8888888888888888, \"#fdca26\"], [1.0, \"#f0f921\"]], \"type\": \"histogram2d\"}], \"histogram2dcontour\": [{\"colorbar\": {\"outlinewidth\": 0, \"ticks\": \"\"}, \"colorscale\": [[0.0, \"#0d0887\"], [0.1111111111111111, \"#46039f\"], [0.2222222222222222, \"#7201a8\"], [0.3333333333333333, \"#9c179e\"], [0.4444444444444444, \"#bd3786\"], [0.5555555555555556, \"#d8576b\"], [0.6666666666666666, \"#ed7953\"], [0.7777777777777778, \"#fb9f3a\"], [0.8888888888888888, \"#fdca26\"], [1.0, \"#f0f921\"]], \"type\": \"histogram2dcontour\"}], \"mesh3d\": [{\"colorbar\": {\"outlinewidth\": 0, \"ticks\": \"\"}, \"type\": \"mesh3d\"}], \"parcoords\": [{\"line\": {\"colorbar\": {\"outlinewidth\": 0, \"ticks\": \"\"}}, \"type\": \"parcoords\"}], \"pie\": [{\"automargin\": true, \"type\": \"pie\"}], \"scatter\": [{\"marker\": {\"colorbar\": {\"outlinewidth\": 0, \"ticks\": \"\"}}, \"type\": \"scatter\"}], \"scatter3d\": [{\"line\": {\"colorbar\": {\"outlinewidth\": 0, \"ticks\": \"\"}}, \"marker\": {\"colorbar\": {\"outlinewidth\": 0, \"ticks\": \"\"}}, \"type\": \"scatter3d\"}], \"scattercarpet\": [{\"marker\": {\"colorbar\": {\"outlinewidth\": 0, \"ticks\": \"\"}}, \"type\": \"scattercarpet\"}], \"scattergeo\": [{\"marker\": {\"colorbar\": {\"outlinewidth\": 0, \"ticks\": \"\"}}, \"type\": \"scattergeo\"}], \"scattergl\": [{\"marker\": {\"colorbar\": {\"outlinewidth\": 0, \"ticks\": \"\"}}, \"type\": \"scattergl\"}], \"scattermapbox\": [{\"marker\": {\"colorbar\": {\"outlinewidth\": 0, \"ticks\": \"\"}}, \"type\": \"scattermapbox\"}], \"scatterpolar\": [{\"marker\": {\"colorbar\": {\"outlinewidth\": 0, \"ticks\": \"\"}}, \"type\": \"scatterpolar\"}], \"scatterpolargl\": [{\"marker\": {\"colorbar\": {\"outlinewidth\": 0, \"ticks\": \"\"}}, \"type\": \"scatterpolargl\"}], \"scatterternary\": [{\"marker\": {\"colorbar\": {\"outlinewidth\": 0, \"ticks\": \"\"}}, \"type\": \"scatterternary\"}], \"surface\": [{\"colorbar\": {\"outlinewidth\": 0, \"ticks\": \"\"}, \"colorscale\": [[0.0, \"#0d0887\"], [0.1111111111111111, \"#46039f\"], [0.2222222222222222, \"#7201a8\"], [0.3333333333333333, \"#9c179e\"], [0.4444444444444444, \"#bd3786\"], [0.5555555555555556, \"#d8576b\"], [0.6666666666666666, \"#ed7953\"], [0.7777777777777778, \"#fb9f3a\"], [0.8888888888888888, \"#fdca26\"], [1.0, \"#f0f921\"]], \"type\": \"surface\"}], \"table\": [{\"cells\": {\"fill\": {\"color\": \"#EBF0F8\"}, \"line\": {\"color\": \"white\"}}, \"header\": {\"fill\": {\"color\": \"#C8D4E3\"}, \"line\": {\"color\": \"white\"}}, \"type\": \"table\"}]}, \"layout\": {\"annotationdefaults\": {\"arrowcolor\": \"#2a3f5f\", \"arrowhead\": 0, \"arrowwidth\": 1}, \"coloraxis\": {\"colorbar\": {\"outlinewidth\": 0, \"ticks\": \"\"}}, \"colorscale\": {\"diverging\": [[0, \"#8e0152\"], [0.1, \"#c51b7d\"], [0.2, \"#de77ae\"], [0.3, \"#f1b6da\"], [0.4, \"#fde0ef\"], [0.5, \"#f7f7f7\"], [0.6, \"#e6f5d0\"], [0.7, \"#b8e186\"], [0.8, \"#7fbc41\"], [0.9, \"#4d9221\"], [1, \"#276419\"]], \"sequential\": [[0.0, \"#0d0887\"], [0.1111111111111111, \"#46039f\"], [0.2222222222222222, \"#7201a8\"], [0.3333333333333333, \"#9c179e\"], [0.4444444444444444, \"#bd3786\"], [0.5555555555555556, \"#d8576b\"], [0.6666666666666666, \"#ed7953\"], [0.7777777777777778, \"#fb9f3a\"], [0.8888888888888888, \"#fdca26\"], [1.0, \"#f0f921\"]], \"sequentialminus\": [[0.0, \"#0d0887\"], [0.1111111111111111, \"#46039f\"], [0.2222222222222222, \"#7201a8\"], [0.3333333333333333, \"#9c179e\"], [0.4444444444444444, \"#bd3786\"], [0.5555555555555556, \"#d8576b\"], [0.6666666666666666, \"#ed7953\"], [0.7777777777777778, \"#fb9f3a\"], [0.8888888888888888, \"#fdca26\"], [1.0, \"#f0f921\"]]}, \"colorway\": [\"#636efa\", \"#EF553B\", \"#00cc96\", \"#ab63fa\", \"#FFA15A\", \"#19d3f3\", \"#FF6692\", \"#B6E880\", \"#FF97FF\", \"#FECB52\"], \"font\": {\"color\": \"#2a3f5f\"}, \"geo\": {\"bgcolor\": \"white\", \"lakecolor\": \"white\", \"landcolor\": \"#E5ECF6\", \"showlakes\": true, \"showland\": true, \"subunitcolor\": \"white\"}, \"hoverlabel\": {\"align\": \"left\"}, \"hovermode\": \"closest\", \"mapbox\": {\"style\": \"light\"}, \"paper_bgcolor\": \"white\", \"plot_bgcolor\": \"#E5ECF6\", \"polar\": {\"angularaxis\": {\"gridcolor\": \"white\", \"linecolor\": \"white\", \"ticks\": \"\"}, \"bgcolor\": \"#E5ECF6\", \"radialaxis\": {\"gridcolor\": \"white\", \"linecolor\": \"white\", \"ticks\": \"\"}}, \"scene\": {\"xaxis\": {\"backgroundcolor\": \"#E5ECF6\", \"gridcolor\": \"white\", \"gridwidth\": 2, \"linecolor\": \"white\", \"showbackground\": true, \"ticks\": \"\", \"zerolinecolor\": \"white\"}, \"yaxis\": {\"backgroundcolor\": \"#E5ECF6\", \"gridcolor\": \"white\", \"gridwidth\": 2, \"linecolor\": \"white\", \"showbackground\": true, \"ticks\": \"\", \"zerolinecolor\": \"white\"}, \"zaxis\": {\"backgroundcolor\": \"#E5ECF6\", \"gridcolor\": \"white\", \"gridwidth\": 2, \"linecolor\": \"white\", \"showbackground\": true, \"ticks\": \"\", \"zerolinecolor\": \"white\"}}, \"shapedefaults\": {\"line\": {\"color\": \"#2a3f5f\"}}, \"ternary\": {\"aaxis\": {\"gridcolor\": \"white\", \"linecolor\": \"white\", \"ticks\": \"\"}, \"baxis\": {\"gridcolor\": \"white\", \"linecolor\": \"white\", \"ticks\": \"\"}, \"bgcolor\": \"#E5ECF6\", \"caxis\": {\"gridcolor\": \"white\", \"linecolor\": \"white\", \"ticks\": \"\"}}, \"title\": {\"x\": 0.05}, \"xaxis\": {\"automargin\": true, \"gridcolor\": \"white\", \"linecolor\": \"white\", \"ticks\": \"\", \"title\": {\"standoff\": 15}, \"zerolinecolor\": \"white\", \"zerolinewidth\": 2}, \"yaxis\": {\"automargin\": true, \"gridcolor\": \"white\", \"linecolor\": \"white\", \"ticks\": \"\", \"title\": {\"standoff\": 15}, \"zerolinecolor\": \"white\", \"zerolinewidth\": 2}}}},\n",
       "                        {\"responsive\": true}\n",
       "                    ).then(function(){\n",
       "                            \n",
       "var gd = document.getElementById('f130c96a-2de6-4613-b1a5-72d7e80d3d26');\n",
       "var x = new MutationObserver(function (mutations, observer) {{\n",
       "        var display = window.getComputedStyle(gd).display;\n",
       "        if (!display || display === 'none') {{\n",
       "            console.log([gd, 'removed!']);\n",
       "            Plotly.purge(gd);\n",
       "            observer.disconnect();\n",
       "        }}\n",
       "}});\n",
       "\n",
       "// Listen for the removal of the full notebook cells\n",
       "var notebookContainer = gd.closest('#notebook-container');\n",
       "if (notebookContainer) {{\n",
       "    x.observe(notebookContainer, {childList: true});\n",
       "}}\n",
       "\n",
       "// Listen for the clearing of the current output cell\n",
       "var outputEl = gd.closest('.output');\n",
       "if (outputEl) {{\n",
       "    x.observe(outputEl, {childList: true});\n",
       "}}\n",
       "\n",
       "                        })\n",
       "                };\n",
       "                });\n",
       "            </script>\n",
       "        </div>"
      ]
     },
     "metadata": {},
     "output_type": "display_data"
    }
   ],
   "source": [
    "fig = plot_dtlz2(plot, response)\n",
    "fig"
   ]
  },
  {
   "cell_type": "code",
   "execution_count": 12,
   "metadata": {},
   "outputs": [],
   "source": [
    "def plot_dtlz2(plot, response):\n",
    "    # NIMBUSEA\n",
    "    obj = plot.content['data'].values\n",
    "    non_dom_id = nds(obj)[0][0]\n",
    "    fig = go.Figure(\n",
    "        go.Scatter3d(\n",
    "            x=obj[non_dom_id, 0],\n",
    "            y=obj[non_dom_id, 1],\n",
    "            z=obj[non_dom_id, 2],\n",
    "            name=\"NIMBUS-EA\",\n",
    "            mode='markers',\n",
    "            marker=dict(\n",
    "            size=4,\n",
    "            opacity=0.8\n",
    "        )\n",
    "        )\n",
    "    )\n",
    "\n",
    "    #True Front\n",
    "    phi = np.linspace(0, np.pi/2, 10)\n",
    "    theta = np.linspace(0, np.pi/2, 10)\n",
    "    phi, theta = np.meshgrid(phi, theta)\n",
    "    x = np.cos(theta)*np.sin(phi)\n",
    "    y = np.sin(theta)*np.sin(phi)\n",
    "    z = np.cos(phi)\n",
    "    fig = fig.add_trace(go.Surface(x=x, y=y, z=z, colorscale=[\"red\", \"red\"], opacity=0.5))\n",
    "\n",
    "    #Nadir Point\n",
    "    fig.add_trace(\n",
    "        go.Scatter3d(\n",
    "            x=[1],\n",
    "            y=[1],\n",
    "            z=[1],\n",
    "            name=\"Nadir Point\",\n",
    "            marker=dict(\n",
    "            size=4,\n",
    "            opacity=0.8\n",
    "        )\n",
    "        )\n",
    "    )\n",
    "\n",
    "\n",
    "\n",
    "    # Reference Point\n",
    "\n",
    "    fig.add_trace(\n",
    "        go.Scatter3d(\n",
    "            x=[response[0,0]],\n",
    "            y=[response[0,1]],\n",
    "            z=[response[0,2]],\n",
    "            name=\"Reference Point\",\n",
    "            marker=dict(\n",
    "            size=4,\n",
    "            opacity=0.8\n",
    "        )\n",
    "        )\n",
    "    )\n",
    "\n",
    "    # STOM\n",
    "\n",
    "    fig.add_trace(\n",
    "        go.Scatter3d(\n",
    "            x=[0, response[0,0],100*response[0,0]],\n",
    "            y=[0, response[0,1],100*response[0,1]],\n",
    "            z=[0, response[0,2],100*response[0,2]],\n",
    "            name=\"STOM\",\n",
    "            marker=dict(\n",
    "            size=2,\n",
    "            opacity=0.8\n",
    "        ),\n",
    "            line=dict(width=10)\n",
    "        )\n",
    "    )\n",
    "\n",
    "    #ASF\n",
    "\n",
    "    fig.add_trace(\n",
    "        go.Scatter3d(\n",
    "            x=[response[0,0]-1, response[0,0]+1],\n",
    "            y=[response[0,1]-1, response[0,1]+1],\n",
    "            z=[response[0,2]-1, response[0,2]+1],\n",
    "            name=\"ASF\",\n",
    "            marker=dict(\n",
    "            size=2,\n",
    "            opacity=0.8\n",
    "        ),\n",
    "            line=dict(width=10)\n",
    "        )\n",
    "    )\n",
    "    #AUG\n",
    "\n",
    "    fig.add_trace(\n",
    "        go.Scatter3d(\n",
    "            x=[10*response[0,0] - 9*1,response[0,0], 1],\n",
    "            y=[10*response[0,1] - 9*1,response[0,1], 1],\n",
    "            z=[10*response[0,2] - 9*1,response[0,2], 1],\n",
    "            name=\"AUG\",\n",
    "            marker=dict(\n",
    "            size=2,\n",
    "            opacity=0.8\n",
    "        ),\n",
    "            line=dict(width=10)\n",
    "        )\n",
    "    )\n",
    "\n",
    "    # Ideal Point\n",
    "    fig.add_trace(\n",
    "        go.Scatter3d(\n",
    "            x=[0],\n",
    "            y=[0],\n",
    "            z=[0],\n",
    "            name=\"Ideal Point\",\n",
    "            marker=dict(\n",
    "            size=4,\n",
    "            opacity=0.8\n",
    "        )\n",
    "        )\n",
    "    )\n",
    "\n",
    "    fig.update_layout(\n",
    "        scene = dict(\n",
    "            xaxis = dict(range=[0,1.1],),\n",
    "            yaxis = dict(range=[0,1.1],),\n",
    "            zaxis = dict(range=[0,1.1],),\n",
    "            aspectratio=dict(x=1,y=1,z=1))\n",
    "                     )\n",
    "    fig.update_layout(margin=dict(l=0, r=0, b=0, t=0))\n",
    "    return fig"
   ]
  },
  {
   "cell_type": "code",
   "execution_count": 209,
   "metadata": {},
   "outputs": [
    {
     "data": {
      "text/plain": [
       "'temp-plot.html'"
      ]
     },
     "execution_count": 209,
     "metadata": {},
     "output_type": "execute_result"
    }
   ],
   "source": [
    "plot(fig, \"DTLZ.html\")"
   ]
  },
  {
   "cell_type": "code",
   "execution_count": 207,
   "metadata": {},
   "outputs": [
    {
     "ename": "ModuleNotFoundError",
     "evalue": "No module named 'plotly.offline.plot'",
     "output_type": "error",
     "traceback": [
      "\u001b[0;31m---------------------------------------------------------------------------\u001b[0m",
      "\u001b[0;31mModuleNotFoundError\u001b[0m                       Traceback (most recent call last)",
      "\u001b[0;32m<ipython-input-207-09283a1c4c51>\u001b[0m in \u001b[0;36m<module>\u001b[0;34m\u001b[0m\n\u001b[0;32m----> 1\u001b[0;31m \u001b[0;32mimport\u001b[0m \u001b[0mplotly\u001b[0m\u001b[0;34m.\u001b[0m\u001b[0moffline\u001b[0m\u001b[0;34m.\u001b[0m\u001b[0mplot\u001b[0m \u001b[0;32mas\u001b[0m \u001b[0msavefig\u001b[0m\u001b[0;34m\u001b[0m\u001b[0;34m\u001b[0m\u001b[0m\n\u001b[0m",
      "\u001b[0;31mModuleNotFoundError\u001b[0m: No module named 'plotly.offline.plot'"
     ]
    }
   ],
   "source": [
    "import plotly.offline.plot as savefig"
   ]
  },
  {
   "cell_type": "code",
   "execution_count": 208,
   "metadata": {},
   "outputs": [],
   "source": [
    "from plotly.offline import plot"
   ]
  },
  {
   "cell_type": "code",
   "execution_count": null,
   "metadata": {},
   "outputs": [],
   "source": []
  }
 ],
 "metadata": {
  "kernelspec": {
   "display_name": "desdeo_emo",
   "language": "python",
   "name": "desdeo_emo"
  },
  "language_info": {
   "codemirror_mode": {
    "name": "ipython",
    "version": 3
   },
   "file_extension": ".py",
   "mimetype": "text/x-python",
   "name": "python",
   "nbconvert_exporter": "python",
   "pygments_lexer": "ipython3",
   "version": "3.7.5rc1"
  }
 },
 "nbformat": 4,
 "nbformat_minor": 2
}
