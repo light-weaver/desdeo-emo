{
 "cells": [
  {
   "cell_type": "code",
   "execution_count": 1,
   "metadata": {},
   "outputs": [],
   "source": [
    "import sys, os\n",
    "sys.path.insert(0, os.path.dirname(os.path.abspath('../desdeo_emo')))\n",
    "%matplotlib notebook"
   ]
  },
  {
   "cell_type": "code",
   "execution_count": 2,
   "metadata": {},
   "outputs": [],
   "source": [
    "import numpy as np\n",
    "import pandas as pd\n",
    "\n",
    "from desdeo_problem.testproblems.TestProblems import test_problem_builder\n",
    "\n",
    "from desdeo_emo.EAs.NIMBUS_RVEA import NIMBUS_RVEA"
   ]
  },
  {
   "cell_type": "code",
   "execution_count": 3,
   "metadata": {},
   "outputs": [],
   "source": [
    "import matplotlib.pyplot as plt"
   ]
  },
  {
   "cell_type": "code",
   "execution_count": 4,
   "metadata": {},
   "outputs": [],
   "source": [
    "problem = test_problem_builder(name=\"ZDT1\")"
   ]
  },
  {
   "cell_type": "code",
   "execution_count": 5,
   "metadata": {},
   "outputs": [],
   "source": [
    "problem.ideal = np.asarray([0, 0])\n",
    "problem.nadir = np.asarray([1, 1])"
   ]
  },
  {
   "cell_type": "code",
   "execution_count": 6,
   "metadata": {},
   "outputs": [],
   "source": [
    "evolver = NIMBUS_RVEA(problem, n_gen_per_iter=700)"
   ]
  },
  {
   "cell_type": "code",
   "execution_count": 7,
   "metadata": {},
   "outputs": [],
   "source": [
    "plot, pref = evolver.requests()"
   ]
  },
  {
   "cell_type": "code",
   "execution_count": 8,
   "metadata": {},
   "outputs": [],
   "source": [
    "response = np.asarray([[0.1,0.9]])\n",
    "pref.response = pd.DataFrame(response, columns=pref.content['dimensions_data'].columns)"
   ]
  },
  {
   "cell_type": "code",
   "execution_count": 9,
   "metadata": {},
   "outputs": [
    {
     "ename": "IndexError",
     "evalue": "boolean index did not match indexed array along dimension 0; dimension is 1 but corresponding boolean dimension is 2",
     "output_type": "error",
     "traceback": [
      "\u001b[0;31m---------------------------------------------------------------------------\u001b[0m",
      "\u001b[0;31mIndexError\u001b[0m                                Traceback (most recent call last)",
      "\u001b[0;32m<ipython-input-9-b63e5be39378>\u001b[0m in \u001b[0;36m<module>\u001b[0;34m\u001b[0m\n\u001b[0;32m----> 1\u001b[0;31m \u001b[0mplot\u001b[0m\u001b[0;34m,\u001b[0m \u001b[0mpref\u001b[0m \u001b[0;34m=\u001b[0m \u001b[0mevolver\u001b[0m\u001b[0;34m.\u001b[0m\u001b[0miterate\u001b[0m\u001b[0;34m(\u001b[0m\u001b[0mpref\u001b[0m\u001b[0;34m)\u001b[0m\u001b[0;34m\u001b[0m\u001b[0;34m\u001b[0m\u001b[0m\n\u001b[0m",
      "\u001b[0;32m~/Projects/desdeo-emo/desdeo_emo/EAs/BaseEA.py\u001b[0m in \u001b[0;36miterate\u001b[0;34m(self, preference)\u001b[0m\n\u001b[1;32m     60\u001b[0m         \u001b[0miteration\u001b[0m \u001b[0mcount\u001b[0m \u001b[0;32mand\u001b[0m \u001b[0mgen\u001b[0m \u001b[0mcount\u001b[0m\u001b[0;34m.\u001b[0m\u001b[0;34m\u001b[0m\u001b[0;34m\u001b[0m\u001b[0m\n\u001b[1;32m     61\u001b[0m         \"\"\"\n\u001b[0;32m---> 62\u001b[0;31m         \u001b[0mself\u001b[0m\u001b[0;34m.\u001b[0m\u001b[0mmanage_preferences\u001b[0m\u001b[0;34m(\u001b[0m\u001b[0mpreference\u001b[0m\u001b[0;34m)\u001b[0m\u001b[0;34m\u001b[0m\u001b[0;34m\u001b[0m\u001b[0m\n\u001b[0m\u001b[1;32m     63\u001b[0m         \u001b[0mself\u001b[0m\u001b[0;34m.\u001b[0m\u001b[0m_gen_count_in_curr_iteration\u001b[0m \u001b[0;34m=\u001b[0m \u001b[0;36m0\u001b[0m\u001b[0;34m\u001b[0m\u001b[0;34m\u001b[0m\u001b[0m\n\u001b[1;32m     64\u001b[0m         \u001b[0;32mwhile\u001b[0m \u001b[0mself\u001b[0m\u001b[0;34m.\u001b[0m\u001b[0mcontinue_iteration\u001b[0m\u001b[0;34m(\u001b[0m\u001b[0;34m)\u001b[0m\u001b[0;34m:\u001b[0m\u001b[0;34m\u001b[0m\u001b[0;34m\u001b[0m\u001b[0m\n",
      "\u001b[0;32m~/Projects/desdeo-emo/desdeo_emo/EAs/NIMBUS_RVEA.py\u001b[0m in \u001b[0;36mmanage_preferences\u001b[0;34m(self, preference)\u001b[0m\n\u001b[1;32m    206\u001b[0m             [\n\u001b[1;32m    207\u001b[0m                 \u001b[0mscalar\u001b[0m\u001b[0;34m(\u001b[0m\u001b[0mself\u001b[0m\u001b[0;34m.\u001b[0m\u001b[0mpopulation\u001b[0m\u001b[0;34m.\u001b[0m\u001b[0mfitness\u001b[0m\u001b[0;34m,\u001b[0m \u001b[0mself\u001b[0m\u001b[0;34m.\u001b[0m\u001b[0m_preference\u001b[0m\u001b[0;34m)\u001b[0m\u001b[0;34m\u001b[0m\u001b[0;34m\u001b[0m\u001b[0m\n\u001b[0;32m--> 208\u001b[0;31m                 \u001b[0;32mfor\u001b[0m \u001b[0mscalar\u001b[0m \u001b[0;32min\u001b[0m \u001b[0mself\u001b[0m\u001b[0;34m.\u001b[0m\u001b[0mscalarization_methods\u001b[0m\u001b[0;34m\u001b[0m\u001b[0;34m\u001b[0m\u001b[0m\n\u001b[0m\u001b[1;32m    209\u001b[0m             ]\n\u001b[1;32m    210\u001b[0m         ).T\n",
      "\u001b[0;32m~/Projects/desdeo-emo/desdeo_emo/EAs/NIMBUS_RVEA.py\u001b[0m in \u001b[0;36m<listcomp>\u001b[0;34m(.0)\u001b[0m\n\u001b[1;32m    206\u001b[0m             [\n\u001b[1;32m    207\u001b[0m                 \u001b[0mscalar\u001b[0m\u001b[0;34m(\u001b[0m\u001b[0mself\u001b[0m\u001b[0;34m.\u001b[0m\u001b[0mpopulation\u001b[0m\u001b[0;34m.\u001b[0m\u001b[0mfitness\u001b[0m\u001b[0;34m,\u001b[0m \u001b[0mself\u001b[0m\u001b[0;34m.\u001b[0m\u001b[0m_preference\u001b[0m\u001b[0;34m)\u001b[0m\u001b[0;34m\u001b[0m\u001b[0;34m\u001b[0m\u001b[0m\n\u001b[0;32m--> 208\u001b[0;31m                 \u001b[0;32mfor\u001b[0m \u001b[0mscalar\u001b[0m \u001b[0;32min\u001b[0m \u001b[0mself\u001b[0m\u001b[0;34m.\u001b[0m\u001b[0mscalarization_methods\u001b[0m\u001b[0;34m\u001b[0m\u001b[0;34m\u001b[0m\u001b[0m\n\u001b[0m\u001b[1;32m    209\u001b[0m             ]\n\u001b[1;32m    210\u001b[0m         ).T\n",
      "\u001b[0;32m~/.virtualenvs/desdeo_emo/lib/python3.7/site-packages/desdeo_tools/scalarization/ASF.py\u001b[0m in \u001b[0;36m__call__\u001b[0;34m(self, objective_vectors, reference_point)\u001b[0m\n\u001b[1;32m    376\u001b[0m \u001b[0;34m\u001b[0m\u001b[0m\n\u001b[1;32m    377\u001b[0m         max_term = np.max(\n\u001b[0;32m--> 378\u001b[0;31m             \u001b[0;34m(\u001b[0m\u001b[0mf\u001b[0m\u001b[0;34m[\u001b[0m\u001b[0;34m:\u001b[0m\u001b[0;34m,\u001b[0m \u001b[0mex_mask\u001b[0m\u001b[0;34m]\u001b[0m \u001b[0;34m-\u001b[0m \u001b[0mnad\u001b[0m\u001b[0;34m[\u001b[0m\u001b[0mex_mask\u001b[0m\u001b[0;34m]\u001b[0m\u001b[0;34m)\u001b[0m \u001b[0;34m/\u001b[0m \u001b[0;34m(\u001b[0m\u001b[0mnad\u001b[0m\u001b[0;34m[\u001b[0m\u001b[0mex_mask\u001b[0m\u001b[0;34m]\u001b[0m \u001b[0;34m-\u001b[0m \u001b[0mz\u001b[0m\u001b[0;34m[\u001b[0m\u001b[0mex_mask\u001b[0m\u001b[0;34m]\u001b[0m\u001b[0;34m)\u001b[0m\u001b[0;34m,\u001b[0m \u001b[0maxis\u001b[0m\u001b[0;34m=\u001b[0m\u001b[0;36m1\u001b[0m\u001b[0;34m\u001b[0m\u001b[0;34m\u001b[0m\u001b[0m\n\u001b[0m\u001b[1;32m    379\u001b[0m         )\n\u001b[1;32m    380\u001b[0m         sum_term_1 = self.rho_sum * np.sum(\n",
      "\u001b[0;31mIndexError\u001b[0m: boolean index did not match indexed array along dimension 0; dimension is 1 but corresponding boolean dimension is 2"
     ]
    }
   ],
   "source": [
    "plot, pref = evolver.iterate(pref)"
   ]
  },
  {
   "cell_type": "code",
   "execution_count": 12,
   "metadata": {},
   "outputs": [
    {
     "data": {
      "application/javascript": [
       "/* Put everything inside the global mpl namespace */\n",
       "window.mpl = {};\n",
       "\n",
       "\n",
       "mpl.get_websocket_type = function() {\n",
       "    if (typeof(WebSocket) !== 'undefined') {\n",
       "        return WebSocket;\n",
       "    } else if (typeof(MozWebSocket) !== 'undefined') {\n",
       "        return MozWebSocket;\n",
       "    } else {\n",
       "        alert('Your browser does not have WebSocket support. ' +\n",
       "              'Please try Chrome, Safari or Firefox ≥ 6. ' +\n",
       "              'Firefox 4 and 5 are also supported but you ' +\n",
       "              'have to enable WebSockets in about:config.');\n",
       "    };\n",
       "}\n",
       "\n",
       "mpl.figure = function(figure_id, websocket, ondownload, parent_element) {\n",
       "    this.id = figure_id;\n",
       "\n",
       "    this.ws = websocket;\n",
       "\n",
       "    this.supports_binary = (this.ws.binaryType != undefined);\n",
       "\n",
       "    if (!this.supports_binary) {\n",
       "        var warnings = document.getElementById(\"mpl-warnings\");\n",
       "        if (warnings) {\n",
       "            warnings.style.display = 'block';\n",
       "            warnings.textContent = (\n",
       "                \"This browser does not support binary websocket messages. \" +\n",
       "                    \"Performance may be slow.\");\n",
       "        }\n",
       "    }\n",
       "\n",
       "    this.imageObj = new Image();\n",
       "\n",
       "    this.context = undefined;\n",
       "    this.message = undefined;\n",
       "    this.canvas = undefined;\n",
       "    this.rubberband_canvas = undefined;\n",
       "    this.rubberband_context = undefined;\n",
       "    this.format_dropdown = undefined;\n",
       "\n",
       "    this.image_mode = 'full';\n",
       "\n",
       "    this.root = $('<div/>');\n",
       "    this._root_extra_style(this.root)\n",
       "    this.root.attr('style', 'display: inline-block');\n",
       "\n",
       "    $(parent_element).append(this.root);\n",
       "\n",
       "    this._init_header(this);\n",
       "    this._init_canvas(this);\n",
       "    this._init_toolbar(this);\n",
       "\n",
       "    var fig = this;\n",
       "\n",
       "    this.waiting = false;\n",
       "\n",
       "    this.ws.onopen =  function () {\n",
       "            fig.send_message(\"supports_binary\", {value: fig.supports_binary});\n",
       "            fig.send_message(\"send_image_mode\", {});\n",
       "            if (mpl.ratio != 1) {\n",
       "                fig.send_message(\"set_dpi_ratio\", {'dpi_ratio': mpl.ratio});\n",
       "            }\n",
       "            fig.send_message(\"refresh\", {});\n",
       "        }\n",
       "\n",
       "    this.imageObj.onload = function() {\n",
       "            if (fig.image_mode == 'full') {\n",
       "                // Full images could contain transparency (where diff images\n",
       "                // almost always do), so we need to clear the canvas so that\n",
       "                // there is no ghosting.\n",
       "                fig.context.clearRect(0, 0, fig.canvas.width, fig.canvas.height);\n",
       "            }\n",
       "            fig.context.drawImage(fig.imageObj, 0, 0);\n",
       "        };\n",
       "\n",
       "    this.imageObj.onunload = function() {\n",
       "        fig.ws.close();\n",
       "    }\n",
       "\n",
       "    this.ws.onmessage = this._make_on_message_function(this);\n",
       "\n",
       "    this.ondownload = ondownload;\n",
       "}\n",
       "\n",
       "mpl.figure.prototype._init_header = function() {\n",
       "    var titlebar = $(\n",
       "        '<div class=\"ui-dialog-titlebar ui-widget-header ui-corner-all ' +\n",
       "        'ui-helper-clearfix\"/>');\n",
       "    var titletext = $(\n",
       "        '<div class=\"ui-dialog-title\" style=\"width: 100%; ' +\n",
       "        'text-align: center; padding: 3px;\"/>');\n",
       "    titlebar.append(titletext)\n",
       "    this.root.append(titlebar);\n",
       "    this.header = titletext[0];\n",
       "}\n",
       "\n",
       "\n",
       "\n",
       "mpl.figure.prototype._canvas_extra_style = function(canvas_div) {\n",
       "\n",
       "}\n",
       "\n",
       "\n",
       "mpl.figure.prototype._root_extra_style = function(canvas_div) {\n",
       "\n",
       "}\n",
       "\n",
       "mpl.figure.prototype._init_canvas = function() {\n",
       "    var fig = this;\n",
       "\n",
       "    var canvas_div = $('<div/>');\n",
       "\n",
       "    canvas_div.attr('style', 'position: relative; clear: both; outline: 0');\n",
       "\n",
       "    function canvas_keyboard_event(event) {\n",
       "        return fig.key_event(event, event['data']);\n",
       "    }\n",
       "\n",
       "    canvas_div.keydown('key_press', canvas_keyboard_event);\n",
       "    canvas_div.keyup('key_release', canvas_keyboard_event);\n",
       "    this.canvas_div = canvas_div\n",
       "    this._canvas_extra_style(canvas_div)\n",
       "    this.root.append(canvas_div);\n",
       "\n",
       "    var canvas = $('<canvas/>');\n",
       "    canvas.addClass('mpl-canvas');\n",
       "    canvas.attr('style', \"left: 0; top: 0; z-index: 0; outline: 0\")\n",
       "\n",
       "    this.canvas = canvas[0];\n",
       "    this.context = canvas[0].getContext(\"2d\");\n",
       "\n",
       "    var backingStore = this.context.backingStorePixelRatio ||\n",
       "\tthis.context.webkitBackingStorePixelRatio ||\n",
       "\tthis.context.mozBackingStorePixelRatio ||\n",
       "\tthis.context.msBackingStorePixelRatio ||\n",
       "\tthis.context.oBackingStorePixelRatio ||\n",
       "\tthis.context.backingStorePixelRatio || 1;\n",
       "\n",
       "    mpl.ratio = (window.devicePixelRatio || 1) / backingStore;\n",
       "\n",
       "    var rubberband = $('<canvas/>');\n",
       "    rubberband.attr('style', \"position: absolute; left: 0; top: 0; z-index: 1;\")\n",
       "\n",
       "    var pass_mouse_events = true;\n",
       "\n",
       "    canvas_div.resizable({\n",
       "        start: function(event, ui) {\n",
       "            pass_mouse_events = false;\n",
       "        },\n",
       "        resize: function(event, ui) {\n",
       "            fig.request_resize(ui.size.width, ui.size.height);\n",
       "        },\n",
       "        stop: function(event, ui) {\n",
       "            pass_mouse_events = true;\n",
       "            fig.request_resize(ui.size.width, ui.size.height);\n",
       "        },\n",
       "    });\n",
       "\n",
       "    function mouse_event_fn(event) {\n",
       "        if (pass_mouse_events)\n",
       "            return fig.mouse_event(event, event['data']);\n",
       "    }\n",
       "\n",
       "    rubberband.mousedown('button_press', mouse_event_fn);\n",
       "    rubberband.mouseup('button_release', mouse_event_fn);\n",
       "    // Throttle sequential mouse events to 1 every 20ms.\n",
       "    rubberband.mousemove('motion_notify', mouse_event_fn);\n",
       "\n",
       "    rubberband.mouseenter('figure_enter', mouse_event_fn);\n",
       "    rubberband.mouseleave('figure_leave', mouse_event_fn);\n",
       "\n",
       "    canvas_div.on(\"wheel\", function (event) {\n",
       "        event = event.originalEvent;\n",
       "        event['data'] = 'scroll'\n",
       "        if (event.deltaY < 0) {\n",
       "            event.step = 1;\n",
       "        } else {\n",
       "            event.step = -1;\n",
       "        }\n",
       "        mouse_event_fn(event);\n",
       "    });\n",
       "\n",
       "    canvas_div.append(canvas);\n",
       "    canvas_div.append(rubberband);\n",
       "\n",
       "    this.rubberband = rubberband;\n",
       "    this.rubberband_canvas = rubberband[0];\n",
       "    this.rubberband_context = rubberband[0].getContext(\"2d\");\n",
       "    this.rubberband_context.strokeStyle = \"#000000\";\n",
       "\n",
       "    this._resize_canvas = function(width, height) {\n",
       "        // Keep the size of the canvas, canvas container, and rubber band\n",
       "        // canvas in synch.\n",
       "        canvas_div.css('width', width)\n",
       "        canvas_div.css('height', height)\n",
       "\n",
       "        canvas.attr('width', width * mpl.ratio);\n",
       "        canvas.attr('height', height * mpl.ratio);\n",
       "        canvas.attr('style', 'width: ' + width + 'px; height: ' + height + 'px;');\n",
       "\n",
       "        rubberband.attr('width', width);\n",
       "        rubberband.attr('height', height);\n",
       "    }\n",
       "\n",
       "    // Set the figure to an initial 600x600px, this will subsequently be updated\n",
       "    // upon first draw.\n",
       "    this._resize_canvas(600, 600);\n",
       "\n",
       "    // Disable right mouse context menu.\n",
       "    $(this.rubberband_canvas).bind(\"contextmenu\",function(e){\n",
       "        return false;\n",
       "    });\n",
       "\n",
       "    function set_focus () {\n",
       "        canvas.focus();\n",
       "        canvas_div.focus();\n",
       "    }\n",
       "\n",
       "    window.setTimeout(set_focus, 100);\n",
       "}\n",
       "\n",
       "mpl.figure.prototype._init_toolbar = function() {\n",
       "    var fig = this;\n",
       "\n",
       "    var nav_element = $('<div/>');\n",
       "    nav_element.attr('style', 'width: 100%');\n",
       "    this.root.append(nav_element);\n",
       "\n",
       "    // Define a callback function for later on.\n",
       "    function toolbar_event(event) {\n",
       "        return fig.toolbar_button_onclick(event['data']);\n",
       "    }\n",
       "    function toolbar_mouse_event(event) {\n",
       "        return fig.toolbar_button_onmouseover(event['data']);\n",
       "    }\n",
       "\n",
       "    for(var toolbar_ind in mpl.toolbar_items) {\n",
       "        var name = mpl.toolbar_items[toolbar_ind][0];\n",
       "        var tooltip = mpl.toolbar_items[toolbar_ind][1];\n",
       "        var image = mpl.toolbar_items[toolbar_ind][2];\n",
       "        var method_name = mpl.toolbar_items[toolbar_ind][3];\n",
       "\n",
       "        if (!name) {\n",
       "            // put a spacer in here.\n",
       "            continue;\n",
       "        }\n",
       "        var button = $('<button/>');\n",
       "        button.addClass('ui-button ui-widget ui-state-default ui-corner-all ' +\n",
       "                        'ui-button-icon-only');\n",
       "        button.attr('role', 'button');\n",
       "        button.attr('aria-disabled', 'false');\n",
       "        button.click(method_name, toolbar_event);\n",
       "        button.mouseover(tooltip, toolbar_mouse_event);\n",
       "\n",
       "        var icon_img = $('<span/>');\n",
       "        icon_img.addClass('ui-button-icon-primary ui-icon');\n",
       "        icon_img.addClass(image);\n",
       "        icon_img.addClass('ui-corner-all');\n",
       "\n",
       "        var tooltip_span = $('<span/>');\n",
       "        tooltip_span.addClass('ui-button-text');\n",
       "        tooltip_span.html(tooltip);\n",
       "\n",
       "        button.append(icon_img);\n",
       "        button.append(tooltip_span);\n",
       "\n",
       "        nav_element.append(button);\n",
       "    }\n",
       "\n",
       "    var fmt_picker_span = $('<span/>');\n",
       "\n",
       "    var fmt_picker = $('<select/>');\n",
       "    fmt_picker.addClass('mpl-toolbar-option ui-widget ui-widget-content');\n",
       "    fmt_picker_span.append(fmt_picker);\n",
       "    nav_element.append(fmt_picker_span);\n",
       "    this.format_dropdown = fmt_picker[0];\n",
       "\n",
       "    for (var ind in mpl.extensions) {\n",
       "        var fmt = mpl.extensions[ind];\n",
       "        var option = $(\n",
       "            '<option/>', {selected: fmt === mpl.default_extension}).html(fmt);\n",
       "        fmt_picker.append(option);\n",
       "    }\n",
       "\n",
       "    // Add hover states to the ui-buttons\n",
       "    $( \".ui-button\" ).hover(\n",
       "        function() { $(this).addClass(\"ui-state-hover\");},\n",
       "        function() { $(this).removeClass(\"ui-state-hover\");}\n",
       "    );\n",
       "\n",
       "    var status_bar = $('<span class=\"mpl-message\"/>');\n",
       "    nav_element.append(status_bar);\n",
       "    this.message = status_bar[0];\n",
       "}\n",
       "\n",
       "mpl.figure.prototype.request_resize = function(x_pixels, y_pixels) {\n",
       "    // Request matplotlib to resize the figure. Matplotlib will then trigger a resize in the client,\n",
       "    // which will in turn request a refresh of the image.\n",
       "    this.send_message('resize', {'width': x_pixels, 'height': y_pixels});\n",
       "}\n",
       "\n",
       "mpl.figure.prototype.send_message = function(type, properties) {\n",
       "    properties['type'] = type;\n",
       "    properties['figure_id'] = this.id;\n",
       "    this.ws.send(JSON.stringify(properties));\n",
       "}\n",
       "\n",
       "mpl.figure.prototype.send_draw_message = function() {\n",
       "    if (!this.waiting) {\n",
       "        this.waiting = true;\n",
       "        this.ws.send(JSON.stringify({type: \"draw\", figure_id: this.id}));\n",
       "    }\n",
       "}\n",
       "\n",
       "\n",
       "mpl.figure.prototype.handle_save = function(fig, msg) {\n",
       "    var format_dropdown = fig.format_dropdown;\n",
       "    var format = format_dropdown.options[format_dropdown.selectedIndex].value;\n",
       "    fig.ondownload(fig, format);\n",
       "}\n",
       "\n",
       "\n",
       "mpl.figure.prototype.handle_resize = function(fig, msg) {\n",
       "    var size = msg['size'];\n",
       "    if (size[0] != fig.canvas.width || size[1] != fig.canvas.height) {\n",
       "        fig._resize_canvas(size[0], size[1]);\n",
       "        fig.send_message(\"refresh\", {});\n",
       "    };\n",
       "}\n",
       "\n",
       "mpl.figure.prototype.handle_rubberband = function(fig, msg) {\n",
       "    var x0 = msg['x0'] / mpl.ratio;\n",
       "    var y0 = (fig.canvas.height - msg['y0']) / mpl.ratio;\n",
       "    var x1 = msg['x1'] / mpl.ratio;\n",
       "    var y1 = (fig.canvas.height - msg['y1']) / mpl.ratio;\n",
       "    x0 = Math.floor(x0) + 0.5;\n",
       "    y0 = Math.floor(y0) + 0.5;\n",
       "    x1 = Math.floor(x1) + 0.5;\n",
       "    y1 = Math.floor(y1) + 0.5;\n",
       "    var min_x = Math.min(x0, x1);\n",
       "    var min_y = Math.min(y0, y1);\n",
       "    var width = Math.abs(x1 - x0);\n",
       "    var height = Math.abs(y1 - y0);\n",
       "\n",
       "    fig.rubberband_context.clearRect(\n",
       "        0, 0, fig.canvas.width / mpl.ratio, fig.canvas.height / mpl.ratio);\n",
       "\n",
       "    fig.rubberband_context.strokeRect(min_x, min_y, width, height);\n",
       "}\n",
       "\n",
       "mpl.figure.prototype.handle_figure_label = function(fig, msg) {\n",
       "    // Updates the figure title.\n",
       "    fig.header.textContent = msg['label'];\n",
       "}\n",
       "\n",
       "mpl.figure.prototype.handle_cursor = function(fig, msg) {\n",
       "    var cursor = msg['cursor'];\n",
       "    switch(cursor)\n",
       "    {\n",
       "    case 0:\n",
       "        cursor = 'pointer';\n",
       "        break;\n",
       "    case 1:\n",
       "        cursor = 'default';\n",
       "        break;\n",
       "    case 2:\n",
       "        cursor = 'crosshair';\n",
       "        break;\n",
       "    case 3:\n",
       "        cursor = 'move';\n",
       "        break;\n",
       "    }\n",
       "    fig.rubberband_canvas.style.cursor = cursor;\n",
       "}\n",
       "\n",
       "mpl.figure.prototype.handle_message = function(fig, msg) {\n",
       "    fig.message.textContent = msg['message'];\n",
       "}\n",
       "\n",
       "mpl.figure.prototype.handle_draw = function(fig, msg) {\n",
       "    // Request the server to send over a new figure.\n",
       "    fig.send_draw_message();\n",
       "}\n",
       "\n",
       "mpl.figure.prototype.handle_image_mode = function(fig, msg) {\n",
       "    fig.image_mode = msg['mode'];\n",
       "}\n",
       "\n",
       "mpl.figure.prototype.updated_canvas_event = function() {\n",
       "    // Called whenever the canvas gets updated.\n",
       "    this.send_message(\"ack\", {});\n",
       "}\n",
       "\n",
       "// A function to construct a web socket function for onmessage handling.\n",
       "// Called in the figure constructor.\n",
       "mpl.figure.prototype._make_on_message_function = function(fig) {\n",
       "    return function socket_on_message(evt) {\n",
       "        if (evt.data instanceof Blob) {\n",
       "            /* FIXME: We get \"Resource interpreted as Image but\n",
       "             * transferred with MIME type text/plain:\" errors on\n",
       "             * Chrome.  But how to set the MIME type?  It doesn't seem\n",
       "             * to be part of the websocket stream */\n",
       "            evt.data.type = \"image/png\";\n",
       "\n",
       "            /* Free the memory for the previous frames */\n",
       "            if (fig.imageObj.src) {\n",
       "                (window.URL || window.webkitURL).revokeObjectURL(\n",
       "                    fig.imageObj.src);\n",
       "            }\n",
       "\n",
       "            fig.imageObj.src = (window.URL || window.webkitURL).createObjectURL(\n",
       "                evt.data);\n",
       "            fig.updated_canvas_event();\n",
       "            fig.waiting = false;\n",
       "            return;\n",
       "        }\n",
       "        else if (typeof evt.data === 'string' && evt.data.slice(0, 21) == \"data:image/png;base64\") {\n",
       "            fig.imageObj.src = evt.data;\n",
       "            fig.updated_canvas_event();\n",
       "            fig.waiting = false;\n",
       "            return;\n",
       "        }\n",
       "\n",
       "        var msg = JSON.parse(evt.data);\n",
       "        var msg_type = msg['type'];\n",
       "\n",
       "        // Call the  \"handle_{type}\" callback, which takes\n",
       "        // the figure and JSON message as its only arguments.\n",
       "        try {\n",
       "            var callback = fig[\"handle_\" + msg_type];\n",
       "        } catch (e) {\n",
       "            console.log(\"No handler for the '\" + msg_type + \"' message type: \", msg);\n",
       "            return;\n",
       "        }\n",
       "\n",
       "        if (callback) {\n",
       "            try {\n",
       "                // console.log(\"Handling '\" + msg_type + \"' message: \", msg);\n",
       "                callback(fig, msg);\n",
       "            } catch (e) {\n",
       "                console.log(\"Exception inside the 'handler_\" + msg_type + \"' callback:\", e, e.stack, msg);\n",
       "            }\n",
       "        }\n",
       "    };\n",
       "}\n",
       "\n",
       "// from http://stackoverflow.com/questions/1114465/getting-mouse-location-in-canvas\n",
       "mpl.findpos = function(e) {\n",
       "    //this section is from http://www.quirksmode.org/js/events_properties.html\n",
       "    var targ;\n",
       "    if (!e)\n",
       "        e = window.event;\n",
       "    if (e.target)\n",
       "        targ = e.target;\n",
       "    else if (e.srcElement)\n",
       "        targ = e.srcElement;\n",
       "    if (targ.nodeType == 3) // defeat Safari bug\n",
       "        targ = targ.parentNode;\n",
       "\n",
       "    // jQuery normalizes the pageX and pageY\n",
       "    // pageX,Y are the mouse positions relative to the document\n",
       "    // offset() returns the position of the element relative to the document\n",
       "    var x = e.pageX - $(targ).offset().left;\n",
       "    var y = e.pageY - $(targ).offset().top;\n",
       "\n",
       "    return {\"x\": x, \"y\": y};\n",
       "};\n",
       "\n",
       "/*\n",
       " * return a copy of an object with only non-object keys\n",
       " * we need this to avoid circular references\n",
       " * http://stackoverflow.com/a/24161582/3208463\n",
       " */\n",
       "function simpleKeys (original) {\n",
       "  return Object.keys(original).reduce(function (obj, key) {\n",
       "    if (typeof original[key] !== 'object')\n",
       "        obj[key] = original[key]\n",
       "    return obj;\n",
       "  }, {});\n",
       "}\n",
       "\n",
       "mpl.figure.prototype.mouse_event = function(event, name) {\n",
       "    var canvas_pos = mpl.findpos(event)\n",
       "\n",
       "    if (name === 'button_press')\n",
       "    {\n",
       "        this.canvas.focus();\n",
       "        this.canvas_div.focus();\n",
       "    }\n",
       "\n",
       "    var x = canvas_pos.x * mpl.ratio;\n",
       "    var y = canvas_pos.y * mpl.ratio;\n",
       "\n",
       "    this.send_message(name, {x: x, y: y, button: event.button,\n",
       "                             step: event.step,\n",
       "                             guiEvent: simpleKeys(event)});\n",
       "\n",
       "    /* This prevents the web browser from automatically changing to\n",
       "     * the text insertion cursor when the button is pressed.  We want\n",
       "     * to control all of the cursor setting manually through the\n",
       "     * 'cursor' event from matplotlib */\n",
       "    event.preventDefault();\n",
       "    return false;\n",
       "}\n",
       "\n",
       "mpl.figure.prototype._key_event_extra = function(event, name) {\n",
       "    // Handle any extra behaviour associated with a key event\n",
       "}\n",
       "\n",
       "mpl.figure.prototype.key_event = function(event, name) {\n",
       "\n",
       "    // Prevent repeat events\n",
       "    if (name == 'key_press')\n",
       "    {\n",
       "        if (event.which === this._key)\n",
       "            return;\n",
       "        else\n",
       "            this._key = event.which;\n",
       "    }\n",
       "    if (name == 'key_release')\n",
       "        this._key = null;\n",
       "\n",
       "    var value = '';\n",
       "    if (event.ctrlKey && event.which != 17)\n",
       "        value += \"ctrl+\";\n",
       "    if (event.altKey && event.which != 18)\n",
       "        value += \"alt+\";\n",
       "    if (event.shiftKey && event.which != 16)\n",
       "        value += \"shift+\";\n",
       "\n",
       "    value += 'k';\n",
       "    value += event.which.toString();\n",
       "\n",
       "    this._key_event_extra(event, name);\n",
       "\n",
       "    this.send_message(name, {key: value,\n",
       "                             guiEvent: simpleKeys(event)});\n",
       "    return false;\n",
       "}\n",
       "\n",
       "mpl.figure.prototype.toolbar_button_onclick = function(name) {\n",
       "    if (name == 'download') {\n",
       "        this.handle_save(this, null);\n",
       "    } else {\n",
       "        this.send_message(\"toolbar_button\", {name: name});\n",
       "    }\n",
       "};\n",
       "\n",
       "mpl.figure.prototype.toolbar_button_onmouseover = function(tooltip) {\n",
       "    this.message.textContent = tooltip;\n",
       "};\n",
       "mpl.toolbar_items = [[\"Home\", \"Reset original view\", \"fa fa-home icon-home\", \"home\"], [\"Back\", \"Back to previous view\", \"fa fa-arrow-left icon-arrow-left\", \"back\"], [\"Forward\", \"Forward to next view\", \"fa fa-arrow-right icon-arrow-right\", \"forward\"], [\"\", \"\", \"\", \"\"], [\"Pan\", \"Pan axes with left mouse, zoom with right\", \"fa fa-arrows icon-move\", \"pan\"], [\"Zoom\", \"Zoom to rectangle\", \"fa fa-square-o icon-check-empty\", \"zoom\"], [\"\", \"\", \"\", \"\"], [\"Download\", \"Download plot\", \"fa fa-floppy-o icon-save\", \"download\"]];\n",
       "\n",
       "mpl.extensions = [\"eps\", \"pdf\", \"png\", \"ps\", \"raw\", \"svg\"];\n",
       "\n",
       "mpl.default_extension = \"png\";var comm_websocket_adapter = function(comm) {\n",
       "    // Create a \"websocket\"-like object which calls the given IPython comm\n",
       "    // object with the appropriate methods. Currently this is a non binary\n",
       "    // socket, so there is still some room for performance tuning.\n",
       "    var ws = {};\n",
       "\n",
       "    ws.close = function() {\n",
       "        comm.close()\n",
       "    };\n",
       "    ws.send = function(m) {\n",
       "        //console.log('sending', m);\n",
       "        comm.send(m);\n",
       "    };\n",
       "    // Register the callback with on_msg.\n",
       "    comm.on_msg(function(msg) {\n",
       "        //console.log('receiving', msg['content']['data'], msg);\n",
       "        // Pass the mpl event to the overridden (by mpl) onmessage function.\n",
       "        ws.onmessage(msg['content']['data'])\n",
       "    });\n",
       "    return ws;\n",
       "}\n",
       "\n",
       "mpl.mpl_figure_comm = function(comm, msg) {\n",
       "    // This is the function which gets called when the mpl process\n",
       "    // starts-up an IPython Comm through the \"matplotlib\" channel.\n",
       "\n",
       "    var id = msg.content.data.id;\n",
       "    // Get hold of the div created by the display call when the Comm\n",
       "    // socket was opened in Python.\n",
       "    var element = $(\"#\" + id);\n",
       "    var ws_proxy = comm_websocket_adapter(comm)\n",
       "\n",
       "    function ondownload(figure, format) {\n",
       "        window.open(figure.imageObj.src);\n",
       "    }\n",
       "\n",
       "    var fig = new mpl.figure(id, ws_proxy,\n",
       "                           ondownload,\n",
       "                           element.get(0));\n",
       "\n",
       "    // Call onopen now - mpl needs it, as it is assuming we've passed it a real\n",
       "    // web socket which is closed, not our websocket->open comm proxy.\n",
       "    ws_proxy.onopen();\n",
       "\n",
       "    fig.parent_element = element.get(0);\n",
       "    fig.cell_info = mpl.find_output_cell(\"<div id='\" + id + \"'></div>\");\n",
       "    if (!fig.cell_info) {\n",
       "        console.error(\"Failed to find cell for figure\", id, fig);\n",
       "        return;\n",
       "    }\n",
       "\n",
       "    var output_index = fig.cell_info[2]\n",
       "    var cell = fig.cell_info[0];\n",
       "\n",
       "};\n",
       "\n",
       "mpl.figure.prototype.handle_close = function(fig, msg) {\n",
       "    var width = fig.canvas.width/mpl.ratio\n",
       "    fig.root.unbind('remove')\n",
       "\n",
       "    // Update the output cell to use the data from the current canvas.\n",
       "    fig.push_to_output();\n",
       "    var dataURL = fig.canvas.toDataURL();\n",
       "    // Re-enable the keyboard manager in IPython - without this line, in FF,\n",
       "    // the notebook keyboard shortcuts fail.\n",
       "    IPython.keyboard_manager.enable()\n",
       "    $(fig.parent_element).html('<img src=\"' + dataURL + '\" width=\"' + width + '\">');\n",
       "    fig.close_ws(fig, msg);\n",
       "}\n",
       "\n",
       "mpl.figure.prototype.close_ws = function(fig, msg){\n",
       "    fig.send_message('closing', msg);\n",
       "    // fig.ws.close()\n",
       "}\n",
       "\n",
       "mpl.figure.prototype.push_to_output = function(remove_interactive) {\n",
       "    // Turn the data on the canvas into data in the output cell.\n",
       "    var width = this.canvas.width/mpl.ratio\n",
       "    var dataURL = this.canvas.toDataURL();\n",
       "    this.cell_info[1]['text/html'] = '<img src=\"' + dataURL + '\" width=\"' + width + '\">';\n",
       "}\n",
       "\n",
       "mpl.figure.prototype.updated_canvas_event = function() {\n",
       "    // Tell IPython that the notebook contents must change.\n",
       "    IPython.notebook.set_dirty(true);\n",
       "    this.send_message(\"ack\", {});\n",
       "    var fig = this;\n",
       "    // Wait a second, then push the new image to the DOM so\n",
       "    // that it is saved nicely (might be nice to debounce this).\n",
       "    setTimeout(function () { fig.push_to_output() }, 1000);\n",
       "}\n",
       "\n",
       "mpl.figure.prototype._init_toolbar = function() {\n",
       "    var fig = this;\n",
       "\n",
       "    var nav_element = $('<div/>');\n",
       "    nav_element.attr('style', 'width: 100%');\n",
       "    this.root.append(nav_element);\n",
       "\n",
       "    // Define a callback function for later on.\n",
       "    function toolbar_event(event) {\n",
       "        return fig.toolbar_button_onclick(event['data']);\n",
       "    }\n",
       "    function toolbar_mouse_event(event) {\n",
       "        return fig.toolbar_button_onmouseover(event['data']);\n",
       "    }\n",
       "\n",
       "    for(var toolbar_ind in mpl.toolbar_items){\n",
       "        var name = mpl.toolbar_items[toolbar_ind][0];\n",
       "        var tooltip = mpl.toolbar_items[toolbar_ind][1];\n",
       "        var image = mpl.toolbar_items[toolbar_ind][2];\n",
       "        var method_name = mpl.toolbar_items[toolbar_ind][3];\n",
       "\n",
       "        if (!name) { continue; };\n",
       "\n",
       "        var button = $('<button class=\"btn btn-default\" href=\"#\" title=\"' + name + '\"><i class=\"fa ' + image + ' fa-lg\"></i></button>');\n",
       "        button.click(method_name, toolbar_event);\n",
       "        button.mouseover(tooltip, toolbar_mouse_event);\n",
       "        nav_element.append(button);\n",
       "    }\n",
       "\n",
       "    // Add the status bar.\n",
       "    var status_bar = $('<span class=\"mpl-message\" style=\"text-align:right; float: right;\"/>');\n",
       "    nav_element.append(status_bar);\n",
       "    this.message = status_bar[0];\n",
       "\n",
       "    // Add the close button to the window.\n",
       "    var buttongrp = $('<div class=\"btn-group inline pull-right\"></div>');\n",
       "    var button = $('<button class=\"btn btn-mini btn-primary\" href=\"#\" title=\"Stop Interaction\"><i class=\"fa fa-power-off icon-remove icon-large\"></i></button>');\n",
       "    button.click(function (evt) { fig.handle_close(fig, {}); } );\n",
       "    button.mouseover('Stop Interaction', toolbar_mouse_event);\n",
       "    buttongrp.append(button);\n",
       "    var titlebar = this.root.find($('.ui-dialog-titlebar'));\n",
       "    titlebar.prepend(buttongrp);\n",
       "}\n",
       "\n",
       "mpl.figure.prototype._root_extra_style = function(el){\n",
       "    var fig = this\n",
       "    el.on(\"remove\", function(){\n",
       "\tfig.close_ws(fig, {});\n",
       "    });\n",
       "}\n",
       "\n",
       "mpl.figure.prototype._canvas_extra_style = function(el){\n",
       "    // this is important to make the div 'focusable\n",
       "    el.attr('tabindex', 0)\n",
       "    // reach out to IPython and tell the keyboard manager to turn it's self\n",
       "    // off when our div gets focus\n",
       "\n",
       "    // location in version 3\n",
       "    if (IPython.notebook.keyboard_manager) {\n",
       "        IPython.notebook.keyboard_manager.register_events(el);\n",
       "    }\n",
       "    else {\n",
       "        // location in version 2\n",
       "        IPython.keyboard_manager.register_events(el);\n",
       "    }\n",
       "\n",
       "}\n",
       "\n",
       "mpl.figure.prototype._key_event_extra = function(event, name) {\n",
       "    var manager = IPython.notebook.keyboard_manager;\n",
       "    if (!manager)\n",
       "        manager = IPython.keyboard_manager;\n",
       "\n",
       "    // Check for shift+enter\n",
       "    if (event.shiftKey && event.which == 13) {\n",
       "        this.canvas_div.blur();\n",
       "        // select the cell after this one\n",
       "        var index = IPython.notebook.find_cell_index(this.cell_info[0]);\n",
       "        IPython.notebook.select(index + 1);\n",
       "    }\n",
       "}\n",
       "\n",
       "mpl.figure.prototype.handle_save = function(fig, msg) {\n",
       "    fig.ondownload(fig, null);\n",
       "}\n",
       "\n",
       "\n",
       "mpl.find_output_cell = function(html_output) {\n",
       "    // Return the cell and output element which can be found *uniquely* in the notebook.\n",
       "    // Note - this is a bit hacky, but it is done because the \"notebook_saving.Notebook\"\n",
       "    // IPython event is triggered only after the cells have been serialised, which for\n",
       "    // our purposes (turning an active figure into a static one), is too late.\n",
       "    var cells = IPython.notebook.get_cells();\n",
       "    var ncells = cells.length;\n",
       "    for (var i=0; i<ncells; i++) {\n",
       "        var cell = cells[i];\n",
       "        if (cell.cell_type === 'code'){\n",
       "            for (var j=0; j<cell.output_area.outputs.length; j++) {\n",
       "                var data = cell.output_area.outputs[j];\n",
       "                if (data.data) {\n",
       "                    // IPython >= 3 moved mimebundle to data attribute of output\n",
       "                    data = data.data;\n",
       "                }\n",
       "                if (data['text/html'] == html_output) {\n",
       "                    return [cell, data, j];\n",
       "                }\n",
       "            }\n",
       "        }\n",
       "    }\n",
       "}\n",
       "\n",
       "// Register the function which deals with the matplotlib target/channel.\n",
       "// The kernel may be null if the page has been refreshed.\n",
       "if (IPython.notebook.kernel != null) {\n",
       "    IPython.notebook.kernel.comm_manager.register_target('matplotlib', mpl.mpl_figure_comm);\n",
       "}\n"
      ],
      "text/plain": [
       "<IPython.core.display.Javascript object>"
      ]
     },
     "metadata": {},
     "output_type": "display_data"
    },
    {
     "data": {
      "text/html": [
       "<img src=\"data:image/png;base64,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\" width=\"640\">"
      ],
      "text/plain": [
       "<IPython.core.display.HTML object>"
      ]
     },
     "metadata": {},
     "output_type": "display_data"
    }
   ],
   "source": [
    "nimbus = plt.scatter(x=evolver.population.objectives[:, 0], y=evolver.population.objectives[:, 1], label='NIMBUS-RVEA')\n",
    "refp = plt.scatter(x=response[:,0], y=response[:,1], c='r', label='Reference Point')\n",
    "stom = plt.arrow(x=response[0,0], y=response[0,1], dx=response[0,0]*10, dy=response[0,1]*10, color='g', label='STOM')\n",
    "asf = plt.arrow(x=response[0,0], y=response[0,1], dx=10, dy=10,color='black',label=\"ASF\")\n",
    "plt.arrow(x=response[0,0], y=response[0,1], dx=-response[0,0]*10, dy=-response[0,1]*10, color='g')\n",
    "plt.arrow(x=response[0,0], y=response[0,1], dx=-10, dy=-10, color='black')\n",
    "pareto = plt.plot(zdt1_pareto[:,0], zdt1_pareto[:,1],'-.')\n",
    "plt.xlim([0,1])\n",
    "plt.ylim([0,1])\n",
    "plt.title(\"ZDT1 problem with NIMBUS inspired EA\")\n",
    "plt.legend([nimbus, refp, stom, asf], [\"NIMBUS-RVEA\",\"Reference Point\",\"STOM\", \"ASF\"])\n",
    "plt.gca().set_aspect('equal', adjustable='box')"
   ]
  },
  {
   "cell_type": "code",
   "execution_count": 56,
   "metadata": {},
   "outputs": [],
   "source": [
    "scaled_data = np.asarray([scalar(evolver.population.fitness, pref.response.values) for scalar in evolver.scalarization_methods]).T"
   ]
  },
  {
   "cell_type": "code",
   "execution_count": 57,
   "metadata": {},
   "outputs": [
    {
     "data": {
      "application/javascript": [
       "/* Put everything inside the global mpl namespace */\n",
       "window.mpl = {};\n",
       "\n",
       "\n",
       "mpl.get_websocket_type = function() {\n",
       "    if (typeof(WebSocket) !== 'undefined') {\n",
       "        return WebSocket;\n",
       "    } else if (typeof(MozWebSocket) !== 'undefined') {\n",
       "        return MozWebSocket;\n",
       "    } else {\n",
       "        alert('Your browser does not have WebSocket support. ' +\n",
       "              'Please try Chrome, Safari or Firefox ≥ 6. ' +\n",
       "              'Firefox 4 and 5 are also supported but you ' +\n",
       "              'have to enable WebSockets in about:config.');\n",
       "    };\n",
       "}\n",
       "\n",
       "mpl.figure = function(figure_id, websocket, ondownload, parent_element) {\n",
       "    this.id = figure_id;\n",
       "\n",
       "    this.ws = websocket;\n",
       "\n",
       "    this.supports_binary = (this.ws.binaryType != undefined);\n",
       "\n",
       "    if (!this.supports_binary) {\n",
       "        var warnings = document.getElementById(\"mpl-warnings\");\n",
       "        if (warnings) {\n",
       "            warnings.style.display = 'block';\n",
       "            warnings.textContent = (\n",
       "                \"This browser does not support binary websocket messages. \" +\n",
       "                    \"Performance may be slow.\");\n",
       "        }\n",
       "    }\n",
       "\n",
       "    this.imageObj = new Image();\n",
       "\n",
       "    this.context = undefined;\n",
       "    this.message = undefined;\n",
       "    this.canvas = undefined;\n",
       "    this.rubberband_canvas = undefined;\n",
       "    this.rubberband_context = undefined;\n",
       "    this.format_dropdown = undefined;\n",
       "\n",
       "    this.image_mode = 'full';\n",
       "\n",
       "    this.root = $('<div/>');\n",
       "    this._root_extra_style(this.root)\n",
       "    this.root.attr('style', 'display: inline-block');\n",
       "\n",
       "    $(parent_element).append(this.root);\n",
       "\n",
       "    this._init_header(this);\n",
       "    this._init_canvas(this);\n",
       "    this._init_toolbar(this);\n",
       "\n",
       "    var fig = this;\n",
       "\n",
       "    this.waiting = false;\n",
       "\n",
       "    this.ws.onopen =  function () {\n",
       "            fig.send_message(\"supports_binary\", {value: fig.supports_binary});\n",
       "            fig.send_message(\"send_image_mode\", {});\n",
       "            if (mpl.ratio != 1) {\n",
       "                fig.send_message(\"set_dpi_ratio\", {'dpi_ratio': mpl.ratio});\n",
       "            }\n",
       "            fig.send_message(\"refresh\", {});\n",
       "        }\n",
       "\n",
       "    this.imageObj.onload = function() {\n",
       "            if (fig.image_mode == 'full') {\n",
       "                // Full images could contain transparency (where diff images\n",
       "                // almost always do), so we need to clear the canvas so that\n",
       "                // there is no ghosting.\n",
       "                fig.context.clearRect(0, 0, fig.canvas.width, fig.canvas.height);\n",
       "            }\n",
       "            fig.context.drawImage(fig.imageObj, 0, 0);\n",
       "        };\n",
       "\n",
       "    this.imageObj.onunload = function() {\n",
       "        fig.ws.close();\n",
       "    }\n",
       "\n",
       "    this.ws.onmessage = this._make_on_message_function(this);\n",
       "\n",
       "    this.ondownload = ondownload;\n",
       "}\n",
       "\n",
       "mpl.figure.prototype._init_header = function() {\n",
       "    var titlebar = $(\n",
       "        '<div class=\"ui-dialog-titlebar ui-widget-header ui-corner-all ' +\n",
       "        'ui-helper-clearfix\"/>');\n",
       "    var titletext = $(\n",
       "        '<div class=\"ui-dialog-title\" style=\"width: 100%; ' +\n",
       "        'text-align: center; padding: 3px;\"/>');\n",
       "    titlebar.append(titletext)\n",
       "    this.root.append(titlebar);\n",
       "    this.header = titletext[0];\n",
       "}\n",
       "\n",
       "\n",
       "\n",
       "mpl.figure.prototype._canvas_extra_style = function(canvas_div) {\n",
       "\n",
       "}\n",
       "\n",
       "\n",
       "mpl.figure.prototype._root_extra_style = function(canvas_div) {\n",
       "\n",
       "}\n",
       "\n",
       "mpl.figure.prototype._init_canvas = function() {\n",
       "    var fig = this;\n",
       "\n",
       "    var canvas_div = $('<div/>');\n",
       "\n",
       "    canvas_div.attr('style', 'position: relative; clear: both; outline: 0');\n",
       "\n",
       "    function canvas_keyboard_event(event) {\n",
       "        return fig.key_event(event, event['data']);\n",
       "    }\n",
       "\n",
       "    canvas_div.keydown('key_press', canvas_keyboard_event);\n",
       "    canvas_div.keyup('key_release', canvas_keyboard_event);\n",
       "    this.canvas_div = canvas_div\n",
       "    this._canvas_extra_style(canvas_div)\n",
       "    this.root.append(canvas_div);\n",
       "\n",
       "    var canvas = $('<canvas/>');\n",
       "    canvas.addClass('mpl-canvas');\n",
       "    canvas.attr('style', \"left: 0; top: 0; z-index: 0; outline: 0\")\n",
       "\n",
       "    this.canvas = canvas[0];\n",
       "    this.context = canvas[0].getContext(\"2d\");\n",
       "\n",
       "    var backingStore = this.context.backingStorePixelRatio ||\n",
       "\tthis.context.webkitBackingStorePixelRatio ||\n",
       "\tthis.context.mozBackingStorePixelRatio ||\n",
       "\tthis.context.msBackingStorePixelRatio ||\n",
       "\tthis.context.oBackingStorePixelRatio ||\n",
       "\tthis.context.backingStorePixelRatio || 1;\n",
       "\n",
       "    mpl.ratio = (window.devicePixelRatio || 1) / backingStore;\n",
       "\n",
       "    var rubberband = $('<canvas/>');\n",
       "    rubberband.attr('style', \"position: absolute; left: 0; top: 0; z-index: 1;\")\n",
       "\n",
       "    var pass_mouse_events = true;\n",
       "\n",
       "    canvas_div.resizable({\n",
       "        start: function(event, ui) {\n",
       "            pass_mouse_events = false;\n",
       "        },\n",
       "        resize: function(event, ui) {\n",
       "            fig.request_resize(ui.size.width, ui.size.height);\n",
       "        },\n",
       "        stop: function(event, ui) {\n",
       "            pass_mouse_events = true;\n",
       "            fig.request_resize(ui.size.width, ui.size.height);\n",
       "        },\n",
       "    });\n",
       "\n",
       "    function mouse_event_fn(event) {\n",
       "        if (pass_mouse_events)\n",
       "            return fig.mouse_event(event, event['data']);\n",
       "    }\n",
       "\n",
       "    rubberband.mousedown('button_press', mouse_event_fn);\n",
       "    rubberband.mouseup('button_release', mouse_event_fn);\n",
       "    // Throttle sequential mouse events to 1 every 20ms.\n",
       "    rubberband.mousemove('motion_notify', mouse_event_fn);\n",
       "\n",
       "    rubberband.mouseenter('figure_enter', mouse_event_fn);\n",
       "    rubberband.mouseleave('figure_leave', mouse_event_fn);\n",
       "\n",
       "    canvas_div.on(\"wheel\", function (event) {\n",
       "        event = event.originalEvent;\n",
       "        event['data'] = 'scroll'\n",
       "        if (event.deltaY < 0) {\n",
       "            event.step = 1;\n",
       "        } else {\n",
       "            event.step = -1;\n",
       "        }\n",
       "        mouse_event_fn(event);\n",
       "    });\n",
       "\n",
       "    canvas_div.append(canvas);\n",
       "    canvas_div.append(rubberband);\n",
       "\n",
       "    this.rubberband = rubberband;\n",
       "    this.rubberband_canvas = rubberband[0];\n",
       "    this.rubberband_context = rubberband[0].getContext(\"2d\");\n",
       "    this.rubberband_context.strokeStyle = \"#000000\";\n",
       "\n",
       "    this._resize_canvas = function(width, height) {\n",
       "        // Keep the size of the canvas, canvas container, and rubber band\n",
       "        // canvas in synch.\n",
       "        canvas_div.css('width', width)\n",
       "        canvas_div.css('height', height)\n",
       "\n",
       "        canvas.attr('width', width * mpl.ratio);\n",
       "        canvas.attr('height', height * mpl.ratio);\n",
       "        canvas.attr('style', 'width: ' + width + 'px; height: ' + height + 'px;');\n",
       "\n",
       "        rubberband.attr('width', width);\n",
       "        rubberband.attr('height', height);\n",
       "    }\n",
       "\n",
       "    // Set the figure to an initial 600x600px, this will subsequently be updated\n",
       "    // upon first draw.\n",
       "    this._resize_canvas(600, 600);\n",
       "\n",
       "    // Disable right mouse context menu.\n",
       "    $(this.rubberband_canvas).bind(\"contextmenu\",function(e){\n",
       "        return false;\n",
       "    });\n",
       "\n",
       "    function set_focus () {\n",
       "        canvas.focus();\n",
       "        canvas_div.focus();\n",
       "    }\n",
       "\n",
       "    window.setTimeout(set_focus, 100);\n",
       "}\n",
       "\n",
       "mpl.figure.prototype._init_toolbar = function() {\n",
       "    var fig = this;\n",
       "\n",
       "    var nav_element = $('<div/>');\n",
       "    nav_element.attr('style', 'width: 100%');\n",
       "    this.root.append(nav_element);\n",
       "\n",
       "    // Define a callback function for later on.\n",
       "    function toolbar_event(event) {\n",
       "        return fig.toolbar_button_onclick(event['data']);\n",
       "    }\n",
       "    function toolbar_mouse_event(event) {\n",
       "        return fig.toolbar_button_onmouseover(event['data']);\n",
       "    }\n",
       "\n",
       "    for(var toolbar_ind in mpl.toolbar_items) {\n",
       "        var name = mpl.toolbar_items[toolbar_ind][0];\n",
       "        var tooltip = mpl.toolbar_items[toolbar_ind][1];\n",
       "        var image = mpl.toolbar_items[toolbar_ind][2];\n",
       "        var method_name = mpl.toolbar_items[toolbar_ind][3];\n",
       "\n",
       "        if (!name) {\n",
       "            // put a spacer in here.\n",
       "            continue;\n",
       "        }\n",
       "        var button = $('<button/>');\n",
       "        button.addClass('ui-button ui-widget ui-state-default ui-corner-all ' +\n",
       "                        'ui-button-icon-only');\n",
       "        button.attr('role', 'button');\n",
       "        button.attr('aria-disabled', 'false');\n",
       "        button.click(method_name, toolbar_event);\n",
       "        button.mouseover(tooltip, toolbar_mouse_event);\n",
       "\n",
       "        var icon_img = $('<span/>');\n",
       "        icon_img.addClass('ui-button-icon-primary ui-icon');\n",
       "        icon_img.addClass(image);\n",
       "        icon_img.addClass('ui-corner-all');\n",
       "\n",
       "        var tooltip_span = $('<span/>');\n",
       "        tooltip_span.addClass('ui-button-text');\n",
       "        tooltip_span.html(tooltip);\n",
       "\n",
       "        button.append(icon_img);\n",
       "        button.append(tooltip_span);\n",
       "\n",
       "        nav_element.append(button);\n",
       "    }\n",
       "\n",
       "    var fmt_picker_span = $('<span/>');\n",
       "\n",
       "    var fmt_picker = $('<select/>');\n",
       "    fmt_picker.addClass('mpl-toolbar-option ui-widget ui-widget-content');\n",
       "    fmt_picker_span.append(fmt_picker);\n",
       "    nav_element.append(fmt_picker_span);\n",
       "    this.format_dropdown = fmt_picker[0];\n",
       "\n",
       "    for (var ind in mpl.extensions) {\n",
       "        var fmt = mpl.extensions[ind];\n",
       "        var option = $(\n",
       "            '<option/>', {selected: fmt === mpl.default_extension}).html(fmt);\n",
       "        fmt_picker.append(option);\n",
       "    }\n",
       "\n",
       "    // Add hover states to the ui-buttons\n",
       "    $( \".ui-button\" ).hover(\n",
       "        function() { $(this).addClass(\"ui-state-hover\");},\n",
       "        function() { $(this).removeClass(\"ui-state-hover\");}\n",
       "    );\n",
       "\n",
       "    var status_bar = $('<span class=\"mpl-message\"/>');\n",
       "    nav_element.append(status_bar);\n",
       "    this.message = status_bar[0];\n",
       "}\n",
       "\n",
       "mpl.figure.prototype.request_resize = function(x_pixels, y_pixels) {\n",
       "    // Request matplotlib to resize the figure. Matplotlib will then trigger a resize in the client,\n",
       "    // which will in turn request a refresh of the image.\n",
       "    this.send_message('resize', {'width': x_pixels, 'height': y_pixels});\n",
       "}\n",
       "\n",
       "mpl.figure.prototype.send_message = function(type, properties) {\n",
       "    properties['type'] = type;\n",
       "    properties['figure_id'] = this.id;\n",
       "    this.ws.send(JSON.stringify(properties));\n",
       "}\n",
       "\n",
       "mpl.figure.prototype.send_draw_message = function() {\n",
       "    if (!this.waiting) {\n",
       "        this.waiting = true;\n",
       "        this.ws.send(JSON.stringify({type: \"draw\", figure_id: this.id}));\n",
       "    }\n",
       "}\n",
       "\n",
       "\n",
       "mpl.figure.prototype.handle_save = function(fig, msg) {\n",
       "    var format_dropdown = fig.format_dropdown;\n",
       "    var format = format_dropdown.options[format_dropdown.selectedIndex].value;\n",
       "    fig.ondownload(fig, format);\n",
       "}\n",
       "\n",
       "\n",
       "mpl.figure.prototype.handle_resize = function(fig, msg) {\n",
       "    var size = msg['size'];\n",
       "    if (size[0] != fig.canvas.width || size[1] != fig.canvas.height) {\n",
       "        fig._resize_canvas(size[0], size[1]);\n",
       "        fig.send_message(\"refresh\", {});\n",
       "    };\n",
       "}\n",
       "\n",
       "mpl.figure.prototype.handle_rubberband = function(fig, msg) {\n",
       "    var x0 = msg['x0'] / mpl.ratio;\n",
       "    var y0 = (fig.canvas.height - msg['y0']) / mpl.ratio;\n",
       "    var x1 = msg['x1'] / mpl.ratio;\n",
       "    var y1 = (fig.canvas.height - msg['y1']) / mpl.ratio;\n",
       "    x0 = Math.floor(x0) + 0.5;\n",
       "    y0 = Math.floor(y0) + 0.5;\n",
       "    x1 = Math.floor(x1) + 0.5;\n",
       "    y1 = Math.floor(y1) + 0.5;\n",
       "    var min_x = Math.min(x0, x1);\n",
       "    var min_y = Math.min(y0, y1);\n",
       "    var width = Math.abs(x1 - x0);\n",
       "    var height = Math.abs(y1 - y0);\n",
       "\n",
       "    fig.rubberband_context.clearRect(\n",
       "        0, 0, fig.canvas.width / mpl.ratio, fig.canvas.height / mpl.ratio);\n",
       "\n",
       "    fig.rubberband_context.strokeRect(min_x, min_y, width, height);\n",
       "}\n",
       "\n",
       "mpl.figure.prototype.handle_figure_label = function(fig, msg) {\n",
       "    // Updates the figure title.\n",
       "    fig.header.textContent = msg['label'];\n",
       "}\n",
       "\n",
       "mpl.figure.prototype.handle_cursor = function(fig, msg) {\n",
       "    var cursor = msg['cursor'];\n",
       "    switch(cursor)\n",
       "    {\n",
       "    case 0:\n",
       "        cursor = 'pointer';\n",
       "        break;\n",
       "    case 1:\n",
       "        cursor = 'default';\n",
       "        break;\n",
       "    case 2:\n",
       "        cursor = 'crosshair';\n",
       "        break;\n",
       "    case 3:\n",
       "        cursor = 'move';\n",
       "        break;\n",
       "    }\n",
       "    fig.rubberband_canvas.style.cursor = cursor;\n",
       "}\n",
       "\n",
       "mpl.figure.prototype.handle_message = function(fig, msg) {\n",
       "    fig.message.textContent = msg['message'];\n",
       "}\n",
       "\n",
       "mpl.figure.prototype.handle_draw = function(fig, msg) {\n",
       "    // Request the server to send over a new figure.\n",
       "    fig.send_draw_message();\n",
       "}\n",
       "\n",
       "mpl.figure.prototype.handle_image_mode = function(fig, msg) {\n",
       "    fig.image_mode = msg['mode'];\n",
       "}\n",
       "\n",
       "mpl.figure.prototype.updated_canvas_event = function() {\n",
       "    // Called whenever the canvas gets updated.\n",
       "    this.send_message(\"ack\", {});\n",
       "}\n",
       "\n",
       "// A function to construct a web socket function for onmessage handling.\n",
       "// Called in the figure constructor.\n",
       "mpl.figure.prototype._make_on_message_function = function(fig) {\n",
       "    return function socket_on_message(evt) {\n",
       "        if (evt.data instanceof Blob) {\n",
       "            /* FIXME: We get \"Resource interpreted as Image but\n",
       "             * transferred with MIME type text/plain:\" errors on\n",
       "             * Chrome.  But how to set the MIME type?  It doesn't seem\n",
       "             * to be part of the websocket stream */\n",
       "            evt.data.type = \"image/png\";\n",
       "\n",
       "            /* Free the memory for the previous frames */\n",
       "            if (fig.imageObj.src) {\n",
       "                (window.URL || window.webkitURL).revokeObjectURL(\n",
       "                    fig.imageObj.src);\n",
       "            }\n",
       "\n",
       "            fig.imageObj.src = (window.URL || window.webkitURL).createObjectURL(\n",
       "                evt.data);\n",
       "            fig.updated_canvas_event();\n",
       "            fig.waiting = false;\n",
       "            return;\n",
       "        }\n",
       "        else if (typeof evt.data === 'string' && evt.data.slice(0, 21) == \"data:image/png;base64\") {\n",
       "            fig.imageObj.src = evt.data;\n",
       "            fig.updated_canvas_event();\n",
       "            fig.waiting = false;\n",
       "            return;\n",
       "        }\n",
       "\n",
       "        var msg = JSON.parse(evt.data);\n",
       "        var msg_type = msg['type'];\n",
       "\n",
       "        // Call the  \"handle_{type}\" callback, which takes\n",
       "        // the figure and JSON message as its only arguments.\n",
       "        try {\n",
       "            var callback = fig[\"handle_\" + msg_type];\n",
       "        } catch (e) {\n",
       "            console.log(\"No handler for the '\" + msg_type + \"' message type: \", msg);\n",
       "            return;\n",
       "        }\n",
       "\n",
       "        if (callback) {\n",
       "            try {\n",
       "                // console.log(\"Handling '\" + msg_type + \"' message: \", msg);\n",
       "                callback(fig, msg);\n",
       "            } catch (e) {\n",
       "                console.log(\"Exception inside the 'handler_\" + msg_type + \"' callback:\", e, e.stack, msg);\n",
       "            }\n",
       "        }\n",
       "    };\n",
       "}\n",
       "\n",
       "// from http://stackoverflow.com/questions/1114465/getting-mouse-location-in-canvas\n",
       "mpl.findpos = function(e) {\n",
       "    //this section is from http://www.quirksmode.org/js/events_properties.html\n",
       "    var targ;\n",
       "    if (!e)\n",
       "        e = window.event;\n",
       "    if (e.target)\n",
       "        targ = e.target;\n",
       "    else if (e.srcElement)\n",
       "        targ = e.srcElement;\n",
       "    if (targ.nodeType == 3) // defeat Safari bug\n",
       "        targ = targ.parentNode;\n",
       "\n",
       "    // jQuery normalizes the pageX and pageY\n",
       "    // pageX,Y are the mouse positions relative to the document\n",
       "    // offset() returns the position of the element relative to the document\n",
       "    var x = e.pageX - $(targ).offset().left;\n",
       "    var y = e.pageY - $(targ).offset().top;\n",
       "\n",
       "    return {\"x\": x, \"y\": y};\n",
       "};\n",
       "\n",
       "/*\n",
       " * return a copy of an object with only non-object keys\n",
       " * we need this to avoid circular references\n",
       " * http://stackoverflow.com/a/24161582/3208463\n",
       " */\n",
       "function simpleKeys (original) {\n",
       "  return Object.keys(original).reduce(function (obj, key) {\n",
       "    if (typeof original[key] !== 'object')\n",
       "        obj[key] = original[key]\n",
       "    return obj;\n",
       "  }, {});\n",
       "}\n",
       "\n",
       "mpl.figure.prototype.mouse_event = function(event, name) {\n",
       "    var canvas_pos = mpl.findpos(event)\n",
       "\n",
       "    if (name === 'button_press')\n",
       "    {\n",
       "        this.canvas.focus();\n",
       "        this.canvas_div.focus();\n",
       "    }\n",
       "\n",
       "    var x = canvas_pos.x * mpl.ratio;\n",
       "    var y = canvas_pos.y * mpl.ratio;\n",
       "\n",
       "    this.send_message(name, {x: x, y: y, button: event.button,\n",
       "                             step: event.step,\n",
       "                             guiEvent: simpleKeys(event)});\n",
       "\n",
       "    /* This prevents the web browser from automatically changing to\n",
       "     * the text insertion cursor when the button is pressed.  We want\n",
       "     * to control all of the cursor setting manually through the\n",
       "     * 'cursor' event from matplotlib */\n",
       "    event.preventDefault();\n",
       "    return false;\n",
       "}\n",
       "\n",
       "mpl.figure.prototype._key_event_extra = function(event, name) {\n",
       "    // Handle any extra behaviour associated with a key event\n",
       "}\n",
       "\n",
       "mpl.figure.prototype.key_event = function(event, name) {\n",
       "\n",
       "    // Prevent repeat events\n",
       "    if (name == 'key_press')\n",
       "    {\n",
       "        if (event.which === this._key)\n",
       "            return;\n",
       "        else\n",
       "            this._key = event.which;\n",
       "    }\n",
       "    if (name == 'key_release')\n",
       "        this._key = null;\n",
       "\n",
       "    var value = '';\n",
       "    if (event.ctrlKey && event.which != 17)\n",
       "        value += \"ctrl+\";\n",
       "    if (event.altKey && event.which != 18)\n",
       "        value += \"alt+\";\n",
       "    if (event.shiftKey && event.which != 16)\n",
       "        value += \"shift+\";\n",
       "\n",
       "    value += 'k';\n",
       "    value += event.which.toString();\n",
       "\n",
       "    this._key_event_extra(event, name);\n",
       "\n",
       "    this.send_message(name, {key: value,\n",
       "                             guiEvent: simpleKeys(event)});\n",
       "    return false;\n",
       "}\n",
       "\n",
       "mpl.figure.prototype.toolbar_button_onclick = function(name) {\n",
       "    if (name == 'download') {\n",
       "        this.handle_save(this, null);\n",
       "    } else {\n",
       "        this.send_message(\"toolbar_button\", {name: name});\n",
       "    }\n",
       "};\n",
       "\n",
       "mpl.figure.prototype.toolbar_button_onmouseover = function(tooltip) {\n",
       "    this.message.textContent = tooltip;\n",
       "};\n",
       "mpl.toolbar_items = [[\"Home\", \"Reset original view\", \"fa fa-home icon-home\", \"home\"], [\"Back\", \"Back to previous view\", \"fa fa-arrow-left icon-arrow-left\", \"back\"], [\"Forward\", \"Forward to next view\", \"fa fa-arrow-right icon-arrow-right\", \"forward\"], [\"\", \"\", \"\", \"\"], [\"Pan\", \"Pan axes with left mouse, zoom with right\", \"fa fa-arrows icon-move\", \"pan\"], [\"Zoom\", \"Zoom to rectangle\", \"fa fa-square-o icon-check-empty\", \"zoom\"], [\"\", \"\", \"\", \"\"], [\"Download\", \"Download plot\", \"fa fa-floppy-o icon-save\", \"download\"]];\n",
       "\n",
       "mpl.extensions = [\"eps\", \"pdf\", \"png\", \"ps\", \"raw\", \"svg\"];\n",
       "\n",
       "mpl.default_extension = \"png\";var comm_websocket_adapter = function(comm) {\n",
       "    // Create a \"websocket\"-like object which calls the given IPython comm\n",
       "    // object with the appropriate methods. Currently this is a non binary\n",
       "    // socket, so there is still some room for performance tuning.\n",
       "    var ws = {};\n",
       "\n",
       "    ws.close = function() {\n",
       "        comm.close()\n",
       "    };\n",
       "    ws.send = function(m) {\n",
       "        //console.log('sending', m);\n",
       "        comm.send(m);\n",
       "    };\n",
       "    // Register the callback with on_msg.\n",
       "    comm.on_msg(function(msg) {\n",
       "        //console.log('receiving', msg['content']['data'], msg);\n",
       "        // Pass the mpl event to the overridden (by mpl) onmessage function.\n",
       "        ws.onmessage(msg['content']['data'])\n",
       "    });\n",
       "    return ws;\n",
       "}\n",
       "\n",
       "mpl.mpl_figure_comm = function(comm, msg) {\n",
       "    // This is the function which gets called when the mpl process\n",
       "    // starts-up an IPython Comm through the \"matplotlib\" channel.\n",
       "\n",
       "    var id = msg.content.data.id;\n",
       "    // Get hold of the div created by the display call when the Comm\n",
       "    // socket was opened in Python.\n",
       "    var element = $(\"#\" + id);\n",
       "    var ws_proxy = comm_websocket_adapter(comm)\n",
       "\n",
       "    function ondownload(figure, format) {\n",
       "        window.open(figure.imageObj.src);\n",
       "    }\n",
       "\n",
       "    var fig = new mpl.figure(id, ws_proxy,\n",
       "                           ondownload,\n",
       "                           element.get(0));\n",
       "\n",
       "    // Call onopen now - mpl needs it, as it is assuming we've passed it a real\n",
       "    // web socket which is closed, not our websocket->open comm proxy.\n",
       "    ws_proxy.onopen();\n",
       "\n",
       "    fig.parent_element = element.get(0);\n",
       "    fig.cell_info = mpl.find_output_cell(\"<div id='\" + id + \"'></div>\");\n",
       "    if (!fig.cell_info) {\n",
       "        console.error(\"Failed to find cell for figure\", id, fig);\n",
       "        return;\n",
       "    }\n",
       "\n",
       "    var output_index = fig.cell_info[2]\n",
       "    var cell = fig.cell_info[0];\n",
       "\n",
       "};\n",
       "\n",
       "mpl.figure.prototype.handle_close = function(fig, msg) {\n",
       "    var width = fig.canvas.width/mpl.ratio\n",
       "    fig.root.unbind('remove')\n",
       "\n",
       "    // Update the output cell to use the data from the current canvas.\n",
       "    fig.push_to_output();\n",
       "    var dataURL = fig.canvas.toDataURL();\n",
       "    // Re-enable the keyboard manager in IPython - without this line, in FF,\n",
       "    // the notebook keyboard shortcuts fail.\n",
       "    IPython.keyboard_manager.enable()\n",
       "    $(fig.parent_element).html('<img src=\"' + dataURL + '\" width=\"' + width + '\">');\n",
       "    fig.close_ws(fig, msg);\n",
       "}\n",
       "\n",
       "mpl.figure.prototype.close_ws = function(fig, msg){\n",
       "    fig.send_message('closing', msg);\n",
       "    // fig.ws.close()\n",
       "}\n",
       "\n",
       "mpl.figure.prototype.push_to_output = function(remove_interactive) {\n",
       "    // Turn the data on the canvas into data in the output cell.\n",
       "    var width = this.canvas.width/mpl.ratio\n",
       "    var dataURL = this.canvas.toDataURL();\n",
       "    this.cell_info[1]['text/html'] = '<img src=\"' + dataURL + '\" width=\"' + width + '\">';\n",
       "}\n",
       "\n",
       "mpl.figure.prototype.updated_canvas_event = function() {\n",
       "    // Tell IPython that the notebook contents must change.\n",
       "    IPython.notebook.set_dirty(true);\n",
       "    this.send_message(\"ack\", {});\n",
       "    var fig = this;\n",
       "    // Wait a second, then push the new image to the DOM so\n",
       "    // that it is saved nicely (might be nice to debounce this).\n",
       "    setTimeout(function () { fig.push_to_output() }, 1000);\n",
       "}\n",
       "\n",
       "mpl.figure.prototype._init_toolbar = function() {\n",
       "    var fig = this;\n",
       "\n",
       "    var nav_element = $('<div/>');\n",
       "    nav_element.attr('style', 'width: 100%');\n",
       "    this.root.append(nav_element);\n",
       "\n",
       "    // Define a callback function for later on.\n",
       "    function toolbar_event(event) {\n",
       "        return fig.toolbar_button_onclick(event['data']);\n",
       "    }\n",
       "    function toolbar_mouse_event(event) {\n",
       "        return fig.toolbar_button_onmouseover(event['data']);\n",
       "    }\n",
       "\n",
       "    for(var toolbar_ind in mpl.toolbar_items){\n",
       "        var name = mpl.toolbar_items[toolbar_ind][0];\n",
       "        var tooltip = mpl.toolbar_items[toolbar_ind][1];\n",
       "        var image = mpl.toolbar_items[toolbar_ind][2];\n",
       "        var method_name = mpl.toolbar_items[toolbar_ind][3];\n",
       "\n",
       "        if (!name) { continue; };\n",
       "\n",
       "        var button = $('<button class=\"btn btn-default\" href=\"#\" title=\"' + name + '\"><i class=\"fa ' + image + ' fa-lg\"></i></button>');\n",
       "        button.click(method_name, toolbar_event);\n",
       "        button.mouseover(tooltip, toolbar_mouse_event);\n",
       "        nav_element.append(button);\n",
       "    }\n",
       "\n",
       "    // Add the status bar.\n",
       "    var status_bar = $('<span class=\"mpl-message\" style=\"text-align:right; float: right;\"/>');\n",
       "    nav_element.append(status_bar);\n",
       "    this.message = status_bar[0];\n",
       "\n",
       "    // Add the close button to the window.\n",
       "    var buttongrp = $('<div class=\"btn-group inline pull-right\"></div>');\n",
       "    var button = $('<button class=\"btn btn-mini btn-primary\" href=\"#\" title=\"Stop Interaction\"><i class=\"fa fa-power-off icon-remove icon-large\"></i></button>');\n",
       "    button.click(function (evt) { fig.handle_close(fig, {}); } );\n",
       "    button.mouseover('Stop Interaction', toolbar_mouse_event);\n",
       "    buttongrp.append(button);\n",
       "    var titlebar = this.root.find($('.ui-dialog-titlebar'));\n",
       "    titlebar.prepend(buttongrp);\n",
       "}\n",
       "\n",
       "mpl.figure.prototype._root_extra_style = function(el){\n",
       "    var fig = this\n",
       "    el.on(\"remove\", function(){\n",
       "\tfig.close_ws(fig, {});\n",
       "    });\n",
       "}\n",
       "\n",
       "mpl.figure.prototype._canvas_extra_style = function(el){\n",
       "    // this is important to make the div 'focusable\n",
       "    el.attr('tabindex', 0)\n",
       "    // reach out to IPython and tell the keyboard manager to turn it's self\n",
       "    // off when our div gets focus\n",
       "\n",
       "    // location in version 3\n",
       "    if (IPython.notebook.keyboard_manager) {\n",
       "        IPython.notebook.keyboard_manager.register_events(el);\n",
       "    }\n",
       "    else {\n",
       "        // location in version 2\n",
       "        IPython.keyboard_manager.register_events(el);\n",
       "    }\n",
       "\n",
       "}\n",
       "\n",
       "mpl.figure.prototype._key_event_extra = function(event, name) {\n",
       "    var manager = IPython.notebook.keyboard_manager;\n",
       "    if (!manager)\n",
       "        manager = IPython.keyboard_manager;\n",
       "\n",
       "    // Check for shift+enter\n",
       "    if (event.shiftKey && event.which == 13) {\n",
       "        this.canvas_div.blur();\n",
       "        event.shiftKey = false;\n",
       "        // Send a \"J\" for go to next cell\n",
       "        event.which = 74;\n",
       "        event.keyCode = 74;\n",
       "        manager.command_mode();\n",
       "        manager.handle_keydown(event);\n",
       "    }\n",
       "}\n",
       "\n",
       "mpl.figure.prototype.handle_save = function(fig, msg) {\n",
       "    fig.ondownload(fig, null);\n",
       "}\n",
       "\n",
       "\n",
       "mpl.find_output_cell = function(html_output) {\n",
       "    // Return the cell and output element which can be found *uniquely* in the notebook.\n",
       "    // Note - this is a bit hacky, but it is done because the \"notebook_saving.Notebook\"\n",
       "    // IPython event is triggered only after the cells have been serialised, which for\n",
       "    // our purposes (turning an active figure into a static one), is too late.\n",
       "    var cells = IPython.notebook.get_cells();\n",
       "    var ncells = cells.length;\n",
       "    for (var i=0; i<ncells; i++) {\n",
       "        var cell = cells[i];\n",
       "        if (cell.cell_type === 'code'){\n",
       "            for (var j=0; j<cell.output_area.outputs.length; j++) {\n",
       "                var data = cell.output_area.outputs[j];\n",
       "                if (data.data) {\n",
       "                    // IPython >= 3 moved mimebundle to data attribute of output\n",
       "                    data = data.data;\n",
       "                }\n",
       "                if (data['text/html'] == html_output) {\n",
       "                    return [cell, data, j];\n",
       "                }\n",
       "            }\n",
       "        }\n",
       "    }\n",
       "}\n",
       "\n",
       "// Register the function which deals with the matplotlib target/channel.\n",
       "// The kernel may be null if the page has been refreshed.\n",
       "if (IPython.notebook.kernel != null) {\n",
       "    IPython.notebook.kernel.comm_manager.register_target('matplotlib', mpl.mpl_figure_comm);\n",
       "}\n"
      ],
      "text/plain": [
       "<IPython.core.display.Javascript object>"
      ]
     },
     "metadata": {},
     "output_type": "display_data"
    },
    {
     "data": {
      "text/html": [
       "<img src=\"data:image/png;base64,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\" width=\"640\">"
      ],
      "text/plain": [
       "<IPython.core.display.HTML object>"
      ]
     },
     "metadata": {},
     "output_type": "display_data"
    },
    {
     "data": {
      "text/plain": [
       "<matplotlib.collections.PathCollection at 0x7f751e7539d0>"
      ]
     },
     "execution_count": 57,
     "metadata": {},
     "output_type": "execute_result"
    }
   ],
   "source": [
    "plt.scatter(x=scaled_data[:,0], y=scaled_data[:,1])"
   ]
  },
  {
   "cell_type": "code",
   "execution_count": 29,
   "metadata": {},
   "outputs": [
    {
     "data": {
      "text/plain": [
       "(39, 2)"
      ]
     },
     "execution_count": 29,
     "metadata": {},
     "output_type": "execute_result"
    }
   ],
   "source": [
    "evolver.population.objectives.shape"
   ]
  },
  {
   "cell_type": "code",
   "execution_count": 11,
   "metadata": {},
   "outputs": [],
   "source": [
    "zdt1_pareto = np.asarray([[0.0000000333,0.9998173820],\n",
    "[0.0036524605,0.9395644103],\n",
    "[0.0109353082,0.8954279758],\n",
    "[0.0201661797,0.8579923253],\n",
    "[0.0307984775,0.8245050499],\n",
    "[0.0425521730,0.7937182195],\n",
    "[0.0552536936,0.7649389578],\n",
    "[0.0687834600,0.7377339899],\n",
    "[0.0830533346,0.7118102455],\n",
    "[0.0979952414,0.6869580836],\n",
    "[0.1135547782,0.6630211013],\n",
    "[0.1296872770,0.6398788023],\n",
    "[0.1463553419,0.6174358329],\n",
    "[0.1635270897,0.5956151713],\n",
    "[0.1811749649,0.5743534743],\n",
    "[0.1992748910,0.5535978371],\n",
    "[0.2178056136,0.5333035102],\n",
    "[0.2367481746,0.5134322508],\n",
    "[0.2560856025,0.4939509881],\n",
    "[0.2758025276,0.4748309533],\n",
    "[0.2958850236,0.4560468554],\n",
    "[0.3163203619,0.4375763502],\n",
    "[0.3370968359,0.4193995902],\n",
    "[0.3582036897,0.4014987972],\n",
    "[0.3796309819,0.3838579856],\n",
    "[0.4013694644,0.3664627364],\n",
    "[0.4234104957,0.3492999957],\n",
    "[0.4457460837,0.3323578176],\n",
    "[0.4683687091,0.3156253153],\n",
    "[0.4912712857,0.2990925270],\n",
    "[0.5144471844,0.2827502636],\n",
    "[0.5378901526,0.2665900514],\n",
    "[0.5615942516,0.2506040755],\n",
    "[0.5855539020,0.2347850615],\n",
    "[0.6097637681,0.2191262791],\n",
    "[0.6342188315,0.2036214270],\n",
    "[0.6589142602,0.1882646612],\n",
    "[0.6838455122,0.1730504779],\n",
    "[0.7090082355,0.1579737323],\n",
    "[0.7343982546,0.1430296070],\n",
    "[0.7600116005,0.1282135580],\n",
    "[0.7858444564,0.1135213164],\n",
    "[0.8118931476,0.0989488651],\n",
    "[0.8381541846,0.0844923897],\n",
    "[0.8646242088,0.0701482867],\n",
    "[0.8912999852,0.0559131474],\n",
    "[0.9181784008,0.0417837401],\n",
    "[0.9452564510,0.0277570000],\n",
    "[0.9725312450,0.0138300121],\n",
    "[1.0000000000,0.0000000000],])"
   ]
  },
  {
   "cell_type": "code",
   "execution_count": 13,
   "metadata": {},
   "outputs": [],
   "source": [
    "# 3 Objectives"
   ]
  },
  {
   "cell_type": "code",
   "execution_count": 22,
   "metadata": {},
   "outputs": [],
   "source": [
    "import plotly.graph_objects as go"
   ]
  },
  {
   "cell_type": "code",
   "execution_count": 14,
   "metadata": {},
   "outputs": [],
   "source": [
    "problem = test_problem_builder(name=\"DTLZ1\", n_of_objectives=3, n_of_variables=5)"
   ]
  },
  {
   "cell_type": "code",
   "execution_count": 15,
   "metadata": {},
   "outputs": [],
   "source": [
    "problem.ideal = np.asarray([0, 0, 0])\n",
    "problem.nadir = np.asarray([0.5, 0.5, 0.5])"
   ]
  },
  {
   "cell_type": "code",
   "execution_count": 16,
   "metadata": {},
   "outputs": [],
   "source": [
    "evolver = NIMBUS_RVEA(problem, n_gen_per_iter=700)"
   ]
  },
  {
   "cell_type": "code",
   "execution_count": 17,
   "metadata": {},
   "outputs": [],
   "source": [
    "plot, pref = evolver.requests()"
   ]
  },
  {
   "cell_type": "code",
   "execution_count": 19,
   "metadata": {},
   "outputs": [
    {
     "data": {
      "text/plain": [
       "{'dimensions_data':            f1   f2   f3\n",
       " minimize    1    1    1\n",
       " ideal       0    0    0\n",
       " nadir     0.5  0.5  0.5,\n",
       " 'message': 'Provide a reference point worse than to the ideal point and better than the nadir point.\\nIdeal point: \\nf1    0\\nf2    0\\nf3    0\\nName: ideal, dtype: object\\nNadir point: \\nf1    0.5\\nf2    0.5\\nf3    0.5\\nName: nadir, dtype: object\\nThe reference point will be used to create scalarization functions in the preferred region.\\n',\n",
       " 'validator': <function desdeo_tools.interaction.validators.validate_ref_point_with_ideal_and_nadir(dimensions_data: pandas.core.frame.DataFrame, reference_point: pandas.core.frame.DataFrame)>}"
      ]
     },
     "execution_count": 19,
     "metadata": {},
     "output_type": "execute_result"
    }
   ],
   "source": [
    "pref.content"
   ]
  },
  {
   "cell_type": "code",
   "execution_count": 65,
   "metadata": {},
   "outputs": [],
   "source": [
    "response = np.asarray([[0.45,0.1, 0.4]])\n",
    "pref.response = pd.DataFrame(response, columns=pref.content['dimensions_data'].columns)"
   ]
  },
  {
   "cell_type": "code",
   "execution_count": 66,
   "metadata": {},
   "outputs": [],
   "source": [
    "plot, pref = evolver.iterate(pref)"
   ]
  },
  {
   "cell_type": "code",
   "execution_count": 73,
   "metadata": {},
   "outputs": [
    {
     "data": {
      "application/vnd.plotly.v1+json": {
       "config": {
        "plotlyServerURL": "https://plot.ly"
       },
       "data": [
        {
         "marker": {
          "opacity": 0.8,
          "size": 4
         },
         "mode": "markers",
         "name": "NIMBUS-RVEA",
         "type": "scatter3d",
         "x": [
          0.2647120402132334,
          0.2371243767450546,
          0.2605805309127191,
          0.247193586475252,
          0.2535526093321874,
          0.2641405004621788,
          0.264088390790693,
          0.26318348927515467,
          0.25851703899044537,
          0.26049319977290125,
          0.2569614620266885,
          0.2610618326178119,
          0.26180345753181883,
          0.2623533946389212,
          0.25176775201957396,
          0.2641661153740663,
          0.254496595067787,
          0.25922910903817675,
          0.26385978767219,
          0.24838264571471777,
          0.2524768102480757,
          0.2636268923230785,
          0.25820249712515253,
          0.26195889451754617,
          0.2587532945917026,
          0.26264554680141544,
          0.2559458267051725,
          0.2620929416933397,
          0.26444704581000406,
          0.2611000621378818,
          0.26463193895228343,
          0.2572250295034827,
          0.2636403353756498,
          0.24162710514511052,
          0.2636620814783515,
          0.24879041084853015,
          0.26449339605004285,
          0.26286821861332954,
          0.26482256187384157,
          0.24960151781074388,
          0.26257199658657154,
          0.2599646925001492,
          0.25597974223948294,
          0.2611092027070773,
          0.26404440956324304,
          0.2624402630427415,
          0.2635695570692268,
          0.25937644557612655,
          0.25992020186053494,
          0.24450959462288932
         ],
         "y": [
          0,
          0.052283699822516176,
          0.00762622235281114,
          0.033661478097810275,
          0.021862248632023743,
          0.0005437643296646902,
          0.0011678082728337421,
          0.002817286079588491,
          0.00767431419641847,
          0.006748629078353983,
          0.01168387601669297,
          0.004146957143863848,
          0.0032111403688437536,
          0.004247762874446635,
          0.028703516421233526,
          0.0008469981979281532,
          0.020051566870757254,
          0.012279809770733752,
          0.0021423401209009246,
          0.016722255330957923,
          0.015998941926581627,
          0.0010189056747068638,
          0.016215649156496294,
          0.005309815304304815,
          0.00974992493966871,
          0.0024194842941948676,
          0.018599204235391794,
          0.0057804051396759095,
          0.0006932629365807416,
          0.0061992149397942994,
          0.00012740032920567212,
          0.01732275549334322,
          0.0013710663582139522,
          0.04725070298014774,
          0.0037390441384267613,
          0.02579140466024874,
          0.0002618001757865295,
          0.0017833713576505792,
          0.00040158215851082674,
          0.031180880238964315,
          0.002649478945902533,
          0.005289726643509293,
          0.011338932291095019,
          0.004786387536184886,
          0.0019360052665699044,
          0.003397207286713783,
          0.001544157320989832,
          0.008462409140949425,
          0.008785573937158082,
          0.03882061744404256
         ],
         "z": [
          0.2352974260586663,
          0.21060414912550934,
          0.2318062815890877,
          0.21915677416042015,
          0.2245946512339289,
          0.23533067026470356,
          0.23475883353288535,
          0.23400858259032015,
          0.23382367922387456,
          0.2327728688245767,
          0.23136667406306136,
          0.23480333255525232,
          0.23500033342982057,
          0.23341091603599243,
          0.21954100081107367,
          0.23500181028682093,
          0.2254635513397586,
          0.2285005406511492,
          0.2340098087306563,
          0.2349105676265785,
          0.2315362352177547,
          0.2353663091150824,
          0.22559376943021284,
          0.23274598668353944,
          0.23151153296802854,
          0.23494986557217792,
          0.22546658500861602,
          0.23214141102516436,
          0.23486934673447432,
          0.23271303317431946,
          0.2352526894771445,
          0.2254646555278512,
          0.23500329267376027,
          0.2111376468908531,
          0.23261490545140576,
          0.22543304266642242,
          0.23525398515387155,
          0.23536051941216055,
          0.2347915150772122,
          0.21922942797809328,
          0.23479334810473257,
          0.23476033344016273,
          0.23269656796728594,
          0.23411681361225825,
          0.23402889335578717,
          0.23417792784741165,
          0.23489884011037804,
          0.23217321866972543,
          0.23130364446461052,
          0.21668213847714443
         ]
        },
        {
         "name": "True Front",
         "type": "scatter3d",
         "x": [
          0.5,
          0,
          0,
          0.5
         ],
         "y": [
          0,
          0.5,
          0,
          0
         ],
         "z": [
          0,
          0,
          0.5,
          0
         ]
        },
        {
         "name": "Nadir Point",
         "type": "scatter3d",
         "x": [
          0.5
         ],
         "y": [
          0.5
         ],
         "z": [
          0.5
         ]
        },
        {
         "name": "Reference Point",
         "type": "scatter3d",
         "x": [
          0.45
         ],
         "y": [
          0.1
         ],
         "z": [
          0.4
         ]
        },
        {
         "name": "STOM",
         "type": "scatter3d",
         "x": [
          0,
          0.45
         ],
         "y": [
          0,
          0.1
         ],
         "z": [
          0,
          0.4
         ]
        },
        {
         "name": "ASF",
         "type": "scatter3d",
         "x": [
          -0.55,
          1.45
         ],
         "y": [
          -0.9,
          1.1
         ],
         "z": [
          -0.6,
          1.4
         ]
        },
        {
         "name": "Ideal Point",
         "type": "scatter3d",
         "x": [
          0
         ],
         "y": [
          0
         ],
         "z": [
          0
         ]
        }
       ],
       "layout": {
        "margin": {
         "b": 0,
         "l": 0,
         "r": 0,
         "t": 0
        },
        "scene": {
         "xaxis": {
          "range": [
           -0.1,
           0.6
          ]
         },
         "yaxis": {
          "range": [
           -0.1,
           0.6
          ]
         },
         "zaxis": {
          "range": [
           -0.1,
           0.6
          ]
         }
        },
        "template": {
         "data": {
          "bar": [
           {
            "error_x": {
             "color": "#2a3f5f"
            },
            "error_y": {
             "color": "#2a3f5f"
            },
            "marker": {
             "line": {
              "color": "#E5ECF6",
              "width": 0.5
             }
            },
            "type": "bar"
           }
          ],
          "barpolar": [
           {
            "marker": {
             "line": {
              "color": "#E5ECF6",
              "width": 0.5
             }
            },
            "type": "barpolar"
           }
          ],
          "carpet": [
           {
            "aaxis": {
             "endlinecolor": "#2a3f5f",
             "gridcolor": "white",
             "linecolor": "white",
             "minorgridcolor": "white",
             "startlinecolor": "#2a3f5f"
            },
            "baxis": {
             "endlinecolor": "#2a3f5f",
             "gridcolor": "white",
             "linecolor": "white",
             "minorgridcolor": "white",
             "startlinecolor": "#2a3f5f"
            },
            "type": "carpet"
           }
          ],
          "choropleth": [
           {
            "colorbar": {
             "outlinewidth": 0,
             "ticks": ""
            },
            "type": "choropleth"
           }
          ],
          "contour": [
           {
            "colorbar": {
             "outlinewidth": 0,
             "ticks": ""
            },
            "colorscale": [
             [
              0,
              "#0d0887"
             ],
             [
              0.1111111111111111,
              "#46039f"
             ],
             [
              0.2222222222222222,
              "#7201a8"
             ],
             [
              0.3333333333333333,
              "#9c179e"
             ],
             [
              0.4444444444444444,
              "#bd3786"
             ],
             [
              0.5555555555555556,
              "#d8576b"
             ],
             [
              0.6666666666666666,
              "#ed7953"
             ],
             [
              0.7777777777777778,
              "#fb9f3a"
             ],
             [
              0.8888888888888888,
              "#fdca26"
             ],
             [
              1,
              "#f0f921"
             ]
            ],
            "type": "contour"
           }
          ],
          "contourcarpet": [
           {
            "colorbar": {
             "outlinewidth": 0,
             "ticks": ""
            },
            "type": "contourcarpet"
           }
          ],
          "heatmap": [
           {
            "colorbar": {
             "outlinewidth": 0,
             "ticks": ""
            },
            "colorscale": [
             [
              0,
              "#0d0887"
             ],
             [
              0.1111111111111111,
              "#46039f"
             ],
             [
              0.2222222222222222,
              "#7201a8"
             ],
             [
              0.3333333333333333,
              "#9c179e"
             ],
             [
              0.4444444444444444,
              "#bd3786"
             ],
             [
              0.5555555555555556,
              "#d8576b"
             ],
             [
              0.6666666666666666,
              "#ed7953"
             ],
             [
              0.7777777777777778,
              "#fb9f3a"
             ],
             [
              0.8888888888888888,
              "#fdca26"
             ],
             [
              1,
              "#f0f921"
             ]
            ],
            "type": "heatmap"
           }
          ],
          "heatmapgl": [
           {
            "colorbar": {
             "outlinewidth": 0,
             "ticks": ""
            },
            "colorscale": [
             [
              0,
              "#0d0887"
             ],
             [
              0.1111111111111111,
              "#46039f"
             ],
             [
              0.2222222222222222,
              "#7201a8"
             ],
             [
              0.3333333333333333,
              "#9c179e"
             ],
             [
              0.4444444444444444,
              "#bd3786"
             ],
             [
              0.5555555555555556,
              "#d8576b"
             ],
             [
              0.6666666666666666,
              "#ed7953"
             ],
             [
              0.7777777777777778,
              "#fb9f3a"
             ],
             [
              0.8888888888888888,
              "#fdca26"
             ],
             [
              1,
              "#f0f921"
             ]
            ],
            "type": "heatmapgl"
           }
          ],
          "histogram": [
           {
            "marker": {
             "colorbar": {
              "outlinewidth": 0,
              "ticks": ""
             }
            },
            "type": "histogram"
           }
          ],
          "histogram2d": [
           {
            "colorbar": {
             "outlinewidth": 0,
             "ticks": ""
            },
            "colorscale": [
             [
              0,
              "#0d0887"
             ],
             [
              0.1111111111111111,
              "#46039f"
             ],
             [
              0.2222222222222222,
              "#7201a8"
             ],
             [
              0.3333333333333333,
              "#9c179e"
             ],
             [
              0.4444444444444444,
              "#bd3786"
             ],
             [
              0.5555555555555556,
              "#d8576b"
             ],
             [
              0.6666666666666666,
              "#ed7953"
             ],
             [
              0.7777777777777778,
              "#fb9f3a"
             ],
             [
              0.8888888888888888,
              "#fdca26"
             ],
             [
              1,
              "#f0f921"
             ]
            ],
            "type": "histogram2d"
           }
          ],
          "histogram2dcontour": [
           {
            "colorbar": {
             "outlinewidth": 0,
             "ticks": ""
            },
            "colorscale": [
             [
              0,
              "#0d0887"
             ],
             [
              0.1111111111111111,
              "#46039f"
             ],
             [
              0.2222222222222222,
              "#7201a8"
             ],
             [
              0.3333333333333333,
              "#9c179e"
             ],
             [
              0.4444444444444444,
              "#bd3786"
             ],
             [
              0.5555555555555556,
              "#d8576b"
             ],
             [
              0.6666666666666666,
              "#ed7953"
             ],
             [
              0.7777777777777778,
              "#fb9f3a"
             ],
             [
              0.8888888888888888,
              "#fdca26"
             ],
             [
              1,
              "#f0f921"
             ]
            ],
            "type": "histogram2dcontour"
           }
          ],
          "mesh3d": [
           {
            "colorbar": {
             "outlinewidth": 0,
             "ticks": ""
            },
            "type": "mesh3d"
           }
          ],
          "parcoords": [
           {
            "line": {
             "colorbar": {
              "outlinewidth": 0,
              "ticks": ""
             }
            },
            "type": "parcoords"
           }
          ],
          "scatter": [
           {
            "marker": {
             "colorbar": {
              "outlinewidth": 0,
              "ticks": ""
             }
            },
            "type": "scatter"
           }
          ],
          "scatter3d": [
           {
            "line": {
             "colorbar": {
              "outlinewidth": 0,
              "ticks": ""
             }
            },
            "marker": {
             "colorbar": {
              "outlinewidth": 0,
              "ticks": ""
             }
            },
            "type": "scatter3d"
           }
          ],
          "scattercarpet": [
           {
            "marker": {
             "colorbar": {
              "outlinewidth": 0,
              "ticks": ""
             }
            },
            "type": "scattercarpet"
           }
          ],
          "scattergeo": [
           {
            "marker": {
             "colorbar": {
              "outlinewidth": 0,
              "ticks": ""
             }
            },
            "type": "scattergeo"
           }
          ],
          "scattergl": [
           {
            "marker": {
             "colorbar": {
              "outlinewidth": 0,
              "ticks": ""
             }
            },
            "type": "scattergl"
           }
          ],
          "scattermapbox": [
           {
            "marker": {
             "colorbar": {
              "outlinewidth": 0,
              "ticks": ""
             }
            },
            "type": "scattermapbox"
           }
          ],
          "scatterpolar": [
           {
            "marker": {
             "colorbar": {
              "outlinewidth": 0,
              "ticks": ""
             }
            },
            "type": "scatterpolar"
           }
          ],
          "scatterpolargl": [
           {
            "marker": {
             "colorbar": {
              "outlinewidth": 0,
              "ticks": ""
             }
            },
            "type": "scatterpolargl"
           }
          ],
          "scatterternary": [
           {
            "marker": {
             "colorbar": {
              "outlinewidth": 0,
              "ticks": ""
             }
            },
            "type": "scatterternary"
           }
          ],
          "surface": [
           {
            "colorbar": {
             "outlinewidth": 0,
             "ticks": ""
            },
            "colorscale": [
             [
              0,
              "#0d0887"
             ],
             [
              0.1111111111111111,
              "#46039f"
             ],
             [
              0.2222222222222222,
              "#7201a8"
             ],
             [
              0.3333333333333333,
              "#9c179e"
             ],
             [
              0.4444444444444444,
              "#bd3786"
             ],
             [
              0.5555555555555556,
              "#d8576b"
             ],
             [
              0.6666666666666666,
              "#ed7953"
             ],
             [
              0.7777777777777778,
              "#fb9f3a"
             ],
             [
              0.8888888888888888,
              "#fdca26"
             ],
             [
              1,
              "#f0f921"
             ]
            ],
            "type": "surface"
           }
          ],
          "table": [
           {
            "cells": {
             "fill": {
              "color": "#EBF0F8"
             },
             "line": {
              "color": "white"
             }
            },
            "header": {
             "fill": {
              "color": "#C8D4E3"
             },
             "line": {
              "color": "white"
             }
            },
            "type": "table"
           }
          ]
         },
         "layout": {
          "annotationdefaults": {
           "arrowcolor": "#2a3f5f",
           "arrowhead": 0,
           "arrowwidth": 1
          },
          "colorscale": {
           "diverging": [
            [
             0,
             "#8e0152"
            ],
            [
             0.1,
             "#c51b7d"
            ],
            [
             0.2,
             "#de77ae"
            ],
            [
             0.3,
             "#f1b6da"
            ],
            [
             0.4,
             "#fde0ef"
            ],
            [
             0.5,
             "#f7f7f7"
            ],
            [
             0.6,
             "#e6f5d0"
            ],
            [
             0.7,
             "#b8e186"
            ],
            [
             0.8,
             "#7fbc41"
            ],
            [
             0.9,
             "#4d9221"
            ],
            [
             1,
             "#276419"
            ]
           ],
           "sequential": [
            [
             0,
             "#0d0887"
            ],
            [
             0.1111111111111111,
             "#46039f"
            ],
            [
             0.2222222222222222,
             "#7201a8"
            ],
            [
             0.3333333333333333,
             "#9c179e"
            ],
            [
             0.4444444444444444,
             "#bd3786"
            ],
            [
             0.5555555555555556,
             "#d8576b"
            ],
            [
             0.6666666666666666,
             "#ed7953"
            ],
            [
             0.7777777777777778,
             "#fb9f3a"
            ],
            [
             0.8888888888888888,
             "#fdca26"
            ],
            [
             1,
             "#f0f921"
            ]
           ],
           "sequentialminus": [
            [
             0,
             "#0d0887"
            ],
            [
             0.1111111111111111,
             "#46039f"
            ],
            [
             0.2222222222222222,
             "#7201a8"
            ],
            [
             0.3333333333333333,
             "#9c179e"
            ],
            [
             0.4444444444444444,
             "#bd3786"
            ],
            [
             0.5555555555555556,
             "#d8576b"
            ],
            [
             0.6666666666666666,
             "#ed7953"
            ],
            [
             0.7777777777777778,
             "#fb9f3a"
            ],
            [
             0.8888888888888888,
             "#fdca26"
            ],
            [
             1,
             "#f0f921"
            ]
           ]
          },
          "colorway": [
           "#636efa",
           "#EF553B",
           "#00cc96",
           "#ab63fa",
           "#FFA15A",
           "#19d3f3",
           "#FF6692",
           "#B6E880",
           "#FF97FF",
           "#FECB52"
          ],
          "font": {
           "color": "#2a3f5f"
          },
          "geo": {
           "bgcolor": "white",
           "lakecolor": "white",
           "landcolor": "#E5ECF6",
           "showlakes": true,
           "showland": true,
           "subunitcolor": "white"
          },
          "hoverlabel": {
           "align": "left"
          },
          "hovermode": "closest",
          "mapbox": {
           "style": "light"
          },
          "paper_bgcolor": "white",
          "plot_bgcolor": "#E5ECF6",
          "polar": {
           "angularaxis": {
            "gridcolor": "white",
            "linecolor": "white",
            "ticks": ""
           },
           "bgcolor": "#E5ECF6",
           "radialaxis": {
            "gridcolor": "white",
            "linecolor": "white",
            "ticks": ""
           }
          },
          "scene": {
           "xaxis": {
            "backgroundcolor": "#E5ECF6",
            "gridcolor": "white",
            "gridwidth": 2,
            "linecolor": "white",
            "showbackground": true,
            "ticks": "",
            "zerolinecolor": "white"
           },
           "yaxis": {
            "backgroundcolor": "#E5ECF6",
            "gridcolor": "white",
            "gridwidth": 2,
            "linecolor": "white",
            "showbackground": true,
            "ticks": "",
            "zerolinecolor": "white"
           },
           "zaxis": {
            "backgroundcolor": "#E5ECF6",
            "gridcolor": "white",
            "gridwidth": 2,
            "linecolor": "white",
            "showbackground": true,
            "ticks": "",
            "zerolinecolor": "white"
           }
          },
          "shapedefaults": {
           "line": {
            "color": "#2a3f5f"
           }
          },
          "ternary": {
           "aaxis": {
            "gridcolor": "white",
            "linecolor": "white",
            "ticks": ""
           },
           "baxis": {
            "gridcolor": "white",
            "linecolor": "white",
            "ticks": ""
           },
           "bgcolor": "#E5ECF6",
           "caxis": {
            "gridcolor": "white",
            "linecolor": "white",
            "ticks": ""
           }
          },
          "title": {
           "x": 0.05
          },
          "xaxis": {
           "automargin": true,
           "gridcolor": "white",
           "linecolor": "white",
           "ticks": "",
           "zerolinecolor": "white",
           "zerolinewidth": 2
          },
          "yaxis": {
           "automargin": true,
           "gridcolor": "white",
           "linecolor": "white",
           "ticks": "",
           "zerolinecolor": "white",
           "zerolinewidth": 2
          }
         }
        }
       }
      },
      "text/html": [
       "<div>\n",
       "        \n",
       "        \n",
       "            <div id=\"74719c18-1784-408e-b9fc-b40f15018e5c\" class=\"plotly-graph-div\" style=\"height:525px; width:100%;\"></div>\n",
       "            <script type=\"text/javascript\">\n",
       "                require([\"plotly\"], function(Plotly) {\n",
       "                    window.PLOTLYENV=window.PLOTLYENV || {};\n",
       "                    \n",
       "                if (document.getElementById(\"74719c18-1784-408e-b9fc-b40f15018e5c\")) {\n",
       "                    Plotly.newPlot(\n",
       "                        '74719c18-1784-408e-b9fc-b40f15018e5c',\n",
       "                        [{\"marker\": {\"opacity\": 0.8, \"size\": 4}, \"mode\": \"markers\", \"name\": \"NIMBUS-RVEA\", \"type\": \"scatter3d\", \"x\": [0.2647120402132334, 0.2371243767450546, 0.2605805309127191, 0.247193586475252, 0.2535526093321874, 0.2641405004621788, 0.264088390790693, 0.26318348927515467, 0.25851703899044537, 0.26049319977290125, 0.2569614620266885, 0.2610618326178119, 0.26180345753181883, 0.2623533946389212, 0.25176775201957396, 0.2641661153740663, 0.254496595067787, 0.25922910903817675, 0.26385978767219, 0.24838264571471777, 0.2524768102480757, 0.2636268923230785, 0.25820249712515253, 0.26195889451754617, 0.2587532945917026, 0.26264554680141544, 0.2559458267051725, 0.2620929416933397, 0.26444704581000406, 0.2611000621378818, 0.26463193895228343, 0.2572250295034827, 0.2636403353756498, 0.24162710514511052, 0.2636620814783515, 0.24879041084853015, 0.26449339605004285, 0.26286821861332954, 0.26482256187384157, 0.24960151781074388, 0.26257199658657154, 0.2599646925001492, 0.25597974223948294, 0.2611092027070773, 0.26404440956324304, 0.2624402630427415, 0.2635695570692268, 0.25937644557612655, 0.25992020186053494, 0.24450959462288932], \"y\": [0.0, 0.052283699822516176, 0.00762622235281114, 0.033661478097810275, 0.021862248632023743, 0.0005437643296646902, 0.0011678082728337421, 0.002817286079588491, 0.00767431419641847, 0.006748629078353983, 0.01168387601669297, 0.004146957143863848, 0.0032111403688437536, 0.004247762874446635, 0.028703516421233526, 0.0008469981979281532, 0.020051566870757254, 0.012279809770733752, 0.0021423401209009246, 0.016722255330957923, 0.015998941926581627, 0.0010189056747068638, 0.016215649156496294, 0.005309815304304815, 0.00974992493966871, 0.0024194842941948676, 0.018599204235391794, 0.0057804051396759095, 0.0006932629365807416, 0.0061992149397942994, 0.00012740032920567212, 0.01732275549334322, 0.0013710663582139522, 0.04725070298014774, 0.0037390441384267613, 0.02579140466024874, 0.0002618001757865295, 0.0017833713576505792, 0.00040158215851082674, 0.031180880238964315, 0.002649478945902533, 0.005289726643509293, 0.011338932291095019, 0.004786387536184886, 0.0019360052665699044, 0.003397207286713783, 0.001544157320989832, 0.008462409140949425, 0.008785573937158082, 0.03882061744404256], \"z\": [0.2352974260586663, 0.21060414912550934, 0.2318062815890877, 0.21915677416042015, 0.2245946512339289, 0.23533067026470356, 0.23475883353288535, 0.23400858259032015, 0.23382367922387456, 0.2327728688245767, 0.23136667406306136, 0.23480333255525232, 0.23500033342982057, 0.23341091603599243, 0.21954100081107367, 0.23500181028682093, 0.2254635513397586, 0.2285005406511492, 0.2340098087306563, 0.2349105676265785, 0.2315362352177547, 0.2353663091150824, 0.22559376943021284, 0.23274598668353944, 0.23151153296802854, 0.23494986557217792, 0.22546658500861602, 0.23214141102516436, 0.23486934673447432, 0.23271303317431946, 0.2352526894771445, 0.2254646555278512, 0.23500329267376027, 0.2111376468908531, 0.23261490545140576, 0.22543304266642242, 0.23525398515387155, 0.23536051941216055, 0.2347915150772122, 0.21922942797809328, 0.23479334810473257, 0.23476033344016273, 0.23269656796728594, 0.23411681361225825, 0.23402889335578717, 0.23417792784741165, 0.23489884011037804, 0.23217321866972543, 0.23130364446461052, 0.21668213847714443]}, {\"name\": \"True Front\", \"type\": \"scatter3d\", \"x\": [0.5, 0, 0, 0.5], \"y\": [0, 0.5, 0, 0], \"z\": [0, 0, 0.5, 0]}, {\"name\": \"Nadir Point\", \"type\": \"scatter3d\", \"x\": [0.5], \"y\": [0.5], \"z\": [0.5]}, {\"name\": \"Reference Point\", \"type\": \"scatter3d\", \"x\": [0.45], \"y\": [0.1], \"z\": [0.4]}, {\"name\": \"STOM\", \"type\": \"scatter3d\", \"x\": [0, 0.45], \"y\": [0, 0.1], \"z\": [0, 0.4]}, {\"name\": \"ASF\", \"type\": \"scatter3d\", \"x\": [-0.55, 1.45], \"y\": [-0.9, 1.1], \"z\": [-0.6, 1.4]}, {\"name\": \"Ideal Point\", \"type\": \"scatter3d\", \"x\": [0], \"y\": [0], \"z\": [0]}],\n",
       "                        {\"margin\": {\"b\": 0, \"l\": 0, \"r\": 0, \"t\": 0}, \"scene\": {\"xaxis\": {\"range\": [-0.1, 0.6]}, \"yaxis\": {\"range\": [-0.1, 0.6]}, \"zaxis\": {\"range\": [-0.1, 0.6]}}, \"template\": {\"data\": {\"bar\": [{\"error_x\": {\"color\": \"#2a3f5f\"}, \"error_y\": {\"color\": \"#2a3f5f\"}, \"marker\": {\"line\": {\"color\": \"#E5ECF6\", \"width\": 0.5}}, \"type\": \"bar\"}], \"barpolar\": [{\"marker\": {\"line\": {\"color\": \"#E5ECF6\", \"width\": 0.5}}, \"type\": \"barpolar\"}], \"carpet\": [{\"aaxis\": {\"endlinecolor\": \"#2a3f5f\", \"gridcolor\": \"white\", \"linecolor\": \"white\", \"minorgridcolor\": \"white\", \"startlinecolor\": \"#2a3f5f\"}, \"baxis\": {\"endlinecolor\": \"#2a3f5f\", \"gridcolor\": \"white\", \"linecolor\": \"white\", \"minorgridcolor\": \"white\", \"startlinecolor\": \"#2a3f5f\"}, \"type\": \"carpet\"}], \"choropleth\": [{\"colorbar\": {\"outlinewidth\": 0, \"ticks\": \"\"}, \"type\": \"choropleth\"}], \"contour\": [{\"colorbar\": {\"outlinewidth\": 0, \"ticks\": \"\"}, \"colorscale\": [[0.0, \"#0d0887\"], [0.1111111111111111, \"#46039f\"], [0.2222222222222222, \"#7201a8\"], [0.3333333333333333, \"#9c179e\"], [0.4444444444444444, \"#bd3786\"], [0.5555555555555556, \"#d8576b\"], [0.6666666666666666, \"#ed7953\"], [0.7777777777777778, \"#fb9f3a\"], [0.8888888888888888, \"#fdca26\"], [1.0, \"#f0f921\"]], \"type\": \"contour\"}], \"contourcarpet\": [{\"colorbar\": {\"outlinewidth\": 0, \"ticks\": \"\"}, \"type\": \"contourcarpet\"}], \"heatmap\": [{\"colorbar\": {\"outlinewidth\": 0, \"ticks\": \"\"}, \"colorscale\": [[0.0, \"#0d0887\"], [0.1111111111111111, \"#46039f\"], [0.2222222222222222, \"#7201a8\"], [0.3333333333333333, \"#9c179e\"], [0.4444444444444444, \"#bd3786\"], [0.5555555555555556, \"#d8576b\"], [0.6666666666666666, \"#ed7953\"], [0.7777777777777778, \"#fb9f3a\"], [0.8888888888888888, \"#fdca26\"], [1.0, \"#f0f921\"]], \"type\": \"heatmap\"}], \"heatmapgl\": [{\"colorbar\": {\"outlinewidth\": 0, \"ticks\": \"\"}, \"colorscale\": [[0.0, \"#0d0887\"], [0.1111111111111111, \"#46039f\"], [0.2222222222222222, \"#7201a8\"], [0.3333333333333333, \"#9c179e\"], [0.4444444444444444, \"#bd3786\"], [0.5555555555555556, \"#d8576b\"], [0.6666666666666666, \"#ed7953\"], [0.7777777777777778, \"#fb9f3a\"], [0.8888888888888888, \"#fdca26\"], [1.0, \"#f0f921\"]], \"type\": \"heatmapgl\"}], \"histogram\": [{\"marker\": {\"colorbar\": {\"outlinewidth\": 0, \"ticks\": \"\"}}, \"type\": \"histogram\"}], \"histogram2d\": [{\"colorbar\": {\"outlinewidth\": 0, \"ticks\": \"\"}, \"colorscale\": [[0.0, \"#0d0887\"], [0.1111111111111111, \"#46039f\"], [0.2222222222222222, \"#7201a8\"], [0.3333333333333333, \"#9c179e\"], [0.4444444444444444, \"#bd3786\"], [0.5555555555555556, \"#d8576b\"], [0.6666666666666666, \"#ed7953\"], [0.7777777777777778, \"#fb9f3a\"], [0.8888888888888888, \"#fdca26\"], [1.0, \"#f0f921\"]], \"type\": \"histogram2d\"}], \"histogram2dcontour\": [{\"colorbar\": {\"outlinewidth\": 0, \"ticks\": \"\"}, \"colorscale\": [[0.0, \"#0d0887\"], [0.1111111111111111, \"#46039f\"], [0.2222222222222222, \"#7201a8\"], [0.3333333333333333, \"#9c179e\"], [0.4444444444444444, \"#bd3786\"], [0.5555555555555556, \"#d8576b\"], [0.6666666666666666, \"#ed7953\"], [0.7777777777777778, \"#fb9f3a\"], [0.8888888888888888, \"#fdca26\"], [1.0, \"#f0f921\"]], \"type\": \"histogram2dcontour\"}], \"mesh3d\": [{\"colorbar\": {\"outlinewidth\": 0, \"ticks\": \"\"}, \"type\": \"mesh3d\"}], \"parcoords\": [{\"line\": {\"colorbar\": {\"outlinewidth\": 0, \"ticks\": \"\"}}, \"type\": \"parcoords\"}], \"scatter\": [{\"marker\": {\"colorbar\": {\"outlinewidth\": 0, \"ticks\": \"\"}}, \"type\": \"scatter\"}], \"scatter3d\": [{\"line\": {\"colorbar\": {\"outlinewidth\": 0, \"ticks\": \"\"}}, \"marker\": {\"colorbar\": {\"outlinewidth\": 0, \"ticks\": \"\"}}, \"type\": \"scatter3d\"}], \"scattercarpet\": [{\"marker\": {\"colorbar\": {\"outlinewidth\": 0, \"ticks\": \"\"}}, \"type\": \"scattercarpet\"}], \"scattergeo\": [{\"marker\": {\"colorbar\": {\"outlinewidth\": 0, \"ticks\": \"\"}}, \"type\": \"scattergeo\"}], \"scattergl\": [{\"marker\": {\"colorbar\": {\"outlinewidth\": 0, \"ticks\": \"\"}}, \"type\": \"scattergl\"}], \"scattermapbox\": [{\"marker\": {\"colorbar\": {\"outlinewidth\": 0, \"ticks\": \"\"}}, \"type\": \"scattermapbox\"}], \"scatterpolar\": [{\"marker\": {\"colorbar\": {\"outlinewidth\": 0, \"ticks\": \"\"}}, \"type\": \"scatterpolar\"}], \"scatterpolargl\": [{\"marker\": {\"colorbar\": {\"outlinewidth\": 0, \"ticks\": \"\"}}, \"type\": \"scatterpolargl\"}], \"scatterternary\": [{\"marker\": {\"colorbar\": {\"outlinewidth\": 0, \"ticks\": \"\"}}, \"type\": \"scatterternary\"}], \"surface\": [{\"colorbar\": {\"outlinewidth\": 0, \"ticks\": \"\"}, \"colorscale\": [[0.0, \"#0d0887\"], [0.1111111111111111, \"#46039f\"], [0.2222222222222222, \"#7201a8\"], [0.3333333333333333, \"#9c179e\"], [0.4444444444444444, \"#bd3786\"], [0.5555555555555556, \"#d8576b\"], [0.6666666666666666, \"#ed7953\"], [0.7777777777777778, \"#fb9f3a\"], [0.8888888888888888, \"#fdca26\"], [1.0, \"#f0f921\"]], \"type\": \"surface\"}], \"table\": [{\"cells\": {\"fill\": {\"color\": \"#EBF0F8\"}, \"line\": {\"color\": \"white\"}}, \"header\": {\"fill\": {\"color\": \"#C8D4E3\"}, \"line\": {\"color\": \"white\"}}, \"type\": \"table\"}]}, \"layout\": {\"annotationdefaults\": {\"arrowcolor\": \"#2a3f5f\", \"arrowhead\": 0, \"arrowwidth\": 1}, \"colorscale\": {\"diverging\": [[0, \"#8e0152\"], [0.1, \"#c51b7d\"], [0.2, \"#de77ae\"], [0.3, \"#f1b6da\"], [0.4, \"#fde0ef\"], [0.5, \"#f7f7f7\"], [0.6, \"#e6f5d0\"], [0.7, \"#b8e186\"], [0.8, \"#7fbc41\"], [0.9, \"#4d9221\"], [1, \"#276419\"]], \"sequential\": [[0.0, \"#0d0887\"], [0.1111111111111111, \"#46039f\"], [0.2222222222222222, \"#7201a8\"], [0.3333333333333333, \"#9c179e\"], [0.4444444444444444, \"#bd3786\"], [0.5555555555555556, \"#d8576b\"], [0.6666666666666666, \"#ed7953\"], [0.7777777777777778, \"#fb9f3a\"], [0.8888888888888888, \"#fdca26\"], [1.0, \"#f0f921\"]], \"sequentialminus\": [[0.0, \"#0d0887\"], [0.1111111111111111, \"#46039f\"], [0.2222222222222222, \"#7201a8\"], [0.3333333333333333, \"#9c179e\"], [0.4444444444444444, \"#bd3786\"], [0.5555555555555556, \"#d8576b\"], [0.6666666666666666, \"#ed7953\"], [0.7777777777777778, \"#fb9f3a\"], [0.8888888888888888, \"#fdca26\"], [1.0, \"#f0f921\"]]}, \"colorway\": [\"#636efa\", \"#EF553B\", \"#00cc96\", \"#ab63fa\", \"#FFA15A\", \"#19d3f3\", \"#FF6692\", \"#B6E880\", \"#FF97FF\", \"#FECB52\"], \"font\": {\"color\": \"#2a3f5f\"}, \"geo\": {\"bgcolor\": \"white\", \"lakecolor\": \"white\", \"landcolor\": \"#E5ECF6\", \"showlakes\": true, \"showland\": true, \"subunitcolor\": \"white\"}, \"hoverlabel\": {\"align\": \"left\"}, \"hovermode\": \"closest\", \"mapbox\": {\"style\": \"light\"}, \"paper_bgcolor\": \"white\", \"plot_bgcolor\": \"#E5ECF6\", \"polar\": {\"angularaxis\": {\"gridcolor\": \"white\", \"linecolor\": \"white\", \"ticks\": \"\"}, \"bgcolor\": \"#E5ECF6\", \"radialaxis\": {\"gridcolor\": \"white\", \"linecolor\": \"white\", \"ticks\": \"\"}}, \"scene\": {\"xaxis\": {\"backgroundcolor\": \"#E5ECF6\", \"gridcolor\": \"white\", \"gridwidth\": 2, \"linecolor\": \"white\", \"showbackground\": true, \"ticks\": \"\", \"zerolinecolor\": \"white\"}, \"yaxis\": {\"backgroundcolor\": \"#E5ECF6\", \"gridcolor\": \"white\", \"gridwidth\": 2, \"linecolor\": \"white\", \"showbackground\": true, \"ticks\": \"\", \"zerolinecolor\": \"white\"}, \"zaxis\": {\"backgroundcolor\": \"#E5ECF6\", \"gridcolor\": \"white\", \"gridwidth\": 2, \"linecolor\": \"white\", \"showbackground\": true, \"ticks\": \"\", \"zerolinecolor\": \"white\"}}, \"shapedefaults\": {\"line\": {\"color\": \"#2a3f5f\"}}, \"ternary\": {\"aaxis\": {\"gridcolor\": \"white\", \"linecolor\": \"white\", \"ticks\": \"\"}, \"baxis\": {\"gridcolor\": \"white\", \"linecolor\": \"white\", \"ticks\": \"\"}, \"bgcolor\": \"#E5ECF6\", \"caxis\": {\"gridcolor\": \"white\", \"linecolor\": \"white\", \"ticks\": \"\"}}, \"title\": {\"x\": 0.05}, \"xaxis\": {\"automargin\": true, \"gridcolor\": \"white\", \"linecolor\": \"white\", \"ticks\": \"\", \"zerolinecolor\": \"white\", \"zerolinewidth\": 2}, \"yaxis\": {\"automargin\": true, \"gridcolor\": \"white\", \"linecolor\": \"white\", \"ticks\": \"\", \"zerolinecolor\": \"white\", \"zerolinewidth\": 2}}}},\n",
       "                        {\"responsive\": true}\n",
       "                    ).then(function(){\n",
       "                            \n",
       "var gd = document.getElementById('74719c18-1784-408e-b9fc-b40f15018e5c');\n",
       "var x = new MutationObserver(function (mutations, observer) {{\n",
       "        var display = window.getComputedStyle(gd).display;\n",
       "        if (!display || display === 'none') {{\n",
       "            console.log([gd, 'removed!']);\n",
       "            Plotly.purge(gd);\n",
       "            observer.disconnect();\n",
       "        }}\n",
       "}});\n",
       "\n",
       "// Listen for the removal of the full notebook cells\n",
       "var notebookContainer = gd.closest('#notebook-container');\n",
       "if (notebookContainer) {{\n",
       "    x.observe(notebookContainer, {childList: true});\n",
       "}}\n",
       "\n",
       "// Listen for the clearing of the current output cell\n",
       "var outputEl = gd.closest('.output');\n",
       "if (outputEl) {{\n",
       "    x.observe(outputEl, {childList: true});\n",
       "}}\n",
       "\n",
       "                        })\n",
       "                };\n",
       "                });\n",
       "            </script>\n",
       "        </div>"
      ]
     },
     "metadata": {},
     "output_type": "display_data"
    }
   ],
   "source": [
    "fig = plot3d(plot, response)\n",
    "fig"
   ]
  },
  {
   "cell_type": "code",
   "execution_count": 72,
   "metadata": {},
   "outputs": [],
   "source": [
    "def plot3d(plot_file, response):\n",
    "    # NIMBUSEA\n",
    "    fig = go.Figure(\n",
    "        go.Scatter3d(\n",
    "            x=plot.content['data'][('f1',)],\n",
    "            y=plot.content['data'][('f2',)],\n",
    "            z=plot.content['data'][('f3',)],\n",
    "            name=\"NIMBUS-RVEA\",\n",
    "            mode='markers',\n",
    "            marker=dict(\n",
    "            size=4,\n",
    "            opacity=0.8\n",
    "        )\n",
    "        )\n",
    "    )\n",
    "\n",
    "    #True Front\n",
    "    fig.add_trace(\n",
    "        go.Scatter3d(\n",
    "            x=[0.5, 0, 0, 0.5],\n",
    "            y=[0, 0.5, 0, 0],\n",
    "            z=[0, 0, 0.5, 0],\n",
    "            name=\"True Front\"\n",
    "        )\n",
    "    )\n",
    "\n",
    "    #Nadir Point\n",
    "    fig.add_trace(\n",
    "        go.Scatter3d(\n",
    "            x=[0.5],\n",
    "            y=[0.5],\n",
    "            z=[0.5],\n",
    "            name=\"Nadir Point\"\n",
    "        )\n",
    "    )\n",
    "\n",
    "\n",
    "\n",
    "    # Reference Point\n",
    "\n",
    "    fig.add_trace(\n",
    "        go.Scatter3d(\n",
    "            x=[response[0,0]],\n",
    "            y=[response[0,1]],\n",
    "            z=[response[0,2]],\n",
    "            name=\"Reference Point\"\n",
    "        )\n",
    "    )\n",
    "\n",
    "    # STOM\n",
    "\n",
    "    fig.add_trace(\n",
    "        go.Scatter3d(\n",
    "            x=[0, response[0,0]],\n",
    "            y=[0, response[0,1]],\n",
    "            z=[0, response[0,2]],\n",
    "            name=\"STOM\"\n",
    "        )\n",
    "    )\n",
    "\n",
    "    #ASF\n",
    "\n",
    "    fig.add_trace(\n",
    "        go.Scatter3d(\n",
    "            x=[response[0,0]-1, response[0,0]+1],\n",
    "            y=[response[0,1]-1, response[0,1]+1],\n",
    "            z=[response[0,2]-1, response[0,2]+1],\n",
    "            name=\"ASF\"\n",
    "        )\n",
    "    )\n",
    "\n",
    "    # Ideal Point\n",
    "    fig.add_trace(\n",
    "        go.Scatter3d(\n",
    "            x=[0],\n",
    "            y=[0],\n",
    "            z=[0],\n",
    "            name=\"Ideal Point\"\n",
    "        )\n",
    "    )\n",
    "\n",
    "    fig.update_layout(\n",
    "        scene = dict(\n",
    "            xaxis = dict(range=[-0.1,0.6],),\n",
    "            yaxis = dict(range=[-0.1,0.6],),\n",
    "            zaxis = dict(range=[-0.1,0.6],),),\n",
    "                     )\n",
    "    fig.update_layout(margin=dict(l=0, r=0, b=0, t=0))\n",
    "    return fig\n",
    "    "
   ]
  },
  {
   "cell_type": "code",
   "execution_count": null,
   "metadata": {},
   "outputs": [],
   "source": [
    "prob_dtlz2 = test_problem_builder(name=\"DTLZ2\", n_of_objectives=3, n_of_variables=5)\n",
    "problem.ideal = np.asarray([0, 0, 0])\n",
    "problem.nadir = np.asarray([1, 1, 1])"
   ]
  }
 ],
 "metadata": {
  "kernelspec": {
   "display_name": "desdeo_emo",
   "language": "python",
   "name": "desdeo_emo"
  },
  "language_info": {
   "codemirror_mode": {
    "name": "ipython",
    "version": 3
   },
   "file_extension": ".py",
   "mimetype": "text/x-python",
   "name": "python",
   "nbconvert_exporter": "python",
   "pygments_lexer": "ipython3",
   "version": "3.7.1"
  }
 },
 "nbformat": 4,
 "nbformat_minor": 2
}
